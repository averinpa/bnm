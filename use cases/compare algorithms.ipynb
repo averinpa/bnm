{
 "cells": [
  {
   "cell_type": "code",
   "execution_count": 3,
   "id": "0685b516-2840-46e9-849e-0f309a7287e7",
   "metadata": {},
   "outputs": [],
   "source": [
    "# !pip install --no-cache-dir git+https://github.com/averinpa/bnm.git"
   ]
  },
  {
   "cell_type": "code",
   "execution_count": 2,
   "id": "c786a71f-b7b3-4047-8654-31bad8925452",
   "metadata": {},
   "outputs": [
    {
     "name": "stderr",
     "output_type": "stream",
     "text": [
      "2025-04-21 12:29:45,306 - C:\\Users\\averi\\anaconda3\\lib\\site-packages\\castle\\backend\\__init__.py[line:36] - INFO: You can use `os.environ['CASTLE_BACKEND'] = backend` to set the backend(`pytorch` or `mindspore`).\n",
      "2025-04-21 12:29:45,426 - C:\\Users\\averi\\anaconda3\\lib\\site-packages\\castle\\algorithms\\__init__.py[line:36] - INFO: You are using ``pytorch`` as the backend.\n"
     ]
    }
   ],
   "source": [
    "from bnm import BNMetrics, generate_random_dag, dag_to_cpdag, compare_models_descriptive, compare_models_comparative, analyse_mb, generate_synthetic_data_from_dag\n",
    "import networkx as nx\n",
    "import pandas as pd\n",
    "import numpy as np\n",
    "from castle.algorithms import PC"
   ]
  },
  {
   "cell_type": "markdown",
   "id": "383a7b58-011a-411a-824b-7261a4704c23",
   "metadata": {},
   "source": [
    "## Multiple Model Comparison: Motivation and Setup\n",
    "\n",
    "Let’s assume we want to compare several outputs from structure learning algorithms.  \n",
    "This scenario commonly arises in tasks such as algorithm selection, hyperparameter tuning, or assessing model stability under varying conditions.\n",
    "\n",
    "By comparing multiple learned DAGs, we can investigate:\n",
    "\n",
    "- **Algorithm Behavior**: How consistent are the outputs of a given algorithm across different runs?  \n",
    "- **Model Stability**: Do changes in the data, for example, different transformations or normalization applied, lead to changes in algorithm outputs?  \n",
    "- **Complexity Patterns**: Are certain algorithms more likely to produce dense or sparse graphs?  \n",
    "- **Similarity Patterns**: How similar are the DAGs produced by different algorithms or under different setups?\n",
    "  \n",
    "By analyzing trends in descriptive and comparison metrics across models, we can get an indirect indication of which methods are more robust and better suited for specific domains or datasets.\n",
    "\n",
    "This type of analysis is especially useful when no ground-truth DAG is available, as it helps in selecting structure learning methods by looking at indirect indications of output complexity and the stability of algorithms under different setups.\n",
    "\n"
   ]
  },
  {
   "cell_type": "markdown",
   "id": "3b9cbb34-0615-42d4-8c05-8b87a2071735",
   "metadata": {},
   "source": [
    "### Data Generation\n",
    "\n",
    "To illustrate this use case, I am going to generate a random DAG with 40 nodes and edge probability of 10% using the `generate_random_dag` function. Then I generate synthetic data with the `generate_synthetic_data_from_dag` function, and then fit several algorithms to the data.  \n",
    "\n",
    "For demonstration purposes, I will use the PC algorithm from the `gCastle` package and create 20 models with different alpha parameters."
   ]
  },
  {
   "cell_type": "code",
   "execution_count": 3,
   "id": "30acbda0-52fb-4d81-98de-b79c42a4d812",
   "metadata": {},
   "outputs": [],
   "source": [
    "true_dag = generate_random_dag(n_nodes=40, edge_prob=0.1, seed=55)\n",
    "data = generate_synthetic_data_from_dag(true_dag, n_samples=1000, stdev=1.0, seed=55)\n",
    "data = data[list(true_dag.nodes)]"
   ]
  },
  {
   "cell_type": "markdown",
   "id": "2e00a206-67b4-4bce-8660-a48c0222fdff",
   "metadata": {},
   "source": [
    "## Structure learning"
   ]
  },
  {
   "cell_type": "markdown",
   "id": "4bb29d6c-1d74-44e2-bbfb-ecca0714b96d",
   "metadata": {},
   "source": [
    "I will generate 20 alpha values ranging from 0.01 to 0.2 and store them in a list.  \n",
    "Then, I will iteratively fit 20 models to the generated data, with each model using a different alpha value from the list.  \n",
    "The outputs of the models will be stored as a list of adjacency matrices.\n"
   ]
  },
  {
   "cell_type": "code",
   "execution_count": 6,
   "id": "9403f88a-ea9c-4195-8bfd-ec72fa6710f4",
   "metadata": {},
   "outputs": [],
   "source": [
    "alphas = np.linspace(0.01, 0.2, 20)\n",
    "list_of_models = list()\n",
    "for i in alphas:\n",
    "    pc = PC(variant='stable', alpha=i)\n",
    "    pc.learn(data)\n",
    "    learned_dag = pc._causal_matrix\n",
    "    list_of_models.append(np.array(learned_dag))"
   ]
  },
  {
   "cell_type": "markdown",
   "id": "cd34734a-0667-4653-b511-86c643c954eb",
   "metadata": {},
   "source": [
    "Below, we will explore:  \n",
    "- Complexity patterns and algorithm behavior  \n",
    "- Similarity patterns and model stability\n"
   ]
  },
  {
   "cell_type": "markdown",
   "id": "116ecc77-2369-4077-a623-a488accb5a7b",
   "metadata": {},
   "source": [
    "### Complexity patterns and algorithm behavior"
   ]
  },
  {
   "cell_type": "markdown",
   "id": "94995923-5d08-4668-9cea-9c6afa2182d4",
   "metadata": {},
   "source": [
    "The `compare_models_descriptive` function allows us to visualize descriptive metrics across a list of models, both for the global structure and for specific local structures of interest.\n",
    "\n",
    "This function takes the following parameters:  \n",
    "- A list of models  \n",
    "- A list of model names  \n",
    "- A list of node names  \n",
    "- A list of Markov blankets to explore, in addition to the default full structure\n",
    "\n",
    "Below is the output of the function for the full structure and the nodes `X_1`, `X_2`, and `X_3`.\n"
   ]
  },
  {
   "cell_type": "code",
   "execution_count": 9,
   "id": "deaa3624-949a-439e-953d-9f5e39657b10",
   "metadata": {},
   "outputs": [
    {
     "data": {
      "application/vnd.plotly.v1+json": {
       "config": {
        "plotlyServerURL": "https://plotly.com"
       },
       "data": [
        {
         "marker": {
          "color": "#1E3A8A",
          "symbol": "diamond"
         },
         "mode": "lines+markers",
         "name": "All",
         "showlegend": false,
         "type": "scatter",
         "visible": true,
         "x": [
          "0.0100",
          "0.0200",
          "0.0300",
          "0.0400",
          "0.0500",
          "0.0600",
          "0.0700",
          "0.0800",
          "0.0900",
          "0.1000",
          "0.1100",
          "0.1200",
          "0.1300",
          "0.1400",
          "0.1500",
          "0.1600",
          "0.1700",
          "0.1800",
          "0.1900",
          "0.2000"
         ],
         "xaxis": "x",
         "y": [
          54,
          54,
          54,
          55,
          56,
          57,
          59,
          60,
          60,
          61,
          60,
          59,
          60,
          61,
          62,
          61,
          63,
          65,
          65,
          66
         ],
         "yaxis": "y"
        },
        {
         "marker": {
          "color": "#1E3A8A",
          "symbol": "diamond"
         },
         "mode": "lines+markers",
         "name": "X_1",
         "showlegend": false,
         "type": "scatter",
         "visible": false,
         "x": [
          "0.0100",
          "0.0200",
          "0.0300",
          "0.0400",
          "0.0500",
          "0.0600",
          "0.0700",
          "0.0800",
          "0.0900",
          "0.1000",
          "0.1100",
          "0.1200",
          "0.1300",
          "0.1400",
          "0.1500",
          "0.1600",
          "0.1700",
          "0.1800",
          "0.1900",
          "0.2000"
         ],
         "xaxis": "x",
         "y": [
          7,
          7,
          7,
          10,
          10,
          10,
          14,
          13,
          13,
          13,
          13,
          13,
          13,
          9,
          9,
          9,
          9,
          9,
          9,
          9
         ],
         "yaxis": "y"
        },
        {
         "marker": {
          "color": "#1E3A8A",
          "symbol": "diamond"
         },
         "mode": "lines+markers",
         "name": "X_2",
         "showlegend": false,
         "type": "scatter",
         "visible": false,
         "x": [
          "0.0100",
          "0.0200",
          "0.0300",
          "0.0400",
          "0.0500",
          "0.0600",
          "0.0700",
          "0.0800",
          "0.0900",
          "0.1000",
          "0.1100",
          "0.1200",
          "0.1300",
          "0.1400",
          "0.1500",
          "0.1600",
          "0.1700",
          "0.1800",
          "0.1900",
          "0.2000"
         ],
         "xaxis": "x",
         "y": [
          4,
          4,
          4,
          4,
          4,
          4,
          4,
          4,
          3,
          3,
          3,
          3,
          3,
          3,
          3,
          3,
          3,
          3,
          3,
          3
         ],
         "yaxis": "y"
        },
        {
         "marker": {
          "color": "#1E3A8A",
          "symbol": "diamond"
         },
         "mode": "lines+markers",
         "name": "X_3",
         "showlegend": false,
         "type": "scatter",
         "visible": false,
         "x": [
          "0.0100",
          "0.0200",
          "0.0300",
          "0.0400",
          "0.0500",
          "0.0600",
          "0.0700",
          "0.0800",
          "0.0900",
          "0.1000",
          "0.1100",
          "0.1200",
          "0.1300",
          "0.1400",
          "0.1500",
          "0.1600",
          "0.1700",
          "0.1800",
          "0.1900",
          "0.2000"
         ],
         "xaxis": "x",
         "y": [
          2,
          2,
          2,
          2,
          2,
          2,
          2,
          2,
          2,
          2,
          2,
          2,
          3,
          3,
          2,
          2,
          2,
          2,
          2,
          2
         ],
         "yaxis": "y"
        },
        {
         "marker": {
          "color": "#1E3A8A",
          "symbol": "diamond"
         },
         "mode": "lines+markers",
         "name": "All",
         "showlegend": false,
         "type": "scatter",
         "visible": true,
         "x": [
          "0.0100",
          "0.0200",
          "0.0300",
          "0.0400",
          "0.0500",
          "0.0600",
          "0.0700",
          "0.0800",
          "0.0900",
          "0.1000",
          "0.1100",
          "0.1200",
          "0.1300",
          "0.1400",
          "0.1500",
          "0.1600",
          "0.1700",
          "0.1800",
          "0.1900",
          "0.2000"
         ],
         "xaxis": "x2",
         "y": [
          36,
          34,
          34,
          36,
          38,
          39,
          43,
          43,
          42,
          41,
          40,
          41,
          41,
          40,
          44,
          42,
          46,
          48,
          48,
          49
         ],
         "yaxis": "y2"
        },
        {
         "marker": {
          "color": "#1E3A8A",
          "symbol": "diamond"
         },
         "mode": "lines+markers",
         "name": "X_1",
         "showlegend": false,
         "type": "scatter",
         "visible": false,
         "x": [
          "0.0100",
          "0.0200",
          "0.0300",
          "0.0400",
          "0.0500",
          "0.0600",
          "0.0700",
          "0.0800",
          "0.0900",
          "0.1000",
          "0.1100",
          "0.1200",
          "0.1300",
          "0.1400",
          "0.1500",
          "0.1600",
          "0.1700",
          "0.1800",
          "0.1900",
          "0.2000"
         ],
         "xaxis": "x2",
         "y": [
          5,
          5,
          5,
          8,
          8,
          8,
          11,
          11,
          11,
          11,
          11,
          11,
          11,
          8,
          8,
          8,
          8,
          8,
          8,
          8
         ],
         "yaxis": "y2"
        },
        {
         "marker": {
          "color": "#1E3A8A",
          "symbol": "diamond"
         },
         "mode": "lines+markers",
         "name": "X_2",
         "showlegend": false,
         "type": "scatter",
         "visible": false,
         "x": [
          "0.0100",
          "0.0200",
          "0.0300",
          "0.0400",
          "0.0500",
          "0.0600",
          "0.0700",
          "0.0800",
          "0.0900",
          "0.1000",
          "0.1100",
          "0.1200",
          "0.1300",
          "0.1400",
          "0.1500",
          "0.1600",
          "0.1700",
          "0.1800",
          "0.1900",
          "0.2000"
         ],
         "xaxis": "x2",
         "y": [
          2,
          2,
          2,
          2,
          2,
          2,
          2,
          2,
          1,
          1,
          1,
          1,
          1,
          1,
          1,
          1,
          1,
          1,
          1,
          1
         ],
         "yaxis": "y2"
        },
        {
         "marker": {
          "color": "#1E3A8A",
          "symbol": "diamond"
         },
         "mode": "lines+markers",
         "name": "X_3",
         "showlegend": false,
         "type": "scatter",
         "visible": false,
         "x": [
          "0.0100",
          "0.0200",
          "0.0300",
          "0.0400",
          "0.0500",
          "0.0600",
          "0.0700",
          "0.0800",
          "0.0900",
          "0.1000",
          "0.1100",
          "0.1200",
          "0.1300",
          "0.1400",
          "0.1500",
          "0.1600",
          "0.1700",
          "0.1800",
          "0.1900",
          "0.2000"
         ],
         "xaxis": "x2",
         "y": [
          0,
          0,
          0,
          0,
          0,
          0,
          0,
          0,
          0,
          0,
          0,
          0,
          3,
          3,
          0,
          0,
          0,
          0,
          0,
          0
         ],
         "yaxis": "y2"
        },
        {
         "marker": {
          "color": "#1E3A8A",
          "symbol": "diamond"
         },
         "mode": "lines+markers",
         "name": "All",
         "showlegend": false,
         "type": "scatter",
         "visible": true,
         "x": [
          "0.0100",
          "0.0200",
          "0.0300",
          "0.0400",
          "0.0500",
          "0.0600",
          "0.0700",
          "0.0800",
          "0.0900",
          "0.1000",
          "0.1100",
          "0.1200",
          "0.1300",
          "0.1400",
          "0.1500",
          "0.1600",
          "0.1700",
          "0.1800",
          "0.1900",
          "0.2000"
         ],
         "xaxis": "x3",
         "y": [
          9,
          8,
          8,
          8,
          8,
          8,
          8,
          7,
          6,
          6,
          6,
          7,
          8,
          7,
          6,
          6,
          6,
          5,
          5,
          5
         ],
         "yaxis": "y3"
        },
        {
         "marker": {
          "color": "#1E3A8A",
          "symbol": "diamond"
         },
         "mode": "lines+markers",
         "name": "X_1",
         "showlegend": false,
         "type": "scatter",
         "visible": false,
         "x": [
          "0.0100",
          "0.0200",
          "0.0300",
          "0.0400",
          "0.0500",
          "0.0600",
          "0.0700",
          "0.0800",
          "0.0900",
          "0.1000",
          "0.1100",
          "0.1200",
          "0.1300",
          "0.1400",
          "0.1500",
          "0.1600",
          "0.1700",
          "0.1800",
          "0.1900",
          "0.2000"
         ],
         "xaxis": "x3",
         "y": [
          3,
          3,
          3,
          5,
          5,
          5,
          5,
          5,
          5,
          5,
          5,
          5,
          5,
          5,
          5,
          5,
          5,
          5,
          5,
          5
         ],
         "yaxis": "y3"
        },
        {
         "marker": {
          "color": "#1E3A8A",
          "symbol": "diamond"
         },
         "mode": "lines+markers",
         "name": "X_2",
         "showlegend": false,
         "type": "scatter",
         "visible": false,
         "x": [
          "0.0100",
          "0.0200",
          "0.0300",
          "0.0400",
          "0.0500",
          "0.0600",
          "0.0700",
          "0.0800",
          "0.0900",
          "0.1000",
          "0.1100",
          "0.1200",
          "0.1300",
          "0.1400",
          "0.1500",
          "0.1600",
          "0.1700",
          "0.1800",
          "0.1900",
          "0.2000"
         ],
         "xaxis": "x3",
         "y": [
          3,
          3,
          3,
          3,
          3,
          3,
          3,
          3,
          2,
          2,
          2,
          2,
          2,
          2,
          2,
          2,
          2,
          2,
          2,
          2
         ],
         "yaxis": "y3"
        },
        {
         "marker": {
          "color": "#1E3A8A",
          "symbol": "diamond"
         },
         "mode": "lines+markers",
         "name": "X_3",
         "showlegend": false,
         "type": "scatter",
         "visible": false,
         "x": [
          "0.0100",
          "0.0200",
          "0.0300",
          "0.0400",
          "0.0500",
          "0.0600",
          "0.0700",
          "0.0800",
          "0.0900",
          "0.1000",
          "0.1100",
          "0.1200",
          "0.1300",
          "0.1400",
          "0.1500",
          "0.1600",
          "0.1700",
          "0.1800",
          "0.1900",
          "0.2000"
         ],
         "xaxis": "x3",
         "y": [
          0,
          0,
          0,
          0,
          0,
          0,
          0,
          0,
          0,
          0,
          0,
          0,
          3,
          3,
          0,
          0,
          0,
          0,
          0,
          0
         ],
         "yaxis": "y3"
        },
        {
         "marker": {
          "color": "#1E3A8A",
          "symbol": "diamond"
         },
         "mode": "lines+markers",
         "name": "All",
         "showlegend": false,
         "type": "scatter",
         "visible": true,
         "x": [
          "0.0100",
          "0.0200",
          "0.0300",
          "0.0400",
          "0.0500",
          "0.0600",
          "0.0700",
          "0.0800",
          "0.0900",
          "0.1000",
          "0.1100",
          "0.1200",
          "0.1300",
          "0.1400",
          "0.1500",
          "0.1600",
          "0.1700",
          "0.1800",
          "0.1900",
          "0.2000"
         ],
         "xaxis": "x4",
         "y": [
          9,
          10,
          9,
          9,
          10,
          11,
          10,
          10,
          10,
          11,
          10,
          10,
          10,
          10,
          10,
          10,
          10,
          9,
          9,
          8
         ],
         "yaxis": "y4"
        },
        {
         "marker": {
          "color": "#1E3A8A",
          "symbol": "diamond"
         },
         "mode": "lines+markers",
         "name": "X_1",
         "showlegend": false,
         "type": "scatter",
         "visible": false,
         "x": [
          "0.0100",
          "0.0200",
          "0.0300",
          "0.0400",
          "0.0500",
          "0.0600",
          "0.0700",
          "0.0800",
          "0.0900",
          "0.1000",
          "0.1100",
          "0.1200",
          "0.1300",
          "0.1400",
          "0.1500",
          "0.1600",
          "0.1700",
          "0.1800",
          "0.1900",
          "0.2000"
         ],
         "xaxis": "x4",
         "y": [
          1,
          1,
          1,
          2,
          2,
          2,
          3,
          3,
          3,
          3,
          3,
          3,
          3,
          2,
          2,
          2,
          2,
          2,
          2,
          2
         ],
         "yaxis": "y4"
        },
        {
         "marker": {
          "color": "#1E3A8A",
          "symbol": "diamond"
         },
         "mode": "lines+markers",
         "name": "X_2",
         "showlegend": false,
         "type": "scatter",
         "visible": false,
         "x": [
          "0.0100",
          "0.0200",
          "0.0300",
          "0.0400",
          "0.0500",
          "0.0600",
          "0.0700",
          "0.0800",
          "0.0900",
          "0.1000",
          "0.1100",
          "0.1200",
          "0.1300",
          "0.1400",
          "0.1500",
          "0.1600",
          "0.1700",
          "0.1800",
          "0.1900",
          "0.2000"
         ],
         "xaxis": "x4",
         "y": [
          1,
          1,
          1,
          1,
          1,
          1,
          1,
          1,
          1,
          1,
          1,
          1,
          1,
          1,
          1,
          1,
          1,
          1,
          1,
          1
         ],
         "yaxis": "y4"
        },
        {
         "marker": {
          "color": "#1E3A8A",
          "symbol": "diamond"
         },
         "mode": "lines+markers",
         "name": "X_3",
         "showlegend": false,
         "type": "scatter",
         "visible": false,
         "x": [
          "0.0100",
          "0.0200",
          "0.0300",
          "0.0400",
          "0.0500",
          "0.0600",
          "0.0700",
          "0.0800",
          "0.0900",
          "0.1000",
          "0.1100",
          "0.1200",
          "0.1300",
          "0.1400",
          "0.1500",
          "0.1600",
          "0.1700",
          "0.1800",
          "0.1900",
          "0.2000"
         ],
         "xaxis": "x4",
         "y": [
          0,
          0,
          0,
          0,
          0,
          0,
          0,
          1,
          1,
          1,
          1,
          1,
          1,
          1,
          1,
          1,
          1,
          1,
          1,
          1
         ],
         "yaxis": "y4"
        },
        {
         "marker": {
          "color": "#1E3A8A",
          "symbol": "diamond"
         },
         "mode": "lines+markers",
         "name": "All",
         "showlegend": false,
         "type": "scatter",
         "visible": true,
         "x": [
          "0.0100",
          "0.0200",
          "0.0300",
          "0.0400",
          "0.0500",
          "0.0600",
          "0.0700",
          "0.0800",
          "0.0900",
          "0.1000",
          "0.1100",
          "0.1200",
          "0.1300",
          "0.1400",
          "0.1500",
          "0.1600",
          "0.1700",
          "0.1800",
          "0.1900",
          "0.2000"
         ],
         "xaxis": "x5",
         "y": [
          1,
          1,
          1,
          1,
          1,
          1,
          0,
          0,
          0,
          0,
          0,
          0,
          0,
          0,
          0,
          0,
          0,
          0,
          0,
          0
         ],
         "yaxis": "y5"
        },
        {
         "marker": {
          "color": "#1E3A8A",
          "symbol": "diamond"
         },
         "mode": "lines+markers",
         "name": "X_1",
         "showlegend": false,
         "type": "scatter",
         "visible": false,
         "x": [
          "0.0100",
          "0.0200",
          "0.0300",
          "0.0400",
          "0.0500",
          "0.0600",
          "0.0700",
          "0.0800",
          "0.0900",
          "0.1000",
          "0.1100",
          "0.1200",
          "0.1300",
          "0.1400",
          "0.1500",
          "0.1600",
          "0.1700",
          "0.1800",
          "0.1900",
          "0.2000"
         ],
         "xaxis": "x5",
         "y": [
          0,
          0,
          0,
          0,
          0,
          0,
          0,
          0,
          0,
          0,
          0,
          0,
          0,
          0,
          0,
          0,
          0,
          0,
          0,
          0
         ],
         "yaxis": "y5"
        },
        {
         "marker": {
          "color": "#1E3A8A",
          "symbol": "diamond"
         },
         "mode": "lines+markers",
         "name": "X_2",
         "showlegend": false,
         "type": "scatter",
         "visible": false,
         "x": [
          "0.0100",
          "0.0200",
          "0.0300",
          "0.0400",
          "0.0500",
          "0.0600",
          "0.0700",
          "0.0800",
          "0.0900",
          "0.1000",
          "0.1100",
          "0.1200",
          "0.1300",
          "0.1400",
          "0.1500",
          "0.1600",
          "0.1700",
          "0.1800",
          "0.1900",
          "0.2000"
         ],
         "xaxis": "x5",
         "y": [
          0,
          0,
          0,
          0,
          0,
          0,
          0,
          0,
          0,
          0,
          0,
          0,
          0,
          0,
          0,
          0,
          0,
          0,
          0,
          0
         ],
         "yaxis": "y5"
        },
        {
         "marker": {
          "color": "#1E3A8A",
          "symbol": "diamond"
         },
         "mode": "lines+markers",
         "name": "X_3",
         "showlegend": false,
         "type": "scatter",
         "visible": false,
         "x": [
          "0.0100",
          "0.0200",
          "0.0300",
          "0.0400",
          "0.0500",
          "0.0600",
          "0.0700",
          "0.0800",
          "0.0900",
          "0.1000",
          "0.1100",
          "0.1200",
          "0.1300",
          "0.1400",
          "0.1500",
          "0.1600",
          "0.1700",
          "0.1800",
          "0.1900",
          "0.2000"
         ],
         "xaxis": "x5",
         "y": [
          0,
          0,
          0,
          0,
          0,
          0,
          0,
          0,
          0,
          0,
          0,
          0,
          0,
          0,
          0,
          0,
          0,
          0,
          0,
          0
         ],
         "yaxis": "y5"
        },
        {
         "marker": {
          "color": "#1E3A8A",
          "symbol": "diamond"
         },
         "mode": "lines+markers",
         "name": "All",
         "showlegend": false,
         "type": "scatter",
         "visible": true,
         "x": [
          "0.0100",
          "0.0200",
          "0.0300",
          "0.0400",
          "0.0500",
          "0.0600",
          "0.0700",
          "0.0800",
          "0.0900",
          "0.1000",
          "0.1100",
          "0.1200",
          "0.1300",
          "0.1400",
          "0.1500",
          "0.1600",
          "0.1700",
          "0.1800",
          "0.1900",
          "0.2000"
         ],
         "xaxis": "x6",
         "y": [
          48,
          48,
          47,
          48,
          49,
          51,
          53,
          55,
          55,
          57,
          56,
          55,
          57,
          58,
          58,
          57,
          59,
          61,
          61,
          62
         ],
         "yaxis": "y6"
        },
        {
         "marker": {
          "color": "#1E3A8A",
          "symbol": "diamond"
         },
         "mode": "lines+markers",
         "name": "X_1",
         "showlegend": false,
         "type": "scatter",
         "visible": false,
         "x": [
          "0.0100",
          "0.0200",
          "0.0300",
          "0.0400",
          "0.0500",
          "0.0600",
          "0.0700",
          "0.0800",
          "0.0900",
          "0.1000",
          "0.1100",
          "0.1200",
          "0.1300",
          "0.1400",
          "0.1500",
          "0.1600",
          "0.1700",
          "0.1800",
          "0.1900",
          "0.2000"
         ],
         "xaxis": "x6",
         "y": [
          7,
          7,
          7,
          10,
          10,
          10,
          14,
          13,
          13,
          13,
          13,
          13,
          13,
          9,
          9,
          9,
          9,
          9,
          9,
          9
         ],
         "yaxis": "y6"
        },
        {
         "marker": {
          "color": "#1E3A8A",
          "symbol": "diamond"
         },
         "mode": "lines+markers",
         "name": "X_2",
         "showlegend": false,
         "type": "scatter",
         "visible": false,
         "x": [
          "0.0100",
          "0.0200",
          "0.0300",
          "0.0400",
          "0.0500",
          "0.0600",
          "0.0700",
          "0.0800",
          "0.0900",
          "0.1000",
          "0.1100",
          "0.1200",
          "0.1300",
          "0.1400",
          "0.1500",
          "0.1600",
          "0.1700",
          "0.1800",
          "0.1900",
          "0.2000"
         ],
         "xaxis": "x6",
         "y": [
          4,
          4,
          4,
          4,
          4,
          4,
          4,
          4,
          3,
          3,
          3,
          3,
          3,
          3,
          3,
          3,
          3,
          3,
          3,
          3
         ],
         "yaxis": "y6"
        },
        {
         "marker": {
          "color": "#1E3A8A",
          "symbol": "diamond"
         },
         "mode": "lines+markers",
         "name": "X_3",
         "showlegend": false,
         "type": "scatter",
         "visible": false,
         "x": [
          "0.0100",
          "0.0200",
          "0.0300",
          "0.0400",
          "0.0500",
          "0.0600",
          "0.0700",
          "0.0800",
          "0.0900",
          "0.1000",
          "0.1100",
          "0.1200",
          "0.1300",
          "0.1400",
          "0.1500",
          "0.1600",
          "0.1700",
          "0.1800",
          "0.1900",
          "0.2000"
         ],
         "xaxis": "x6",
         "y": [
          0,
          0,
          0,
          0,
          0,
          0,
          0,
          1,
          1,
          1,
          1,
          1,
          3,
          3,
          1,
          1,
          1,
          1,
          1,
          1
         ],
         "yaxis": "y6"
        },
        {
         "marker": {
          "color": "#1E3A8A",
          "symbol": "diamond"
         },
         "mode": "lines+markers",
         "name": "All",
         "showlegend": false,
         "type": "scatter",
         "visible": true,
         "x": [
          "0.0100",
          "0.0200",
          "0.0300",
          "0.0400",
          "0.0500",
          "0.0600",
          "0.0700",
          "0.0800",
          "0.0900",
          "0.1000",
          "0.1100",
          "0.1200",
          "0.1300",
          "0.1400",
          "0.1500",
          "0.1600",
          "0.1700",
          "0.1800",
          "0.1900",
          "0.2000"
         ],
         "xaxis": "x7",
         "y": [
          6,
          6,
          7,
          7,
          7,
          6,
          6,
          5,
          5,
          4,
          4,
          4,
          3,
          3,
          4,
          4,
          4,
          4,
          4,
          4
         ],
         "yaxis": "y7"
        },
        {
         "marker": {
          "color": "#1E3A8A",
          "symbol": "diamond"
         },
         "mode": "lines+markers",
         "name": "X_1",
         "showlegend": false,
         "type": "scatter",
         "visible": false,
         "x": [
          "0.0100",
          "0.0200",
          "0.0300",
          "0.0400",
          "0.0500",
          "0.0600",
          "0.0700",
          "0.0800",
          "0.0900",
          "0.1000",
          "0.1100",
          "0.1200",
          "0.1300",
          "0.1400",
          "0.1500",
          "0.1600",
          "0.1700",
          "0.1800",
          "0.1900",
          "0.2000"
         ],
         "xaxis": "x7",
         "y": [
          0,
          0,
          0,
          0,
          0,
          0,
          0,
          0,
          0,
          0,
          0,
          0,
          0,
          0,
          0,
          0,
          0,
          0,
          0,
          0
         ],
         "yaxis": "y7"
        },
        {
         "marker": {
          "color": "#1E3A8A",
          "symbol": "diamond"
         },
         "mode": "lines+markers",
         "name": "X_2",
         "showlegend": false,
         "type": "scatter",
         "visible": false,
         "x": [
          "0.0100",
          "0.0200",
          "0.0300",
          "0.0400",
          "0.0500",
          "0.0600",
          "0.0700",
          "0.0800",
          "0.0900",
          "0.1000",
          "0.1100",
          "0.1200",
          "0.1300",
          "0.1400",
          "0.1500",
          "0.1600",
          "0.1700",
          "0.1800",
          "0.1900",
          "0.2000"
         ],
         "xaxis": "x7",
         "y": [
          0,
          0,
          0,
          0,
          0,
          0,
          0,
          0,
          0,
          0,
          0,
          0,
          0,
          0,
          0,
          0,
          0,
          0,
          0,
          0
         ],
         "yaxis": "y7"
        },
        {
         "marker": {
          "color": "#1E3A8A",
          "symbol": "diamond"
         },
         "mode": "lines+markers",
         "name": "X_3",
         "showlegend": false,
         "type": "scatter",
         "visible": false,
         "x": [
          "0.0100",
          "0.0200",
          "0.0300",
          "0.0400",
          "0.0500",
          "0.0600",
          "0.0700",
          "0.0800",
          "0.0900",
          "0.1000",
          "0.1100",
          "0.1200",
          "0.1300",
          "0.1400",
          "0.1500",
          "0.1600",
          "0.1700",
          "0.1800",
          "0.1900",
          "0.2000"
         ],
         "xaxis": "x7",
         "y": [
          2,
          2,
          2,
          2,
          2,
          2,
          2,
          1,
          1,
          1,
          1,
          1,
          0,
          0,
          1,
          1,
          1,
          1,
          1,
          1
         ],
         "yaxis": "y7"
        },
        {
         "marker": {
          "color": "#1E3A8A",
          "symbol": "diamond"
         },
         "mode": "lines+markers",
         "name": "All",
         "showlegend": false,
         "type": "scatter",
         "visible": true,
         "x": [
          "0.0100",
          "0.0200",
          "0.0300",
          "0.0400",
          "0.0500",
          "0.0600",
          "0.0700",
          "0.0800",
          "0.0900",
          "0.1000",
          "0.1100",
          "0.1200",
          "0.1300",
          "0.1400",
          "0.1500",
          "0.1600",
          "0.1700",
          "0.1800",
          "0.1900",
          "0.2000"
         ],
         "xaxis": "x8",
         "y": [
          3,
          4,
          3,
          3,
          5,
          5,
          5,
          6,
          8,
          9,
          8,
          8,
          8,
          7,
          7,
          7,
          7,
          8,
          8,
          8
         ],
         "yaxis": "y8"
        },
        {
         "marker": {
          "color": "#1E3A8A",
          "symbol": "diamond"
         },
         "mode": "lines+markers",
         "name": "X_1",
         "showlegend": false,
         "type": "scatter",
         "visible": false,
         "x": [
          "0.0100",
          "0.0200",
          "0.0300",
          "0.0400",
          "0.0500",
          "0.0600",
          "0.0700",
          "0.0800",
          "0.0900",
          "0.1000",
          "0.1100",
          "0.1200",
          "0.1300",
          "0.1400",
          "0.1500",
          "0.1600",
          "0.1700",
          "0.1800",
          "0.1900",
          "0.2000"
         ],
         "xaxis": "x8",
         "y": [
          0,
          0,
          0,
          0,
          0,
          0,
          1,
          2,
          2,
          2,
          2,
          2,
          2,
          1,
          1,
          1,
          1,
          1,
          1,
          1
         ],
         "yaxis": "y8"
        },
        {
         "marker": {
          "color": "#1E3A8A",
          "symbol": "diamond"
         },
         "mode": "lines+markers",
         "name": "X_2",
         "showlegend": false,
         "type": "scatter",
         "visible": false,
         "x": [
          "0.0100",
          "0.0200",
          "0.0300",
          "0.0400",
          "0.0500",
          "0.0600",
          "0.0700",
          "0.0800",
          "0.0900",
          "0.1000",
          "0.1100",
          "0.1200",
          "0.1300",
          "0.1400",
          "0.1500",
          "0.1600",
          "0.1700",
          "0.1800",
          "0.1900",
          "0.2000"
         ],
         "xaxis": "x8",
         "y": [
          0,
          0,
          0,
          0,
          0,
          0,
          0,
          0,
          1,
          1,
          1,
          1,
          1,
          1,
          1,
          1,
          1,
          1,
          1,
          1
         ],
         "yaxis": "y8"
        },
        {
         "marker": {
          "color": "#1E3A8A",
          "symbol": "diamond"
         },
         "mode": "lines+markers",
         "name": "X_3",
         "showlegend": false,
         "type": "scatter",
         "visible": false,
         "x": [
          "0.0100",
          "0.0200",
          "0.0300",
          "0.0400",
          "0.0500",
          "0.0600",
          "0.0700",
          "0.0800",
          "0.0900",
          "0.1000",
          "0.1100",
          "0.1200",
          "0.1300",
          "0.1400",
          "0.1500",
          "0.1600",
          "0.1700",
          "0.1800",
          "0.1900",
          "0.2000"
         ],
         "xaxis": "x8",
         "y": [
          0,
          0,
          0,
          0,
          0,
          0,
          0,
          1,
          1,
          1,
          1,
          1,
          0,
          0,
          1,
          1,
          1,
          1,
          1,
          1
         ],
         "yaxis": "y8"
        }
       ],
       "layout": {
        "annotations": [
         {
          "font": {
           "size": 16
          },
          "showarrow": false,
          "text": "n_edges",
          "x": 0.13999999999999999,
          "xanchor": "center",
          "xref": "paper",
          "y": 1,
          "yanchor": "bottom",
          "yref": "paper"
         },
         {
          "font": {
           "size": 16
          },
          "showarrow": false,
          "text": "n_colliders",
          "x": 0.49999999999999994,
          "xanchor": "center",
          "xref": "paper",
          "y": 1,
          "yanchor": "bottom",
          "yref": "paper"
         },
         {
          "font": {
           "size": 16
          },
          "showarrow": false,
          "text": "n_root_nodes",
          "x": 0.86,
          "xanchor": "center",
          "xref": "paper",
          "y": 1,
          "yanchor": "bottom",
          "yref": "paper"
         },
         {
          "font": {
           "size": 16
          },
          "showarrow": false,
          "text": "n_leaf_nodes",
          "x": 0.13999999999999999,
          "xanchor": "center",
          "xref": "paper",
          "y": 0.6266666666666667,
          "yanchor": "bottom",
          "yref": "paper"
         },
         {
          "font": {
           "size": 16
          },
          "showarrow": false,
          "text": "n_isolated_nodes",
          "x": 0.49999999999999994,
          "xanchor": "center",
          "xref": "paper",
          "y": 0.6266666666666667,
          "yanchor": "bottom",
          "yref": "paper"
         },
         {
          "font": {
           "size": 16
          },
          "showarrow": false,
          "text": "n_directed_arcs",
          "x": 0.86,
          "xanchor": "center",
          "xref": "paper",
          "y": 0.6266666666666667,
          "yanchor": "bottom",
          "yref": "paper"
         },
         {
          "font": {
           "size": 16
          },
          "showarrow": false,
          "text": "n_undirected_arcs",
          "x": 0.13999999999999999,
          "xanchor": "center",
          "xref": "paper",
          "y": 0.25333333333333335,
          "yanchor": "bottom",
          "yref": "paper"
         },
         {
          "font": {
           "size": 16
          },
          "showarrow": false,
          "text": "n_reversible_arcs",
          "x": 0.49999999999999994,
          "xanchor": "center",
          "xref": "paper",
          "y": 0.25333333333333335,
          "yanchor": "bottom",
          "yref": "paper"
         }
        ],
        "height": 750,
        "margin": {
         "b": 40,
         "l": 20,
         "r": 20,
         "t": 80
        },
        "template": {
         "data": {
          "bar": [
           {
            "error_x": {
             "color": "#2a3f5f"
            },
            "error_y": {
             "color": "#2a3f5f"
            },
            "marker": {
             "line": {
              "color": "#E5ECF6",
              "width": 0.5
             },
             "pattern": {
              "fillmode": "overlay",
              "size": 10,
              "solidity": 0.2
             }
            },
            "type": "bar"
           }
          ],
          "barpolar": [
           {
            "marker": {
             "line": {
              "color": "#E5ECF6",
              "width": 0.5
             },
             "pattern": {
              "fillmode": "overlay",
              "size": 10,
              "solidity": 0.2
             }
            },
            "type": "barpolar"
           }
          ],
          "carpet": [
           {
            "aaxis": {
             "endlinecolor": "#2a3f5f",
             "gridcolor": "white",
             "linecolor": "white",
             "minorgridcolor": "white",
             "startlinecolor": "#2a3f5f"
            },
            "baxis": {
             "endlinecolor": "#2a3f5f",
             "gridcolor": "white",
             "linecolor": "white",
             "minorgridcolor": "white",
             "startlinecolor": "#2a3f5f"
            },
            "type": "carpet"
           }
          ],
          "choropleth": [
           {
            "colorbar": {
             "outlinewidth": 0,
             "ticks": ""
            },
            "type": "choropleth"
           }
          ],
          "contour": [
           {
            "colorbar": {
             "outlinewidth": 0,
             "ticks": ""
            },
            "colorscale": [
             [
              0,
              "#0d0887"
             ],
             [
              0.1111111111111111,
              "#46039f"
             ],
             [
              0.2222222222222222,
              "#7201a8"
             ],
             [
              0.3333333333333333,
              "#9c179e"
             ],
             [
              0.4444444444444444,
              "#bd3786"
             ],
             [
              0.5555555555555556,
              "#d8576b"
             ],
             [
              0.6666666666666666,
              "#ed7953"
             ],
             [
              0.7777777777777778,
              "#fb9f3a"
             ],
             [
              0.8888888888888888,
              "#fdca26"
             ],
             [
              1,
              "#f0f921"
             ]
            ],
            "type": "contour"
           }
          ],
          "contourcarpet": [
           {
            "colorbar": {
             "outlinewidth": 0,
             "ticks": ""
            },
            "type": "contourcarpet"
           }
          ],
          "heatmap": [
           {
            "colorbar": {
             "outlinewidth": 0,
             "ticks": ""
            },
            "colorscale": [
             [
              0,
              "#0d0887"
             ],
             [
              0.1111111111111111,
              "#46039f"
             ],
             [
              0.2222222222222222,
              "#7201a8"
             ],
             [
              0.3333333333333333,
              "#9c179e"
             ],
             [
              0.4444444444444444,
              "#bd3786"
             ],
             [
              0.5555555555555556,
              "#d8576b"
             ],
             [
              0.6666666666666666,
              "#ed7953"
             ],
             [
              0.7777777777777778,
              "#fb9f3a"
             ],
             [
              0.8888888888888888,
              "#fdca26"
             ],
             [
              1,
              "#f0f921"
             ]
            ],
            "type": "heatmap"
           }
          ],
          "heatmapgl": [
           {
            "colorbar": {
             "outlinewidth": 0,
             "ticks": ""
            },
            "colorscale": [
             [
              0,
              "#0d0887"
             ],
             [
              0.1111111111111111,
              "#46039f"
             ],
             [
              0.2222222222222222,
              "#7201a8"
             ],
             [
              0.3333333333333333,
              "#9c179e"
             ],
             [
              0.4444444444444444,
              "#bd3786"
             ],
             [
              0.5555555555555556,
              "#d8576b"
             ],
             [
              0.6666666666666666,
              "#ed7953"
             ],
             [
              0.7777777777777778,
              "#fb9f3a"
             ],
             [
              0.8888888888888888,
              "#fdca26"
             ],
             [
              1,
              "#f0f921"
             ]
            ],
            "type": "heatmapgl"
           }
          ],
          "histogram": [
           {
            "marker": {
             "pattern": {
              "fillmode": "overlay",
              "size": 10,
              "solidity": 0.2
             }
            },
            "type": "histogram"
           }
          ],
          "histogram2d": [
           {
            "colorbar": {
             "outlinewidth": 0,
             "ticks": ""
            },
            "colorscale": [
             [
              0,
              "#0d0887"
             ],
             [
              0.1111111111111111,
              "#46039f"
             ],
             [
              0.2222222222222222,
              "#7201a8"
             ],
             [
              0.3333333333333333,
              "#9c179e"
             ],
             [
              0.4444444444444444,
              "#bd3786"
             ],
             [
              0.5555555555555556,
              "#d8576b"
             ],
             [
              0.6666666666666666,
              "#ed7953"
             ],
             [
              0.7777777777777778,
              "#fb9f3a"
             ],
             [
              0.8888888888888888,
              "#fdca26"
             ],
             [
              1,
              "#f0f921"
             ]
            ],
            "type": "histogram2d"
           }
          ],
          "histogram2dcontour": [
           {
            "colorbar": {
             "outlinewidth": 0,
             "ticks": ""
            },
            "colorscale": [
             [
              0,
              "#0d0887"
             ],
             [
              0.1111111111111111,
              "#46039f"
             ],
             [
              0.2222222222222222,
              "#7201a8"
             ],
             [
              0.3333333333333333,
              "#9c179e"
             ],
             [
              0.4444444444444444,
              "#bd3786"
             ],
             [
              0.5555555555555556,
              "#d8576b"
             ],
             [
              0.6666666666666666,
              "#ed7953"
             ],
             [
              0.7777777777777778,
              "#fb9f3a"
             ],
             [
              0.8888888888888888,
              "#fdca26"
             ],
             [
              1,
              "#f0f921"
             ]
            ],
            "type": "histogram2dcontour"
           }
          ],
          "mesh3d": [
           {
            "colorbar": {
             "outlinewidth": 0,
             "ticks": ""
            },
            "type": "mesh3d"
           }
          ],
          "parcoords": [
           {
            "line": {
             "colorbar": {
              "outlinewidth": 0,
              "ticks": ""
             }
            },
            "type": "parcoords"
           }
          ],
          "pie": [
           {
            "automargin": true,
            "type": "pie"
           }
          ],
          "scatter": [
           {
            "fillpattern": {
             "fillmode": "overlay",
             "size": 10,
             "solidity": 0.2
            },
            "type": "scatter"
           }
          ],
          "scatter3d": [
           {
            "line": {
             "colorbar": {
              "outlinewidth": 0,
              "ticks": ""
             }
            },
            "marker": {
             "colorbar": {
              "outlinewidth": 0,
              "ticks": ""
             }
            },
            "type": "scatter3d"
           }
          ],
          "scattercarpet": [
           {
            "marker": {
             "colorbar": {
              "outlinewidth": 0,
              "ticks": ""
             }
            },
            "type": "scattercarpet"
           }
          ],
          "scattergeo": [
           {
            "marker": {
             "colorbar": {
              "outlinewidth": 0,
              "ticks": ""
             }
            },
            "type": "scattergeo"
           }
          ],
          "scattergl": [
           {
            "marker": {
             "colorbar": {
              "outlinewidth": 0,
              "ticks": ""
             }
            },
            "type": "scattergl"
           }
          ],
          "scattermapbox": [
           {
            "marker": {
             "colorbar": {
              "outlinewidth": 0,
              "ticks": ""
             }
            },
            "type": "scattermapbox"
           }
          ],
          "scatterpolar": [
           {
            "marker": {
             "colorbar": {
              "outlinewidth": 0,
              "ticks": ""
             }
            },
            "type": "scatterpolar"
           }
          ],
          "scatterpolargl": [
           {
            "marker": {
             "colorbar": {
              "outlinewidth": 0,
              "ticks": ""
             }
            },
            "type": "scatterpolargl"
           }
          ],
          "scatterternary": [
           {
            "marker": {
             "colorbar": {
              "outlinewidth": 0,
              "ticks": ""
             }
            },
            "type": "scatterternary"
           }
          ],
          "surface": [
           {
            "colorbar": {
             "outlinewidth": 0,
             "ticks": ""
            },
            "colorscale": [
             [
              0,
              "#0d0887"
             ],
             [
              0.1111111111111111,
              "#46039f"
             ],
             [
              0.2222222222222222,
              "#7201a8"
             ],
             [
              0.3333333333333333,
              "#9c179e"
             ],
             [
              0.4444444444444444,
              "#bd3786"
             ],
             [
              0.5555555555555556,
              "#d8576b"
             ],
             [
              0.6666666666666666,
              "#ed7953"
             ],
             [
              0.7777777777777778,
              "#fb9f3a"
             ],
             [
              0.8888888888888888,
              "#fdca26"
             ],
             [
              1,
              "#f0f921"
             ]
            ],
            "type": "surface"
           }
          ],
          "table": [
           {
            "cells": {
             "fill": {
              "color": "#EBF0F8"
             },
             "line": {
              "color": "white"
             }
            },
            "header": {
             "fill": {
              "color": "#C8D4E3"
             },
             "line": {
              "color": "white"
             }
            },
            "type": "table"
           }
          ]
         },
         "layout": {
          "annotationdefaults": {
           "arrowcolor": "#2a3f5f",
           "arrowhead": 0,
           "arrowwidth": 1
          },
          "autotypenumbers": "strict",
          "coloraxis": {
           "colorbar": {
            "outlinewidth": 0,
            "ticks": ""
           }
          },
          "colorscale": {
           "diverging": [
            [
             0,
             "#8e0152"
            ],
            [
             0.1,
             "#c51b7d"
            ],
            [
             0.2,
             "#de77ae"
            ],
            [
             0.3,
             "#f1b6da"
            ],
            [
             0.4,
             "#fde0ef"
            ],
            [
             0.5,
             "#f7f7f7"
            ],
            [
             0.6,
             "#e6f5d0"
            ],
            [
             0.7,
             "#b8e186"
            ],
            [
             0.8,
             "#7fbc41"
            ],
            [
             0.9,
             "#4d9221"
            ],
            [
             1,
             "#276419"
            ]
           ],
           "sequential": [
            [
             0,
             "#0d0887"
            ],
            [
             0.1111111111111111,
             "#46039f"
            ],
            [
             0.2222222222222222,
             "#7201a8"
            ],
            [
             0.3333333333333333,
             "#9c179e"
            ],
            [
             0.4444444444444444,
             "#bd3786"
            ],
            [
             0.5555555555555556,
             "#d8576b"
            ],
            [
             0.6666666666666666,
             "#ed7953"
            ],
            [
             0.7777777777777778,
             "#fb9f3a"
            ],
            [
             0.8888888888888888,
             "#fdca26"
            ],
            [
             1,
             "#f0f921"
            ]
           ],
           "sequentialminus": [
            [
             0,
             "#0d0887"
            ],
            [
             0.1111111111111111,
             "#46039f"
            ],
            [
             0.2222222222222222,
             "#7201a8"
            ],
            [
             0.3333333333333333,
             "#9c179e"
            ],
            [
             0.4444444444444444,
             "#bd3786"
            ],
            [
             0.5555555555555556,
             "#d8576b"
            ],
            [
             0.6666666666666666,
             "#ed7953"
            ],
            [
             0.7777777777777778,
             "#fb9f3a"
            ],
            [
             0.8888888888888888,
             "#fdca26"
            ],
            [
             1,
             "#f0f921"
            ]
           ]
          },
          "colorway": [
           "#636efa",
           "#EF553B",
           "#00cc96",
           "#ab63fa",
           "#FFA15A",
           "#19d3f3",
           "#FF6692",
           "#B6E880",
           "#FF97FF",
           "#FECB52"
          ],
          "font": {
           "color": "#2a3f5f"
          },
          "geo": {
           "bgcolor": "white",
           "lakecolor": "white",
           "landcolor": "#E5ECF6",
           "showlakes": true,
           "showland": true,
           "subunitcolor": "white"
          },
          "hoverlabel": {
           "align": "left"
          },
          "hovermode": "closest",
          "mapbox": {
           "style": "light"
          },
          "paper_bgcolor": "white",
          "plot_bgcolor": "#E5ECF6",
          "polar": {
           "angularaxis": {
            "gridcolor": "white",
            "linecolor": "white",
            "ticks": ""
           },
           "bgcolor": "#E5ECF6",
           "radialaxis": {
            "gridcolor": "white",
            "linecolor": "white",
            "ticks": ""
           }
          },
          "scene": {
           "xaxis": {
            "backgroundcolor": "#E5ECF6",
            "gridcolor": "white",
            "gridwidth": 2,
            "linecolor": "white",
            "showbackground": true,
            "ticks": "",
            "zerolinecolor": "white"
           },
           "yaxis": {
            "backgroundcolor": "#E5ECF6",
            "gridcolor": "white",
            "gridwidth": 2,
            "linecolor": "white",
            "showbackground": true,
            "ticks": "",
            "zerolinecolor": "white"
           },
           "zaxis": {
            "backgroundcolor": "#E5ECF6",
            "gridcolor": "white",
            "gridwidth": 2,
            "linecolor": "white",
            "showbackground": true,
            "ticks": "",
            "zerolinecolor": "white"
           }
          },
          "shapedefaults": {
           "line": {
            "color": "#2a3f5f"
           }
          },
          "ternary": {
           "aaxis": {
            "gridcolor": "white",
            "linecolor": "white",
            "ticks": ""
           },
           "baxis": {
            "gridcolor": "white",
            "linecolor": "white",
            "ticks": ""
           },
           "bgcolor": "#E5ECF6",
           "caxis": {
            "gridcolor": "white",
            "linecolor": "white",
            "ticks": ""
           }
          },
          "title": {
           "x": 0.05
          },
          "xaxis": {
           "automargin": true,
           "gridcolor": "white",
           "linecolor": "white",
           "ticks": "",
           "title": {
            "standoff": 15
           },
           "zerolinecolor": "white",
           "zerolinewidth": 2
          },
          "yaxis": {
           "automargin": true,
           "gridcolor": "white",
           "linecolor": "white",
           "ticks": "",
           "title": {
            "standoff": 15
           },
           "zerolinecolor": "white",
           "zerolinewidth": 2
          }
         }
        },
        "title": {
         "text": "Descriptive Metrics — Node: All"
        },
        "updatemenus": [
         {
          "active": 0,
          "buttons": [
           {
            "args": [
             {
              "visible": [
               true,
               false,
               false,
               false,
               true,
               false,
               false,
               false,
               true,
               false,
               false,
               false,
               true,
               false,
               false,
               false,
               true,
               false,
               false,
               false,
               true,
               false,
               false,
               false,
               true,
               false,
               false,
               false,
               true,
               false,
               false,
               false
              ]
             },
             {
              "title": "Descriptive Metrics — Node: All"
             }
            ],
            "label": "All",
            "method": "update"
           },
           {
            "args": [
             {
              "visible": [
               false,
               true,
               false,
               false,
               false,
               true,
               false,
               false,
               false,
               true,
               false,
               false,
               false,
               true,
               false,
               false,
               false,
               true,
               false,
               false,
               false,
               true,
               false,
               false,
               false,
               true,
               false,
               false,
               false,
               true,
               false,
               false
              ]
             },
             {
              "title": "Descriptive Metrics — Node: X_1"
             }
            ],
            "label": "X_1",
            "method": "update"
           },
           {
            "args": [
             {
              "visible": [
               false,
               false,
               true,
               false,
               false,
               false,
               true,
               false,
               false,
               false,
               true,
               false,
               false,
               false,
               true,
               false,
               false,
               false,
               true,
               false,
               false,
               false,
               true,
               false,
               false,
               false,
               true,
               false,
               false,
               false,
               true,
               false
              ]
             },
             {
              "title": "Descriptive Metrics — Node: X_2"
             }
            ],
            "label": "X_2",
            "method": "update"
           },
           {
            "args": [
             {
              "visible": [
               false,
               false,
               false,
               true,
               false,
               false,
               false,
               true,
               false,
               false,
               false,
               true,
               false,
               false,
               false,
               true,
               false,
               false,
               false,
               true,
               false,
               false,
               false,
               true,
               false,
               false,
               false,
               true,
               false,
               false,
               false,
               true
              ]
             },
             {
              "title": "Descriptive Metrics — Node: X_3"
             }
            ],
            "label": "X_3",
            "method": "update"
           }
          ],
          "direction": "down",
          "x": 1.01,
          "xanchor": "left",
          "y": 1.15,
          "yanchor": "top"
         }
        ],
        "width": 1200,
        "xaxis": {
         "anchor": "y",
         "autorange": true,
         "domain": [
          0,
          0.27999999999999997
         ],
         "range": [
          -1.3532641395908545,
          20.353264139590856
         ],
         "showspikes": false,
         "tickangle": 45,
         "type": "category"
        },
        "xaxis2": {
         "anchor": "y2",
         "autorange": true,
         "domain": [
          0.36,
          0.6399999999999999
         ],
         "range": [
          -1.3532641395908547,
          20.353264139590856
         ],
         "showspikes": false,
         "tickangle": 45,
         "type": "category"
        },
        "xaxis3": {
         "anchor": "y3",
         "autorange": true,
         "domain": [
          0.72,
          1
         ],
         "range": [
          -1.3532641395908545,
          20.353264139590856
         ],
         "showspikes": false,
         "tickangle": 45,
         "type": "category"
        },
        "xaxis4": {
         "anchor": "y4",
         "autorange": true,
         "domain": [
          0,
          0.27999999999999997
         ],
         "range": [
          -1.3532641395908545,
          20.353264139590856
         ],
         "showspikes": false,
         "tickangle": 45,
         "type": "category"
        },
        "xaxis5": {
         "anchor": "y5",
         "autorange": true,
         "domain": [
          0.36,
          0.6399999999999999
         ],
         "range": [
          -1.3532641395908547,
          20.353264139590856
         ],
         "showspikes": false,
         "tickangle": 45,
         "type": "category"
        },
        "xaxis6": {
         "anchor": "y6",
         "autorange": true,
         "domain": [
          0.72,
          1
         ],
         "range": [
          -1.3532641395908545,
          20.353264139590856
         ],
         "showspikes": false,
         "tickangle": 45,
         "type": "category"
        },
        "xaxis7": {
         "anchor": "y7",
         "autorange": true,
         "domain": [
          0,
          0.27999999999999997
         ],
         "range": [
          -1.3532641395908545,
          20.353264139590856
         ],
         "showspikes": false,
         "tickangle": 45,
         "type": "category"
        },
        "xaxis8": {
         "anchor": "y8",
         "autorange": true,
         "domain": [
          0.36,
          0.6399999999999999
         ],
         "range": [
          -1.3532641395908547,
          20.353264139590856
         ],
         "showspikes": false,
         "tickangle": 45,
         "type": "category"
        },
        "xaxis9": {
         "anchor": "y9",
         "domain": [
          0.72,
          1
         ],
         "tickangle": 45
        },
        "yaxis": {
         "anchor": "x",
         "autorange": true,
         "domain": [
          0.7466666666666667,
          1
         ],
         "range": [
          52.94180291925077,
          67.05819708074924
         ],
         "showspikes": false,
         "type": "linear"
        },
        "yaxis2": {
         "anchor": "x2",
         "autorange": true,
         "domain": [
          0.7466666666666667,
          1
         ],
         "range": [
          32.67725364906346,
          50.32274635093654
         ],
         "showspikes": false,
         "type": "linear"
        },
        "yaxis3": {
         "anchor": "x3",
         "autorange": true,
         "domain": [
          0.7466666666666667,
          1
         ],
         "range": [
          4.647267639750256,
          9.352732360249744
         ],
         "showspikes": false,
         "type": "linear"
        },
        "yaxis4": {
         "anchor": "x4",
         "autorange": true,
         "domain": [
          0.37333333333333335,
          0.6266666666666667
         ],
         "range": [
          7.735450729812692,
          11.264549270187308
         ],
         "showspikes": false,
         "type": "linear"
        },
        "yaxis5": {
         "anchor": "x5",
         "autorange": true,
         "domain": [
          0.37333333333333335,
          0.6266666666666667
         ],
         "range": [
          -0.08818309006243605,
          1.088183090062436
         ],
         "showspikes": false,
         "type": "linear"
        },
        "yaxis6": {
         "anchor": "x6",
         "autorange": true,
         "domain": [
          0.37333333333333335,
          0.6266666666666667
         ],
         "range": [
          45.67725364906346,
          63.32274635093654
         ],
         "showspikes": false,
         "type": "linear"
        },
        "yaxis7": {
         "anchor": "x7",
         "autorange": true,
         "domain": [
          0,
          0.25333333333333335
         ],
         "range": [
          2.6472676397502557,
          7.352732360249744
         ],
         "showspikes": false,
         "type": "linear"
        },
        "yaxis8": {
         "anchor": "x8",
         "autorange": true,
         "domain": [
          0,
          0.25333333333333335
         ],
         "range": [
          2.4709014596253835,
          9.529098540374616
         ],
         "showspikes": false,
         "type": "linear"
        },
        "yaxis9": {
         "anchor": "x9",
         "domain": [
          0,
          0.25333333333333335
         ]
        }
       }
      },
      "image/png": "[encoded data removed]",
      "text/html": [
       "<div>                            <div id=\"f61bb334-fad6-4865-9911-d4dd9f8198b7\" class=\"plotly-graph-div\" style=\"height:750px; width:1200px;\"></div>            <script type=\"text/javascript\">                require([\"plotly\"], function(Plotly) {                    window.PLOTLYENV=window.PLOTLYENV || {};                                    if (document.getElementById(\"f61bb334-fad6-4865-9911-d4dd9f8198b7\")) {                    Plotly.newPlot(                        \"f61bb334-fad6-4865-9911-d4dd9f8198b7\",                        [{\"marker\":{\"color\":\"#1E3A8A\",\"symbol\":\"diamond\"},\"mode\":\"lines+markers\",\"name\":\"All\",\"showlegend\":false,\"visible\":true,\"x\":[\"0.0100\",\"0.0200\",\"0.0300\",\"0.0400\",\"0.0500\",\"0.0600\",\"0.0700\",\"0.0800\",\"0.0900\",\"0.1000\",\"0.1100\",\"0.1200\",\"0.1300\",\"0.1400\",\"0.1500\",\"0.1600\",\"0.1700\",\"0.1800\",\"0.1900\",\"0.2000\"],\"y\":[54.0,54.0,54.0,55.0,56.0,57.0,59.0,60.0,60.0,61.0,60.0,59.0,60.0,61.0,62.0,61.0,63.0,65.0,65.0,66.0],\"type\":\"scatter\",\"xaxis\":\"x\",\"yaxis\":\"y\"},{\"marker\":{\"color\":\"#1E3A8A\",\"symbol\":\"diamond\"},\"mode\":\"lines+markers\",\"name\":\"X_1\",\"showlegend\":false,\"visible\":false,\"x\":[\"0.0100\",\"0.0200\",\"0.0300\",\"0.0400\",\"0.0500\",\"0.0600\",\"0.0700\",\"0.0800\",\"0.0900\",\"0.1000\",\"0.1100\",\"0.1200\",\"0.1300\",\"0.1400\",\"0.1500\",\"0.1600\",\"0.1700\",\"0.1800\",\"0.1900\",\"0.2000\"],\"y\":[7.0,7.0,7.0,10.0,10.0,10.0,14.0,13.0,13.0,13.0,13.0,13.0,13.0,9.0,9.0,9.0,9.0,9.0,9.0,9.0],\"type\":\"scatter\",\"xaxis\":\"x\",\"yaxis\":\"y\"},{\"marker\":{\"color\":\"#1E3A8A\",\"symbol\":\"diamond\"},\"mode\":\"lines+markers\",\"name\":\"X_2\",\"showlegend\":false,\"visible\":false,\"x\":[\"0.0100\",\"0.0200\",\"0.0300\",\"0.0400\",\"0.0500\",\"0.0600\",\"0.0700\",\"0.0800\",\"0.0900\",\"0.1000\",\"0.1100\",\"0.1200\",\"0.1300\",\"0.1400\",\"0.1500\",\"0.1600\",\"0.1700\",\"0.1800\",\"0.1900\",\"0.2000\"],\"y\":[4.0,4.0,4.0,4.0,4.0,4.0,4.0,4.0,3.0,3.0,3.0,3.0,3.0,3.0,3.0,3.0,3.0,3.0,3.0,3.0],\"type\":\"scatter\",\"xaxis\":\"x\",\"yaxis\":\"y\"},{\"marker\":{\"color\":\"#1E3A8A\",\"symbol\":\"diamond\"},\"mode\":\"lines+markers\",\"name\":\"X_3\",\"showlegend\":false,\"visible\":false,\"x\":[\"0.0100\",\"0.0200\",\"0.0300\",\"0.0400\",\"0.0500\",\"0.0600\",\"0.0700\",\"0.0800\",\"0.0900\",\"0.1000\",\"0.1100\",\"0.1200\",\"0.1300\",\"0.1400\",\"0.1500\",\"0.1600\",\"0.1700\",\"0.1800\",\"0.1900\",\"0.2000\"],\"y\":[2.0,2.0,2.0,2.0,2.0,2.0,2.0,2.0,2.0,2.0,2.0,2.0,3.0,3.0,2.0,2.0,2.0,2.0,2.0,2.0],\"type\":\"scatter\",\"xaxis\":\"x\",\"yaxis\":\"y\"},{\"marker\":{\"color\":\"#1E3A8A\",\"symbol\":\"diamond\"},\"mode\":\"lines+markers\",\"name\":\"All\",\"showlegend\":false,\"visible\":true,\"x\":[\"0.0100\",\"0.0200\",\"0.0300\",\"0.0400\",\"0.0500\",\"0.0600\",\"0.0700\",\"0.0800\",\"0.0900\",\"0.1000\",\"0.1100\",\"0.1200\",\"0.1300\",\"0.1400\",\"0.1500\",\"0.1600\",\"0.1700\",\"0.1800\",\"0.1900\",\"0.2000\"],\"y\":[36.0,34.0,34.0,36.0,38.0,39.0,43.0,43.0,42.0,41.0,40.0,41.0,41.0,40.0,44.0,42.0,46.0,48.0,48.0,49.0],\"type\":\"scatter\",\"xaxis\":\"x2\",\"yaxis\":\"y2\"},{\"marker\":{\"color\":\"#1E3A8A\",\"symbol\":\"diamond\"},\"mode\":\"lines+markers\",\"name\":\"X_1\",\"showlegend\":false,\"visible\":false,\"x\":[\"0.0100\",\"0.0200\",\"0.0300\",\"0.0400\",\"0.0500\",\"0.0600\",\"0.0700\",\"0.0800\",\"0.0900\",\"0.1000\",\"0.1100\",\"0.1200\",\"0.1300\",\"0.1400\",\"0.1500\",\"0.1600\",\"0.1700\",\"0.1800\",\"0.1900\",\"0.2000\"],\"y\":[5.0,5.0,5.0,8.0,8.0,8.0,11.0,11.0,11.0,11.0,11.0,11.0,11.0,8.0,8.0,8.0,8.0,8.0,8.0,8.0],\"type\":\"scatter\",\"xaxis\":\"x2\",\"yaxis\":\"y2\"},{\"marker\":{\"color\":\"#1E3A8A\",\"symbol\":\"diamond\"},\"mode\":\"lines+markers\",\"name\":\"X_2\",\"showlegend\":false,\"visible\":false,\"x\":[\"0.0100\",\"0.0200\",\"0.0300\",\"0.0400\",\"0.0500\",\"0.0600\",\"0.0700\",\"0.0800\",\"0.0900\",\"0.1000\",\"0.1100\",\"0.1200\",\"0.1300\",\"0.1400\",\"0.1500\",\"0.1600\",\"0.1700\",\"0.1800\",\"0.1900\",\"0.2000\"],\"y\":[2.0,2.0,2.0,2.0,2.0,2.0,2.0,2.0,1.0,1.0,1.0,1.0,1.0,1.0,1.0,1.0,1.0,1.0,1.0,1.0],\"type\":\"scatter\",\"xaxis\":\"x2\",\"yaxis\":\"y2\"},{\"marker\":{\"color\":\"#1E3A8A\",\"symbol\":\"diamond\"},\"mode\":\"lines+markers\",\"name\":\"X_3\",\"showlegend\":false,\"visible\":false,\"x\":[\"0.0100\",\"0.0200\",\"0.0300\",\"0.0400\",\"0.0500\",\"0.0600\",\"0.0700\",\"0.0800\",\"0.0900\",\"0.1000\",\"0.1100\",\"0.1200\",\"0.1300\",\"0.1400\",\"0.1500\",\"0.1600\",\"0.1700\",\"0.1800\",\"0.1900\",\"0.2000\"],\"y\":[0.0,0.0,0.0,0.0,0.0,0.0,0.0,0.0,0.0,0.0,0.0,0.0,3.0,3.0,0.0,0.0,0.0,0.0,0.0,0.0],\"type\":\"scatter\",\"xaxis\":\"x2\",\"yaxis\":\"y2\"},{\"marker\":{\"color\":\"#1E3A8A\",\"symbol\":\"diamond\"},\"mode\":\"lines+markers\",\"name\":\"All\",\"showlegend\":false,\"visible\":true,\"x\":[\"0.0100\",\"0.0200\",\"0.0300\",\"0.0400\",\"0.0500\",\"0.0600\",\"0.0700\",\"0.0800\",\"0.0900\",\"0.1000\",\"0.1100\",\"0.1200\",\"0.1300\",\"0.1400\",\"0.1500\",\"0.1600\",\"0.1700\",\"0.1800\",\"0.1900\",\"0.2000\"],\"y\":[9.0,8.0,8.0,8.0,8.0,8.0,8.0,7.0,6.0,6.0,6.0,7.0,8.0,7.0,6.0,6.0,6.0,5.0,5.0,5.0],\"type\":\"scatter\",\"xaxis\":\"x3\",\"yaxis\":\"y3\"},{\"marker\":{\"color\":\"#1E3A8A\",\"symbol\":\"diamond\"},\"mode\":\"lines+markers\",\"name\":\"X_1\",\"showlegend\":false,\"visible\":false,\"x\":[\"0.0100\",\"0.0200\",\"0.0300\",\"0.0400\",\"0.0500\",\"0.0600\",\"0.0700\",\"0.0800\",\"0.0900\",\"0.1000\",\"0.1100\",\"0.1200\",\"0.1300\",\"0.1400\",\"0.1500\",\"0.1600\",\"0.1700\",\"0.1800\",\"0.1900\",\"0.2000\"],\"y\":[3.0,3.0,3.0,5.0,5.0,5.0,5.0,5.0,5.0,5.0,5.0,5.0,5.0,5.0,5.0,5.0,5.0,5.0,5.0,5.0],\"type\":\"scatter\",\"xaxis\":\"x3\",\"yaxis\":\"y3\"},{\"marker\":{\"color\":\"#1E3A8A\",\"symbol\":\"diamond\"},\"mode\":\"lines+markers\",\"name\":\"X_2\",\"showlegend\":false,\"visible\":false,\"x\":[\"0.0100\",\"0.0200\",\"0.0300\",\"0.0400\",\"0.0500\",\"0.0600\",\"0.0700\",\"0.0800\",\"0.0900\",\"0.1000\",\"0.1100\",\"0.1200\",\"0.1300\",\"0.1400\",\"0.1500\",\"0.1600\",\"0.1700\",\"0.1800\",\"0.1900\",\"0.2000\"],\"y\":[3.0,3.0,3.0,3.0,3.0,3.0,3.0,3.0,2.0,2.0,2.0,2.0,2.0,2.0,2.0,2.0,2.0,2.0,2.0,2.0],\"type\":\"scatter\",\"xaxis\":\"x3\",\"yaxis\":\"y3\"},{\"marker\":{\"color\":\"#1E3A8A\",\"symbol\":\"diamond\"},\"mode\":\"lines+markers\",\"name\":\"X_3\",\"showlegend\":false,\"visible\":false,\"x\":[\"0.0100\",\"0.0200\",\"0.0300\",\"0.0400\",\"0.0500\",\"0.0600\",\"0.0700\",\"0.0800\",\"0.0900\",\"0.1000\",\"0.1100\",\"0.1200\",\"0.1300\",\"0.1400\",\"0.1500\",\"0.1600\",\"0.1700\",\"0.1800\",\"0.1900\",\"0.2000\"],\"y\":[0.0,0.0,0.0,0.0,0.0,0.0,0.0,0.0,0.0,0.0,0.0,0.0,3.0,3.0,0.0,0.0,0.0,0.0,0.0,0.0],\"type\":\"scatter\",\"xaxis\":\"x3\",\"yaxis\":\"y3\"},{\"marker\":{\"color\":\"#1E3A8A\",\"symbol\":\"diamond\"},\"mode\":\"lines+markers\",\"name\":\"All\",\"showlegend\":false,\"visible\":true,\"x\":[\"0.0100\",\"0.0200\",\"0.0300\",\"0.0400\",\"0.0500\",\"0.0600\",\"0.0700\",\"0.0800\",\"0.0900\",\"0.1000\",\"0.1100\",\"0.1200\",\"0.1300\",\"0.1400\",\"0.1500\",\"0.1600\",\"0.1700\",\"0.1800\",\"0.1900\",\"0.2000\"],\"y\":[9.0,10.0,9.0,9.0,10.0,11.0,10.0,10.0,10.0,11.0,10.0,10.0,10.0,10.0,10.0,10.0,10.0,9.0,9.0,8.0],\"type\":\"scatter\",\"xaxis\":\"x4\",\"yaxis\":\"y4\"},{\"marker\":{\"color\":\"#1E3A8A\",\"symbol\":\"diamond\"},\"mode\":\"lines+markers\",\"name\":\"X_1\",\"showlegend\":false,\"visible\":false,\"x\":[\"0.0100\",\"0.0200\",\"0.0300\",\"0.0400\",\"0.0500\",\"0.0600\",\"0.0700\",\"0.0800\",\"0.0900\",\"0.1000\",\"0.1100\",\"0.1200\",\"0.1300\",\"0.1400\",\"0.1500\",\"0.1600\",\"0.1700\",\"0.1800\",\"0.1900\",\"0.2000\"],\"y\":[1.0,1.0,1.0,2.0,2.0,2.0,3.0,3.0,3.0,3.0,3.0,3.0,3.0,2.0,2.0,2.0,2.0,2.0,2.0,2.0],\"type\":\"scatter\",\"xaxis\":\"x4\",\"yaxis\":\"y4\"},{\"marker\":{\"color\":\"#1E3A8A\",\"symbol\":\"diamond\"},\"mode\":\"lines+markers\",\"name\":\"X_2\",\"showlegend\":false,\"visible\":false,\"x\":[\"0.0100\",\"0.0200\",\"0.0300\",\"0.0400\",\"0.0500\",\"0.0600\",\"0.0700\",\"0.0800\",\"0.0900\",\"0.1000\",\"0.1100\",\"0.1200\",\"0.1300\",\"0.1400\",\"0.1500\",\"0.1600\",\"0.1700\",\"0.1800\",\"0.1900\",\"0.2000\"],\"y\":[1.0,1.0,1.0,1.0,1.0,1.0,1.0,1.0,1.0,1.0,1.0,1.0,1.0,1.0,1.0,1.0,1.0,1.0,1.0,1.0],\"type\":\"scatter\",\"xaxis\":\"x4\",\"yaxis\":\"y4\"},{\"marker\":{\"color\":\"#1E3A8A\",\"symbol\":\"diamond\"},\"mode\":\"lines+markers\",\"name\":\"X_3\",\"showlegend\":false,\"visible\":false,\"x\":[\"0.0100\",\"0.0200\",\"0.0300\",\"0.0400\",\"0.0500\",\"0.0600\",\"0.0700\",\"0.0800\",\"0.0900\",\"0.1000\",\"0.1100\",\"0.1200\",\"0.1300\",\"0.1400\",\"0.1500\",\"0.1600\",\"0.1700\",\"0.1800\",\"0.1900\",\"0.2000\"],\"y\":[0.0,0.0,0.0,0.0,0.0,0.0,0.0,1.0,1.0,1.0,1.0,1.0,1.0,1.0,1.0,1.0,1.0,1.0,1.0,1.0],\"type\":\"scatter\",\"xaxis\":\"x4\",\"yaxis\":\"y4\"},{\"marker\":{\"color\":\"#1E3A8A\",\"symbol\":\"diamond\"},\"mode\":\"lines+markers\",\"name\":\"All\",\"showlegend\":false,\"visible\":true,\"x\":[\"0.0100\",\"0.0200\",\"0.0300\",\"0.0400\",\"0.0500\",\"0.0600\",\"0.0700\",\"0.0800\",\"0.0900\",\"0.1000\",\"0.1100\",\"0.1200\",\"0.1300\",\"0.1400\",\"0.1500\",\"0.1600\",\"0.1700\",\"0.1800\",\"0.1900\",\"0.2000\"],\"y\":[1.0,1.0,1.0,1.0,1.0,1.0,0.0,0.0,0.0,0.0,0.0,0.0,0.0,0.0,0.0,0.0,0.0,0.0,0.0,0.0],\"type\":\"scatter\",\"xaxis\":\"x5\",\"yaxis\":\"y5\"},{\"marker\":{\"color\":\"#1E3A8A\",\"symbol\":\"diamond\"},\"mode\":\"lines+markers\",\"name\":\"X_1\",\"showlegend\":false,\"visible\":false,\"x\":[\"0.0100\",\"0.0200\",\"0.0300\",\"0.0400\",\"0.0500\",\"0.0600\",\"0.0700\",\"0.0800\",\"0.0900\",\"0.1000\",\"0.1100\",\"0.1200\",\"0.1300\",\"0.1400\",\"0.1500\",\"0.1600\",\"0.1700\",\"0.1800\",\"0.1900\",\"0.2000\"],\"y\":[0.0,0.0,0.0,0.0,0.0,0.0,0.0,0.0,0.0,0.0,0.0,0.0,0.0,0.0,0.0,0.0,0.0,0.0,0.0,0.0],\"type\":\"scatter\",\"xaxis\":\"x5\",\"yaxis\":\"y5\"},{\"marker\":{\"color\":\"#1E3A8A\",\"symbol\":\"diamond\"},\"mode\":\"lines+markers\",\"name\":\"X_2\",\"showlegend\":false,\"visible\":false,\"x\":[\"0.0100\",\"0.0200\",\"0.0300\",\"0.0400\",\"0.0500\",\"0.0600\",\"0.0700\",\"0.0800\",\"0.0900\",\"0.1000\",\"0.1100\",\"0.1200\",\"0.1300\",\"0.1400\",\"0.1500\",\"0.1600\",\"0.1700\",\"0.1800\",\"0.1900\",\"0.2000\"],\"y\":[0.0,0.0,0.0,0.0,0.0,0.0,0.0,0.0,0.0,0.0,0.0,0.0,0.0,0.0,0.0,0.0,0.0,0.0,0.0,0.0],\"type\":\"scatter\",\"xaxis\":\"x5\",\"yaxis\":\"y5\"},{\"marker\":{\"color\":\"#1E3A8A\",\"symbol\":\"diamond\"},\"mode\":\"lines+markers\",\"name\":\"X_3\",\"showlegend\":false,\"visible\":false,\"x\":[\"0.0100\",\"0.0200\",\"0.0300\",\"0.0400\",\"0.0500\",\"0.0600\",\"0.0700\",\"0.0800\",\"0.0900\",\"0.1000\",\"0.1100\",\"0.1200\",\"0.1300\",\"0.1400\",\"0.1500\",\"0.1600\",\"0.1700\",\"0.1800\",\"0.1900\",\"0.2000\"],\"y\":[0.0,0.0,0.0,0.0,0.0,0.0,0.0,0.0,0.0,0.0,0.0,0.0,0.0,0.0,0.0,0.0,0.0,0.0,0.0,0.0],\"type\":\"scatter\",\"xaxis\":\"x5\",\"yaxis\":\"y5\"},{\"marker\":{\"color\":\"#1E3A8A\",\"symbol\":\"diamond\"},\"mode\":\"lines+markers\",\"name\":\"All\",\"showlegend\":false,\"visible\":true,\"x\":[\"0.0100\",\"0.0200\",\"0.0300\",\"0.0400\",\"0.0500\",\"0.0600\",\"0.0700\",\"0.0800\",\"0.0900\",\"0.1000\",\"0.1100\",\"0.1200\",\"0.1300\",\"0.1400\",\"0.1500\",\"0.1600\",\"0.1700\",\"0.1800\",\"0.1900\",\"0.2000\"],\"y\":[48.0,48.0,47.0,48.0,49.0,51.0,53.0,55.0,55.0,57.0,56.0,55.0,57.0,58.0,58.0,57.0,59.0,61.0,61.0,62.0],\"type\":\"scatter\",\"xaxis\":\"x6\",\"yaxis\":\"y6\"},{\"marker\":{\"color\":\"#1E3A8A\",\"symbol\":\"diamond\"},\"mode\":\"lines+markers\",\"name\":\"X_1\",\"showlegend\":false,\"visible\":false,\"x\":[\"0.0100\",\"0.0200\",\"0.0300\",\"0.0400\",\"0.0500\",\"0.0600\",\"0.0700\",\"0.0800\",\"0.0900\",\"0.1000\",\"0.1100\",\"0.1200\",\"0.1300\",\"0.1400\",\"0.1500\",\"0.1600\",\"0.1700\",\"0.1800\",\"0.1900\",\"0.2000\"],\"y\":[7.0,7.0,7.0,10.0,10.0,10.0,14.0,13.0,13.0,13.0,13.0,13.0,13.0,9.0,9.0,9.0,9.0,9.0,9.0,9.0],\"type\":\"scatter\",\"xaxis\":\"x6\",\"yaxis\":\"y6\"},{\"marker\":{\"color\":\"#1E3A8A\",\"symbol\":\"diamond\"},\"mode\":\"lines+markers\",\"name\":\"X_2\",\"showlegend\":false,\"visible\":false,\"x\":[\"0.0100\",\"0.0200\",\"0.0300\",\"0.0400\",\"0.0500\",\"0.0600\",\"0.0700\",\"0.0800\",\"0.0900\",\"0.1000\",\"0.1100\",\"0.1200\",\"0.1300\",\"0.1400\",\"0.1500\",\"0.1600\",\"0.1700\",\"0.1800\",\"0.1900\",\"0.2000\"],\"y\":[4.0,4.0,4.0,4.0,4.0,4.0,4.0,4.0,3.0,3.0,3.0,3.0,3.0,3.0,3.0,3.0,3.0,3.0,3.0,3.0],\"type\":\"scatter\",\"xaxis\":\"x6\",\"yaxis\":\"y6\"},{\"marker\":{\"color\":\"#1E3A8A\",\"symbol\":\"diamond\"},\"mode\":\"lines+markers\",\"name\":\"X_3\",\"showlegend\":false,\"visible\":false,\"x\":[\"0.0100\",\"0.0200\",\"0.0300\",\"0.0400\",\"0.0500\",\"0.0600\",\"0.0700\",\"0.0800\",\"0.0900\",\"0.1000\",\"0.1100\",\"0.1200\",\"0.1300\",\"0.1400\",\"0.1500\",\"0.1600\",\"0.1700\",\"0.1800\",\"0.1900\",\"0.2000\"],\"y\":[0.0,0.0,0.0,0.0,0.0,0.0,0.0,1.0,1.0,1.0,1.0,1.0,3.0,3.0,1.0,1.0,1.0,1.0,1.0,1.0],\"type\":\"scatter\",\"xaxis\":\"x6\",\"yaxis\":\"y6\"},{\"marker\":{\"color\":\"#1E3A8A\",\"symbol\":\"diamond\"},\"mode\":\"lines+markers\",\"name\":\"All\",\"showlegend\":false,\"visible\":true,\"x\":[\"0.0100\",\"0.0200\",\"0.0300\",\"0.0400\",\"0.0500\",\"0.0600\",\"0.0700\",\"0.0800\",\"0.0900\",\"0.1000\",\"0.1100\",\"0.1200\",\"0.1300\",\"0.1400\",\"0.1500\",\"0.1600\",\"0.1700\",\"0.1800\",\"0.1900\",\"0.2000\"],\"y\":[6.0,6.0,7.0,7.0,7.0,6.0,6.0,5.0,5.0,4.0,4.0,4.0,3.0,3.0,4.0,4.0,4.0,4.0,4.0,4.0],\"type\":\"scatter\",\"xaxis\":\"x7\",\"yaxis\":\"y7\"},{\"marker\":{\"color\":\"#1E3A8A\",\"symbol\":\"diamond\"},\"mode\":\"lines+markers\",\"name\":\"X_1\",\"showlegend\":false,\"visible\":false,\"x\":[\"0.0100\",\"0.0200\",\"0.0300\",\"0.0400\",\"0.0500\",\"0.0600\",\"0.0700\",\"0.0800\",\"0.0900\",\"0.1000\",\"0.1100\",\"0.1200\",\"0.1300\",\"0.1400\",\"0.1500\",\"0.1600\",\"0.1700\",\"0.1800\",\"0.1900\",\"0.2000\"],\"y\":[0.0,0.0,0.0,0.0,0.0,0.0,0.0,0.0,0.0,0.0,0.0,0.0,0.0,0.0,0.0,0.0,0.0,0.0,0.0,0.0],\"type\":\"scatter\",\"xaxis\":\"x7\",\"yaxis\":\"y7\"},{\"marker\":{\"color\":\"#1E3A8A\",\"symbol\":\"diamond\"},\"mode\":\"lines+markers\",\"name\":\"X_2\",\"showlegend\":false,\"visible\":false,\"x\":[\"0.0100\",\"0.0200\",\"0.0300\",\"0.0400\",\"0.0500\",\"0.0600\",\"0.0700\",\"0.0800\",\"0.0900\",\"0.1000\",\"0.1100\",\"0.1200\",\"0.1300\",\"0.1400\",\"0.1500\",\"0.1600\",\"0.1700\",\"0.1800\",\"0.1900\",\"0.2000\"],\"y\":[0.0,0.0,0.0,0.0,0.0,0.0,0.0,0.0,0.0,0.0,0.0,0.0,0.0,0.0,0.0,0.0,0.0,0.0,0.0,0.0],\"type\":\"scatter\",\"xaxis\":\"x7\",\"yaxis\":\"y7\"},{\"marker\":{\"color\":\"#1E3A8A\",\"symbol\":\"diamond\"},\"mode\":\"lines+markers\",\"name\":\"X_3\",\"showlegend\":false,\"visible\":false,\"x\":[\"0.0100\",\"0.0200\",\"0.0300\",\"0.0400\",\"0.0500\",\"0.0600\",\"0.0700\",\"0.0800\",\"0.0900\",\"0.1000\",\"0.1100\",\"0.1200\",\"0.1300\",\"0.1400\",\"0.1500\",\"0.1600\",\"0.1700\",\"0.1800\",\"0.1900\",\"0.2000\"],\"y\":[2.0,2.0,2.0,2.0,2.0,2.0,2.0,1.0,1.0,1.0,1.0,1.0,0.0,0.0,1.0,1.0,1.0,1.0,1.0,1.0],\"type\":\"scatter\",\"xaxis\":\"x7\",\"yaxis\":\"y7\"},{\"marker\":{\"color\":\"#1E3A8A\",\"symbol\":\"diamond\"},\"mode\":\"lines+markers\",\"name\":\"All\",\"showlegend\":false,\"visible\":true,\"x\":[\"0.0100\",\"0.0200\",\"0.0300\",\"0.0400\",\"0.0500\",\"0.0600\",\"0.0700\",\"0.0800\",\"0.0900\",\"0.1000\",\"0.1100\",\"0.1200\",\"0.1300\",\"0.1400\",\"0.1500\",\"0.1600\",\"0.1700\",\"0.1800\",\"0.1900\",\"0.2000\"],\"y\":[3.0,4.0,3.0,3.0,5.0,5.0,5.0,6.0,8.0,9.0,8.0,8.0,8.0,7.0,7.0,7.0,7.0,8.0,8.0,8.0],\"type\":\"scatter\",\"xaxis\":\"x8\",\"yaxis\":\"y8\"},{\"marker\":{\"color\":\"#1E3A8A\",\"symbol\":\"diamond\"},\"mode\":\"lines+markers\",\"name\":\"X_1\",\"showlegend\":false,\"visible\":false,\"x\":[\"0.0100\",\"0.0200\",\"0.0300\",\"0.0400\",\"0.0500\",\"0.0600\",\"0.0700\",\"0.0800\",\"0.0900\",\"0.1000\",\"0.1100\",\"0.1200\",\"0.1300\",\"0.1400\",\"0.1500\",\"0.1600\",\"0.1700\",\"0.1800\",\"0.1900\",\"0.2000\"],\"y\":[0.0,0.0,0.0,0.0,0.0,0.0,1.0,2.0,2.0,2.0,2.0,2.0,2.0,1.0,1.0,1.0,1.0,1.0,1.0,1.0],\"type\":\"scatter\",\"xaxis\":\"x8\",\"yaxis\":\"y8\"},{\"marker\":{\"color\":\"#1E3A8A\",\"symbol\":\"diamond\"},\"mode\":\"lines+markers\",\"name\":\"X_2\",\"showlegend\":false,\"visible\":false,\"x\":[\"0.0100\",\"0.0200\",\"0.0300\",\"0.0400\",\"0.0500\",\"0.0600\",\"0.0700\",\"0.0800\",\"0.0900\",\"0.1000\",\"0.1100\",\"0.1200\",\"0.1300\",\"0.1400\",\"0.1500\",\"0.1600\",\"0.1700\",\"0.1800\",\"0.1900\",\"0.2000\"],\"y\":[0.0,0.0,0.0,0.0,0.0,0.0,0.0,0.0,1.0,1.0,1.0,1.0,1.0,1.0,1.0,1.0,1.0,1.0,1.0,1.0],\"type\":\"scatter\",\"xaxis\":\"x8\",\"yaxis\":\"y8\"},{\"marker\":{\"color\":\"#1E3A8A\",\"symbol\":\"diamond\"},\"mode\":\"lines+markers\",\"name\":\"X_3\",\"showlegend\":false,\"visible\":false,\"x\":[\"0.0100\",\"0.0200\",\"0.0300\",\"0.0400\",\"0.0500\",\"0.0600\",\"0.0700\",\"0.0800\",\"0.0900\",\"0.1000\",\"0.1100\",\"0.1200\",\"0.1300\",\"0.1400\",\"0.1500\",\"0.1600\",\"0.1700\",\"0.1800\",\"0.1900\",\"0.2000\"],\"y\":[0.0,0.0,0.0,0.0,0.0,0.0,0.0,1.0,1.0,1.0,1.0,1.0,0.0,0.0,1.0,1.0,1.0,1.0,1.0,1.0],\"type\":\"scatter\",\"xaxis\":\"x8\",\"yaxis\":\"y8\"}],                        {\"template\":{\"data\":{\"histogram2dcontour\":[{\"type\":\"histogram2dcontour\",\"colorbar\":{\"outlinewidth\":0,\"ticks\":\"\"},\"colorscale\":[[0.0,\"#0d0887\"],[0.1111111111111111,\"#46039f\"],[0.2222222222222222,\"#7201a8\"],[0.3333333333333333,\"#9c179e\"],[0.4444444444444444,\"#bd3786\"],[0.5555555555555556,\"#d8576b\"],[0.6666666666666666,\"#ed7953\"],[0.7777777777777778,\"#fb9f3a\"],[0.8888888888888888,\"#fdca26\"],[1.0,\"#f0f921\"]]}],\"choropleth\":[{\"type\":\"choropleth\",\"colorbar\":{\"outlinewidth\":0,\"ticks\":\"\"}}],\"histogram2d\":[{\"type\":\"histogram2d\",\"colorbar\":{\"outlinewidth\":0,\"ticks\":\"\"},\"colorscale\":[[0.0,\"#0d0887\"],[0.1111111111111111,\"#46039f\"],[0.2222222222222222,\"#7201a8\"],[0.3333333333333333,\"#9c179e\"],[0.4444444444444444,\"#bd3786\"],[0.5555555555555556,\"#d8576b\"],[0.6666666666666666,\"#ed7953\"],[0.7777777777777778,\"#fb9f3a\"],[0.8888888888888888,\"#fdca26\"],[1.0,\"#f0f921\"]]}],\"heatmap\":[{\"type\":\"heatmap\",\"colorbar\":{\"outlinewidth\":0,\"ticks\":\"\"},\"colorscale\":[[0.0,\"#0d0887\"],[0.1111111111111111,\"#46039f\"],[0.2222222222222222,\"#7201a8\"],[0.3333333333333333,\"#9c179e\"],[0.4444444444444444,\"#bd3786\"],[0.5555555555555556,\"#d8576b\"],[0.6666666666666666,\"#ed7953\"],[0.7777777777777778,\"#fb9f3a\"],[0.8888888888888888,\"#fdca26\"],[1.0,\"#f0f921\"]]}],\"heatmapgl\":[{\"type\":\"heatmapgl\",\"colorbar\":{\"outlinewidth\":0,\"ticks\":\"\"},\"colorscale\":[[0.0,\"#0d0887\"],[0.1111111111111111,\"#46039f\"],[0.2222222222222222,\"#7201a8\"],[0.3333333333333333,\"#9c179e\"],[0.4444444444444444,\"#bd3786\"],[0.5555555555555556,\"#d8576b\"],[0.6666666666666666,\"#ed7953\"],[0.7777777777777778,\"#fb9f3a\"],[0.8888888888888888,\"#fdca26\"],[1.0,\"#f0f921\"]]}],\"contourcarpet\":[{\"type\":\"contourcarpet\",\"colorbar\":{\"outlinewidth\":0,\"ticks\":\"\"}}],\"contour\":[{\"type\":\"contour\",\"colorbar\":{\"outlinewidth\":0,\"ticks\":\"\"},\"colorscale\":[[0.0,\"#0d0887\"],[0.1111111111111111,\"#46039f\"],[0.2222222222222222,\"#7201a8\"],[0.3333333333333333,\"#9c179e\"],[0.4444444444444444,\"#bd3786\"],[0.5555555555555556,\"#d8576b\"],[0.6666666666666666,\"#ed7953\"],[0.7777777777777778,\"#fb9f3a\"],[0.8888888888888888,\"#fdca26\"],[1.0,\"#f0f921\"]]}],\"surface\":[{\"type\":\"surface\",\"colorbar\":{\"outlinewidth\":0,\"ticks\":\"\"},\"colorscale\":[[0.0,\"#0d0887\"],[0.1111111111111111,\"#46039f\"],[0.2222222222222222,\"#7201a8\"],[0.3333333333333333,\"#9c179e\"],[0.4444444444444444,\"#bd3786\"],[0.5555555555555556,\"#d8576b\"],[0.6666666666666666,\"#ed7953\"],[0.7777777777777778,\"#fb9f3a\"],[0.8888888888888888,\"#fdca26\"],[1.0,\"#f0f921\"]]}],\"mesh3d\":[{\"type\":\"mesh3d\",\"colorbar\":{\"outlinewidth\":0,\"ticks\":\"\"}}],\"scatter\":[{\"fillpattern\":{\"fillmode\":\"overlay\",\"size\":10,\"solidity\":0.2},\"type\":\"scatter\"}],\"parcoords\":[{\"type\":\"parcoords\",\"line\":{\"colorbar\":{\"outlinewidth\":0,\"ticks\":\"\"}}}],\"scatterpolargl\":[{\"type\":\"scatterpolargl\",\"marker\":{\"colorbar\":{\"outlinewidth\":0,\"ticks\":\"\"}}}],\"bar\":[{\"error_x\":{\"color\":\"#2a3f5f\"},\"error_y\":{\"color\":\"#2a3f5f\"},\"marker\":{\"line\":{\"color\":\"#E5ECF6\",\"width\":0.5},\"pattern\":{\"fillmode\":\"overlay\",\"size\":10,\"solidity\":0.2}},\"type\":\"bar\"}],\"scattergeo\":[{\"type\":\"scattergeo\",\"marker\":{\"colorbar\":{\"outlinewidth\":0,\"ticks\":\"\"}}}],\"scatterpolar\":[{\"type\":\"scatterpolar\",\"marker\":{\"colorbar\":{\"outlinewidth\":0,\"ticks\":\"\"}}}],\"histogram\":[{\"marker\":{\"pattern\":{\"fillmode\":\"overlay\",\"size\":10,\"solidity\":0.2}},\"type\":\"histogram\"}],\"scattergl\":[{\"type\":\"scattergl\",\"marker\":{\"colorbar\":{\"outlinewidth\":0,\"ticks\":\"\"}}}],\"scatter3d\":[{\"type\":\"scatter3d\",\"line\":{\"colorbar\":{\"outlinewidth\":0,\"ticks\":\"\"}},\"marker\":{\"colorbar\":{\"outlinewidth\":0,\"ticks\":\"\"}}}],\"scattermapbox\":[{\"type\":\"scattermapbox\",\"marker\":{\"colorbar\":{\"outlinewidth\":0,\"ticks\":\"\"}}}],\"scatterternary\":[{\"type\":\"scatterternary\",\"marker\":{\"colorbar\":{\"outlinewidth\":0,\"ticks\":\"\"}}}],\"scattercarpet\":[{\"type\":\"scattercarpet\",\"marker\":{\"colorbar\":{\"outlinewidth\":0,\"ticks\":\"\"}}}],\"carpet\":[{\"aaxis\":{\"endlinecolor\":\"#2a3f5f\",\"gridcolor\":\"white\",\"linecolor\":\"white\",\"minorgridcolor\":\"white\",\"startlinecolor\":\"#2a3f5f\"},\"baxis\":{\"endlinecolor\":\"#2a3f5f\",\"gridcolor\":\"white\",\"linecolor\":\"white\",\"minorgridcolor\":\"white\",\"startlinecolor\":\"#2a3f5f\"},\"type\":\"carpet\"}],\"table\":[{\"cells\":{\"fill\":{\"color\":\"#EBF0F8\"},\"line\":{\"color\":\"white\"}},\"header\":{\"fill\":{\"color\":\"#C8D4E3\"},\"line\":{\"color\":\"white\"}},\"type\":\"table\"}],\"barpolar\":[{\"marker\":{\"line\":{\"color\":\"#E5ECF6\",\"width\":0.5},\"pattern\":{\"fillmode\":\"overlay\",\"size\":10,\"solidity\":0.2}},\"type\":\"barpolar\"}],\"pie\":[{\"automargin\":true,\"type\":\"pie\"}]},\"layout\":{\"autotypenumbers\":\"strict\",\"colorway\":[\"#636efa\",\"#EF553B\",\"#00cc96\",\"#ab63fa\",\"#FFA15A\",\"#19d3f3\",\"#FF6692\",\"#B6E880\",\"#FF97FF\",\"#FECB52\"],\"font\":{\"color\":\"#2a3f5f\"},\"hovermode\":\"closest\",\"hoverlabel\":{\"align\":\"left\"},\"paper_bgcolor\":\"white\",\"plot_bgcolor\":\"#E5ECF6\",\"polar\":{\"bgcolor\":\"#E5ECF6\",\"angularaxis\":{\"gridcolor\":\"white\",\"linecolor\":\"white\",\"ticks\":\"\"},\"radialaxis\":{\"gridcolor\":\"white\",\"linecolor\":\"white\",\"ticks\":\"\"}},\"ternary\":{\"bgcolor\":\"#E5ECF6\",\"aaxis\":{\"gridcolor\":\"white\",\"linecolor\":\"white\",\"ticks\":\"\"},\"baxis\":{\"gridcolor\":\"white\",\"linecolor\":\"white\",\"ticks\":\"\"},\"caxis\":{\"gridcolor\":\"white\",\"linecolor\":\"white\",\"ticks\":\"\"}},\"coloraxis\":{\"colorbar\":{\"outlinewidth\":0,\"ticks\":\"\"}},\"colorscale\":{\"sequential\":[[0.0,\"#0d0887\"],[0.1111111111111111,\"#46039f\"],[0.2222222222222222,\"#7201a8\"],[0.3333333333333333,\"#9c179e\"],[0.4444444444444444,\"#bd3786\"],[0.5555555555555556,\"#d8576b\"],[0.6666666666666666,\"#ed7953\"],[0.7777777777777778,\"#fb9f3a\"],[0.8888888888888888,\"#fdca26\"],[1.0,\"#f0f921\"]],\"sequentialminus\":[[0.0,\"#0d0887\"],[0.1111111111111111,\"#46039f\"],[0.2222222222222222,\"#7201a8\"],[0.3333333333333333,\"#9c179e\"],[0.4444444444444444,\"#bd3786\"],[0.5555555555555556,\"#d8576b\"],[0.6666666666666666,\"#ed7953\"],[0.7777777777777778,\"#fb9f3a\"],[0.8888888888888888,\"#fdca26\"],[1.0,\"#f0f921\"]],\"diverging\":[[0,\"#8e0152\"],[0.1,\"#c51b7d\"],[0.2,\"#de77ae\"],[0.3,\"#f1b6da\"],[0.4,\"#fde0ef\"],[0.5,\"#f7f7f7\"],[0.6,\"#e6f5d0\"],[0.7,\"#b8e186\"],[0.8,\"#7fbc41\"],[0.9,\"#4d9221\"],[1,\"#276419\"]]},\"xaxis\":{\"gridcolor\":\"white\",\"linecolor\":\"white\",\"ticks\":\"\",\"title\":{\"standoff\":15},\"zerolinecolor\":\"white\",\"automargin\":true,\"zerolinewidth\":2},\"yaxis\":{\"gridcolor\":\"white\",\"linecolor\":\"white\",\"ticks\":\"\",\"title\":{\"standoff\":15},\"zerolinecolor\":\"white\",\"automargin\":true,\"zerolinewidth\":2},\"scene\":{\"xaxis\":{\"backgroundcolor\":\"#E5ECF6\",\"gridcolor\":\"white\",\"linecolor\":\"white\",\"showbackground\":true,\"ticks\":\"\",\"zerolinecolor\":\"white\",\"gridwidth\":2},\"yaxis\":{\"backgroundcolor\":\"#E5ECF6\",\"gridcolor\":\"white\",\"linecolor\":\"white\",\"showbackground\":true,\"ticks\":\"\",\"zerolinecolor\":\"white\",\"gridwidth\":2},\"zaxis\":{\"backgroundcolor\":\"#E5ECF6\",\"gridcolor\":\"white\",\"linecolor\":\"white\",\"showbackground\":true,\"ticks\":\"\",\"zerolinecolor\":\"white\",\"gridwidth\":2}},\"shapedefaults\":{\"line\":{\"color\":\"#2a3f5f\"}},\"annotationdefaults\":{\"arrowcolor\":\"#2a3f5f\",\"arrowhead\":0,\"arrowwidth\":1},\"geo\":{\"bgcolor\":\"white\",\"landcolor\":\"#E5ECF6\",\"subunitcolor\":\"white\",\"showland\":true,\"showlakes\":true,\"lakecolor\":\"white\"},\"title\":{\"x\":0.05},\"mapbox\":{\"style\":\"light\"}}},\"xaxis\":{\"anchor\":\"y\",\"domain\":[0.0,0.27999999999999997],\"tickangle\":45},\"yaxis\":{\"anchor\":\"x\",\"domain\":[0.7466666666666667,1.0]},\"xaxis2\":{\"anchor\":\"y2\",\"domain\":[0.36,0.6399999999999999],\"tickangle\":45},\"yaxis2\":{\"anchor\":\"x2\",\"domain\":[0.7466666666666667,1.0]},\"xaxis3\":{\"anchor\":\"y3\",\"domain\":[0.72,1.0],\"tickangle\":45},\"yaxis3\":{\"anchor\":\"x3\",\"domain\":[0.7466666666666667,1.0]},\"xaxis4\":{\"anchor\":\"y4\",\"domain\":[0.0,0.27999999999999997],\"tickangle\":45},\"yaxis4\":{\"anchor\":\"x4\",\"domain\":[0.37333333333333335,0.6266666666666667]},\"xaxis5\":{\"anchor\":\"y5\",\"domain\":[0.36,0.6399999999999999],\"tickangle\":45},\"yaxis5\":{\"anchor\":\"x5\",\"domain\":[0.37333333333333335,0.6266666666666667]},\"xaxis6\":{\"anchor\":\"y6\",\"domain\":[0.72,1.0],\"tickangle\":45},\"yaxis6\":{\"anchor\":\"x6\",\"domain\":[0.37333333333333335,0.6266666666666667]},\"xaxis7\":{\"anchor\":\"y7\",\"domain\":[0.0,0.27999999999999997],\"tickangle\":45},\"yaxis7\":{\"anchor\":\"x7\",\"domain\":[0.0,0.25333333333333335]},\"xaxis8\":{\"anchor\":\"y8\",\"domain\":[0.36,0.6399999999999999],\"tickangle\":45},\"yaxis8\":{\"anchor\":\"x8\",\"domain\":[0.0,0.25333333333333335]},\"xaxis9\":{\"anchor\":\"y9\",\"domain\":[0.72,1.0],\"tickangle\":45},\"yaxis9\":{\"anchor\":\"x9\",\"domain\":[0.0,0.25333333333333335]},\"annotations\":[{\"font\":{\"size\":16},\"showarrow\":false,\"text\":\"n_edges\",\"x\":0.13999999999999999,\"xanchor\":\"center\",\"xref\":\"paper\",\"y\":1.0,\"yanchor\":\"bottom\",\"yref\":\"paper\"},{\"font\":{\"size\":16},\"showarrow\":false,\"text\":\"n_colliders\",\"x\":0.49999999999999994,\"xanchor\":\"center\",\"xref\":\"paper\",\"y\":1.0,\"yanchor\":\"bottom\",\"yref\":\"paper\"},{\"font\":{\"size\":16},\"showarrow\":false,\"text\":\"n_root_nodes\",\"x\":0.86,\"xanchor\":\"center\",\"xref\":\"paper\",\"y\":1.0,\"yanchor\":\"bottom\",\"yref\":\"paper\"},{\"font\":{\"size\":16},\"showarrow\":false,\"text\":\"n_leaf_nodes\",\"x\":0.13999999999999999,\"xanchor\":\"center\",\"xref\":\"paper\",\"y\":0.6266666666666667,\"yanchor\":\"bottom\",\"yref\":\"paper\"},{\"font\":{\"size\":16},\"showarrow\":false,\"text\":\"n_isolated_nodes\",\"x\":0.49999999999999994,\"xanchor\":\"center\",\"xref\":\"paper\",\"y\":0.6266666666666667,\"yanchor\":\"bottom\",\"yref\":\"paper\"},{\"font\":{\"size\":16},\"showarrow\":false,\"text\":\"n_directed_arcs\",\"x\":0.86,\"xanchor\":\"center\",\"xref\":\"paper\",\"y\":0.6266666666666667,\"yanchor\":\"bottom\",\"yref\":\"paper\"},{\"font\":{\"size\":16},\"showarrow\":false,\"text\":\"n_undirected_arcs\",\"x\":0.13999999999999999,\"xanchor\":\"center\",\"xref\":\"paper\",\"y\":0.25333333333333335,\"yanchor\":\"bottom\",\"yref\":\"paper\"},{\"font\":{\"size\":16},\"showarrow\":false,\"text\":\"n_reversible_arcs\",\"x\":0.49999999999999994,\"xanchor\":\"center\",\"xref\":\"paper\",\"y\":0.25333333333333335,\"yanchor\":\"bottom\",\"yref\":\"paper\"}],\"margin\":{\"l\":20,\"r\":20,\"t\":80,\"b\":40},\"height\":750,\"width\":1200,\"title\":{\"text\":\"Descriptive Metrics\"},\"updatemenus\":[{\"active\":0,\"buttons\":[{\"args\":[{\"visible\":[true,false,false,false,true,false,false,false,true,false,false,false,true,false,false,false,true,false,false,false,true,false,false,false,true,false,false,false,true,false,false,false]},{\"title\":\"Descriptive Metrics \\u2014 Node: All\"}],\"label\":\"All\",\"method\":\"update\"},{\"args\":[{\"visible\":[false,true,false,false,false,true,false,false,false,true,false,false,false,true,false,false,false,true,false,false,false,true,false,false,false,true,false,false,false,true,false,false]},{\"title\":\"Descriptive Metrics \\u2014 Node: X_1\"}],\"label\":\"X_1\",\"method\":\"update\"},{\"args\":[{\"visible\":[false,false,true,false,false,false,true,false,false,false,true,false,false,false,true,false,false,false,true,false,false,false,true,false,false,false,true,false,false,false,true,false]},{\"title\":\"Descriptive Metrics \\u2014 Node: X_2\"}],\"label\":\"X_2\",\"method\":\"update\"},{\"args\":[{\"visible\":[false,false,false,true,false,false,false,true,false,false,false,true,false,false,false,true,false,false,false,true,false,false,false,true,false,false,false,true,false,false,false,true]},{\"title\":\"Descriptive Metrics \\u2014 Node: X_3\"}],\"label\":\"X_3\",\"method\":\"update\"}],\"direction\":\"down\",\"x\":1.01,\"xanchor\":\"left\",\"y\":1.15,\"yanchor\":\"top\"}]},                        {\"responsive\": true}                    ).then(function(){\n",
       "                            \n",
       "var gd = document.getElementById('f61bb334-fad6-4865-9911-d4dd9f8198b7');\n",
       "var x = new MutationObserver(function (mutations, observer) {{\n",
       "        var display = window.getComputedStyle(gd).display;\n",
       "        if (!display || display === 'none') {{\n",
       "            console.log([gd, 'removed!']);\n",
       "            Plotly.purge(gd);\n",
       "            observer.disconnect();\n",
       "        }}\n",
       "}});\n",
       "\n",
       "// Listen for the removal of the full notebook cells\n",
       "var notebookContainer = gd.closest('#notebook-container');\n",
       "if (notebookContainer) {{\n",
       "    x.observe(notebookContainer, {childList: true});\n",
       "}}\n",
       "\n",
       "// Listen for the clearing of the current output cell\n",
       "var outputEl = gd.closest('.output');\n",
       "if (outputEl) {{\n",
       "    x.observe(outputEl, {childList: true});\n",
       "}}\n",
       "\n",
       "                        })                };                });            </script>        </div>"
      ]
     },
     "metadata": {},
     "output_type": "display_data"
    }
   ],
   "source": [
    "compare_models_descriptive(list_of_dags=list_of_models, model_names=alphas, node_names=list(true_dag.nodes), mb_nodes=['X_1', 'X_2', 'X_3'])"
   ]
  },
  {
   "cell_type": "markdown",
   "id": "d23f1659-dc34-44e7-9495-760ffbd93143",
   "metadata": {},
   "source": [
    "As expected, when the alpha value is higher, the resulting network is more complex.  \n",
    "This is because constraint-based algorithms (such as the PC algorithm) rely on conditional independence tests to determine whether an edge should be present between two nodes.\n",
    "\n",
    "The alpha parameter controls the significance level of these statistical tests.\n",
    "\n",
    "- When the alpha value is higher, the test becomes less strict, meaning it is more likely to detect a dependency and retain an edge.  \n",
    "- When the alpha value is lower, the test becomes more conservative, meaning it is more likely to declare variables as conditionally independent and remove edges.\n",
    "\n",
    "So, as alpha increases, more edges tend to be included in the graph, resulting in greater complexity.  \n",
    "Conversely, lower alpha values typically lead to sparser networks.\n",
    "\n",
    "This aligns with what we observe in the results: larger alpha values produce denser graphs due to the algorithm being more permissive in detecting dependencies.  \n",
    "This is traceable in metrics such as number of edges, number of colliders and number of isolated nodes."
   ]
  },
  {
   "cell_type": "markdown",
   "id": "fa8e132a-c152-4fb0-8db9-0e3f220ad7d8",
   "metadata": {},
   "source": [
    "When we look at the Markov blanket of node `X_1`, for example (you can navigate using the dropdown), the picture is not entirely clear.  \n",
    "If we look at the number of edges, at alpha 0.07 there are 14 edges, but at alpha values of 0.14 and above, there are only 9 edges.\n",
    "\n",
    "Let’s examine this more closely using plots.\n"
   ]
  },
  {
   "cell_type": "code",
   "execution_count": 17,
   "id": "c450adce-fa0d-49a4-bde9-be742f879251",
   "metadata": {},
   "outputs": [
    {
     "data": {
      "text/html": [
       "\n",
       "        <div style=\"display: flex; gap: 60px;\">\n",
       "            <div style=\"text-align: center;\">\n",
       "                <h3>Markov blanket of node X_1 with alpha = 0.07</h3>\n",
       "                <?xml version=\"1.0\" encoding=\"UTF-8\" standalone=\"no\"?>\r\n",
       "<!DOCTYPE svg PUBLIC \"-//W3C//DTD SVG 1.1//EN\"\r\n",
       " \"http://www.w3.org/Graphics/SVG/1.1/DTD/svg11.dtd\">\r\n",
       "<!-- Generated by graphviz version 8.0.5 (20230430.1635)\r\n",
       " -->\r\n",
       "<!-- Title: Markov blanket of node X_1 with alpha = 0.07 Pages: 1 -->\r\n",
       "<svg width=\"411pt\" height=\"260pt\"\r\n",
       " viewBox=\"0.00 0.00 411.21 260.00\" xmlns=\"http://www.w3.org/2000/svg\" xmlns:xlink=\"http://www.w3.org/1999/xlink\">\r\n",
       "<g id=\"graph0\" class=\"graph\" transform=\"scale(1 1) rotate(0) translate(4 256)\">\r\n",
       "<title>Markov blanket of node X_1 with alpha = 0.07</title>\r\n",
       "<polygon fill=\"white\" stroke=\"none\" points=\"-4,4 -4,-256 407.21,-256 407.21,4 -4,4\"/>\r\n",
       "<!-- X_14 -->\r\n",
       "<g id=\"node1\" class=\"node\">\r\n",
       "<title>X_14</title>\r\n",
       "<ellipse fill=\"none\" stroke=\"black\" cx=\"62.1\" cy=\"-18\" rx=\"31.1\" ry=\"18\"/>\r\n",
       "<text text-anchor=\"middle\" x=\"62.1\" y=\"-12.57\" font-family=\"Times New Roman,serif\" font-size=\"14.00\">X_14</text>\r\n",
       "</g>\r\n",
       "<!-- X_20 -->\r\n",
       "<g id=\"node2\" class=\"node\">\r\n",
       "<title>X_20</title>\r\n",
       "<ellipse fill=\"none\" stroke=\"black\" cx=\"332.1\" cy=\"-162\" rx=\"31.1\" ry=\"18\"/>\r\n",
       "<text text-anchor=\"middle\" x=\"332.1\" y=\"-156.57\" font-family=\"Times New Roman,serif\" font-size=\"14.00\">X_20</text>\r\n",
       "</g>\r\n",
       "<!-- X_1 -->\r\n",
       "<g id=\"node9\" class=\"node\">\r\n",
       "<title>X_1</title>\r\n",
       "<ellipse fill=\"lightgreen\" stroke=\"black\" cx=\"138.1\" cy=\"-90\" rx=\"27\" ry=\"18\"/>\r\n",
       "<text text-anchor=\"middle\" x=\"138.1\" y=\"-84.58\" font-family=\"Times New Roman,serif\" font-size=\"14.00\">X_1</text>\r\n",
       "</g>\r\n",
       "<!-- X_20&#45;&gt;X_1 -->\r\n",
       "<g id=\"edge1\" class=\"edge\">\r\n",
       "<title>X_20&#45;&gt;X_1</title>\r\n",
       "<path fill=\"none\" stroke=\"crimson\" d=\"M304.63,-152.86C272.83,-143.19 219.07,-126.08 174.1,-108 172.43,-107.33 170.72,-106.61 169,-105.88\"/>\r\n",
       "<polygon fill=\"crimson\" stroke=\"crimson\" points=\"170.8,-102.39 160.24,-101.49 167.93,-108.78 170.8,-102.39\"/>\r\n",
       "</g>\r\n",
       "<!-- X_8 -->\r\n",
       "<g id=\"node3\" class=\"node\">\r\n",
       "<title>X_8</title>\r\n",
       "<ellipse fill=\"none\" stroke=\"black\" cx=\"138.1\" cy=\"-18\" rx=\"27\" ry=\"18\"/>\r\n",
       "<text text-anchor=\"middle\" x=\"138.1\" y=\"-12.57\" font-family=\"Times New Roman,serif\" font-size=\"14.00\">X_8</text>\r\n",
       "</g>\r\n",
       "<!-- X_28 -->\r\n",
       "<g id=\"node4\" class=\"node\">\r\n",
       "<title>X_28</title>\r\n",
       "<ellipse fill=\"none\" stroke=\"black\" cx=\"31.1\" cy=\"-162\" rx=\"31.1\" ry=\"18\"/>\r\n",
       "<text text-anchor=\"middle\" x=\"31.1\" y=\"-156.57\" font-family=\"Times New Roman,serif\" font-size=\"14.00\">X_28</text>\r\n",
       "</g>\r\n",
       "<!-- X_28&#45;&gt;X_14 -->\r\n",
       "<g id=\"edge2\" class=\"edge\">\r\n",
       "<title>X_28&#45;&gt;X_14</title>\r\n",
       "<path fill=\"none\" stroke=\"black\" d=\"M25.32,-144.14C19.98,-125.88 14.01,-96.15 22.1,-72 25.78,-61.01 32.74,-50.49 39.83,-41.75\"/>\r\n",
       "<polygon fill=\"black\" stroke=\"black\" points=\"42.94,-44.51 46.85,-34.66 37.65,-39.92 42.94,-44.51\"/>\r\n",
       "</g>\r\n",
       "<!-- X_34 -->\r\n",
       "<g id=\"node5\" class=\"node\">\r\n",
       "<title>X_34</title>\r\n",
       "<ellipse fill=\"none\" stroke=\"black\" cx=\"138.1\" cy=\"-162\" rx=\"31.1\" ry=\"18\"/>\r\n",
       "<text text-anchor=\"middle\" x=\"138.1\" y=\"-156.57\" font-family=\"Times New Roman,serif\" font-size=\"14.00\">X_34</text>\r\n",
       "</g>\r\n",
       "<!-- X_34&#45;&gt;X_1 -->\r\n",
       "<g id=\"edge3\" class=\"edge\">\r\n",
       "<title>X_34&#45;&gt;X_1</title>\r\n",
       "<path fill=\"none\" stroke=\"crimson\" d=\"M138.1,-143.7C138.1,-136.24 138.1,-127.32 138.1,-118.97\"/>\r\n",
       "<polygon fill=\"crimson\" stroke=\"crimson\" points=\"141.6,-119.1 138.1,-109.1 134.6,-119.1 141.6,-119.1\"/>\r\n",
       "</g>\r\n",
       "<!-- X_24 -->\r\n",
       "<g id=\"node6\" class=\"node\">\r\n",
       "<title>X_24</title>\r\n",
       "<ellipse fill=\"none\" stroke=\"black\" cx=\"62.1\" cy=\"-90\" rx=\"31.1\" ry=\"18\"/>\r\n",
       "<text text-anchor=\"middle\" x=\"62.1\" y=\"-84.58\" font-family=\"Times New Roman,serif\" font-size=\"14.00\">X_24</text>\r\n",
       "</g>\r\n",
       "<!-- X_24&#45;&gt;X_14 -->\r\n",
       "<g id=\"edge4\" class=\"edge\">\r\n",
       "<title>X_24&#45;&gt;X_14</title>\r\n",
       "<path fill=\"none\" stroke=\"black\" d=\"M62.1,-71.7C62.1,-64.24 62.1,-55.32 62.1,-46.97\"/>\r\n",
       "<polygon fill=\"black\" stroke=\"black\" points=\"65.6,-47.1 62.1,-37.1 58.6,-47.1 65.6,-47.1\"/>\r\n",
       "</g>\r\n",
       "<!-- X_24&#45;&gt;X_8 -->\r\n",
       "<g id=\"edge5\" class=\"edge\">\r\n",
       "<title>X_24&#45;&gt;X_8</title>\r\n",
       "<path fill=\"none\" stroke=\"crimson\" d=\"M78.22,-74.15C88.91,-64.31 103.11,-51.23 115,-40.28\"/>\r\n",
       "<polygon fill=\"crimson\" stroke=\"crimson\" points=\"116.8,-43.46 121.79,-34.11 112.06,-38.31 116.8,-43.46\"/>\r\n",
       "</g>\r\n",
       "<!-- X_21 -->\r\n",
       "<g id=\"node7\" class=\"node\">\r\n",
       "<title>X_21</title>\r\n",
       "<ellipse fill=\"none\" stroke=\"black\" cx=\"372.1\" cy=\"-234\" rx=\"31.1\" ry=\"18\"/>\r\n",
       "<text text-anchor=\"middle\" x=\"372.1\" y=\"-228.57\" font-family=\"Times New Roman,serif\" font-size=\"14.00\">X_21</text>\r\n",
       "</g>\r\n",
       "<!-- X_21&#45;&gt;X_20 -->\r\n",
       "<g id=\"edge7\" class=\"edge\">\r\n",
       "<title>X_21&#45;&gt;X_20</title>\r\n",
       "<path fill=\"none\" stroke=\"black\" d=\"M362.62,-216.41C357.94,-208.22 352.18,-198.14 346.94,-188.95\"/>\r\n",
       "<polygon fill=\"black\" stroke=\"black\" points=\"349.52,-187.42 341.52,-180.47 343.44,-190.89 349.52,-187.42\"/>\r\n",
       "</g>\r\n",
       "<!-- X_32 -->\r\n",
       "<g id=\"node8\" class=\"node\">\r\n",
       "<title>X_32</title>\r\n",
       "<ellipse fill=\"none\" stroke=\"black\" cx=\"273.1\" cy=\"-18\" rx=\"31.1\" ry=\"18\"/>\r\n",
       "<text text-anchor=\"middle\" x=\"273.1\" y=\"-12.57\" font-family=\"Times New Roman,serif\" font-size=\"14.00\">X_32</text>\r\n",
       "</g>\r\n",
       "<!-- X_21&#45;&gt;X_32 -->\r\n",
       "<g id=\"edge6\" class=\"edge\">\r\n",
       "<title>X_21&#45;&gt;X_32</title>\r\n",
       "<path fill=\"none\" stroke=\"black\" d=\"M375.38,-215.71C378.12,-197.36 380.38,-167.79 372.1,-144 357.53,-102.14 322.46,-63.74 298.23,-40.85\"/>\r\n",
       "<polygon fill=\"black\" stroke=\"black\" points=\"300.89,-38.62 291.16,-34.42 296.15,-43.77 300.89,-38.62\"/>\r\n",
       "</g>\r\n",
       "<!-- X_1&#45;&gt;X_14 -->\r\n",
       "<g id=\"edge8\" class=\"edge\">\r\n",
       "<title>X_1&#45;&gt;X_14</title>\r\n",
       "<path fill=\"none\" stroke=\"black\" d=\"M122.72,-74.83C112.22,-65.16 98.1,-52.15 86.12,-41.12\"/>\r\n",
       "<polygon fill=\"black\" stroke=\"black\" points=\"88.97,-39.07 79.25,-34.87 84.23,-44.22 88.97,-39.07\"/>\r\n",
       "</g>\r\n",
       "<!-- X_1&#45;&gt;X_8 -->\r\n",
       "<g id=\"edge9\" class=\"edge\">\r\n",
       "<title>X_1&#45;&gt;X_8</title>\r\n",
       "<path fill=\"none\" stroke=\"crimson\" d=\"M138.1,-71.7C138.1,-64.24 138.1,-55.32 138.1,-46.97\"/>\r\n",
       "<polygon fill=\"crimson\" stroke=\"crimson\" points=\"141.6,-47.1 138.1,-37.1 134.6,-47.1 141.6,-47.1\"/>\r\n",
       "</g>\r\n",
       "<!-- X_1&#45;&gt;X_32 -->\r\n",
       "<g id=\"edge10\" class=\"edge\">\r\n",
       "<title>X_1&#45;&gt;X_32</title>\r\n",
       "<path fill=\"none\" stroke=\"crimson\" d=\"M158.9,-78.22C180.84,-66.84 215.69,-48.77 241.13,-35.58\"/>\r\n",
       "<polygon fill=\"crimson\" stroke=\"crimson\" points=\"242.44,-38.32 249.71,-30.61 239.22,-32.11 242.44,-38.32\"/>\r\n",
       "</g>\r\n",
       "<!-- X_16 -->\r\n",
       "<g id=\"node10\" class=\"node\">\r\n",
       "<title>X_16</title>\r\n",
       "<ellipse fill=\"none\" stroke=\"black\" cx=\"214.1\" cy=\"-90\" rx=\"31.1\" ry=\"18\"/>\r\n",
       "<text text-anchor=\"middle\" x=\"214.1\" y=\"-84.58\" font-family=\"Times New Roman,serif\" font-size=\"14.00\">X_16</text>\r\n",
       "</g>\r\n",
       "<!-- X_16&#45;&gt;X_8 -->\r\n",
       "<g id=\"edge11\" class=\"edge\">\r\n",
       "<title>X_16&#45;&gt;X_8</title>\r\n",
       "<path fill=\"none\" stroke=\"crimson\" d=\"M197.99,-74.15C187.29,-64.31 173.1,-51.23 161.21,-40.28\"/>\r\n",
       "<polygon fill=\"crimson\" stroke=\"crimson\" points=\"164.15,-38.31 154.42,-34.11 159.41,-43.46 164.15,-38.31\"/>\r\n",
       "</g>\r\n",
       "<!-- X_27 -->\r\n",
       "<g id=\"node11\" class=\"node\">\r\n",
       "<title>X_27</title>\r\n",
       "<ellipse fill=\"none\" stroke=\"black\" cx=\"273.1\" cy=\"-234\" rx=\"31.1\" ry=\"18\"/>\r\n",
       "<text text-anchor=\"middle\" x=\"273.1\" y=\"-228.57\" font-family=\"Times New Roman,serif\" font-size=\"14.00\">X_27</text>\r\n",
       "</g>\r\n",
       "<!-- X_27&#45;&gt;X_20 -->\r\n",
       "<g id=\"edge14\" class=\"edge\">\r\n",
       "<title>X_27&#45;&gt;X_20</title>\r\n",
       "<path fill=\"none\" stroke=\"crimson\" d=\"M286.2,-217.46C293.84,-208.4 303.63,-196.79 312.2,-186.61\"/>\r\n",
       "<polygon fill=\"crimson\" stroke=\"crimson\" points=\"315.28,-189.39 319.05,-179.49 309.93,-184.88 315.28,-189.39\"/>\r\n",
       "</g>\r\n",
       "<!-- X_27&#45;&gt;X_28 -->\r\n",
       "<g id=\"edge13\" class=\"edge\">\r\n",
       "<title>X_27&#45;&gt;X_28</title>\r\n",
       "<path fill=\"none\" stroke=\"black\" d=\"M245.81,-225.11C202.6,-212.61 118.31,-188.23 69.18,-174.01\"/>\r\n",
       "<polygon fill=\"black\" stroke=\"black\" points=\"70.24,-170.39 59.67,-170.97 68.3,-177.11 70.24,-170.39\"/>\r\n",
       "</g>\r\n",
       "<!-- X_27&#45;&gt;X_32 -->\r\n",
       "<g id=\"edge12\" class=\"edge\">\r\n",
       "<title>X_27&#45;&gt;X_32</title>\r\n",
       "<path fill=\"none\" stroke=\"crimson\" d=\"M273.1,-215.85C273.1,-178.99 273.1,-91.92 273.1,-46.96\"/>\r\n",
       "<polygon fill=\"crimson\" stroke=\"crimson\" points=\"276.6,-47.23 273.1,-37.23 269.6,-47.23 276.6,-47.23\"/>\r\n",
       "</g>\r\n",
       "</g>\r\n",
       "</svg>\r\n",
       "\n",
       "            </div>\n",
       "            <div style=\"text-align: center;\">\n",
       "                <h3>Markov blanket of node X_1 with alpha = 0.14</h3>\n",
       "                <?xml version=\"1.0\" encoding=\"UTF-8\" standalone=\"no\"?>\r\n",
       "<!DOCTYPE svg PUBLIC \"-//W3C//DTD SVG 1.1//EN\"\r\n",
       " \"http://www.w3.org/Graphics/SVG/1.1/DTD/svg11.dtd\">\r\n",
       "<!-- Generated by graphviz version 8.0.5 (20230430.1635)\r\n",
       " -->\r\n",
       "<!-- Title: Markov blanket of node X_1 with alpha = 0.14 Pages: 1 -->\r\n",
       "<svg width=\"335pt\" height=\"260pt\"\r\n",
       " viewBox=\"0.00 0.00 335.21 260.00\" xmlns=\"http://www.w3.org/2000/svg\" xmlns:xlink=\"http://www.w3.org/1999/xlink\">\r\n",
       "<g id=\"graph0\" class=\"graph\" transform=\"scale(1 1) rotate(0) translate(4 256)\">\r\n",
       "<title>Markov blanket of node X_1 with alpha = 0.14</title>\r\n",
       "<polygon fill=\"white\" stroke=\"none\" points=\"-4,4 -4,-256 331.21,-256 331.21,4 -4,4\"/>\r\n",
       "<!-- X_20 -->\r\n",
       "<g id=\"node1\" class=\"node\">\r\n",
       "<title>X_20</title>\r\n",
       "<ellipse fill=\"none\" stroke=\"black\" cx=\"187.1\" cy=\"-162\" rx=\"31.1\" ry=\"18\"/>\r\n",
       "<text text-anchor=\"middle\" x=\"187.1\" y=\"-156.57\" font-family=\"Times New Roman,serif\" font-size=\"14.00\">X_20</text>\r\n",
       "</g>\r\n",
       "<!-- X_1 -->\r\n",
       "<g id=\"node5\" class=\"node\">\r\n",
       "<title>X_1</title>\r\n",
       "<ellipse fill=\"lightgreen\" stroke=\"black\" cx=\"267.1\" cy=\"-90\" rx=\"27\" ry=\"18\"/>\r\n",
       "<text text-anchor=\"middle\" x=\"267.1\" y=\"-84.58\" font-family=\"Times New Roman,serif\" font-size=\"14.00\">X_1</text>\r\n",
       "</g>\r\n",
       "<!-- X_20&#45;&gt;X_1 -->\r\n",
       "<g id=\"edge1\" class=\"edge\">\r\n",
       "<title>X_20&#45;&gt;X_1</title>\r\n",
       "<path fill=\"none\" stroke=\"crimson\" d=\"M203.68,-146.5C215.09,-136.51 230.43,-123.09 243.17,-111.94\"/>\r\n",
       "<polygon fill=\"crimson\" stroke=\"crimson\" points=\"244.87,-114.23 250.1,-105.01 240.26,-108.96 244.87,-114.23\"/>\r\n",
       "</g>\r\n",
       "<!-- X_8 -->\r\n",
       "<g id=\"node2\" class=\"node\">\r\n",
       "<title>X_8</title>\r\n",
       "<ellipse fill=\"none\" stroke=\"black\" cx=\"151.1\" cy=\"-18\" rx=\"27\" ry=\"18\"/>\r\n",
       "<text text-anchor=\"middle\" x=\"151.1\" y=\"-12.57\" font-family=\"Times New Roman,serif\" font-size=\"14.00\">X_8</text>\r\n",
       "</g>\r\n",
       "<!-- X_34 -->\r\n",
       "<g id=\"node3\" class=\"node\">\r\n",
       "<title>X_34</title>\r\n",
       "<ellipse fill=\"none\" stroke=\"black\" cx=\"267.1\" cy=\"-162\" rx=\"31.1\" ry=\"18\"/>\r\n",
       "<text text-anchor=\"middle\" x=\"267.1\" y=\"-156.57\" font-family=\"Times New Roman,serif\" font-size=\"14.00\">X_34</text>\r\n",
       "</g>\r\n",
       "<!-- X_34&#45;&gt;X_1 -->\r\n",
       "<g id=\"edge2\" class=\"edge\">\r\n",
       "<title>X_34&#45;&gt;X_1</title>\r\n",
       "<path fill=\"none\" stroke=\"crimson\" d=\"M267.1,-143.7C267.1,-136.24 267.1,-127.32 267.1,-118.97\"/>\r\n",
       "<polygon fill=\"crimson\" stroke=\"crimson\" points=\"270.6,-119.1 267.1,-109.1 263.6,-119.1 270.6,-119.1\"/>\r\n",
       "</g>\r\n",
       "<!-- X_24 -->\r\n",
       "<g id=\"node4\" class=\"node\">\r\n",
       "<title>X_24</title>\r\n",
       "<ellipse fill=\"none\" stroke=\"black\" cx=\"31.1\" cy=\"-90\" rx=\"31.1\" ry=\"18\"/>\r\n",
       "<text text-anchor=\"middle\" x=\"31.1\" y=\"-84.58\" font-family=\"Times New Roman,serif\" font-size=\"14.00\">X_24</text>\r\n",
       "</g>\r\n",
       "<!-- X_24&#45;&gt;X_8 -->\r\n",
       "<g id=\"edge3\" class=\"edge\">\r\n",
       "<title>X_24&#45;&gt;X_8</title>\r\n",
       "<path fill=\"none\" stroke=\"crimson\" d=\"M52.56,-76.49C71.97,-65.16 100.71,-48.4 122.15,-35.89\"/>\r\n",
       "<polygon fill=\"crimson\" stroke=\"crimson\" points=\"123.55,-38.54 130.43,-30.48 120.03,-32.49 123.55,-38.54\"/>\r\n",
       "</g>\r\n",
       "<!-- X_1&#45;&gt;X_8 -->\r\n",
       "<g id=\"edge4\" class=\"edge\">\r\n",
       "<title>X_1&#45;&gt;X_8</title>\r\n",
       "<path fill=\"none\" stroke=\"crimson\" d=\"M247.43,-77.13C228.9,-65.95 200.93,-49.07 179.9,-36.38\"/>\r\n",
       "<polygon fill=\"crimson\" stroke=\"crimson\" points=\"181.86,-32.87 171.49,-30.7 178.24,-38.86 181.86,-32.87\"/>\r\n",
       "</g>\r\n",
       "<!-- X_32 -->\r\n",
       "<g id=\"node6\" class=\"node\">\r\n",
       "<title>X_32</title>\r\n",
       "<ellipse fill=\"none\" stroke=\"black\" cx=\"296.1\" cy=\"-18\" rx=\"31.1\" ry=\"18\"/>\r\n",
       "<text text-anchor=\"middle\" x=\"296.1\" y=\"-12.57\" font-family=\"Times New Roman,serif\" font-size=\"14.00\">X_32</text>\r\n",
       "</g>\r\n",
       "<!-- X_1&#45;&gt;X_32 -->\r\n",
       "<g id=\"edge5\" class=\"edge\">\r\n",
       "<title>X_1&#45;&gt;X_32</title>\r\n",
       "<path fill=\"none\" stroke=\"crimson\" d=\"M273.98,-72.41C277.25,-64.51 281.25,-54.85 284.95,-45.94\"/>\r\n",
       "<polygon fill=\"crimson\" stroke=\"crimson\" points=\"288.49,-47.53 289.08,-36.96 282.02,-44.86 288.49,-47.53\"/>\r\n",
       "</g>\r\n",
       "<!-- X_39 -->\r\n",
       "<g id=\"node7\" class=\"node\">\r\n",
       "<title>X_39</title>\r\n",
       "<ellipse fill=\"none\" stroke=\"black\" cx=\"111.1\" cy=\"-90\" rx=\"31.1\" ry=\"18\"/>\r\n",
       "<text text-anchor=\"middle\" x=\"111.1\" y=\"-84.58\" font-family=\"Times New Roman,serif\" font-size=\"14.00\">X_39</text>\r\n",
       "</g>\r\n",
       "<!-- X_39&#45;&gt;X_8 -->\r\n",
       "<g id=\"edge6\" class=\"edge\">\r\n",
       "<title>X_39&#45;&gt;X_8</title>\r\n",
       "<path fill=\"none\" stroke=\"black\" d=\"M120.58,-72.41C125.38,-64.01 131.32,-53.63 136.67,-44.26\"/>\r\n",
       "<polygon fill=\"black\" stroke=\"black\" points=\"140.05,-46.41 141.97,-35.99 133.97,-42.93 140.05,-46.41\"/>\r\n",
       "</g>\r\n",
       "<!-- X_16 -->\r\n",
       "<g id=\"node8\" class=\"node\">\r\n",
       "<title>X_16</title>\r\n",
       "<ellipse fill=\"none\" stroke=\"black\" cx=\"191.1\" cy=\"-90\" rx=\"31.1\" ry=\"18\"/>\r\n",
       "<text text-anchor=\"middle\" x=\"191.1\" y=\"-84.58\" font-family=\"Times New Roman,serif\" font-size=\"14.00\">X_16</text>\r\n",
       "</g>\r\n",
       "<!-- X_16&#45;&gt;X_8 -->\r\n",
       "<g id=\"edge7\" class=\"edge\">\r\n",
       "<title>X_16&#45;&gt;X_8</title>\r\n",
       "<path fill=\"none\" stroke=\"crimson\" d=\"M181.62,-72.41C176.82,-64.01 170.89,-53.63 165.54,-44.26\"/>\r\n",
       "<polygon fill=\"crimson\" stroke=\"crimson\" points=\"168.24,-42.93 160.24,-35.99 162.16,-46.41 168.24,-42.93\"/>\r\n",
       "</g>\r\n",
       "<!-- X_27 -->\r\n",
       "<g id=\"node9\" class=\"node\">\r\n",
       "<title>X_27</title>\r\n",
       "<ellipse fill=\"none\" stroke=\"black\" cx=\"256.1\" cy=\"-234\" rx=\"31.1\" ry=\"18\"/>\r\n",
       "<text text-anchor=\"middle\" x=\"256.1\" y=\"-228.57\" font-family=\"Times New Roman,serif\" font-size=\"14.00\">X_27</text>\r\n",
       "</g>\r\n",
       "<!-- X_27&#45;&gt;X_20 -->\r\n",
       "<g id=\"edge9\" class=\"edge\">\r\n",
       "<title>X_27&#45;&gt;X_20</title>\r\n",
       "<path fill=\"none\" stroke=\"crimson\" d=\"M241.13,-217.81C231.91,-208.45 219.91,-196.28 209.56,-185.79\"/>\r\n",
       "<polygon fill=\"crimson\" stroke=\"crimson\" points=\"212.56,-183.82 203.05,-179.16 207.57,-188.74 212.56,-183.82\"/>\r\n",
       "</g>\r\n",
       "<!-- X_27&#45;&gt;X_32 -->\r\n",
       "<g id=\"edge8\" class=\"edge\">\r\n",
       "<title>X_27&#45;&gt;X_32</title>\r\n",
       "<path fill=\"none\" stroke=\"crimson\" d=\"M275.2,-219.39C286.83,-209.85 300.66,-195.99 307.1,-180 324.98,-135.64 314.13,-78.85 304.91,-45.94\"/>\r\n",
       "<polygon fill=\"crimson\" stroke=\"crimson\" points=\"308.08,-45.34 301.89,-36.74 301.37,-47.32 308.08,-45.34\"/>\r\n",
       "</g>\r\n",
       "</g>\r\n",
       "</svg>\r\n",
       "\n",
       "            </div>\n",
       "        </div>\n",
       "        "
      ],
      "text/plain": [
       "<IPython.core.display.HTML object>"
      ]
     },
     "metadata": {},
     "output_type": "display_data"
    }
   ],
   "source": [
    "bb = BNMetrics(list_of_models[6], list_of_models[13], node_names=list(true_dag.nodes), mb_nodes=['X_1'])\n",
    "bb.compare_two_bn(nodes=['X_1'], name1=f'Markov blanket of node X_1 with alpha = {alphas[6]:.2f}', name2=f'Markov blanket of node X_1 with alpha = {alphas[13]:.2f}')"
   ]
  },
  {
   "cell_type": "markdown",
   "id": "abaffe5b-9a1f-4044-ac32-6ebae022427a",
   "metadata": {},
   "source": [
    "Indeed, from the visualization, we can see that for the Markov blanket of node `X_1`, lower values of alpha result in a higher number of edges.  \n",
    "This is very interesting and somewhat counterintuitive. Additional analysis is required to better understand this phenomenon."
   ]
  },
  {
   "cell_type": "markdown",
   "id": "541ef4ad-f1e3-4bfb-929e-aaa2988f4a21",
   "metadata": {},
   "source": [
    "### Similarity Patterns and Model Stability\n",
    "\n",
    "The `compare_models_comparative` function produces a heatmap representing the comparison of models with each other.  \n",
    "The function takes the following arguments:  \n",
    "- A list of models  \n",
    "- A list of model names  \n",
    "- A list of node names  \n",
    "- A metric to analyze  \n",
    "- A list of Markov blankets to explore, in addition to the default full structure\n",
    "\n",
    "Below is the output of the function for the full structure and the nodes `X_1`, `X_2`, and `X_3`.  \n",
    "We are focusing on the F1 score, which is the harmonic mean of precision and recall.\n"
   ]
  },
  {
   "cell_type": "code",
   "execution_count": 22,
   "id": "10d87189-801e-4e9a-9067-cf5051c682d9",
   "metadata": {},
   "outputs": [
    {
     "data": {
      "application/vnd.plotly.v1+json": {
       "config": {
        "plotlyServerURL": "https://plotly.com"
       },
       "data": [
        {
         "colorbar": {
          "title": {
           "text": "f1_score"
          }
         },
         "colorscale": [
          [
           0,
           "rgb(247,251,255)"
          ],
          [
           0.125,
           "rgb(222,235,247)"
          ],
          [
           0.25,
           "rgb(198,219,239)"
          ],
          [
           0.375,
           "rgb(158,202,225)"
          ],
          [
           0.5,
           "rgb(107,174,214)"
          ],
          [
           0.625,
           "rgb(66,146,198)"
          ],
          [
           0.75,
           "rgb(33,113,181)"
          ],
          [
           0.875,
           "rgb(8,81,156)"
          ],
          [
           1,
           "rgb(8,48,107)"
          ]
         ],
         "text": [
          [
           "1.00",
           "0.94",
           "0.94",
           "0.94",
           "0.95",
           "0.94",
           "0.92",
           "0.86",
           "0.84",
           "0.82",
           "0.82",
           "0.87",
           "0.79",
           "0.77",
           "0.79",
           "0.80",
           "0.79",
           "0.77",
           "0.77",
           "0.77"
          ],
          [
           "0.94",
           "1.00",
           "0.96",
           "0.95",
           "0.91",
           "0.92",
           "0.90",
           "0.84",
           "0.82",
           "0.80",
           "0.81",
           "0.85",
           "0.77",
           "0.75",
           "0.78",
           "0.78",
           "0.77",
           "0.76",
           "0.76",
           "0.75"
          ],
          [
           "0.94",
           "0.96",
           "1.00",
           "0.99",
           "0.93",
           "0.90",
           "0.88",
           "0.82",
           "0.81",
           "0.78",
           "0.79",
           "0.83",
           "0.75",
           "0.73",
           "0.76",
           "0.77",
           "0.75",
           "0.74",
           "0.74",
           "0.73"
          ],
          [
           "0.94",
           "0.95",
           "0.99",
           "1.00",
           "0.94",
           "0.91",
           "0.89",
           "0.83",
           "0.82",
           "0.79",
           "0.80",
           "0.84",
           "0.77",
           "0.74",
           "0.77",
           "0.78",
           "0.76",
           "0.75",
           "0.75",
           "0.74"
          ],
          [
           "0.95",
           "0.91",
           "0.93",
           "0.94",
           "1.00",
           "0.97",
           "0.96",
           "0.90",
           "0.88",
           "0.85",
           "0.81",
           "0.85",
           "0.78",
           "0.75",
           "0.78",
           "0.79",
           "0.77",
           "0.76",
           "0.76",
           "0.75"
          ],
          [
           "0.94",
           "0.92",
           "0.90",
           "0.91",
           "0.97",
           "1.00",
           "0.98",
           "0.92",
           "0.91",
           "0.88",
           "0.84",
           "0.88",
           "0.80",
           "0.78",
           "0.81",
           "0.81",
           "0.80",
           "0.79",
           "0.79",
           "0.78"
          ],
          [
           "0.92",
           "0.90",
           "0.88",
           "0.89",
           "0.96",
           "0.98",
           "1.00",
           "0.94",
           "0.92",
           "0.88",
           "0.84",
           "0.88",
           "0.81",
           "0.77",
           "0.79",
           "0.80",
           "0.79",
           "0.77",
           "0.77",
           "0.77"
          ],
          [
           "0.86",
           "0.84",
           "0.82",
           "0.83",
           "0.90",
           "0.92",
           "0.94",
           "1.00",
           "0.98",
           "0.94",
           "0.90",
           "0.89",
           "0.83",
           "0.79",
           "0.80",
           "0.81",
           "0.80",
           "0.78",
           "0.78",
           "0.78"
          ],
          [
           "0.84",
           "0.82",
           "0.81",
           "0.82",
           "0.88",
           "0.91",
           "0.92",
           "0.98",
           "1.00",
           "0.96",
           "0.92",
           "0.91",
           "0.85",
           "0.81",
           "0.82",
           "0.83",
           "0.81",
           "0.80",
           "0.80",
           "0.79"
          ],
          [
           "0.82",
           "0.80",
           "0.78",
           "0.79",
           "0.85",
           "0.88",
           "0.88",
           "0.94",
           "0.96",
           "1.00",
           "0.96",
           "0.95",
           "0.89",
           "0.85",
           "0.86",
           "0.87",
           "0.85",
           "0.84",
           "0.84",
           "0.83"
          ],
          [
           "0.82",
           "0.81",
           "0.79",
           "0.80",
           "0.81",
           "0.84",
           "0.84",
           "0.90",
           "0.92",
           "0.96",
           "1.00",
           "0.96",
           "0.90",
           "0.86",
           "0.87",
           "0.88",
           "0.86",
           "0.85",
           "0.85",
           "0.84"
          ],
          [
           "0.87",
           "0.85",
           "0.83",
           "0.84",
           "0.85",
           "0.88",
           "0.88",
           "0.89",
           "0.91",
           "0.95",
           "0.96",
           "1.00",
           "0.91",
           "0.87",
           "0.91",
           "0.92",
           "0.90",
           "0.89",
           "0.89",
           "0.88"
          ],
          [
           "0.79",
           "0.77",
           "0.75",
           "0.77",
           "0.78",
           "0.80",
           "0.81",
           "0.83",
           "0.85",
           "0.89",
           "0.90",
           "0.91",
           "1.00",
           "0.96",
           "0.89",
           "0.89",
           "0.88",
           "0.86",
           "0.86",
           "0.86"
          ],
          [
           "0.77",
           "0.75",
           "0.73",
           "0.74",
           "0.75",
           "0.78",
           "0.77",
           "0.79",
           "0.81",
           "0.85",
           "0.86",
           "0.87",
           "0.96",
           "1.00",
           "0.93",
           "0.93",
           "0.92",
           "0.90",
           "0.90",
           "0.90"
          ],
          [
           "0.79",
           "0.78",
           "0.76",
           "0.77",
           "0.78",
           "0.81",
           "0.79",
           "0.80",
           "0.82",
           "0.86",
           "0.87",
           "0.91",
           "0.89",
           "0.93",
           "1.00",
           "0.99",
           "0.98",
           "0.98",
           "0.96",
           "0.95"
          ],
          [
           "0.80",
           "0.78",
           "0.77",
           "0.78",
           "0.79",
           "0.81",
           "0.80",
           "0.81",
           "0.83",
           "0.87",
           "0.88",
           "0.92",
           "0.89",
           "0.93",
           "0.99",
           "1.00",
           "0.98",
           "0.97",
           "0.97",
           "0.96"
          ],
          [
           "0.79",
           "0.77",
           "0.75",
           "0.76",
           "0.77",
           "0.80",
           "0.79",
           "0.80",
           "0.81",
           "0.85",
           "0.86",
           "0.90",
           "0.88",
           "0.92",
           "0.98",
           "0.98",
           "1.00",
           "0.98",
           "0.98",
           "0.98"
          ],
          [
           "0.77",
           "0.76",
           "0.74",
           "0.75",
           "0.76",
           "0.79",
           "0.77",
           "0.78",
           "0.80",
           "0.84",
           "0.85",
           "0.89",
           "0.86",
           "0.90",
           "0.98",
           "0.97",
           "0.98",
           "1.00",
           "0.98",
           "0.98"
          ],
          [
           "0.77",
           "0.76",
           "0.74",
           "0.75",
           "0.76",
           "0.79",
           "0.77",
           "0.78",
           "0.80",
           "0.84",
           "0.85",
           "0.89",
           "0.86",
           "0.90",
           "0.96",
           "0.97",
           "0.98",
           "0.98",
           "1.00",
           "0.99"
          ],
          [
           "0.77",
           "0.75",
           "0.73",
           "0.74",
           "0.75",
           "0.78",
           "0.77",
           "0.78",
           "0.79",
           "0.83",
           "0.84",
           "0.88",
           "0.86",
           "0.90",
           "0.95",
           "0.96",
           "0.98",
           "0.98",
           "0.99",
           "1.00"
          ]
         ],
         "textfont": {
          "size": 8
         },
         "texttemplate": "%{text}",
         "type": "heatmap",
         "visible": false,
         "x": [
          "0.0100",
          "0.0200",
          "0.0300",
          "0.0400",
          "0.0500",
          "0.0600",
          "0.0700",
          "0.0800",
          "0.0900",
          "0.1000",
          "0.1100",
          "0.1200",
          "0.1300",
          "0.1400",
          "0.1500",
          "0.1600",
          "0.1700",
          "0.1800",
          "0.1900",
          "0.2000"
         ],
         "y": [
          "0.0100",
          "0.0200",
          "0.0300",
          "0.0400",
          "0.0500",
          "0.0600",
          "0.0700",
          "0.0800",
          "0.0900",
          "0.1000",
          "0.1100",
          "0.1200",
          "0.1300",
          "0.1400",
          "0.1500",
          "0.1600",
          "0.1700",
          "0.1800",
          "0.1900",
          "0.2000"
         ],
         "z": [
          [
           1,
           0.9444444444444444,
           0.9444444444444444,
           0.9357798165137615,
           0.9454545454545454,
           0.9369369369369369,
           0.9203539823008849,
           0.8596491228070176,
           0.8421052631578948,
           0.817391304347826,
           0.8245614035087719,
           0.8672566371681415,
           0.7894736842105262,
           0.7652173913043478,
           0.7931034482758621,
           0.7999999999999999,
           0.7863247863247863,
           0.7731092436974791,
           0.7731092436974791,
           0.7666666666666667
          ],
          [
           0.9444444444444444,
           1,
           0.9629629629629629,
           0.9541284403669724,
           0.9090909090909091,
           0.918918918918919,
           0.9026548672566371,
           0.8421052631578948,
           0.8245614035087719,
           0.7999999999999999,
           0.8070175438596491,
           0.8495575221238938,
           0.7719298245614035,
           0.7478260869565216,
           0.7758620689655172,
           0.782608695652174,
           0.7692307692307692,
           0.7563025210084034,
           0.7563025210084034,
           0.7499999999999999
          ],
          [
           0.9444444444444444,
           0.9629629629629629,
           1,
           0.9908256880733944,
           0.9272727272727271,
           0.9009009009009009,
           0.8849557522123893,
           0.8245614035087719,
           0.8070175438596491,
           0.782608695652174,
           0.7894736842105262,
           0.8318584070796461,
           0.7543859649122806,
           0.7304347826086957,
           0.7586206896551724,
           0.7652173913043478,
           0.7521367521367521,
           0.7394957983193278,
           0.7394957983193278,
           0.7333333333333333
          ],
          [
           0.9357798165137615,
           0.9541284403669724,
           0.9908256880733944,
           1,
           0.9369369369369368,
           0.9107142857142856,
           0.8947368421052632,
           0.8347826086956521,
           0.817391304347826,
           0.793103448275862,
           0.8,
           0.8421052631578948,
           0.7652173913043478,
           0.7413793103448276,
           0.7692307692307693,
           0.7758620689655172,
           0.7627118644067797,
           0.7500000000000001,
           0.7500000000000001,
           0.7438016528925621
          ],
          [
           0.9454545454545454,
           0.9090909090909091,
           0.9272727272727271,
           0.9369369369369368,
           1,
           0.9734513274336283,
           0.9565217391304348,
           0.896551724137931,
           0.8793103448275861,
           0.8547008547008548,
           0.8103448275862069,
           0.8521739130434782,
           0.7758620689655172,
           0.7521367521367521,
           0.7796610169491526,
           0.7863247863247863,
           0.773109243697479,
           0.7603305785123968,
           0.7603305785123968,
           0.7540983606557378
          ],
          [
           0.9369369369369369,
           0.918918918918919,
           0.9009009009009009,
           0.9107142857142856,
           0.9734513274336283,
           1,
           0.9827586206896551,
           0.9230769230769231,
           0.905982905982906,
           0.8813559322033898,
           0.8376068376068376,
           0.8793103448275862,
           0.8034188034188033,
           0.7796610169491526,
           0.8067226890756302,
           0.8135593220338982,
           0.8,
           0.7868852459016393,
           0.7868852459016393,
           0.7804878048780488
          ],
          [
           0.9203539823008849,
           0.9026548672566371,
           0.8849557522123893,
           0.8947368421052632,
           0.9565217391304348,
           0.9827586206896551,
           1,
           0.9411764705882353,
           0.9243697478991596,
           0.8833333333333333,
           0.8403361344537815,
           0.8813559322033898,
           0.8067226890756303,
           0.7666666666666666,
           0.7933884297520662,
           0.8,
           0.7868852459016393,
           0.7741935483870969,
           0.7741935483870969,
           0.768
          ],
          [
           0.8596491228070176,
           0.8421052631578948,
           0.8245614035087719,
           0.8347826086956521,
           0.896551724137931,
           0.9230769230769231,
           0.9411764705882353,
           1,
           0.9833333333333333,
           0.9421487603305784,
           0.9,
           0.8907563025210085,
           0.8333333333333334,
           0.7933884297520661,
           0.8032786885245902,
           0.8099173553719008,
           0.7967479674796747,
           0.784,
           0.784,
           0.7777777777777778
          ],
          [
           0.8421052631578948,
           0.8245614035087719,
           0.8070175438596491,
           0.817391304347826,
           0.8793103448275861,
           0.905982905982906,
           0.9243697478991596,
           0.9833333333333333,
           1,
           0.9586776859504132,
           0.9166666666666666,
           0.9075630252100839,
           0.85,
           0.8099173553719008,
           0.819672131147541,
           0.8264462809917356,
           0.8130081300813008,
           0.8,
           0.8,
           0.7936507936507938
          ],
          [
           0.817391304347826,
           0.7999999999999999,
           0.782608695652174,
           0.793103448275862,
           0.8547008547008548,
           0.8813559322033898,
           0.8833333333333333,
           0.9421487603305784,
           0.9586776859504132,
           1,
           0.9586776859504132,
           0.95,
           0.8925619834710743,
           0.8524590163934426,
           0.8617886178861789,
           0.8688524590163934,
           0.8548387096774194,
           0.8412698412698412,
           0.8412698412698412,
           0.8346456692913385
          ],
          [
           0.8245614035087719,
           0.8070175438596491,
           0.7894736842105262,
           0.8,
           0.8103448275862069,
           0.8376068376068376,
           0.8403361344537815,
           0.9,
           0.9166666666666666,
           0.9586776859504132,
           1,
           0.957983193277311,
           0.9,
           0.8595041322314049,
           0.8688524590163934,
           0.8760330578512396,
           0.8617886178861788,
           0.848,
           0.848,
           0.8412698412698413
          ],
          [
           0.8672566371681415,
           0.8495575221238938,
           0.8318584070796461,
           0.8421052631578948,
           0.8521739130434782,
           0.8793103448275862,
           0.8813559322033898,
           0.8907563025210085,
           0.9075630252100839,
           0.95,
           0.957983193277311,
           1,
           0.9075630252100839,
           0.8666666666666666,
           0.9090909090909092,
           0.9166666666666666,
           0.9016393442622951,
           0.8870967741935484,
           0.8870967741935484,
           0.8800000000000001
          ],
          [
           0.7894736842105262,
           0.7719298245614035,
           0.7543859649122806,
           0.7652173913043478,
           0.7758620689655172,
           0.8034188034188033,
           0.8067226890756303,
           0.8333333333333334,
           0.85,
           0.8925619834710743,
           0.9,
           0.9075630252100839,
           1,
           0.9586776859504132,
           0.8852459016393444,
           0.8925619834710743,
           0.8780487804878048,
           0.8640000000000001,
           0.8640000000000001,
           0.8571428571428572
          ],
          [
           0.7652173913043478,
           0.7478260869565216,
           0.7304347826086957,
           0.7413793103448276,
           0.7521367521367521,
           0.7796610169491526,
           0.7666666666666666,
           0.7933884297520661,
           0.8099173553719008,
           0.8524590163934426,
           0.8595041322314049,
           0.8666666666666666,
           0.9586776859504132,
           1,
           0.9268292682926829,
           0.9344262295081968,
           0.9193548387096775,
           0.9047619047619049,
           0.9047619047619049,
           0.8976377952755905
          ],
          [
           0.7931034482758621,
           0.7758620689655172,
           0.7586206896551724,
           0.7692307692307693,
           0.7796610169491526,
           0.8067226890756302,
           0.7933884297520662,
           0.8032786885245902,
           0.819672131147541,
           0.8617886178861789,
           0.8688524590163934,
           0.9090909090909092,
           0.8852459016393444,
           0.9268292682926829,
           1,
           0.991869918699187,
           0.976,
           0.9763779527559054,
           0.9606299212598426,
           0.9531249999999999
          ],
          [
           0.7999999999999999,
           0.782608695652174,
           0.7652173913043478,
           0.7758620689655172,
           0.7863247863247863,
           0.8135593220338982,
           0.8,
           0.8099173553719008,
           0.8264462809917356,
           0.8688524590163934,
           0.8760330578512396,
           0.9166666666666666,
           0.8925619834710743,
           0.9344262295081968,
           0.991869918699187,
           1,
           0.9838709677419354,
           0.9682539682539683,
           0.9682539682539683,
           0.9606299212598425
          ],
          [
           0.7863247863247863,
           0.7692307692307692,
           0.7521367521367521,
           0.7627118644067797,
           0.773109243697479,
           0.8,
           0.7868852459016393,
           0.7967479674796747,
           0.8130081300813008,
           0.8548387096774194,
           0.8617886178861788,
           0.9016393442622951,
           0.8780487804878048,
           0.9193548387096775,
           0.976,
           0.9838709677419354,
           1,
           0.9843749999999999,
           0.9843749999999999,
           0.9767441860465117
          ],
          [
           0.7731092436974791,
           0.7563025210084034,
           0.7394957983193278,
           0.7500000000000001,
           0.7603305785123968,
           0.7868852459016393,
           0.7741935483870969,
           0.784,
           0.8,
           0.8412698412698412,
           0.848,
           0.8870967741935484,
           0.8640000000000001,
           0.9047619047619049,
           0.9763779527559054,
           0.9682539682539683,
           0.9843749999999999,
           1,
           0.9846153846153847,
           0.9770992366412214
          ],
          [
           0.7731092436974791,
           0.7563025210084034,
           0.7394957983193278,
           0.7500000000000001,
           0.7603305785123968,
           0.7868852459016393,
           0.7741935483870969,
           0.784,
           0.8,
           0.8412698412698412,
           0.848,
           0.8870967741935484,
           0.8640000000000001,
           0.9047619047619049,
           0.9606299212598426,
           0.9682539682539683,
           0.9843749999999999,
           0.9846153846153847,
           1,
           0.9923664122137404
          ],
          [
           0.7666666666666667,
           0.7499999999999999,
           0.7333333333333333,
           0.7438016528925621,
           0.7540983606557378,
           0.7804878048780488,
           0.768,
           0.7777777777777778,
           0.7936507936507938,
           0.8346456692913385,
           0.8412698412698413,
           0.8800000000000001,
           0.8571428571428572,
           0.8976377952755905,
           0.9531249999999999,
           0.9606299212598425,
           0.9767441860465117,
           0.9770992366412214,
           0.9923664122137404,
           1
          ]
         ],
         "zmax": 1,
         "zmin": 0.7304347826086957
        },
        {
         "colorbar": {
          "title": {
           "text": "f1_score"
          }
         },
         "colorscale": [
          [
           0,
           "rgb(247,251,255)"
          ],
          [
           0.125,
           "rgb(222,235,247)"
          ],
          [
           0.25,
           "rgb(198,219,239)"
          ],
          [
           0.375,
           "rgb(158,202,225)"
          ],
          [
           0.5,
           "rgb(107,174,214)"
          ],
          [
           0.625,
           "rgb(66,146,198)"
          ],
          [
           0.75,
           "rgb(33,113,181)"
          ],
          [
           0.875,
           "rgb(8,81,156)"
          ],
          [
           1,
           "rgb(8,48,107)"
          ]
         ],
         "text": [
          [
           "1.00",
           "1.00",
           "1.00",
           "0.82",
           "0.82",
           "0.82",
           "0.67",
           "0.50",
           "0.50",
           "0.50",
           "0.50",
           "0.50",
           "0.50",
           "0.63",
           "0.63",
           "0.63",
           "0.63",
           "0.63",
           "0.63",
           "0.63"
          ],
          [
           "1.00",
           "1.00",
           "1.00",
           "0.82",
           "0.82",
           "0.82",
           "0.67",
           "0.50",
           "0.50",
           "0.50",
           "0.50",
           "0.50",
           "0.50",
           "0.63",
           "0.63",
           "0.63",
           "0.63",
           "0.63",
           "0.63",
           "0.63"
          ],
          [
           "1.00",
           "1.00",
           "1.00",
           "0.82",
           "0.82",
           "0.82",
           "0.67",
           "0.50",
           "0.50",
           "0.50",
           "0.50",
           "0.50",
           "0.50",
           "0.63",
           "0.63",
           "0.63",
           "0.63",
           "0.63",
           "0.63",
           "0.63"
          ],
          [
           "0.82",
           "0.82",
           "0.82",
           "1.00",
           "1.00",
           "1.00",
           "0.83",
           "0.70",
           "0.70",
           "0.70",
           "0.70",
           "0.70",
           "0.70",
           "0.84",
           "0.84",
           "0.84",
           "0.84",
           "0.84",
           "0.84",
           "0.84"
          ],
          [
           "0.82",
           "0.82",
           "0.82",
           "1.00",
           "1.00",
           "1.00",
           "0.83",
           "0.70",
           "0.70",
           "0.70",
           "0.70",
           "0.70",
           "0.70",
           "0.84",
           "0.84",
           "0.84",
           "0.84",
           "0.84",
           "0.84",
           "0.84"
          ],
          [
           "0.82",
           "0.82",
           "0.82",
           "1.00",
           "1.00",
           "1.00",
           "0.83",
           "0.70",
           "0.70",
           "0.70",
           "0.70",
           "0.70",
           "0.70",
           "0.84",
           "0.84",
           "0.84",
           "0.84",
           "0.84",
           "0.84",
           "0.84"
          ],
          [
           "0.67",
           "0.67",
           "0.67",
           "0.83",
           "0.83",
           "0.83",
           "1.00",
           "0.89",
           "0.89",
           "0.89",
           "0.89",
           "0.89",
           "0.89",
           "0.70",
           "0.70",
           "0.70",
           "0.70",
           "0.70",
           "0.70",
           "0.70"
          ],
          [
           "0.50",
           "0.50",
           "0.50",
           "0.70",
           "0.70",
           "0.70",
           "0.89",
           "1.00",
           "1.00",
           "1.00",
           "1.00",
           "1.00",
           "1.00",
           "0.82",
           "0.82",
           "0.82",
           "0.82",
           "0.82",
           "0.82",
           "0.82"
          ],
          [
           "0.50",
           "0.50",
           "0.50",
           "0.70",
           "0.70",
           "0.70",
           "0.89",
           "1.00",
           "1.00",
           "1.00",
           "1.00",
           "1.00",
           "1.00",
           "0.82",
           "0.82",
           "0.82",
           "0.82",
           "0.82",
           "0.82",
           "0.82"
          ],
          [
           "0.50",
           "0.50",
           "0.50",
           "0.70",
           "0.70",
           "0.70",
           "0.89",
           "1.00",
           "1.00",
           "1.00",
           "1.00",
           "1.00",
           "1.00",
           "0.82",
           "0.82",
           "0.82",
           "0.82",
           "0.82",
           "0.82",
           "0.82"
          ],
          [
           "0.50",
           "0.50",
           "0.50",
           "0.70",
           "0.70",
           "0.70",
           "0.89",
           "1.00",
           "1.00",
           "1.00",
           "1.00",
           "1.00",
           "1.00",
           "0.82",
           "0.82",
           "0.82",
           "0.82",
           "0.82",
           "0.82",
           "0.82"
          ],
          [
           "0.50",
           "0.50",
           "0.50",
           "0.70",
           "0.70",
           "0.70",
           "0.89",
           "1.00",
           "1.00",
           "1.00",
           "1.00",
           "1.00",
           "1.00",
           "0.82",
           "0.82",
           "0.82",
           "0.82",
           "0.82",
           "0.82",
           "0.82"
          ],
          [
           "0.50",
           "0.50",
           "0.50",
           "0.70",
           "0.70",
           "0.70",
           "0.89",
           "1.00",
           "1.00",
           "1.00",
           "1.00",
           "1.00",
           "1.00",
           "0.82",
           "0.82",
           "0.82",
           "0.82",
           "0.82",
           "0.82",
           "0.82"
          ],
          [
           "0.63",
           "0.63",
           "0.63",
           "0.84",
           "0.84",
           "0.84",
           "0.70",
           "0.82",
           "0.82",
           "0.82",
           "0.82",
           "0.82",
           "0.82",
           "1.00",
           "1.00",
           "1.00",
           "1.00",
           "1.00",
           "1.00",
           "1.00"
          ],
          [
           "0.63",
           "0.63",
           "0.63",
           "0.84",
           "0.84",
           "0.84",
           "0.70",
           "0.82",
           "0.82",
           "0.82",
           "0.82",
           "0.82",
           "0.82",
           "1.00",
           "1.00",
           "1.00",
           "1.00",
           "1.00",
           "1.00",
           "1.00"
          ],
          [
           "0.63",
           "0.63",
           "0.63",
           "0.84",
           "0.84",
           "0.84",
           "0.70",
           "0.82",
           "0.82",
           "0.82",
           "0.82",
           "0.82",
           "0.82",
           "1.00",
           "1.00",
           "1.00",
           "1.00",
           "1.00",
           "1.00",
           "1.00"
          ],
          [
           "0.63",
           "0.63",
           "0.63",
           "0.84",
           "0.84",
           "0.84",
           "0.70",
           "0.82",
           "0.82",
           "0.82",
           "0.82",
           "0.82",
           "0.82",
           "1.00",
           "1.00",
           "1.00",
           "1.00",
           "1.00",
           "1.00",
           "1.00"
          ],
          [
           "0.63",
           "0.63",
           "0.63",
           "0.84",
           "0.84",
           "0.84",
           "0.70",
           "0.82",
           "0.82",
           "0.82",
           "0.82",
           "0.82",
           "0.82",
           "1.00",
           "1.00",
           "1.00",
           "1.00",
           "1.00",
           "1.00",
           "1.00"
          ],
          [
           "0.63",
           "0.63",
           "0.63",
           "0.84",
           "0.84",
           "0.84",
           "0.70",
           "0.82",
           "0.82",
           "0.82",
           "0.82",
           "0.82",
           "0.82",
           "1.00",
           "1.00",
           "1.00",
           "1.00",
           "1.00",
           "1.00",
           "1.00"
          ],
          [
           "0.63",
           "0.63",
           "0.63",
           "0.84",
           "0.84",
           "0.84",
           "0.70",
           "0.82",
           "0.82",
           "0.82",
           "0.82",
           "0.82",
           "0.82",
           "1.00",
           "1.00",
           "1.00",
           "1.00",
           "1.00",
           "1.00",
           "1.00"
          ]
         ],
         "textfont": {
          "size": 8
         },
         "texttemplate": "%{text}",
         "type": "heatmap",
         "visible": true,
         "x": [
          "0.0100",
          "0.0200",
          "0.0300",
          "0.0400",
          "0.0500",
          "0.0600",
          "0.0700",
          "0.0800",
          "0.0900",
          "0.1000",
          "0.1100",
          "0.1200",
          "0.1300",
          "0.1400",
          "0.1500",
          "0.1600",
          "0.1700",
          "0.1800",
          "0.1900",
          "0.2000"
         ],
         "y": [
          "0.0100",
          "0.0200",
          "0.0300",
          "0.0400",
          "0.0500",
          "0.0600",
          "0.0700",
          "0.0800",
          "0.0900",
          "0.1000",
          "0.1100",
          "0.1200",
          "0.1300",
          "0.1400",
          "0.1500",
          "0.1600",
          "0.1700",
          "0.1800",
          "0.1900",
          "0.2000"
         ],
         "z": [
          [
           1,
           1,
           1,
           0.8235294117647058,
           0.8235294117647058,
           0.8235294117647058,
           0.6666666666666666,
           0.5,
           0.5,
           0.5,
           0.5,
           0.5,
           0.5,
           0.6250000000000001,
           0.6250000000000001,
           0.6250000000000001,
           0.6250000000000001,
           0.6250000000000001,
           0.6250000000000001,
           0.6250000000000001
          ],
          [
           1,
           1,
           1,
           0.8235294117647058,
           0.8235294117647058,
           0.8235294117647058,
           0.6666666666666666,
           0.5,
           0.5,
           0.5,
           0.5,
           0.5,
           0.5,
           0.6250000000000001,
           0.6250000000000001,
           0.6250000000000001,
           0.6250000000000001,
           0.6250000000000001,
           0.6250000000000001,
           0.6250000000000001
          ],
          [
           1,
           1,
           1,
           0.8235294117647058,
           0.8235294117647058,
           0.8235294117647058,
           0.6666666666666666,
           0.5,
           0.5,
           0.5,
           0.5,
           0.5,
           0.5,
           0.6250000000000001,
           0.6250000000000001,
           0.6250000000000001,
           0.6250000000000001,
           0.6250000000000001,
           0.6250000000000001,
           0.6250000000000001
          ],
          [
           0.8235294117647058,
           0.8235294117647058,
           0.8235294117647058,
           1,
           1,
           1,
           0.8333333333333333,
           0.6956521739130435,
           0.6956521739130435,
           0.6956521739130435,
           0.6956521739130435,
           0.6956521739130435,
           0.6956521739130435,
           0.8421052631578948,
           0.8421052631578948,
           0.8421052631578948,
           0.8421052631578948,
           0.8421052631578948,
           0.8421052631578948,
           0.8421052631578948
          ],
          [
           0.8235294117647058,
           0.8235294117647058,
           0.8235294117647058,
           1,
           1,
           1,
           0.8333333333333333,
           0.6956521739130435,
           0.6956521739130435,
           0.6956521739130435,
           0.6956521739130435,
           0.6956521739130435,
           0.6956521739130435,
           0.8421052631578948,
           0.8421052631578948,
           0.8421052631578948,
           0.8421052631578948,
           0.8421052631578948,
           0.8421052631578948,
           0.8421052631578948
          ],
          [
           0.8235294117647058,
           0.8235294117647058,
           0.8235294117647058,
           1,
           1,
           1,
           0.8333333333333333,
           0.6956521739130435,
           0.6956521739130435,
           0.6956521739130435,
           0.6956521739130435,
           0.6956521739130435,
           0.6956521739130435,
           0.8421052631578948,
           0.8421052631578948,
           0.8421052631578948,
           0.8421052631578948,
           0.8421052631578948,
           0.8421052631578948,
           0.8421052631578948
          ],
          [
           0.6666666666666666,
           0.6666666666666666,
           0.6666666666666666,
           0.8333333333333333,
           0.8333333333333333,
           0.8333333333333333,
           1,
           0.888888888888889,
           0.888888888888889,
           0.888888888888889,
           0.888888888888889,
           0.888888888888889,
           0.888888888888889,
           0.6956521739130435,
           0.6956521739130435,
           0.6956521739130435,
           0.6956521739130435,
           0.6956521739130435,
           0.6956521739130435,
           0.6956521739130435
          ],
          [
           0.5,
           0.5,
           0.5,
           0.6956521739130435,
           0.6956521739130435,
           0.6956521739130435,
           0.888888888888889,
           1,
           1,
           1,
           1,
           1,
           1,
           0.8181818181818181,
           0.8181818181818181,
           0.8181818181818181,
           0.8181818181818181,
           0.8181818181818181,
           0.8181818181818181,
           0.8181818181818181
          ],
          [
           0.5,
           0.5,
           0.5,
           0.6956521739130435,
           0.6956521739130435,
           0.6956521739130435,
           0.888888888888889,
           1,
           1,
           1,
           1,
           1,
           1,
           0.8181818181818181,
           0.8181818181818181,
           0.8181818181818181,
           0.8181818181818181,
           0.8181818181818181,
           0.8181818181818181,
           0.8181818181818181
          ],
          [
           0.5,
           0.5,
           0.5,
           0.6956521739130435,
           0.6956521739130435,
           0.6956521739130435,
           0.888888888888889,
           1,
           1,
           1,
           1,
           1,
           1,
           0.8181818181818181,
           0.8181818181818181,
           0.8181818181818181,
           0.8181818181818181,
           0.8181818181818181,
           0.8181818181818181,
           0.8181818181818181
          ],
          [
           0.5,
           0.5,
           0.5,
           0.6956521739130435,
           0.6956521739130435,
           0.6956521739130435,
           0.888888888888889,
           1,
           1,
           1,
           1,
           1,
           1,
           0.8181818181818181,
           0.8181818181818181,
           0.8181818181818181,
           0.8181818181818181,
           0.8181818181818181,
           0.8181818181818181,
           0.8181818181818181
          ],
          [
           0.5,
           0.5,
           0.5,
           0.6956521739130435,
           0.6956521739130435,
           0.6956521739130435,
           0.888888888888889,
           1,
           1,
           1,
           1,
           1,
           1,
           0.8181818181818181,
           0.8181818181818181,
           0.8181818181818181,
           0.8181818181818181,
           0.8181818181818181,
           0.8181818181818181,
           0.8181818181818181
          ],
          [
           0.5,
           0.5,
           0.5,
           0.6956521739130435,
           0.6956521739130435,
           0.6956521739130435,
           0.888888888888889,
           1,
           1,
           1,
           1,
           1,
           1,
           0.8181818181818181,
           0.8181818181818181,
           0.8181818181818181,
           0.8181818181818181,
           0.8181818181818181,
           0.8181818181818181,
           0.8181818181818181
          ],
          [
           0.6250000000000001,
           0.6250000000000001,
           0.6250000000000001,
           0.8421052631578948,
           0.8421052631578948,
           0.8421052631578948,
           0.6956521739130435,
           0.8181818181818181,
           0.8181818181818181,
           0.8181818181818181,
           0.8181818181818181,
           0.8181818181818181,
           0.8181818181818181,
           1,
           1,
           1,
           1,
           1,
           1,
           1
          ],
          [
           0.6250000000000001,
           0.6250000000000001,
           0.6250000000000001,
           0.8421052631578948,
           0.8421052631578948,
           0.8421052631578948,
           0.6956521739130435,
           0.8181818181818181,
           0.8181818181818181,
           0.8181818181818181,
           0.8181818181818181,
           0.8181818181818181,
           0.8181818181818181,
           1,
           1,
           1,
           1,
           1,
           1,
           1
          ],
          [
           0.6250000000000001,
           0.6250000000000001,
           0.6250000000000001,
           0.8421052631578948,
           0.8421052631578948,
           0.8421052631578948,
           0.6956521739130435,
           0.8181818181818181,
           0.8181818181818181,
           0.8181818181818181,
           0.8181818181818181,
           0.8181818181818181,
           0.8181818181818181,
           1,
           1,
           1,
           1,
           1,
           1,
           1
          ],
          [
           0.6250000000000001,
           0.6250000000000001,
           0.6250000000000001,
           0.8421052631578948,
           0.8421052631578948,
           0.8421052631578948,
           0.6956521739130435,
           0.8181818181818181,
           0.8181818181818181,
           0.8181818181818181,
           0.8181818181818181,
           0.8181818181818181,
           0.8181818181818181,
           1,
           1,
           1,
           1,
           1,
           1,
           1
          ],
          [
           0.6250000000000001,
           0.6250000000000001,
           0.6250000000000001,
           0.8421052631578948,
           0.8421052631578948,
           0.8421052631578948,
           0.6956521739130435,
           0.8181818181818181,
           0.8181818181818181,
           0.8181818181818181,
           0.8181818181818181,
           0.8181818181818181,
           0.8181818181818181,
           1,
           1,
           1,
           1,
           1,
           1,
           1
          ],
          [
           0.6250000000000001,
           0.6250000000000001,
           0.6250000000000001,
           0.8421052631578948,
           0.8421052631578948,
           0.8421052631578948,
           0.6956521739130435,
           0.8181818181818181,
           0.8181818181818181,
           0.8181818181818181,
           0.8181818181818181,
           0.8181818181818181,
           0.8181818181818181,
           1,
           1,
           1,
           1,
           1,
           1,
           1
          ],
          [
           0.6250000000000001,
           0.6250000000000001,
           0.6250000000000001,
           0.8421052631578948,
           0.8421052631578948,
           0.8421052631578948,
           0.6956521739130435,
           0.8181818181818181,
           0.8181818181818181,
           0.8181818181818181,
           0.8181818181818181,
           0.8181818181818181,
           0.8181818181818181,
           1,
           1,
           1,
           1,
           1,
           1,
           1
          ]
         ],
         "zmax": 1,
         "zmin": 0.5
        },
        {
         "colorbar": {
          "title": {
           "text": "f1_score"
          }
         },
         "colorscale": [
          [
           0,
           "rgb(247,251,255)"
          ],
          [
           0.125,
           "rgb(222,235,247)"
          ],
          [
           0.25,
           "rgb(198,219,239)"
          ],
          [
           0.375,
           "rgb(158,202,225)"
          ],
          [
           0.5,
           "rgb(107,174,214)"
          ],
          [
           0.625,
           "rgb(66,146,198)"
          ],
          [
           0.75,
           "rgb(33,113,181)"
          ],
          [
           0.875,
           "rgb(8,81,156)"
          ],
          [
           1,
           "rgb(8,48,107)"
          ]
         ],
         "text": [
          [
           "1.00",
           "1.00",
           "1.00",
           "1.00",
           "1.00",
           "1.00",
           "1.00",
           "1.00",
           "0.86",
           "0.86",
           "0.86",
           "0.86",
           "0.86",
           "0.86",
           "0.86",
           "0.86",
           "0.86",
           "0.86",
           "0.86",
           "0.86"
          ],
          [
           "1.00",
           "1.00",
           "1.00",
           "1.00",
           "1.00",
           "1.00",
           "1.00",
           "1.00",
           "0.86",
           "0.86",
           "0.86",
           "0.86",
           "0.86",
           "0.86",
           "0.86",
           "0.86",
           "0.86",
           "0.86",
           "0.86",
           "0.86"
          ],
          [
           "1.00",
           "1.00",
           "1.00",
           "1.00",
           "1.00",
           "1.00",
           "1.00",
           "1.00",
           "0.86",
           "0.86",
           "0.86",
           "0.86",
           "0.86",
           "0.86",
           "0.86",
           "0.86",
           "0.86",
           "0.86",
           "0.86",
           "0.86"
          ],
          [
           "1.00",
           "1.00",
           "1.00",
           "1.00",
           "1.00",
           "1.00",
           "1.00",
           "1.00",
           "0.86",
           "0.86",
           "0.86",
           "0.86",
           "0.86",
           "0.86",
           "0.86",
           "0.86",
           "0.86",
           "0.86",
           "0.86",
           "0.86"
          ],
          [
           "1.00",
           "1.00",
           "1.00",
           "1.00",
           "1.00",
           "1.00",
           "1.00",
           "1.00",
           "0.86",
           "0.86",
           "0.86",
           "0.86",
           "0.86",
           "0.86",
           "0.86",
           "0.86",
           "0.86",
           "0.86",
           "0.86",
           "0.86"
          ],
          [
           "1.00",
           "1.00",
           "1.00",
           "1.00",
           "1.00",
           "1.00",
           "1.00",
           "1.00",
           "0.86",
           "0.86",
           "0.86",
           "0.86",
           "0.86",
           "0.86",
           "0.86",
           "0.86",
           "0.86",
           "0.86",
           "0.86",
           "0.86"
          ],
          [
           "1.00",
           "1.00",
           "1.00",
           "1.00",
           "1.00",
           "1.00",
           "1.00",
           "1.00",
           "0.86",
           "0.86",
           "0.86",
           "0.86",
           "0.86",
           "0.86",
           "0.86",
           "0.86",
           "0.86",
           "0.86",
           "0.86",
           "0.86"
          ],
          [
           "1.00",
           "1.00",
           "1.00",
           "1.00",
           "1.00",
           "1.00",
           "1.00",
           "1.00",
           "0.86",
           "0.86",
           "0.86",
           "0.86",
           "0.86",
           "0.86",
           "0.86",
           "0.86",
           "0.86",
           "0.86",
           "0.86",
           "0.86"
          ],
          [
           "0.86",
           "0.86",
           "0.86",
           "0.86",
           "0.86",
           "0.86",
           "0.86",
           "0.86",
           "1.00",
           "1.00",
           "1.00",
           "1.00",
           "1.00",
           "1.00",
           "1.00",
           "1.00",
           "1.00",
           "1.00",
           "1.00",
           "1.00"
          ],
          [
           "0.86",
           "0.86",
           "0.86",
           "0.86",
           "0.86",
           "0.86",
           "0.86",
           "0.86",
           "1.00",
           "1.00",
           "1.00",
           "1.00",
           "1.00",
           "1.00",
           "1.00",
           "1.00",
           "1.00",
           "1.00",
           "1.00",
           "1.00"
          ],
          [
           "0.86",
           "0.86",
           "0.86",
           "0.86",
           "0.86",
           "0.86",
           "0.86",
           "0.86",
           "1.00",
           "1.00",
           "1.00",
           "1.00",
           "1.00",
           "1.00",
           "1.00",
           "1.00",
           "1.00",
           "1.00",
           "1.00",
           "1.00"
          ],
          [
           "0.86",
           "0.86",
           "0.86",
           "0.86",
           "0.86",
           "0.86",
           "0.86",
           "0.86",
           "1.00",
           "1.00",
           "1.00",
           "1.00",
           "1.00",
           "1.00",
           "1.00",
           "1.00",
           "1.00",
           "1.00",
           "1.00",
           "1.00"
          ],
          [
           "0.86",
           "0.86",
           "0.86",
           "0.86",
           "0.86",
           "0.86",
           "0.86",
           "0.86",
           "1.00",
           "1.00",
           "1.00",
           "1.00",
           "1.00",
           "1.00",
           "1.00",
           "1.00",
           "1.00",
           "1.00",
           "1.00",
           "1.00"
          ],
          [
           "0.86",
           "0.86",
           "0.86",
           "0.86",
           "0.86",
           "0.86",
           "0.86",
           "0.86",
           "1.00",
           "1.00",
           "1.00",
           "1.00",
           "1.00",
           "1.00",
           "1.00",
           "1.00",
           "1.00",
           "1.00",
           "1.00",
           "1.00"
          ],
          [
           "0.86",
           "0.86",
           "0.86",
           "0.86",
           "0.86",
           "0.86",
           "0.86",
           "0.86",
           "1.00",
           "1.00",
           "1.00",
           "1.00",
           "1.00",
           "1.00",
           "1.00",
           "1.00",
           "1.00",
           "1.00",
           "1.00",
           "1.00"
          ],
          [
           "0.86",
           "0.86",
           "0.86",
           "0.86",
           "0.86",
           "0.86",
           "0.86",
           "0.86",
           "1.00",
           "1.00",
           "1.00",
           "1.00",
           "1.00",
           "1.00",
           "1.00",
           "1.00",
           "1.00",
           "1.00",
           "1.00",
           "1.00"
          ],
          [
           "0.86",
           "0.86",
           "0.86",
           "0.86",
           "0.86",
           "0.86",
           "0.86",
           "0.86",
           "1.00",
           "1.00",
           "1.00",
           "1.00",
           "1.00",
           "1.00",
           "1.00",
           "1.00",
           "1.00",
           "1.00",
           "1.00",
           "1.00"
          ],
          [
           "0.86",
           "0.86",
           "0.86",
           "0.86",
           "0.86",
           "0.86",
           "0.86",
           "0.86",
           "1.00",
           "1.00",
           "1.00",
           "1.00",
           "1.00",
           "1.00",
           "1.00",
           "1.00",
           "1.00",
           "1.00",
           "1.00",
           "1.00"
          ],
          [
           "0.86",
           "0.86",
           "0.86",
           "0.86",
           "0.86",
           "0.86",
           "0.86",
           "0.86",
           "1.00",
           "1.00",
           "1.00",
           "1.00",
           "1.00",
           "1.00",
           "1.00",
           "1.00",
           "1.00",
           "1.00",
           "1.00",
           "1.00"
          ],
          [
           "0.86",
           "0.86",
           "0.86",
           "0.86",
           "0.86",
           "0.86",
           "0.86",
           "0.86",
           "1.00",
           "1.00",
           "1.00",
           "1.00",
           "1.00",
           "1.00",
           "1.00",
           "1.00",
           "1.00",
           "1.00",
           "1.00",
           "1.00"
          ]
         ],
         "textfont": {
          "size": 8
         },
         "texttemplate": "%{text}",
         "type": "heatmap",
         "visible": false,
         "x": [
          "0.0100",
          "0.0200",
          "0.0300",
          "0.0400",
          "0.0500",
          "0.0600",
          "0.0700",
          "0.0800",
          "0.0900",
          "0.1000",
          "0.1100",
          "0.1200",
          "0.1300",
          "0.1400",
          "0.1500",
          "0.1600",
          "0.1700",
          "0.1800",
          "0.1900",
          "0.2000"
         ],
         "y": [
          "0.0100",
          "0.0200",
          "0.0300",
          "0.0400",
          "0.0500",
          "0.0600",
          "0.0700",
          "0.0800",
          "0.0900",
          "0.1000",
          "0.1100",
          "0.1200",
          "0.1300",
          "0.1400",
          "0.1500",
          "0.1600",
          "0.1700",
          "0.1800",
          "0.1900",
          "0.2000"
         ],
         "z": [
          [
           1,
           1,
           1,
           1,
           1,
           1,
           1,
           1,
           0.8571428571428571,
           0.8571428571428571,
           0.8571428571428571,
           0.8571428571428571,
           0.8571428571428571,
           0.8571428571428571,
           0.8571428571428571,
           0.8571428571428571,
           0.8571428571428571,
           0.8571428571428571,
           0.8571428571428571,
           0.8571428571428571
          ],
          [
           1,
           1,
           1,
           1,
           1,
           1,
           1,
           1,
           0.8571428571428571,
           0.8571428571428571,
           0.8571428571428571,
           0.8571428571428571,
           0.8571428571428571,
           0.8571428571428571,
           0.8571428571428571,
           0.8571428571428571,
           0.8571428571428571,
           0.8571428571428571,
           0.8571428571428571,
           0.8571428571428571
          ],
          [
           1,
           1,
           1,
           1,
           1,
           1,
           1,
           1,
           0.8571428571428571,
           0.8571428571428571,
           0.8571428571428571,
           0.8571428571428571,
           0.8571428571428571,
           0.8571428571428571,
           0.8571428571428571,
           0.8571428571428571,
           0.8571428571428571,
           0.8571428571428571,
           0.8571428571428571,
           0.8571428571428571
          ],
          [
           1,
           1,
           1,
           1,
           1,
           1,
           1,
           1,
           0.8571428571428571,
           0.8571428571428571,
           0.8571428571428571,
           0.8571428571428571,
           0.8571428571428571,
           0.8571428571428571,
           0.8571428571428571,
           0.8571428571428571,
           0.8571428571428571,
           0.8571428571428571,
           0.8571428571428571,
           0.8571428571428571
          ],
          [
           1,
           1,
           1,
           1,
           1,
           1,
           1,
           1,
           0.8571428571428571,
           0.8571428571428571,
           0.8571428571428571,
           0.8571428571428571,
           0.8571428571428571,
           0.8571428571428571,
           0.8571428571428571,
           0.8571428571428571,
           0.8571428571428571,
           0.8571428571428571,
           0.8571428571428571,
           0.8571428571428571
          ],
          [
           1,
           1,
           1,
           1,
           1,
           1,
           1,
           1,
           0.8571428571428571,
           0.8571428571428571,
           0.8571428571428571,
           0.8571428571428571,
           0.8571428571428571,
           0.8571428571428571,
           0.8571428571428571,
           0.8571428571428571,
           0.8571428571428571,
           0.8571428571428571,
           0.8571428571428571,
           0.8571428571428571
          ],
          [
           1,
           1,
           1,
           1,
           1,
           1,
           1,
           1,
           0.8571428571428571,
           0.8571428571428571,
           0.8571428571428571,
           0.8571428571428571,
           0.8571428571428571,
           0.8571428571428571,
           0.8571428571428571,
           0.8571428571428571,
           0.8571428571428571,
           0.8571428571428571,
           0.8571428571428571,
           0.8571428571428571
          ],
          [
           1,
           1,
           1,
           1,
           1,
           1,
           1,
           1,
           0.8571428571428571,
           0.8571428571428571,
           0.8571428571428571,
           0.8571428571428571,
           0.8571428571428571,
           0.8571428571428571,
           0.8571428571428571,
           0.8571428571428571,
           0.8571428571428571,
           0.8571428571428571,
           0.8571428571428571,
           0.8571428571428571
          ],
          [
           0.8571428571428571,
           0.8571428571428571,
           0.8571428571428571,
           0.8571428571428571,
           0.8571428571428571,
           0.8571428571428571,
           0.8571428571428571,
           0.8571428571428571,
           1,
           1,
           1,
           1,
           1,
           1,
           1,
           1,
           1,
           1,
           1,
           1
          ],
          [
           0.8571428571428571,
           0.8571428571428571,
           0.8571428571428571,
           0.8571428571428571,
           0.8571428571428571,
           0.8571428571428571,
           0.8571428571428571,
           0.8571428571428571,
           1,
           1,
           1,
           1,
           1,
           1,
           1,
           1,
           1,
           1,
           1,
           1
          ],
          [
           0.8571428571428571,
           0.8571428571428571,
           0.8571428571428571,
           0.8571428571428571,
           0.8571428571428571,
           0.8571428571428571,
           0.8571428571428571,
           0.8571428571428571,
           1,
           1,
           1,
           1,
           1,
           1,
           1,
           1,
           1,
           1,
           1,
           1
          ],
          [
           0.8571428571428571,
           0.8571428571428571,
           0.8571428571428571,
           0.8571428571428571,
           0.8571428571428571,
           0.8571428571428571,
           0.8571428571428571,
           0.8571428571428571,
           1,
           1,
           1,
           1,
           1,
           1,
           1,
           1,
           1,
           1,
           1,
           1
          ],
          [
           0.8571428571428571,
           0.8571428571428571,
           0.8571428571428571,
           0.8571428571428571,
           0.8571428571428571,
           0.8571428571428571,
           0.8571428571428571,
           0.8571428571428571,
           1,
           1,
           1,
           1,
           1,
           1,
           1,
           1,
           1,
           1,
           1,
           1
          ],
          [
           0.8571428571428571,
           0.8571428571428571,
           0.8571428571428571,
           0.8571428571428571,
           0.8571428571428571,
           0.8571428571428571,
           0.8571428571428571,
           0.8571428571428571,
           1,
           1,
           1,
           1,
           1,
           1,
           1,
           1,
           1,
           1,
           1,
           1
          ],
          [
           0.8571428571428571,
           0.8571428571428571,
           0.8571428571428571,
           0.8571428571428571,
           0.8571428571428571,
           0.8571428571428571,
           0.8571428571428571,
           0.8571428571428571,
           1,
           1,
           1,
           1,
           1,
           1,
           1,
           1,
           1,
           1,
           1,
           1
          ],
          [
           0.8571428571428571,
           0.8571428571428571,
           0.8571428571428571,
           0.8571428571428571,
           0.8571428571428571,
           0.8571428571428571,
           0.8571428571428571,
           0.8571428571428571,
           1,
           1,
           1,
           1,
           1,
           1,
           1,
           1,
           1,
           1,
           1,
           1
          ],
          [
           0.8571428571428571,
           0.8571428571428571,
           0.8571428571428571,
           0.8571428571428571,
           0.8571428571428571,
           0.8571428571428571,
           0.8571428571428571,
           0.8571428571428571,
           1,
           1,
           1,
           1,
           1,
           1,
           1,
           1,
           1,
           1,
           1,
           1
          ],
          [
           0.8571428571428571,
           0.8571428571428571,
           0.8571428571428571,
           0.8571428571428571,
           0.8571428571428571,
           0.8571428571428571,
           0.8571428571428571,
           0.8571428571428571,
           1,
           1,
           1,
           1,
           1,
           1,
           1,
           1,
           1,
           1,
           1,
           1
          ],
          [
           0.8571428571428571,
           0.8571428571428571,
           0.8571428571428571,
           0.8571428571428571,
           0.8571428571428571,
           0.8571428571428571,
           0.8571428571428571,
           0.8571428571428571,
           1,
           1,
           1,
           1,
           1,
           1,
           1,
           1,
           1,
           1,
           1,
           1
          ],
          [
           0.8571428571428571,
           0.8571428571428571,
           0.8571428571428571,
           0.8571428571428571,
           0.8571428571428571,
           0.8571428571428571,
           0.8571428571428571,
           0.8571428571428571,
           1,
           1,
           1,
           1,
           1,
           1,
           1,
           1,
           1,
           1,
           1,
           1
          ]
         ],
         "zmax": 1,
         "zmin": 0.8571428571428571
        },
        {
         "colorbar": {
          "title": {
           "text": "f1_score"
          }
         },
         "colorscale": [
          [
           0,
           "rgb(247,251,255)"
          ],
          [
           0.125,
           "rgb(222,235,247)"
          ],
          [
           0.25,
           "rgb(198,219,239)"
          ],
          [
           0.375,
           "rgb(158,202,225)"
          ],
          [
           0.5,
           "rgb(107,174,214)"
          ],
          [
           0.625,
           "rgb(66,146,198)"
          ],
          [
           0.75,
           "rgb(33,113,181)"
          ],
          [
           0.875,
           "rgb(8,81,156)"
          ],
          [
           1,
           "rgb(8,48,107)"
          ]
         ],
         "text": [
          [
           "1.00",
           "1.00",
           "1.00",
           "1.00",
           "1.00",
           "1.00",
           "1.00",
           "0.50",
           "0.50",
           "0.50",
           "0.50",
           "0.50",
           "0.00",
           "0.00",
           "0.50",
           "0.50",
           "0.50",
           "0.50",
           "0.50",
           "0.50"
          ],
          [
           "1.00",
           "1.00",
           "1.00",
           "1.00",
           "1.00",
           "1.00",
           "1.00",
           "0.50",
           "0.50",
           "0.50",
           "0.50",
           "0.50",
           "0.00",
           "0.00",
           "0.50",
           "0.50",
           "0.50",
           "0.50",
           "0.50",
           "0.50"
          ],
          [
           "1.00",
           "1.00",
           "1.00",
           "1.00",
           "1.00",
           "1.00",
           "1.00",
           "0.50",
           "0.50",
           "0.50",
           "0.50",
           "0.50",
           "0.00",
           "0.00",
           "0.50",
           "0.50",
           "0.50",
           "0.50",
           "0.50",
           "0.50"
          ],
          [
           "1.00",
           "1.00",
           "1.00",
           "1.00",
           "1.00",
           "1.00",
           "1.00",
           "0.50",
           "0.50",
           "0.50",
           "0.50",
           "0.50",
           "0.00",
           "0.00",
           "0.50",
           "0.50",
           "0.50",
           "0.50",
           "0.50",
           "0.50"
          ],
          [
           "1.00",
           "1.00",
           "1.00",
           "1.00",
           "1.00",
           "1.00",
           "1.00",
           "0.50",
           "0.50",
           "0.50",
           "0.50",
           "0.50",
           "0.00",
           "0.00",
           "0.50",
           "0.50",
           "0.50",
           "0.50",
           "0.50",
           "0.50"
          ],
          [
           "1.00",
           "1.00",
           "1.00",
           "1.00",
           "1.00",
           "1.00",
           "1.00",
           "0.50",
           "0.50",
           "0.50",
           "0.50",
           "0.50",
           "0.00",
           "0.00",
           "0.50",
           "0.50",
           "0.50",
           "0.50",
           "0.50",
           "0.50"
          ],
          [
           "1.00",
           "1.00",
           "1.00",
           "1.00",
           "1.00",
           "1.00",
           "1.00",
           "0.50",
           "0.50",
           "0.50",
           "0.50",
           "0.50",
           "0.00",
           "0.00",
           "0.50",
           "0.50",
           "0.50",
           "0.50",
           "0.50",
           "0.50"
          ],
          [
           "0.50",
           "0.50",
           "0.50",
           "0.50",
           "0.50",
           "0.50",
           "0.50",
           "1.00",
           "1.00",
           "1.00",
           "1.00",
           "1.00",
           "0.00",
           "0.00",
           "1.00",
           "1.00",
           "1.00",
           "1.00",
           "1.00",
           "1.00"
          ],
          [
           "0.50",
           "0.50",
           "0.50",
           "0.50",
           "0.50",
           "0.50",
           "0.50",
           "1.00",
           "1.00",
           "1.00",
           "1.00",
           "1.00",
           "0.00",
           "0.00",
           "1.00",
           "1.00",
           "1.00",
           "1.00",
           "1.00",
           "1.00"
          ],
          [
           "0.50",
           "0.50",
           "0.50",
           "0.50",
           "0.50",
           "0.50",
           "0.50",
           "1.00",
           "1.00",
           "1.00",
           "1.00",
           "1.00",
           "0.00",
           "0.00",
           "1.00",
           "1.00",
           "1.00",
           "1.00",
           "1.00",
           "1.00"
          ],
          [
           "0.50",
           "0.50",
           "0.50",
           "0.50",
           "0.50",
           "0.50",
           "0.50",
           "1.00",
           "1.00",
           "1.00",
           "1.00",
           "1.00",
           "0.00",
           "0.00",
           "1.00",
           "1.00",
           "1.00",
           "1.00",
           "1.00",
           "1.00"
          ],
          [
           "0.50",
           "0.50",
           "0.50",
           "0.50",
           "0.50",
           "0.50",
           "0.50",
           "1.00",
           "1.00",
           "1.00",
           "1.00",
           "1.00",
           "0.00",
           "0.00",
           "1.00",
           "1.00",
           "1.00",
           "1.00",
           "1.00",
           "1.00"
          ],
          [
           "0.00",
           "0.00",
           "0.00",
           "0.00",
           "0.00",
           "0.00",
           "0.00",
           "0.00",
           "0.00",
           "0.00",
           "0.00",
           "0.00",
           "1.00",
           "1.00",
           "0.00",
           "0.00",
           "0.00",
           "0.00",
           "0.00",
           "0.00"
          ],
          [
           "0.00",
           "0.00",
           "0.00",
           "0.00",
           "0.00",
           "0.00",
           "0.00",
           "0.00",
           "0.00",
           "0.00",
           "0.00",
           "0.00",
           "1.00",
           "1.00",
           "0.00",
           "0.00",
           "0.00",
           "0.00",
           "0.00",
           "0.00"
          ],
          [
           "0.50",
           "0.50",
           "0.50",
           "0.50",
           "0.50",
           "0.50",
           "0.50",
           "1.00",
           "1.00",
           "1.00",
           "1.00",
           "1.00",
           "0.00",
           "0.00",
           "1.00",
           "1.00",
           "1.00",
           "1.00",
           "1.00",
           "1.00"
          ],
          [
           "0.50",
           "0.50",
           "0.50",
           "0.50",
           "0.50",
           "0.50",
           "0.50",
           "1.00",
           "1.00",
           "1.00",
           "1.00",
           "1.00",
           "0.00",
           "0.00",
           "1.00",
           "1.00",
           "1.00",
           "1.00",
           "1.00",
           "1.00"
          ],
          [
           "0.50",
           "0.50",
           "0.50",
           "0.50",
           "0.50",
           "0.50",
           "0.50",
           "1.00",
           "1.00",
           "1.00",
           "1.00",
           "1.00",
           "0.00",
           "0.00",
           "1.00",
           "1.00",
           "1.00",
           "1.00",
           "1.00",
           "1.00"
          ],
          [
           "0.50",
           "0.50",
           "0.50",
           "0.50",
           "0.50",
           "0.50",
           "0.50",
           "1.00",
           "1.00",
           "1.00",
           "1.00",
           "1.00",
           "0.00",
           "0.00",
           "1.00",
           "1.00",
           "1.00",
           "1.00",
           "1.00",
           "1.00"
          ],
          [
           "0.50",
           "0.50",
           "0.50",
           "0.50",
           "0.50",
           "0.50",
           "0.50",
           "1.00",
           "1.00",
           "1.00",
           "1.00",
           "1.00",
           "0.00",
           "0.00",
           "1.00",
           "1.00",
           "1.00",
           "1.00",
           "1.00",
           "1.00"
          ],
          [
           "0.50",
           "0.50",
           "0.50",
           "0.50",
           "0.50",
           "0.50",
           "0.50",
           "1.00",
           "1.00",
           "1.00",
           "1.00",
           "1.00",
           "0.00",
           "0.00",
           "1.00",
           "1.00",
           "1.00",
           "1.00",
           "1.00",
           "1.00"
          ]
         ],
         "textfont": {
          "size": 8
         },
         "texttemplate": "%{text}",
         "type": "heatmap",
         "visible": false,
         "x": [
          "0.0100",
          "0.0200",
          "0.0300",
          "0.0400",
          "0.0500",
          "0.0600",
          "0.0700",
          "0.0800",
          "0.0900",
          "0.1000",
          "0.1100",
          "0.1200",
          "0.1300",
          "0.1400",
          "0.1500",
          "0.1600",
          "0.1700",
          "0.1800",
          "0.1900",
          "0.2000"
         ],
         "y": [
          "0.0100",
          "0.0200",
          "0.0300",
          "0.0400",
          "0.0500",
          "0.0600",
          "0.0700",
          "0.0800",
          "0.0900",
          "0.1000",
          "0.1100",
          "0.1200",
          "0.1300",
          "0.1400",
          "0.1500",
          "0.1600",
          "0.1700",
          "0.1800",
          "0.1900",
          "0.2000"
         ],
         "z": [
          [
           1,
           1,
           1,
           1,
           1,
           1,
           1,
           0.5,
           0.5,
           0.5,
           0.5,
           0.5,
           0,
           0,
           0.5,
           0.5,
           0.5,
           0.5,
           0.5,
           0.5
          ],
          [
           1,
           1,
           1,
           1,
           1,
           1,
           1,
           0.5,
           0.5,
           0.5,
           0.5,
           0.5,
           0,
           0,
           0.5,
           0.5,
           0.5,
           0.5,
           0.5,
           0.5
          ],
          [
           1,
           1,
           1,
           1,
           1,
           1,
           1,
           0.5,
           0.5,
           0.5,
           0.5,
           0.5,
           0,
           0,
           0.5,
           0.5,
           0.5,
           0.5,
           0.5,
           0.5
          ],
          [
           1,
           1,
           1,
           1,
           1,
           1,
           1,
           0.5,
           0.5,
           0.5,
           0.5,
           0.5,
           0,
           0,
           0.5,
           0.5,
           0.5,
           0.5,
           0.5,
           0.5
          ],
          [
           1,
           1,
           1,
           1,
           1,
           1,
           1,
           0.5,
           0.5,
           0.5,
           0.5,
           0.5,
           0,
           0,
           0.5,
           0.5,
           0.5,
           0.5,
           0.5,
           0.5
          ],
          [
           1,
           1,
           1,
           1,
           1,
           1,
           1,
           0.5,
           0.5,
           0.5,
           0.5,
           0.5,
           0,
           0,
           0.5,
           0.5,
           0.5,
           0.5,
           0.5,
           0.5
          ],
          [
           1,
           1,
           1,
           1,
           1,
           1,
           1,
           0.5,
           0.5,
           0.5,
           0.5,
           0.5,
           0,
           0,
           0.5,
           0.5,
           0.5,
           0.5,
           0.5,
           0.5
          ],
          [
           0.5,
           0.5,
           0.5,
           0.5,
           0.5,
           0.5,
           0.5,
           1,
           1,
           1,
           1,
           1,
           0,
           0,
           1,
           1,
           1,
           1,
           1,
           1
          ],
          [
           0.5,
           0.5,
           0.5,
           0.5,
           0.5,
           0.5,
           0.5,
           1,
           1,
           1,
           1,
           1,
           0,
           0,
           1,
           1,
           1,
           1,
           1,
           1
          ],
          [
           0.5,
           0.5,
           0.5,
           0.5,
           0.5,
           0.5,
           0.5,
           1,
           1,
           1,
           1,
           1,
           0,
           0,
           1,
           1,
           1,
           1,
           1,
           1
          ],
          [
           0.5,
           0.5,
           0.5,
           0.5,
           0.5,
           0.5,
           0.5,
           1,
           1,
           1,
           1,
           1,
           0,
           0,
           1,
           1,
           1,
           1,
           1,
           1
          ],
          [
           0.5,
           0.5,
           0.5,
           0.5,
           0.5,
           0.5,
           0.5,
           1,
           1,
           1,
           1,
           1,
           0,
           0,
           1,
           1,
           1,
           1,
           1,
           1
          ],
          [
           0,
           0,
           0,
           0,
           0,
           0,
           0,
           0,
           0,
           0,
           0,
           0,
           1,
           1,
           0,
           0,
           0,
           0,
           0,
           0
          ],
          [
           0,
           0,
           0,
           0,
           0,
           0,
           0,
           0,
           0,
           0,
           0,
           0,
           1,
           1,
           0,
           0,
           0,
           0,
           0,
           0
          ],
          [
           0.5,
           0.5,
           0.5,
           0.5,
           0.5,
           0.5,
           0.5,
           1,
           1,
           1,
           1,
           1,
           0,
           0,
           1,
           1,
           1,
           1,
           1,
           1
          ],
          [
           0.5,
           0.5,
           0.5,
           0.5,
           0.5,
           0.5,
           0.5,
           1,
           1,
           1,
           1,
           1,
           0,
           0,
           1,
           1,
           1,
           1,
           1,
           1
          ],
          [
           0.5,
           0.5,
           0.5,
           0.5,
           0.5,
           0.5,
           0.5,
           1,
           1,
           1,
           1,
           1,
           0,
           0,
           1,
           1,
           1,
           1,
           1,
           1
          ],
          [
           0.5,
           0.5,
           0.5,
           0.5,
           0.5,
           0.5,
           0.5,
           1,
           1,
           1,
           1,
           1,
           0,
           0,
           1,
           1,
           1,
           1,
           1,
           1
          ],
          [
           0.5,
           0.5,
           0.5,
           0.5,
           0.5,
           0.5,
           0.5,
           1,
           1,
           1,
           1,
           1,
           0,
           0,
           1,
           1,
           1,
           1,
           1,
           1
          ],
          [
           0.5,
           0.5,
           0.5,
           0.5,
           0.5,
           0.5,
           0.5,
           1,
           1,
           1,
           1,
           1,
           0,
           0,
           1,
           1,
           1,
           1,
           1,
           1
          ]
         ],
         "zmax": 1,
         "zmin": 0
        }
       ],
       "layout": {
        "height": 800,
        "template": {
         "data": {
          "bar": [
           {
            "error_x": {
             "color": "#2a3f5f"
            },
            "error_y": {
             "color": "#2a3f5f"
            },
            "marker": {
             "line": {
              "color": "#E5ECF6",
              "width": 0.5
             },
             "pattern": {
              "fillmode": "overlay",
              "size": 10,
              "solidity": 0.2
             }
            },
            "type": "bar"
           }
          ],
          "barpolar": [
           {
            "marker": {
             "line": {
              "color": "#E5ECF6",
              "width": 0.5
             },
             "pattern": {
              "fillmode": "overlay",
              "size": 10,
              "solidity": 0.2
             }
            },
            "type": "barpolar"
           }
          ],
          "carpet": [
           {
            "aaxis": {
             "endlinecolor": "#2a3f5f",
             "gridcolor": "white",
             "linecolor": "white",
             "minorgridcolor": "white",
             "startlinecolor": "#2a3f5f"
            },
            "baxis": {
             "endlinecolor": "#2a3f5f",
             "gridcolor": "white",
             "linecolor": "white",
             "minorgridcolor": "white",
             "startlinecolor": "#2a3f5f"
            },
            "type": "carpet"
           }
          ],
          "choropleth": [
           {
            "colorbar": {
             "outlinewidth": 0,
             "ticks": ""
            },
            "type": "choropleth"
           }
          ],
          "contour": [
           {
            "colorbar": {
             "outlinewidth": 0,
             "ticks": ""
            },
            "colorscale": [
             [
              0,
              "#0d0887"
             ],
             [
              0.1111111111111111,
              "#46039f"
             ],
             [
              0.2222222222222222,
              "#7201a8"
             ],
             [
              0.3333333333333333,
              "#9c179e"
             ],
             [
              0.4444444444444444,
              "#bd3786"
             ],
             [
              0.5555555555555556,
              "#d8576b"
             ],
             [
              0.6666666666666666,
              "#ed7953"
             ],
             [
              0.7777777777777778,
              "#fb9f3a"
             ],
             [
              0.8888888888888888,
              "#fdca26"
             ],
             [
              1,
              "#f0f921"
             ]
            ],
            "type": "contour"
           }
          ],
          "contourcarpet": [
           {
            "colorbar": {
             "outlinewidth": 0,
             "ticks": ""
            },
            "type": "contourcarpet"
           }
          ],
          "heatmap": [
           {
            "colorbar": {
             "outlinewidth": 0,
             "ticks": ""
            },
            "colorscale": [
             [
              0,
              "#0d0887"
             ],
             [
              0.1111111111111111,
              "#46039f"
             ],
             [
              0.2222222222222222,
              "#7201a8"
             ],
             [
              0.3333333333333333,
              "#9c179e"
             ],
             [
              0.4444444444444444,
              "#bd3786"
             ],
             [
              0.5555555555555556,
              "#d8576b"
             ],
             [
              0.6666666666666666,
              "#ed7953"
             ],
             [
              0.7777777777777778,
              "#fb9f3a"
             ],
             [
              0.8888888888888888,
              "#fdca26"
             ],
             [
              1,
              "#f0f921"
             ]
            ],
            "type": "heatmap"
           }
          ],
          "heatmapgl": [
           {
            "colorbar": {
             "outlinewidth": 0,
             "ticks": ""
            },
            "colorscale": [
             [
              0,
              "#0d0887"
             ],
             [
              0.1111111111111111,
              "#46039f"
             ],
             [
              0.2222222222222222,
              "#7201a8"
             ],
             [
              0.3333333333333333,
              "#9c179e"
             ],
             [
              0.4444444444444444,
              "#bd3786"
             ],
             [
              0.5555555555555556,
              "#d8576b"
             ],
             [
              0.6666666666666666,
              "#ed7953"
             ],
             [
              0.7777777777777778,
              "#fb9f3a"
             ],
             [
              0.8888888888888888,
              "#fdca26"
             ],
             [
              1,
              "#f0f921"
             ]
            ],
            "type": "heatmapgl"
           }
          ],
          "histogram": [
           {
            "marker": {
             "pattern": {
              "fillmode": "overlay",
              "size": 10,
              "solidity": 0.2
             }
            },
            "type": "histogram"
           }
          ],
          "histogram2d": [
           {
            "colorbar": {
             "outlinewidth": 0,
             "ticks": ""
            },
            "colorscale": [
             [
              0,
              "#0d0887"
             ],
             [
              0.1111111111111111,
              "#46039f"
             ],
             [
              0.2222222222222222,
              "#7201a8"
             ],
             [
              0.3333333333333333,
              "#9c179e"
             ],
             [
              0.4444444444444444,
              "#bd3786"
             ],
             [
              0.5555555555555556,
              "#d8576b"
             ],
             [
              0.6666666666666666,
              "#ed7953"
             ],
             [
              0.7777777777777778,
              "#fb9f3a"
             ],
             [
              0.8888888888888888,
              "#fdca26"
             ],
             [
              1,
              "#f0f921"
             ]
            ],
            "type": "histogram2d"
           }
          ],
          "histogram2dcontour": [
           {
            "colorbar": {
             "outlinewidth": 0,
             "ticks": ""
            },
            "colorscale": [
             [
              0,
              "#0d0887"
             ],
             [
              0.1111111111111111,
              "#46039f"
             ],
             [
              0.2222222222222222,
              "#7201a8"
             ],
             [
              0.3333333333333333,
              "#9c179e"
             ],
             [
              0.4444444444444444,
              "#bd3786"
             ],
             [
              0.5555555555555556,
              "#d8576b"
             ],
             [
              0.6666666666666666,
              "#ed7953"
             ],
             [
              0.7777777777777778,
              "#fb9f3a"
             ],
             [
              0.8888888888888888,
              "#fdca26"
             ],
             [
              1,
              "#f0f921"
             ]
            ],
            "type": "histogram2dcontour"
           }
          ],
          "mesh3d": [
           {
            "colorbar": {
             "outlinewidth": 0,
             "ticks": ""
            },
            "type": "mesh3d"
           }
          ],
          "parcoords": [
           {
            "line": {
             "colorbar": {
              "outlinewidth": 0,
              "ticks": ""
             }
            },
            "type": "parcoords"
           }
          ],
          "pie": [
           {
            "automargin": true,
            "type": "pie"
           }
          ],
          "scatter": [
           {
            "fillpattern": {
             "fillmode": "overlay",
             "size": 10,
             "solidity": 0.2
            },
            "type": "scatter"
           }
          ],
          "scatter3d": [
           {
            "line": {
             "colorbar": {
              "outlinewidth": 0,
              "ticks": ""
             }
            },
            "marker": {
             "colorbar": {
              "outlinewidth": 0,
              "ticks": ""
             }
            },
            "type": "scatter3d"
           }
          ],
          "scattercarpet": [
           {
            "marker": {
             "colorbar": {
              "outlinewidth": 0,
              "ticks": ""
             }
            },
            "type": "scattercarpet"
           }
          ],
          "scattergeo": [
           {
            "marker": {
             "colorbar": {
              "outlinewidth": 0,
              "ticks": ""
             }
            },
            "type": "scattergeo"
           }
          ],
          "scattergl": [
           {
            "marker": {
             "colorbar": {
              "outlinewidth": 0,
              "ticks": ""
             }
            },
            "type": "scattergl"
           }
          ],
          "scattermapbox": [
           {
            "marker": {
             "colorbar": {
              "outlinewidth": 0,
              "ticks": ""
             }
            },
            "type": "scattermapbox"
           }
          ],
          "scatterpolar": [
           {
            "marker": {
             "colorbar": {
              "outlinewidth": 0,
              "ticks": ""
             }
            },
            "type": "scatterpolar"
           }
          ],
          "scatterpolargl": [
           {
            "marker": {
             "colorbar": {
              "outlinewidth": 0,
              "ticks": ""
             }
            },
            "type": "scatterpolargl"
           }
          ],
          "scatterternary": [
           {
            "marker": {
             "colorbar": {
              "outlinewidth": 0,
              "ticks": ""
             }
            },
            "type": "scatterternary"
           }
          ],
          "surface": [
           {
            "colorbar": {
             "outlinewidth": 0,
             "ticks": ""
            },
            "colorscale": [
             [
              0,
              "#0d0887"
             ],
             [
              0.1111111111111111,
              "#46039f"
             ],
             [
              0.2222222222222222,
              "#7201a8"
             ],
             [
              0.3333333333333333,
              "#9c179e"
             ],
             [
              0.4444444444444444,
              "#bd3786"
             ],
             [
              0.5555555555555556,
              "#d8576b"
             ],
             [
              0.6666666666666666,
              "#ed7953"
             ],
             [
              0.7777777777777778,
              "#fb9f3a"
             ],
             [
              0.8888888888888888,
              "#fdca26"
             ],
             [
              1,
              "#f0f921"
             ]
            ],
            "type": "surface"
           }
          ],
          "table": [
           {
            "cells": {
             "fill": {
              "color": "#EBF0F8"
             },
             "line": {
              "color": "white"
             }
            },
            "header": {
             "fill": {
              "color": "#C8D4E3"
             },
             "line": {
              "color": "white"
             }
            },
            "type": "table"
           }
          ]
         },
         "layout": {
          "annotationdefaults": {
           "arrowcolor": "#2a3f5f",
           "arrowhead": 0,
           "arrowwidth": 1
          },
          "autotypenumbers": "strict",
          "coloraxis": {
           "colorbar": {
            "outlinewidth": 0,
            "ticks": ""
           }
          },
          "colorscale": {
           "diverging": [
            [
             0,
             "#8e0152"
            ],
            [
             0.1,
             "#c51b7d"
            ],
            [
             0.2,
             "#de77ae"
            ],
            [
             0.3,
             "#f1b6da"
            ],
            [
             0.4,
             "#fde0ef"
            ],
            [
             0.5,
             "#f7f7f7"
            ],
            [
             0.6,
             "#e6f5d0"
            ],
            [
             0.7,
             "#b8e186"
            ],
            [
             0.8,
             "#7fbc41"
            ],
            [
             0.9,
             "#4d9221"
            ],
            [
             1,
             "#276419"
            ]
           ],
           "sequential": [
            [
             0,
             "#0d0887"
            ],
            [
             0.1111111111111111,
             "#46039f"
            ],
            [
             0.2222222222222222,
             "#7201a8"
            ],
            [
             0.3333333333333333,
             "#9c179e"
            ],
            [
             0.4444444444444444,
             "#bd3786"
            ],
            [
             0.5555555555555556,
             "#d8576b"
            ],
            [
             0.6666666666666666,
             "#ed7953"
            ],
            [
             0.7777777777777778,
             "#fb9f3a"
            ],
            [
             0.8888888888888888,
             "#fdca26"
            ],
            [
             1,
             "#f0f921"
            ]
           ],
           "sequentialminus": [
            [
             0,
             "#0d0887"
            ],
            [
             0.1111111111111111,
             "#46039f"
            ],
            [
             0.2222222222222222,
             "#7201a8"
            ],
            [
             0.3333333333333333,
             "#9c179e"
            ],
            [
             0.4444444444444444,
             "#bd3786"
            ],
            [
             0.5555555555555556,
             "#d8576b"
            ],
            [
             0.6666666666666666,
             "#ed7953"
            ],
            [
             0.7777777777777778,
             "#fb9f3a"
            ],
            [
             0.8888888888888888,
             "#fdca26"
            ],
            [
             1,
             "#f0f921"
            ]
           ]
          },
          "colorway": [
           "#636efa",
           "#EF553B",
           "#00cc96",
           "#ab63fa",
           "#FFA15A",
           "#19d3f3",
           "#FF6692",
           "#B6E880",
           "#FF97FF",
           "#FECB52"
          ],
          "font": {
           "color": "#2a3f5f"
          },
          "geo": {
           "bgcolor": "white",
           "lakecolor": "white",
           "landcolor": "#E5ECF6",
           "showlakes": true,
           "showland": true,
           "subunitcolor": "white"
          },
          "hoverlabel": {
           "align": "left"
          },
          "hovermode": "closest",
          "mapbox": {
           "style": "light"
          },
          "paper_bgcolor": "white",
          "plot_bgcolor": "#E5ECF6",
          "polar": {
           "angularaxis": {
            "gridcolor": "white",
            "linecolor": "white",
            "ticks": ""
           },
           "bgcolor": "#E5ECF6",
           "radialaxis": {
            "gridcolor": "white",
            "linecolor": "white",
            "ticks": ""
           }
          },
          "scene": {
           "xaxis": {
            "backgroundcolor": "#E5ECF6",
            "gridcolor": "white",
            "gridwidth": 2,
            "linecolor": "white",
            "showbackground": true,
            "ticks": "",
            "zerolinecolor": "white"
           },
           "yaxis": {
            "backgroundcolor": "#E5ECF6",
            "gridcolor": "white",
            "gridwidth": 2,
            "linecolor": "white",
            "showbackground": true,
            "ticks": "",
            "zerolinecolor": "white"
           },
           "zaxis": {
            "backgroundcolor": "#E5ECF6",
            "gridcolor": "white",
            "gridwidth": 2,
            "linecolor": "white",
            "showbackground": true,
            "ticks": "",
            "zerolinecolor": "white"
           }
          },
          "shapedefaults": {
           "line": {
            "color": "#2a3f5f"
           }
          },
          "ternary": {
           "aaxis": {
            "gridcolor": "white",
            "linecolor": "white",
            "ticks": ""
           },
           "baxis": {
            "gridcolor": "white",
            "linecolor": "white",
            "ticks": ""
           },
           "bgcolor": "#E5ECF6",
           "caxis": {
            "gridcolor": "white",
            "linecolor": "white",
            "ticks": ""
           }
          },
          "title": {
           "x": 0.05
          },
          "xaxis": {
           "automargin": true,
           "gridcolor": "white",
           "linecolor": "white",
           "ticks": "",
           "title": {
            "standoff": 15
           },
           "zerolinecolor": "white",
           "zerolinewidth": 2
          },
          "yaxis": {
           "automargin": true,
           "gridcolor": "white",
           "linecolor": "white",
           "ticks": "",
           "title": {
            "standoff": 15
           },
           "zerolinecolor": "white",
           "zerolinewidth": 2
          }
         }
        },
        "title": {
         "text": "f1_score Heatmap — Node: X_1"
        },
        "updatemenus": [
         {
          "active": 1,
          "buttons": [
           {
            "args": [
             {
              "visible": [
               true,
               false,
               false,
               false
              ]
             },
             {
              "title": "f1_score Heatmap — Node: All"
             }
            ],
            "label": "All",
            "method": "update"
           },
           {
            "args": [
             {
              "visible": [
               false,
               true,
               false,
               false
              ]
             },
             {
              "title": "f1_score Heatmap — Node: X_1"
             }
            ],
            "label": "X_1",
            "method": "update"
           },
           {
            "args": [
             {
              "visible": [
               false,
               false,
               true,
               false
              ]
             },
             {
              "title": "f1_score Heatmap — Node: X_2"
             }
            ],
            "label": "X_2",
            "method": "update"
           },
           {
            "args": [
             {
              "visible": [
               false,
               false,
               false,
               true
              ]
             },
             {
              "title": "f1_score Heatmap — Node: X_3"
             }
            ],
            "label": "X_3",
            "method": "update"
           }
          ],
          "direction": "down",
          "x": 1.02,
          "xanchor": "left",
          "y": 1.1,
          "yanchor": "top"
         }
        ],
        "width": 900,
        "xaxis": {
         "autorange": true,
         "range": [
          -0.5,
          19.5
         ],
         "title": {
          "text": "Model Name"
         },
         "type": "category"
        },
        "yaxis": {
         "autorange": true,
         "range": [
          -0.5,
          19.5
         ],
         "title": {
          "text": "Model Name"
         },
         "type": "category"
        }
       }
      },
      "image/png": "[encoded data removed]",
      "text/html": [
       "<div>                            <div id=\"7bf9101d-d592-43c9-8e53-1cb1ff00e9d4\" class=\"plotly-graph-div\" style=\"height:800px; width:900px;\"></div>            <script type=\"text/javascript\">                require([\"plotly\"], function(Plotly) {                    window.PLOTLYENV=window.PLOTLYENV || {};                                    if (document.getElementById(\"7bf9101d-d592-43c9-8e53-1cb1ff00e9d4\")) {                    Plotly.newPlot(                        \"7bf9101d-d592-43c9-8e53-1cb1ff00e9d4\",                        [{\"colorbar\":{\"title\":{\"text\":\"f1_score\"}},\"colorscale\":[[0.0,\"rgb(247,251,255)\"],[0.125,\"rgb(222,235,247)\"],[0.25,\"rgb(198,219,239)\"],[0.375,\"rgb(158,202,225)\"],[0.5,\"rgb(107,174,214)\"],[0.625,\"rgb(66,146,198)\"],[0.75,\"rgb(33,113,181)\"],[0.875,\"rgb(8,81,156)\"],[1.0,\"rgb(8,48,107)\"]],\"text\":[[\"1.00\",\"0.94\",\"0.94\",\"0.94\",\"0.95\",\"0.94\",\"0.92\",\"0.86\",\"0.84\",\"0.82\",\"0.82\",\"0.87\",\"0.79\",\"0.77\",\"0.79\",\"0.80\",\"0.79\",\"0.77\",\"0.77\",\"0.77\"],[\"0.94\",\"1.00\",\"0.96\",\"0.95\",\"0.91\",\"0.92\",\"0.90\",\"0.84\",\"0.82\",\"0.80\",\"0.81\",\"0.85\",\"0.77\",\"0.75\",\"0.78\",\"0.78\",\"0.77\",\"0.76\",\"0.76\",\"0.75\"],[\"0.94\",\"0.96\",\"1.00\",\"0.99\",\"0.93\",\"0.90\",\"0.88\",\"0.82\",\"0.81\",\"0.78\",\"0.79\",\"0.83\",\"0.75\",\"0.73\",\"0.76\",\"0.77\",\"0.75\",\"0.74\",\"0.74\",\"0.73\"],[\"0.94\",\"0.95\",\"0.99\",\"1.00\",\"0.94\",\"0.91\",\"0.89\",\"0.83\",\"0.82\",\"0.79\",\"0.80\",\"0.84\",\"0.77\",\"0.74\",\"0.77\",\"0.78\",\"0.76\",\"0.75\",\"0.75\",\"0.74\"],[\"0.95\",\"0.91\",\"0.93\",\"0.94\",\"1.00\",\"0.97\",\"0.96\",\"0.90\",\"0.88\",\"0.85\",\"0.81\",\"0.85\",\"0.78\",\"0.75\",\"0.78\",\"0.79\",\"0.77\",\"0.76\",\"0.76\",\"0.75\"],[\"0.94\",\"0.92\",\"0.90\",\"0.91\",\"0.97\",\"1.00\",\"0.98\",\"0.92\",\"0.91\",\"0.88\",\"0.84\",\"0.88\",\"0.80\",\"0.78\",\"0.81\",\"0.81\",\"0.80\",\"0.79\",\"0.79\",\"0.78\"],[\"0.92\",\"0.90\",\"0.88\",\"0.89\",\"0.96\",\"0.98\",\"1.00\",\"0.94\",\"0.92\",\"0.88\",\"0.84\",\"0.88\",\"0.81\",\"0.77\",\"0.79\",\"0.80\",\"0.79\",\"0.77\",\"0.77\",\"0.77\"],[\"0.86\",\"0.84\",\"0.82\",\"0.83\",\"0.90\",\"0.92\",\"0.94\",\"1.00\",\"0.98\",\"0.94\",\"0.90\",\"0.89\",\"0.83\",\"0.79\",\"0.80\",\"0.81\",\"0.80\",\"0.78\",\"0.78\",\"0.78\"],[\"0.84\",\"0.82\",\"0.81\",\"0.82\",\"0.88\",\"0.91\",\"0.92\",\"0.98\",\"1.00\",\"0.96\",\"0.92\",\"0.91\",\"0.85\",\"0.81\",\"0.82\",\"0.83\",\"0.81\",\"0.80\",\"0.80\",\"0.79\"],[\"0.82\",\"0.80\",\"0.78\",\"0.79\",\"0.85\",\"0.88\",\"0.88\",\"0.94\",\"0.96\",\"1.00\",\"0.96\",\"0.95\",\"0.89\",\"0.85\",\"0.86\",\"0.87\",\"0.85\",\"0.84\",\"0.84\",\"0.83\"],[\"0.82\",\"0.81\",\"0.79\",\"0.80\",\"0.81\",\"0.84\",\"0.84\",\"0.90\",\"0.92\",\"0.96\",\"1.00\",\"0.96\",\"0.90\",\"0.86\",\"0.87\",\"0.88\",\"0.86\",\"0.85\",\"0.85\",\"0.84\"],[\"0.87\",\"0.85\",\"0.83\",\"0.84\",\"0.85\",\"0.88\",\"0.88\",\"0.89\",\"0.91\",\"0.95\",\"0.96\",\"1.00\",\"0.91\",\"0.87\",\"0.91\",\"0.92\",\"0.90\",\"0.89\",\"0.89\",\"0.88\"],[\"0.79\",\"0.77\",\"0.75\",\"0.77\",\"0.78\",\"0.80\",\"0.81\",\"0.83\",\"0.85\",\"0.89\",\"0.90\",\"0.91\",\"1.00\",\"0.96\",\"0.89\",\"0.89\",\"0.88\",\"0.86\",\"0.86\",\"0.86\"],[\"0.77\",\"0.75\",\"0.73\",\"0.74\",\"0.75\",\"0.78\",\"0.77\",\"0.79\",\"0.81\",\"0.85\",\"0.86\",\"0.87\",\"0.96\",\"1.00\",\"0.93\",\"0.93\",\"0.92\",\"0.90\",\"0.90\",\"0.90\"],[\"0.79\",\"0.78\",\"0.76\",\"0.77\",\"0.78\",\"0.81\",\"0.79\",\"0.80\",\"0.82\",\"0.86\",\"0.87\",\"0.91\",\"0.89\",\"0.93\",\"1.00\",\"0.99\",\"0.98\",\"0.98\",\"0.96\",\"0.95\"],[\"0.80\",\"0.78\",\"0.77\",\"0.78\",\"0.79\",\"0.81\",\"0.80\",\"0.81\",\"0.83\",\"0.87\",\"0.88\",\"0.92\",\"0.89\",\"0.93\",\"0.99\",\"1.00\",\"0.98\",\"0.97\",\"0.97\",\"0.96\"],[\"0.79\",\"0.77\",\"0.75\",\"0.76\",\"0.77\",\"0.80\",\"0.79\",\"0.80\",\"0.81\",\"0.85\",\"0.86\",\"0.90\",\"0.88\",\"0.92\",\"0.98\",\"0.98\",\"1.00\",\"0.98\",\"0.98\",\"0.98\"],[\"0.77\",\"0.76\",\"0.74\",\"0.75\",\"0.76\",\"0.79\",\"0.77\",\"0.78\",\"0.80\",\"0.84\",\"0.85\",\"0.89\",\"0.86\",\"0.90\",\"0.98\",\"0.97\",\"0.98\",\"1.00\",\"0.98\",\"0.98\"],[\"0.77\",\"0.76\",\"0.74\",\"0.75\",\"0.76\",\"0.79\",\"0.77\",\"0.78\",\"0.80\",\"0.84\",\"0.85\",\"0.89\",\"0.86\",\"0.90\",\"0.96\",\"0.97\",\"0.98\",\"0.98\",\"1.00\",\"0.99\"],[\"0.77\",\"0.75\",\"0.73\",\"0.74\",\"0.75\",\"0.78\",\"0.77\",\"0.78\",\"0.79\",\"0.83\",\"0.84\",\"0.88\",\"0.86\",\"0.90\",\"0.95\",\"0.96\",\"0.98\",\"0.98\",\"0.99\",\"1.00\"]],\"textfont\":{\"size\":8},\"texttemplate\":\"%{text}\",\"visible\":true,\"x\":[\"0.0100\",\"0.0200\",\"0.0300\",\"0.0400\",\"0.0500\",\"0.0600\",\"0.0700\",\"0.0800\",\"0.0900\",\"0.1000\",\"0.1100\",\"0.1200\",\"0.1300\",\"0.1400\",\"0.1500\",\"0.1600\",\"0.1700\",\"0.1800\",\"0.1900\",\"0.2000\"],\"y\":[\"0.0100\",\"0.0200\",\"0.0300\",\"0.0400\",\"0.0500\",\"0.0600\",\"0.0700\",\"0.0800\",\"0.0900\",\"0.1000\",\"0.1100\",\"0.1200\",\"0.1300\",\"0.1400\",\"0.1500\",\"0.1600\",\"0.1700\",\"0.1800\",\"0.1900\",\"0.2000\"],\"z\":[[1.0,0.9444444444444444,0.9444444444444444,0.9357798165137615,0.9454545454545454,0.9369369369369369,0.9203539823008849,0.8596491228070176,0.8421052631578948,0.817391304347826,0.8245614035087719,0.8672566371681415,0.7894736842105262,0.7652173913043478,0.7931034482758621,0.7999999999999999,0.7863247863247863,0.7731092436974791,0.7731092436974791,0.7666666666666667],[0.9444444444444444,1.0,0.9629629629629629,0.9541284403669724,0.9090909090909091,0.918918918918919,0.9026548672566371,0.8421052631578948,0.8245614035087719,0.7999999999999999,0.8070175438596491,0.8495575221238938,0.7719298245614035,0.7478260869565216,0.7758620689655172,0.782608695652174,0.7692307692307692,0.7563025210084034,0.7563025210084034,0.7499999999999999],[0.9444444444444444,0.9629629629629629,1.0,0.9908256880733944,0.9272727272727271,0.9009009009009009,0.8849557522123893,0.8245614035087719,0.8070175438596491,0.782608695652174,0.7894736842105262,0.8318584070796461,0.7543859649122806,0.7304347826086957,0.7586206896551724,0.7652173913043478,0.7521367521367521,0.7394957983193278,0.7394957983193278,0.7333333333333333],[0.9357798165137615,0.9541284403669724,0.9908256880733944,1.0,0.9369369369369368,0.9107142857142856,0.8947368421052632,0.8347826086956521,0.817391304347826,0.793103448275862,0.8,0.8421052631578948,0.7652173913043478,0.7413793103448276,0.7692307692307693,0.7758620689655172,0.7627118644067797,0.7500000000000001,0.7500000000000001,0.7438016528925621],[0.9454545454545454,0.9090909090909091,0.9272727272727271,0.9369369369369368,1.0,0.9734513274336283,0.9565217391304348,0.896551724137931,0.8793103448275861,0.8547008547008548,0.8103448275862069,0.8521739130434782,0.7758620689655172,0.7521367521367521,0.7796610169491526,0.7863247863247863,0.773109243697479,0.7603305785123968,0.7603305785123968,0.7540983606557378],[0.9369369369369369,0.918918918918919,0.9009009009009009,0.9107142857142856,0.9734513274336283,1.0,0.9827586206896551,0.9230769230769231,0.905982905982906,0.8813559322033898,0.8376068376068376,0.8793103448275862,0.8034188034188033,0.7796610169491526,0.8067226890756302,0.8135593220338982,0.8,0.7868852459016393,0.7868852459016393,0.7804878048780488],[0.9203539823008849,0.9026548672566371,0.8849557522123893,0.8947368421052632,0.9565217391304348,0.9827586206896551,1.0,0.9411764705882353,0.9243697478991596,0.8833333333333333,0.8403361344537815,0.8813559322033898,0.8067226890756303,0.7666666666666666,0.7933884297520662,0.8,0.7868852459016393,0.7741935483870969,0.7741935483870969,0.768],[0.8596491228070176,0.8421052631578948,0.8245614035087719,0.8347826086956521,0.896551724137931,0.9230769230769231,0.9411764705882353,1.0,0.9833333333333333,0.9421487603305784,0.9,0.8907563025210085,0.8333333333333334,0.7933884297520661,0.8032786885245902,0.8099173553719008,0.7967479674796747,0.784,0.784,0.7777777777777778],[0.8421052631578948,0.8245614035087719,0.8070175438596491,0.817391304347826,0.8793103448275861,0.905982905982906,0.9243697478991596,0.9833333333333333,1.0,0.9586776859504132,0.9166666666666666,0.9075630252100839,0.85,0.8099173553719008,0.819672131147541,0.8264462809917356,0.8130081300813008,0.8,0.8,0.7936507936507938],[0.817391304347826,0.7999999999999999,0.782608695652174,0.793103448275862,0.8547008547008548,0.8813559322033898,0.8833333333333333,0.9421487603305784,0.9586776859504132,1.0,0.9586776859504132,0.95,0.8925619834710743,0.8524590163934426,0.8617886178861789,0.8688524590163934,0.8548387096774194,0.8412698412698412,0.8412698412698412,0.8346456692913385],[0.8245614035087719,0.8070175438596491,0.7894736842105262,0.8,0.8103448275862069,0.8376068376068376,0.8403361344537815,0.9,0.9166666666666666,0.9586776859504132,1.0,0.957983193277311,0.9,0.8595041322314049,0.8688524590163934,0.8760330578512396,0.8617886178861788,0.848,0.848,0.8412698412698413],[0.8672566371681415,0.8495575221238938,0.8318584070796461,0.8421052631578948,0.8521739130434782,0.8793103448275862,0.8813559322033898,0.8907563025210085,0.9075630252100839,0.95,0.957983193277311,1.0,0.9075630252100839,0.8666666666666666,0.9090909090909092,0.9166666666666666,0.9016393442622951,0.8870967741935484,0.8870967741935484,0.8800000000000001],[0.7894736842105262,0.7719298245614035,0.7543859649122806,0.7652173913043478,0.7758620689655172,0.8034188034188033,0.8067226890756303,0.8333333333333334,0.85,0.8925619834710743,0.9,0.9075630252100839,1.0,0.9586776859504132,0.8852459016393444,0.8925619834710743,0.8780487804878048,0.8640000000000001,0.8640000000000001,0.8571428571428572],[0.7652173913043478,0.7478260869565216,0.7304347826086957,0.7413793103448276,0.7521367521367521,0.7796610169491526,0.7666666666666666,0.7933884297520661,0.8099173553719008,0.8524590163934426,0.8595041322314049,0.8666666666666666,0.9586776859504132,1.0,0.9268292682926829,0.9344262295081968,0.9193548387096775,0.9047619047619049,0.9047619047619049,0.8976377952755905],[0.7931034482758621,0.7758620689655172,0.7586206896551724,0.7692307692307693,0.7796610169491526,0.8067226890756302,0.7933884297520662,0.8032786885245902,0.819672131147541,0.8617886178861789,0.8688524590163934,0.9090909090909092,0.8852459016393444,0.9268292682926829,1.0,0.991869918699187,0.976,0.9763779527559054,0.9606299212598426,0.9531249999999999],[0.7999999999999999,0.782608695652174,0.7652173913043478,0.7758620689655172,0.7863247863247863,0.8135593220338982,0.8,0.8099173553719008,0.8264462809917356,0.8688524590163934,0.8760330578512396,0.9166666666666666,0.8925619834710743,0.9344262295081968,0.991869918699187,1.0,0.9838709677419354,0.9682539682539683,0.9682539682539683,0.9606299212598425],[0.7863247863247863,0.7692307692307692,0.7521367521367521,0.7627118644067797,0.773109243697479,0.8,0.7868852459016393,0.7967479674796747,0.8130081300813008,0.8548387096774194,0.8617886178861788,0.9016393442622951,0.8780487804878048,0.9193548387096775,0.976,0.9838709677419354,1.0,0.9843749999999999,0.9843749999999999,0.9767441860465117],[0.7731092436974791,0.7563025210084034,0.7394957983193278,0.7500000000000001,0.7603305785123968,0.7868852459016393,0.7741935483870969,0.784,0.8,0.8412698412698412,0.848,0.8870967741935484,0.8640000000000001,0.9047619047619049,0.9763779527559054,0.9682539682539683,0.9843749999999999,1.0,0.9846153846153847,0.9770992366412214],[0.7731092436974791,0.7563025210084034,0.7394957983193278,0.7500000000000001,0.7603305785123968,0.7868852459016393,0.7741935483870969,0.784,0.8,0.8412698412698412,0.848,0.8870967741935484,0.8640000000000001,0.9047619047619049,0.9606299212598426,0.9682539682539683,0.9843749999999999,0.9846153846153847,1.0,0.9923664122137404],[0.7666666666666667,0.7499999999999999,0.7333333333333333,0.7438016528925621,0.7540983606557378,0.7804878048780488,0.768,0.7777777777777778,0.7936507936507938,0.8346456692913385,0.8412698412698413,0.8800000000000001,0.8571428571428572,0.8976377952755905,0.9531249999999999,0.9606299212598425,0.9767441860465117,0.9770992366412214,0.9923664122137404,1.0]],\"zmax\":1.0,\"zmin\":0.7304347826086957,\"type\":\"heatmap\"},{\"colorbar\":{\"title\":{\"text\":\"f1_score\"}},\"colorscale\":[[0.0,\"rgb(247,251,255)\"],[0.125,\"rgb(222,235,247)\"],[0.25,\"rgb(198,219,239)\"],[0.375,\"rgb(158,202,225)\"],[0.5,\"rgb(107,174,214)\"],[0.625,\"rgb(66,146,198)\"],[0.75,\"rgb(33,113,181)\"],[0.875,\"rgb(8,81,156)\"],[1.0,\"rgb(8,48,107)\"]],\"text\":[[\"1.00\",\"1.00\",\"1.00\",\"0.82\",\"0.82\",\"0.82\",\"0.67\",\"0.50\",\"0.50\",\"0.50\",\"0.50\",\"0.50\",\"0.50\",\"0.63\",\"0.63\",\"0.63\",\"0.63\",\"0.63\",\"0.63\",\"0.63\"],[\"1.00\",\"1.00\",\"1.00\",\"0.82\",\"0.82\",\"0.82\",\"0.67\",\"0.50\",\"0.50\",\"0.50\",\"0.50\",\"0.50\",\"0.50\",\"0.63\",\"0.63\",\"0.63\",\"0.63\",\"0.63\",\"0.63\",\"0.63\"],[\"1.00\",\"1.00\",\"1.00\",\"0.82\",\"0.82\",\"0.82\",\"0.67\",\"0.50\",\"0.50\",\"0.50\",\"0.50\",\"0.50\",\"0.50\",\"0.63\",\"0.63\",\"0.63\",\"0.63\",\"0.63\",\"0.63\",\"0.63\"],[\"0.82\",\"0.82\",\"0.82\",\"1.00\",\"1.00\",\"1.00\",\"0.83\",\"0.70\",\"0.70\",\"0.70\",\"0.70\",\"0.70\",\"0.70\",\"0.84\",\"0.84\",\"0.84\",\"0.84\",\"0.84\",\"0.84\",\"0.84\"],[\"0.82\",\"0.82\",\"0.82\",\"1.00\",\"1.00\",\"1.00\",\"0.83\",\"0.70\",\"0.70\",\"0.70\",\"0.70\",\"0.70\",\"0.70\",\"0.84\",\"0.84\",\"0.84\",\"0.84\",\"0.84\",\"0.84\",\"0.84\"],[\"0.82\",\"0.82\",\"0.82\",\"1.00\",\"1.00\",\"1.00\",\"0.83\",\"0.70\",\"0.70\",\"0.70\",\"0.70\",\"0.70\",\"0.70\",\"0.84\",\"0.84\",\"0.84\",\"0.84\",\"0.84\",\"0.84\",\"0.84\"],[\"0.67\",\"0.67\",\"0.67\",\"0.83\",\"0.83\",\"0.83\",\"1.00\",\"0.89\",\"0.89\",\"0.89\",\"0.89\",\"0.89\",\"0.89\",\"0.70\",\"0.70\",\"0.70\",\"0.70\",\"0.70\",\"0.70\",\"0.70\"],[\"0.50\",\"0.50\",\"0.50\",\"0.70\",\"0.70\",\"0.70\",\"0.89\",\"1.00\",\"1.00\",\"1.00\",\"1.00\",\"1.00\",\"1.00\",\"0.82\",\"0.82\",\"0.82\",\"0.82\",\"0.82\",\"0.82\",\"0.82\"],[\"0.50\",\"0.50\",\"0.50\",\"0.70\",\"0.70\",\"0.70\",\"0.89\",\"1.00\",\"1.00\",\"1.00\",\"1.00\",\"1.00\",\"1.00\",\"0.82\",\"0.82\",\"0.82\",\"0.82\",\"0.82\",\"0.82\",\"0.82\"],[\"0.50\",\"0.50\",\"0.50\",\"0.70\",\"0.70\",\"0.70\",\"0.89\",\"1.00\",\"1.00\",\"1.00\",\"1.00\",\"1.00\",\"1.00\",\"0.82\",\"0.82\",\"0.82\",\"0.82\",\"0.82\",\"0.82\",\"0.82\"],[\"0.50\",\"0.50\",\"0.50\",\"0.70\",\"0.70\",\"0.70\",\"0.89\",\"1.00\",\"1.00\",\"1.00\",\"1.00\",\"1.00\",\"1.00\",\"0.82\",\"0.82\",\"0.82\",\"0.82\",\"0.82\",\"0.82\",\"0.82\"],[\"0.50\",\"0.50\",\"0.50\",\"0.70\",\"0.70\",\"0.70\",\"0.89\",\"1.00\",\"1.00\",\"1.00\",\"1.00\",\"1.00\",\"1.00\",\"0.82\",\"0.82\",\"0.82\",\"0.82\",\"0.82\",\"0.82\",\"0.82\"],[\"0.50\",\"0.50\",\"0.50\",\"0.70\",\"0.70\",\"0.70\",\"0.89\",\"1.00\",\"1.00\",\"1.00\",\"1.00\",\"1.00\",\"1.00\",\"0.82\",\"0.82\",\"0.82\",\"0.82\",\"0.82\",\"0.82\",\"0.82\"],[\"0.63\",\"0.63\",\"0.63\",\"0.84\",\"0.84\",\"0.84\",\"0.70\",\"0.82\",\"0.82\",\"0.82\",\"0.82\",\"0.82\",\"0.82\",\"1.00\",\"1.00\",\"1.00\",\"1.00\",\"1.00\",\"1.00\",\"1.00\"],[\"0.63\",\"0.63\",\"0.63\",\"0.84\",\"0.84\",\"0.84\",\"0.70\",\"0.82\",\"0.82\",\"0.82\",\"0.82\",\"0.82\",\"0.82\",\"1.00\",\"1.00\",\"1.00\",\"1.00\",\"1.00\",\"1.00\",\"1.00\"],[\"0.63\",\"0.63\",\"0.63\",\"0.84\",\"0.84\",\"0.84\",\"0.70\",\"0.82\",\"0.82\",\"0.82\",\"0.82\",\"0.82\",\"0.82\",\"1.00\",\"1.00\",\"1.00\",\"1.00\",\"1.00\",\"1.00\",\"1.00\"],[\"0.63\",\"0.63\",\"0.63\",\"0.84\",\"0.84\",\"0.84\",\"0.70\",\"0.82\",\"0.82\",\"0.82\",\"0.82\",\"0.82\",\"0.82\",\"1.00\",\"1.00\",\"1.00\",\"1.00\",\"1.00\",\"1.00\",\"1.00\"],[\"0.63\",\"0.63\",\"0.63\",\"0.84\",\"0.84\",\"0.84\",\"0.70\",\"0.82\",\"0.82\",\"0.82\",\"0.82\",\"0.82\",\"0.82\",\"1.00\",\"1.00\",\"1.00\",\"1.00\",\"1.00\",\"1.00\",\"1.00\"],[\"0.63\",\"0.63\",\"0.63\",\"0.84\",\"0.84\",\"0.84\",\"0.70\",\"0.82\",\"0.82\",\"0.82\",\"0.82\",\"0.82\",\"0.82\",\"1.00\",\"1.00\",\"1.00\",\"1.00\",\"1.00\",\"1.00\",\"1.00\"],[\"0.63\",\"0.63\",\"0.63\",\"0.84\",\"0.84\",\"0.84\",\"0.70\",\"0.82\",\"0.82\",\"0.82\",\"0.82\",\"0.82\",\"0.82\",\"1.00\",\"1.00\",\"1.00\",\"1.00\",\"1.00\",\"1.00\",\"1.00\"]],\"textfont\":{\"size\":8},\"texttemplate\":\"%{text}\",\"visible\":false,\"x\":[\"0.0100\",\"0.0200\",\"0.0300\",\"0.0400\",\"0.0500\",\"0.0600\",\"0.0700\",\"0.0800\",\"0.0900\",\"0.1000\",\"0.1100\",\"0.1200\",\"0.1300\",\"0.1400\",\"0.1500\",\"0.1600\",\"0.1700\",\"0.1800\",\"0.1900\",\"0.2000\"],\"y\":[\"0.0100\",\"0.0200\",\"0.0300\",\"0.0400\",\"0.0500\",\"0.0600\",\"0.0700\",\"0.0800\",\"0.0900\",\"0.1000\",\"0.1100\",\"0.1200\",\"0.1300\",\"0.1400\",\"0.1500\",\"0.1600\",\"0.1700\",\"0.1800\",\"0.1900\",\"0.2000\"],\"z\":[[1.0,1.0,1.0,0.8235294117647058,0.8235294117647058,0.8235294117647058,0.6666666666666666,0.5,0.5,0.5,0.5,0.5,0.5,0.6250000000000001,0.6250000000000001,0.6250000000000001,0.6250000000000001,0.6250000000000001,0.6250000000000001,0.6250000000000001],[1.0,1.0,1.0,0.8235294117647058,0.8235294117647058,0.8235294117647058,0.6666666666666666,0.5,0.5,0.5,0.5,0.5,0.5,0.6250000000000001,0.6250000000000001,0.6250000000000001,0.6250000000000001,0.6250000000000001,0.6250000000000001,0.6250000000000001],[1.0,1.0,1.0,0.8235294117647058,0.8235294117647058,0.8235294117647058,0.6666666666666666,0.5,0.5,0.5,0.5,0.5,0.5,0.6250000000000001,0.6250000000000001,0.6250000000000001,0.6250000000000001,0.6250000000000001,0.6250000000000001,0.6250000000000001],[0.8235294117647058,0.8235294117647058,0.8235294117647058,1.0,1.0,1.0,0.8333333333333333,0.6956521739130435,0.6956521739130435,0.6956521739130435,0.6956521739130435,0.6956521739130435,0.6956521739130435,0.8421052631578948,0.8421052631578948,0.8421052631578948,0.8421052631578948,0.8421052631578948,0.8421052631578948,0.8421052631578948],[0.8235294117647058,0.8235294117647058,0.8235294117647058,1.0,1.0,1.0,0.8333333333333333,0.6956521739130435,0.6956521739130435,0.6956521739130435,0.6956521739130435,0.6956521739130435,0.6956521739130435,0.8421052631578948,0.8421052631578948,0.8421052631578948,0.8421052631578948,0.8421052631578948,0.8421052631578948,0.8421052631578948],[0.8235294117647058,0.8235294117647058,0.8235294117647058,1.0,1.0,1.0,0.8333333333333333,0.6956521739130435,0.6956521739130435,0.6956521739130435,0.6956521739130435,0.6956521739130435,0.6956521739130435,0.8421052631578948,0.8421052631578948,0.8421052631578948,0.8421052631578948,0.8421052631578948,0.8421052631578948,0.8421052631578948],[0.6666666666666666,0.6666666666666666,0.6666666666666666,0.8333333333333333,0.8333333333333333,0.8333333333333333,1.0,0.888888888888889,0.888888888888889,0.888888888888889,0.888888888888889,0.888888888888889,0.888888888888889,0.6956521739130435,0.6956521739130435,0.6956521739130435,0.6956521739130435,0.6956521739130435,0.6956521739130435,0.6956521739130435],[0.5,0.5,0.5,0.6956521739130435,0.6956521739130435,0.6956521739130435,0.888888888888889,1.0,1.0,1.0,1.0,1.0,1.0,0.8181818181818181,0.8181818181818181,0.8181818181818181,0.8181818181818181,0.8181818181818181,0.8181818181818181,0.8181818181818181],[0.5,0.5,0.5,0.6956521739130435,0.6956521739130435,0.6956521739130435,0.888888888888889,1.0,1.0,1.0,1.0,1.0,1.0,0.8181818181818181,0.8181818181818181,0.8181818181818181,0.8181818181818181,0.8181818181818181,0.8181818181818181,0.8181818181818181],[0.5,0.5,0.5,0.6956521739130435,0.6956521739130435,0.6956521739130435,0.888888888888889,1.0,1.0,1.0,1.0,1.0,1.0,0.8181818181818181,0.8181818181818181,0.8181818181818181,0.8181818181818181,0.8181818181818181,0.8181818181818181,0.8181818181818181],[0.5,0.5,0.5,0.6956521739130435,0.6956521739130435,0.6956521739130435,0.888888888888889,1.0,1.0,1.0,1.0,1.0,1.0,0.8181818181818181,0.8181818181818181,0.8181818181818181,0.8181818181818181,0.8181818181818181,0.8181818181818181,0.8181818181818181],[0.5,0.5,0.5,0.6956521739130435,0.6956521739130435,0.6956521739130435,0.888888888888889,1.0,1.0,1.0,1.0,1.0,1.0,0.8181818181818181,0.8181818181818181,0.8181818181818181,0.8181818181818181,0.8181818181818181,0.8181818181818181,0.8181818181818181],[0.5,0.5,0.5,0.6956521739130435,0.6956521739130435,0.6956521739130435,0.888888888888889,1.0,1.0,1.0,1.0,1.0,1.0,0.8181818181818181,0.8181818181818181,0.8181818181818181,0.8181818181818181,0.8181818181818181,0.8181818181818181,0.8181818181818181],[0.6250000000000001,0.6250000000000001,0.6250000000000001,0.8421052631578948,0.8421052631578948,0.8421052631578948,0.6956521739130435,0.8181818181818181,0.8181818181818181,0.8181818181818181,0.8181818181818181,0.8181818181818181,0.8181818181818181,1.0,1.0,1.0,1.0,1.0,1.0,1.0],[0.6250000000000001,0.6250000000000001,0.6250000000000001,0.8421052631578948,0.8421052631578948,0.8421052631578948,0.6956521739130435,0.8181818181818181,0.8181818181818181,0.8181818181818181,0.8181818181818181,0.8181818181818181,0.8181818181818181,1.0,1.0,1.0,1.0,1.0,1.0,1.0],[0.6250000000000001,0.6250000000000001,0.6250000000000001,0.8421052631578948,0.8421052631578948,0.8421052631578948,0.6956521739130435,0.8181818181818181,0.8181818181818181,0.8181818181818181,0.8181818181818181,0.8181818181818181,0.8181818181818181,1.0,1.0,1.0,1.0,1.0,1.0,1.0],[0.6250000000000001,0.6250000000000001,0.6250000000000001,0.8421052631578948,0.8421052631578948,0.8421052631578948,0.6956521739130435,0.8181818181818181,0.8181818181818181,0.8181818181818181,0.8181818181818181,0.8181818181818181,0.8181818181818181,1.0,1.0,1.0,1.0,1.0,1.0,1.0],[0.6250000000000001,0.6250000000000001,0.6250000000000001,0.8421052631578948,0.8421052631578948,0.8421052631578948,0.6956521739130435,0.8181818181818181,0.8181818181818181,0.8181818181818181,0.8181818181818181,0.8181818181818181,0.8181818181818181,1.0,1.0,1.0,1.0,1.0,1.0,1.0],[0.6250000000000001,0.6250000000000001,0.6250000000000001,0.8421052631578948,0.8421052631578948,0.8421052631578948,0.6956521739130435,0.8181818181818181,0.8181818181818181,0.8181818181818181,0.8181818181818181,0.8181818181818181,0.8181818181818181,1.0,1.0,1.0,1.0,1.0,1.0,1.0],[0.6250000000000001,0.6250000000000001,0.6250000000000001,0.8421052631578948,0.8421052631578948,0.8421052631578948,0.6956521739130435,0.8181818181818181,0.8181818181818181,0.8181818181818181,0.8181818181818181,0.8181818181818181,0.8181818181818181,1.0,1.0,1.0,1.0,1.0,1.0,1.0]],\"zmax\":1.0,\"zmin\":0.5,\"type\":\"heatmap\"},{\"colorbar\":{\"title\":{\"text\":\"f1_score\"}},\"colorscale\":[[0.0,\"rgb(247,251,255)\"],[0.125,\"rgb(222,235,247)\"],[0.25,\"rgb(198,219,239)\"],[0.375,\"rgb(158,202,225)\"],[0.5,\"rgb(107,174,214)\"],[0.625,\"rgb(66,146,198)\"],[0.75,\"rgb(33,113,181)\"],[0.875,\"rgb(8,81,156)\"],[1.0,\"rgb(8,48,107)\"]],\"text\":[[\"1.00\",\"1.00\",\"1.00\",\"1.00\",\"1.00\",\"1.00\",\"1.00\",\"1.00\",\"0.86\",\"0.86\",\"0.86\",\"0.86\",\"0.86\",\"0.86\",\"0.86\",\"0.86\",\"0.86\",\"0.86\",\"0.86\",\"0.86\"],[\"1.00\",\"1.00\",\"1.00\",\"1.00\",\"1.00\",\"1.00\",\"1.00\",\"1.00\",\"0.86\",\"0.86\",\"0.86\",\"0.86\",\"0.86\",\"0.86\",\"0.86\",\"0.86\",\"0.86\",\"0.86\",\"0.86\",\"0.86\"],[\"1.00\",\"1.00\",\"1.00\",\"1.00\",\"1.00\",\"1.00\",\"1.00\",\"1.00\",\"0.86\",\"0.86\",\"0.86\",\"0.86\",\"0.86\",\"0.86\",\"0.86\",\"0.86\",\"0.86\",\"0.86\",\"0.86\",\"0.86\"],[\"1.00\",\"1.00\",\"1.00\",\"1.00\",\"1.00\",\"1.00\",\"1.00\",\"1.00\",\"0.86\",\"0.86\",\"0.86\",\"0.86\",\"0.86\",\"0.86\",\"0.86\",\"0.86\",\"0.86\",\"0.86\",\"0.86\",\"0.86\"],[\"1.00\",\"1.00\",\"1.00\",\"1.00\",\"1.00\",\"1.00\",\"1.00\",\"1.00\",\"0.86\",\"0.86\",\"0.86\",\"0.86\",\"0.86\",\"0.86\",\"0.86\",\"0.86\",\"0.86\",\"0.86\",\"0.86\",\"0.86\"],[\"1.00\",\"1.00\",\"1.00\",\"1.00\",\"1.00\",\"1.00\",\"1.00\",\"1.00\",\"0.86\",\"0.86\",\"0.86\",\"0.86\",\"0.86\",\"0.86\",\"0.86\",\"0.86\",\"0.86\",\"0.86\",\"0.86\",\"0.86\"],[\"1.00\",\"1.00\",\"1.00\",\"1.00\",\"1.00\",\"1.00\",\"1.00\",\"1.00\",\"0.86\",\"0.86\",\"0.86\",\"0.86\",\"0.86\",\"0.86\",\"0.86\",\"0.86\",\"0.86\",\"0.86\",\"0.86\",\"0.86\"],[\"1.00\",\"1.00\",\"1.00\",\"1.00\",\"1.00\",\"1.00\",\"1.00\",\"1.00\",\"0.86\",\"0.86\",\"0.86\",\"0.86\",\"0.86\",\"0.86\",\"0.86\",\"0.86\",\"0.86\",\"0.86\",\"0.86\",\"0.86\"],[\"0.86\",\"0.86\",\"0.86\",\"0.86\",\"0.86\",\"0.86\",\"0.86\",\"0.86\",\"1.00\",\"1.00\",\"1.00\",\"1.00\",\"1.00\",\"1.00\",\"1.00\",\"1.00\",\"1.00\",\"1.00\",\"1.00\",\"1.00\"],[\"0.86\",\"0.86\",\"0.86\",\"0.86\",\"0.86\",\"0.86\",\"0.86\",\"0.86\",\"1.00\",\"1.00\",\"1.00\",\"1.00\",\"1.00\",\"1.00\",\"1.00\",\"1.00\",\"1.00\",\"1.00\",\"1.00\",\"1.00\"],[\"0.86\",\"0.86\",\"0.86\",\"0.86\",\"0.86\",\"0.86\",\"0.86\",\"0.86\",\"1.00\",\"1.00\",\"1.00\",\"1.00\",\"1.00\",\"1.00\",\"1.00\",\"1.00\",\"1.00\",\"1.00\",\"1.00\",\"1.00\"],[\"0.86\",\"0.86\",\"0.86\",\"0.86\",\"0.86\",\"0.86\",\"0.86\",\"0.86\",\"1.00\",\"1.00\",\"1.00\",\"1.00\",\"1.00\",\"1.00\",\"1.00\",\"1.00\",\"1.00\",\"1.00\",\"1.00\",\"1.00\"],[\"0.86\",\"0.86\",\"0.86\",\"0.86\",\"0.86\",\"0.86\",\"0.86\",\"0.86\",\"1.00\",\"1.00\",\"1.00\",\"1.00\",\"1.00\",\"1.00\",\"1.00\",\"1.00\",\"1.00\",\"1.00\",\"1.00\",\"1.00\"],[\"0.86\",\"0.86\",\"0.86\",\"0.86\",\"0.86\",\"0.86\",\"0.86\",\"0.86\",\"1.00\",\"1.00\",\"1.00\",\"1.00\",\"1.00\",\"1.00\",\"1.00\",\"1.00\",\"1.00\",\"1.00\",\"1.00\",\"1.00\"],[\"0.86\",\"0.86\",\"0.86\",\"0.86\",\"0.86\",\"0.86\",\"0.86\",\"0.86\",\"1.00\",\"1.00\",\"1.00\",\"1.00\",\"1.00\",\"1.00\",\"1.00\",\"1.00\",\"1.00\",\"1.00\",\"1.00\",\"1.00\"],[\"0.86\",\"0.86\",\"0.86\",\"0.86\",\"0.86\",\"0.86\",\"0.86\",\"0.86\",\"1.00\",\"1.00\",\"1.00\",\"1.00\",\"1.00\",\"1.00\",\"1.00\",\"1.00\",\"1.00\",\"1.00\",\"1.00\",\"1.00\"],[\"0.86\",\"0.86\",\"0.86\",\"0.86\",\"0.86\",\"0.86\",\"0.86\",\"0.86\",\"1.00\",\"1.00\",\"1.00\",\"1.00\",\"1.00\",\"1.00\",\"1.00\",\"1.00\",\"1.00\",\"1.00\",\"1.00\",\"1.00\"],[\"0.86\",\"0.86\",\"0.86\",\"0.86\",\"0.86\",\"0.86\",\"0.86\",\"0.86\",\"1.00\",\"1.00\",\"1.00\",\"1.00\",\"1.00\",\"1.00\",\"1.00\",\"1.00\",\"1.00\",\"1.00\",\"1.00\",\"1.00\"],[\"0.86\",\"0.86\",\"0.86\",\"0.86\",\"0.86\",\"0.86\",\"0.86\",\"0.86\",\"1.00\",\"1.00\",\"1.00\",\"1.00\",\"1.00\",\"1.00\",\"1.00\",\"1.00\",\"1.00\",\"1.00\",\"1.00\",\"1.00\"],[\"0.86\",\"0.86\",\"0.86\",\"0.86\",\"0.86\",\"0.86\",\"0.86\",\"0.86\",\"1.00\",\"1.00\",\"1.00\",\"1.00\",\"1.00\",\"1.00\",\"1.00\",\"1.00\",\"1.00\",\"1.00\",\"1.00\",\"1.00\"]],\"textfont\":{\"size\":8},\"texttemplate\":\"%{text}\",\"visible\":false,\"x\":[\"0.0100\",\"0.0200\",\"0.0300\",\"0.0400\",\"0.0500\",\"0.0600\",\"0.0700\",\"0.0800\",\"0.0900\",\"0.1000\",\"0.1100\",\"0.1200\",\"0.1300\",\"0.1400\",\"0.1500\",\"0.1600\",\"0.1700\",\"0.1800\",\"0.1900\",\"0.2000\"],\"y\":[\"0.0100\",\"0.0200\",\"0.0300\",\"0.0400\",\"0.0500\",\"0.0600\",\"0.0700\",\"0.0800\",\"0.0900\",\"0.1000\",\"0.1100\",\"0.1200\",\"0.1300\",\"0.1400\",\"0.1500\",\"0.1600\",\"0.1700\",\"0.1800\",\"0.1900\",\"0.2000\"],\"z\":[[1.0,1.0,1.0,1.0,1.0,1.0,1.0,1.0,0.8571428571428571,0.8571428571428571,0.8571428571428571,0.8571428571428571,0.8571428571428571,0.8571428571428571,0.8571428571428571,0.8571428571428571,0.8571428571428571,0.8571428571428571,0.8571428571428571,0.8571428571428571],[1.0,1.0,1.0,1.0,1.0,1.0,1.0,1.0,0.8571428571428571,0.8571428571428571,0.8571428571428571,0.8571428571428571,0.8571428571428571,0.8571428571428571,0.8571428571428571,0.8571428571428571,0.8571428571428571,0.8571428571428571,0.8571428571428571,0.8571428571428571],[1.0,1.0,1.0,1.0,1.0,1.0,1.0,1.0,0.8571428571428571,0.8571428571428571,0.8571428571428571,0.8571428571428571,0.8571428571428571,0.8571428571428571,0.8571428571428571,0.8571428571428571,0.8571428571428571,0.8571428571428571,0.8571428571428571,0.8571428571428571],[1.0,1.0,1.0,1.0,1.0,1.0,1.0,1.0,0.8571428571428571,0.8571428571428571,0.8571428571428571,0.8571428571428571,0.8571428571428571,0.8571428571428571,0.8571428571428571,0.8571428571428571,0.8571428571428571,0.8571428571428571,0.8571428571428571,0.8571428571428571],[1.0,1.0,1.0,1.0,1.0,1.0,1.0,1.0,0.8571428571428571,0.8571428571428571,0.8571428571428571,0.8571428571428571,0.8571428571428571,0.8571428571428571,0.8571428571428571,0.8571428571428571,0.8571428571428571,0.8571428571428571,0.8571428571428571,0.8571428571428571],[1.0,1.0,1.0,1.0,1.0,1.0,1.0,1.0,0.8571428571428571,0.8571428571428571,0.8571428571428571,0.8571428571428571,0.8571428571428571,0.8571428571428571,0.8571428571428571,0.8571428571428571,0.8571428571428571,0.8571428571428571,0.8571428571428571,0.8571428571428571],[1.0,1.0,1.0,1.0,1.0,1.0,1.0,1.0,0.8571428571428571,0.8571428571428571,0.8571428571428571,0.8571428571428571,0.8571428571428571,0.8571428571428571,0.8571428571428571,0.8571428571428571,0.8571428571428571,0.8571428571428571,0.8571428571428571,0.8571428571428571],[1.0,1.0,1.0,1.0,1.0,1.0,1.0,1.0,0.8571428571428571,0.8571428571428571,0.8571428571428571,0.8571428571428571,0.8571428571428571,0.8571428571428571,0.8571428571428571,0.8571428571428571,0.8571428571428571,0.8571428571428571,0.8571428571428571,0.8571428571428571],[0.8571428571428571,0.8571428571428571,0.8571428571428571,0.8571428571428571,0.8571428571428571,0.8571428571428571,0.8571428571428571,0.8571428571428571,1.0,1.0,1.0,1.0,1.0,1.0,1.0,1.0,1.0,1.0,1.0,1.0],[0.8571428571428571,0.8571428571428571,0.8571428571428571,0.8571428571428571,0.8571428571428571,0.8571428571428571,0.8571428571428571,0.8571428571428571,1.0,1.0,1.0,1.0,1.0,1.0,1.0,1.0,1.0,1.0,1.0,1.0],[0.8571428571428571,0.8571428571428571,0.8571428571428571,0.8571428571428571,0.8571428571428571,0.8571428571428571,0.8571428571428571,0.8571428571428571,1.0,1.0,1.0,1.0,1.0,1.0,1.0,1.0,1.0,1.0,1.0,1.0],[0.8571428571428571,0.8571428571428571,0.8571428571428571,0.8571428571428571,0.8571428571428571,0.8571428571428571,0.8571428571428571,0.8571428571428571,1.0,1.0,1.0,1.0,1.0,1.0,1.0,1.0,1.0,1.0,1.0,1.0],[0.8571428571428571,0.8571428571428571,0.8571428571428571,0.8571428571428571,0.8571428571428571,0.8571428571428571,0.8571428571428571,0.8571428571428571,1.0,1.0,1.0,1.0,1.0,1.0,1.0,1.0,1.0,1.0,1.0,1.0],[0.8571428571428571,0.8571428571428571,0.8571428571428571,0.8571428571428571,0.8571428571428571,0.8571428571428571,0.8571428571428571,0.8571428571428571,1.0,1.0,1.0,1.0,1.0,1.0,1.0,1.0,1.0,1.0,1.0,1.0],[0.8571428571428571,0.8571428571428571,0.8571428571428571,0.8571428571428571,0.8571428571428571,0.8571428571428571,0.8571428571428571,0.8571428571428571,1.0,1.0,1.0,1.0,1.0,1.0,1.0,1.0,1.0,1.0,1.0,1.0],[0.8571428571428571,0.8571428571428571,0.8571428571428571,0.8571428571428571,0.8571428571428571,0.8571428571428571,0.8571428571428571,0.8571428571428571,1.0,1.0,1.0,1.0,1.0,1.0,1.0,1.0,1.0,1.0,1.0,1.0],[0.8571428571428571,0.8571428571428571,0.8571428571428571,0.8571428571428571,0.8571428571428571,0.8571428571428571,0.8571428571428571,0.8571428571428571,1.0,1.0,1.0,1.0,1.0,1.0,1.0,1.0,1.0,1.0,1.0,1.0],[0.8571428571428571,0.8571428571428571,0.8571428571428571,0.8571428571428571,0.8571428571428571,0.8571428571428571,0.8571428571428571,0.8571428571428571,1.0,1.0,1.0,1.0,1.0,1.0,1.0,1.0,1.0,1.0,1.0,1.0],[0.8571428571428571,0.8571428571428571,0.8571428571428571,0.8571428571428571,0.8571428571428571,0.8571428571428571,0.8571428571428571,0.8571428571428571,1.0,1.0,1.0,1.0,1.0,1.0,1.0,1.0,1.0,1.0,1.0,1.0],[0.8571428571428571,0.8571428571428571,0.8571428571428571,0.8571428571428571,0.8571428571428571,0.8571428571428571,0.8571428571428571,0.8571428571428571,1.0,1.0,1.0,1.0,1.0,1.0,1.0,1.0,1.0,1.0,1.0,1.0]],\"zmax\":1.0,\"zmin\":0.8571428571428571,\"type\":\"heatmap\"},{\"colorbar\":{\"title\":{\"text\":\"f1_score\"}},\"colorscale\":[[0.0,\"rgb(247,251,255)\"],[0.125,\"rgb(222,235,247)\"],[0.25,\"rgb(198,219,239)\"],[0.375,\"rgb(158,202,225)\"],[0.5,\"rgb(107,174,214)\"],[0.625,\"rgb(66,146,198)\"],[0.75,\"rgb(33,113,181)\"],[0.875,\"rgb(8,81,156)\"],[1.0,\"rgb(8,48,107)\"]],\"text\":[[\"1.00\",\"1.00\",\"1.00\",\"1.00\",\"1.00\",\"1.00\",\"1.00\",\"0.50\",\"0.50\",\"0.50\",\"0.50\",\"0.50\",\"0.00\",\"0.00\",\"0.50\",\"0.50\",\"0.50\",\"0.50\",\"0.50\",\"0.50\"],[\"1.00\",\"1.00\",\"1.00\",\"1.00\",\"1.00\",\"1.00\",\"1.00\",\"0.50\",\"0.50\",\"0.50\",\"0.50\",\"0.50\",\"0.00\",\"0.00\",\"0.50\",\"0.50\",\"0.50\",\"0.50\",\"0.50\",\"0.50\"],[\"1.00\",\"1.00\",\"1.00\",\"1.00\",\"1.00\",\"1.00\",\"1.00\",\"0.50\",\"0.50\",\"0.50\",\"0.50\",\"0.50\",\"0.00\",\"0.00\",\"0.50\",\"0.50\",\"0.50\",\"0.50\",\"0.50\",\"0.50\"],[\"1.00\",\"1.00\",\"1.00\",\"1.00\",\"1.00\",\"1.00\",\"1.00\",\"0.50\",\"0.50\",\"0.50\",\"0.50\",\"0.50\",\"0.00\",\"0.00\",\"0.50\",\"0.50\",\"0.50\",\"0.50\",\"0.50\",\"0.50\"],[\"1.00\",\"1.00\",\"1.00\",\"1.00\",\"1.00\",\"1.00\",\"1.00\",\"0.50\",\"0.50\",\"0.50\",\"0.50\",\"0.50\",\"0.00\",\"0.00\",\"0.50\",\"0.50\",\"0.50\",\"0.50\",\"0.50\",\"0.50\"],[\"1.00\",\"1.00\",\"1.00\",\"1.00\",\"1.00\",\"1.00\",\"1.00\",\"0.50\",\"0.50\",\"0.50\",\"0.50\",\"0.50\",\"0.00\",\"0.00\",\"0.50\",\"0.50\",\"0.50\",\"0.50\",\"0.50\",\"0.50\"],[\"1.00\",\"1.00\",\"1.00\",\"1.00\",\"1.00\",\"1.00\",\"1.00\",\"0.50\",\"0.50\",\"0.50\",\"0.50\",\"0.50\",\"0.00\",\"0.00\",\"0.50\",\"0.50\",\"0.50\",\"0.50\",\"0.50\",\"0.50\"],[\"0.50\",\"0.50\",\"0.50\",\"0.50\",\"0.50\",\"0.50\",\"0.50\",\"1.00\",\"1.00\",\"1.00\",\"1.00\",\"1.00\",\"0.00\",\"0.00\",\"1.00\",\"1.00\",\"1.00\",\"1.00\",\"1.00\",\"1.00\"],[\"0.50\",\"0.50\",\"0.50\",\"0.50\",\"0.50\",\"0.50\",\"0.50\",\"1.00\",\"1.00\",\"1.00\",\"1.00\",\"1.00\",\"0.00\",\"0.00\",\"1.00\",\"1.00\",\"1.00\",\"1.00\",\"1.00\",\"1.00\"],[\"0.50\",\"0.50\",\"0.50\",\"0.50\",\"0.50\",\"0.50\",\"0.50\",\"1.00\",\"1.00\",\"1.00\",\"1.00\",\"1.00\",\"0.00\",\"0.00\",\"1.00\",\"1.00\",\"1.00\",\"1.00\",\"1.00\",\"1.00\"],[\"0.50\",\"0.50\",\"0.50\",\"0.50\",\"0.50\",\"0.50\",\"0.50\",\"1.00\",\"1.00\",\"1.00\",\"1.00\",\"1.00\",\"0.00\",\"0.00\",\"1.00\",\"1.00\",\"1.00\",\"1.00\",\"1.00\",\"1.00\"],[\"0.50\",\"0.50\",\"0.50\",\"0.50\",\"0.50\",\"0.50\",\"0.50\",\"1.00\",\"1.00\",\"1.00\",\"1.00\",\"1.00\",\"0.00\",\"0.00\",\"1.00\",\"1.00\",\"1.00\",\"1.00\",\"1.00\",\"1.00\"],[\"0.00\",\"0.00\",\"0.00\",\"0.00\",\"0.00\",\"0.00\",\"0.00\",\"0.00\",\"0.00\",\"0.00\",\"0.00\",\"0.00\",\"1.00\",\"1.00\",\"0.00\",\"0.00\",\"0.00\",\"0.00\",\"0.00\",\"0.00\"],[\"0.00\",\"0.00\",\"0.00\",\"0.00\",\"0.00\",\"0.00\",\"0.00\",\"0.00\",\"0.00\",\"0.00\",\"0.00\",\"0.00\",\"1.00\",\"1.00\",\"0.00\",\"0.00\",\"0.00\",\"0.00\",\"0.00\",\"0.00\"],[\"0.50\",\"0.50\",\"0.50\",\"0.50\",\"0.50\",\"0.50\",\"0.50\",\"1.00\",\"1.00\",\"1.00\",\"1.00\",\"1.00\",\"0.00\",\"0.00\",\"1.00\",\"1.00\",\"1.00\",\"1.00\",\"1.00\",\"1.00\"],[\"0.50\",\"0.50\",\"0.50\",\"0.50\",\"0.50\",\"0.50\",\"0.50\",\"1.00\",\"1.00\",\"1.00\",\"1.00\",\"1.00\",\"0.00\",\"0.00\",\"1.00\",\"1.00\",\"1.00\",\"1.00\",\"1.00\",\"1.00\"],[\"0.50\",\"0.50\",\"0.50\",\"0.50\",\"0.50\",\"0.50\",\"0.50\",\"1.00\",\"1.00\",\"1.00\",\"1.00\",\"1.00\",\"0.00\",\"0.00\",\"1.00\",\"1.00\",\"1.00\",\"1.00\",\"1.00\",\"1.00\"],[\"0.50\",\"0.50\",\"0.50\",\"0.50\",\"0.50\",\"0.50\",\"0.50\",\"1.00\",\"1.00\",\"1.00\",\"1.00\",\"1.00\",\"0.00\",\"0.00\",\"1.00\",\"1.00\",\"1.00\",\"1.00\",\"1.00\",\"1.00\"],[\"0.50\",\"0.50\",\"0.50\",\"0.50\",\"0.50\",\"0.50\",\"0.50\",\"1.00\",\"1.00\",\"1.00\",\"1.00\",\"1.00\",\"0.00\",\"0.00\",\"1.00\",\"1.00\",\"1.00\",\"1.00\",\"1.00\",\"1.00\"],[\"0.50\",\"0.50\",\"0.50\",\"0.50\",\"0.50\",\"0.50\",\"0.50\",\"1.00\",\"1.00\",\"1.00\",\"1.00\",\"1.00\",\"0.00\",\"0.00\",\"1.00\",\"1.00\",\"1.00\",\"1.00\",\"1.00\",\"1.00\"]],\"textfont\":{\"size\":8},\"texttemplate\":\"%{text}\",\"visible\":false,\"x\":[\"0.0100\",\"0.0200\",\"0.0300\",\"0.0400\",\"0.0500\",\"0.0600\",\"0.0700\",\"0.0800\",\"0.0900\",\"0.1000\",\"0.1100\",\"0.1200\",\"0.1300\",\"0.1400\",\"0.1500\",\"0.1600\",\"0.1700\",\"0.1800\",\"0.1900\",\"0.2000\"],\"y\":[\"0.0100\",\"0.0200\",\"0.0300\",\"0.0400\",\"0.0500\",\"0.0600\",\"0.0700\",\"0.0800\",\"0.0900\",\"0.1000\",\"0.1100\",\"0.1200\",\"0.1300\",\"0.1400\",\"0.1500\",\"0.1600\",\"0.1700\",\"0.1800\",\"0.1900\",\"0.2000\"],\"z\":[[1.0,1.0,1.0,1.0,1.0,1.0,1.0,0.5,0.5,0.5,0.5,0.5,0.0,0.0,0.5,0.5,0.5,0.5,0.5,0.5],[1.0,1.0,1.0,1.0,1.0,1.0,1.0,0.5,0.5,0.5,0.5,0.5,0.0,0.0,0.5,0.5,0.5,0.5,0.5,0.5],[1.0,1.0,1.0,1.0,1.0,1.0,1.0,0.5,0.5,0.5,0.5,0.5,0.0,0.0,0.5,0.5,0.5,0.5,0.5,0.5],[1.0,1.0,1.0,1.0,1.0,1.0,1.0,0.5,0.5,0.5,0.5,0.5,0.0,0.0,0.5,0.5,0.5,0.5,0.5,0.5],[1.0,1.0,1.0,1.0,1.0,1.0,1.0,0.5,0.5,0.5,0.5,0.5,0.0,0.0,0.5,0.5,0.5,0.5,0.5,0.5],[1.0,1.0,1.0,1.0,1.0,1.0,1.0,0.5,0.5,0.5,0.5,0.5,0.0,0.0,0.5,0.5,0.5,0.5,0.5,0.5],[1.0,1.0,1.0,1.0,1.0,1.0,1.0,0.5,0.5,0.5,0.5,0.5,0.0,0.0,0.5,0.5,0.5,0.5,0.5,0.5],[0.5,0.5,0.5,0.5,0.5,0.5,0.5,1.0,1.0,1.0,1.0,1.0,0.0,0.0,1.0,1.0,1.0,1.0,1.0,1.0],[0.5,0.5,0.5,0.5,0.5,0.5,0.5,1.0,1.0,1.0,1.0,1.0,0.0,0.0,1.0,1.0,1.0,1.0,1.0,1.0],[0.5,0.5,0.5,0.5,0.5,0.5,0.5,1.0,1.0,1.0,1.0,1.0,0.0,0.0,1.0,1.0,1.0,1.0,1.0,1.0],[0.5,0.5,0.5,0.5,0.5,0.5,0.5,1.0,1.0,1.0,1.0,1.0,0.0,0.0,1.0,1.0,1.0,1.0,1.0,1.0],[0.5,0.5,0.5,0.5,0.5,0.5,0.5,1.0,1.0,1.0,1.0,1.0,0.0,0.0,1.0,1.0,1.0,1.0,1.0,1.0],[0.0,0.0,0.0,0.0,0.0,0.0,0.0,0.0,0.0,0.0,0.0,0.0,1.0,1.0,0.0,0.0,0.0,0.0,0.0,0.0],[0.0,0.0,0.0,0.0,0.0,0.0,0.0,0.0,0.0,0.0,0.0,0.0,1.0,1.0,0.0,0.0,0.0,0.0,0.0,0.0],[0.5,0.5,0.5,0.5,0.5,0.5,0.5,1.0,1.0,1.0,1.0,1.0,0.0,0.0,1.0,1.0,1.0,1.0,1.0,1.0],[0.5,0.5,0.5,0.5,0.5,0.5,0.5,1.0,1.0,1.0,1.0,1.0,0.0,0.0,1.0,1.0,1.0,1.0,1.0,1.0],[0.5,0.5,0.5,0.5,0.5,0.5,0.5,1.0,1.0,1.0,1.0,1.0,0.0,0.0,1.0,1.0,1.0,1.0,1.0,1.0],[0.5,0.5,0.5,0.5,0.5,0.5,0.5,1.0,1.0,1.0,1.0,1.0,0.0,0.0,1.0,1.0,1.0,1.0,1.0,1.0],[0.5,0.5,0.5,0.5,0.5,0.5,0.5,1.0,1.0,1.0,1.0,1.0,0.0,0.0,1.0,1.0,1.0,1.0,1.0,1.0],[0.5,0.5,0.5,0.5,0.5,0.5,0.5,1.0,1.0,1.0,1.0,1.0,0.0,0.0,1.0,1.0,1.0,1.0,1.0,1.0]],\"zmax\":1.0,\"zmin\":0.0,\"type\":\"heatmap\"}],                        {\"template\":{\"data\":{\"histogram2dcontour\":[{\"type\":\"histogram2dcontour\",\"colorbar\":{\"outlinewidth\":0,\"ticks\":\"\"},\"colorscale\":[[0.0,\"#0d0887\"],[0.1111111111111111,\"#46039f\"],[0.2222222222222222,\"#7201a8\"],[0.3333333333333333,\"#9c179e\"],[0.4444444444444444,\"#bd3786\"],[0.5555555555555556,\"#d8576b\"],[0.6666666666666666,\"#ed7953\"],[0.7777777777777778,\"#fb9f3a\"],[0.8888888888888888,\"#fdca26\"],[1.0,\"#f0f921\"]]}],\"choropleth\":[{\"type\":\"choropleth\",\"colorbar\":{\"outlinewidth\":0,\"ticks\":\"\"}}],\"histogram2d\":[{\"type\":\"histogram2d\",\"colorbar\":{\"outlinewidth\":0,\"ticks\":\"\"},\"colorscale\":[[0.0,\"#0d0887\"],[0.1111111111111111,\"#46039f\"],[0.2222222222222222,\"#7201a8\"],[0.3333333333333333,\"#9c179e\"],[0.4444444444444444,\"#bd3786\"],[0.5555555555555556,\"#d8576b\"],[0.6666666666666666,\"#ed7953\"],[0.7777777777777778,\"#fb9f3a\"],[0.8888888888888888,\"#fdca26\"],[1.0,\"#f0f921\"]]}],\"heatmap\":[{\"type\":\"heatmap\",\"colorbar\":{\"outlinewidth\":0,\"ticks\":\"\"},\"colorscale\":[[0.0,\"#0d0887\"],[0.1111111111111111,\"#46039f\"],[0.2222222222222222,\"#7201a8\"],[0.3333333333333333,\"#9c179e\"],[0.4444444444444444,\"#bd3786\"],[0.5555555555555556,\"#d8576b\"],[0.6666666666666666,\"#ed7953\"],[0.7777777777777778,\"#fb9f3a\"],[0.8888888888888888,\"#fdca26\"],[1.0,\"#f0f921\"]]}],\"heatmapgl\":[{\"type\":\"heatmapgl\",\"colorbar\":{\"outlinewidth\":0,\"ticks\":\"\"},\"colorscale\":[[0.0,\"#0d0887\"],[0.1111111111111111,\"#46039f\"],[0.2222222222222222,\"#7201a8\"],[0.3333333333333333,\"#9c179e\"],[0.4444444444444444,\"#bd3786\"],[0.5555555555555556,\"#d8576b\"],[0.6666666666666666,\"#ed7953\"],[0.7777777777777778,\"#fb9f3a\"],[0.8888888888888888,\"#fdca26\"],[1.0,\"#f0f921\"]]}],\"contourcarpet\":[{\"type\":\"contourcarpet\",\"colorbar\":{\"outlinewidth\":0,\"ticks\":\"\"}}],\"contour\":[{\"type\":\"contour\",\"colorbar\":{\"outlinewidth\":0,\"ticks\":\"\"},\"colorscale\":[[0.0,\"#0d0887\"],[0.1111111111111111,\"#46039f\"],[0.2222222222222222,\"#7201a8\"],[0.3333333333333333,\"#9c179e\"],[0.4444444444444444,\"#bd3786\"],[0.5555555555555556,\"#d8576b\"],[0.6666666666666666,\"#ed7953\"],[0.7777777777777778,\"#fb9f3a\"],[0.8888888888888888,\"#fdca26\"],[1.0,\"#f0f921\"]]}],\"surface\":[{\"type\":\"surface\",\"colorbar\":{\"outlinewidth\":0,\"ticks\":\"\"},\"colorscale\":[[0.0,\"#0d0887\"],[0.1111111111111111,\"#46039f\"],[0.2222222222222222,\"#7201a8\"],[0.3333333333333333,\"#9c179e\"],[0.4444444444444444,\"#bd3786\"],[0.5555555555555556,\"#d8576b\"],[0.6666666666666666,\"#ed7953\"],[0.7777777777777778,\"#fb9f3a\"],[0.8888888888888888,\"#fdca26\"],[1.0,\"#f0f921\"]]}],\"mesh3d\":[{\"type\":\"mesh3d\",\"colorbar\":{\"outlinewidth\":0,\"ticks\":\"\"}}],\"scatter\":[{\"fillpattern\":{\"fillmode\":\"overlay\",\"size\":10,\"solidity\":0.2},\"type\":\"scatter\"}],\"parcoords\":[{\"type\":\"parcoords\",\"line\":{\"colorbar\":{\"outlinewidth\":0,\"ticks\":\"\"}}}],\"scatterpolargl\":[{\"type\":\"scatterpolargl\",\"marker\":{\"colorbar\":{\"outlinewidth\":0,\"ticks\":\"\"}}}],\"bar\":[{\"error_x\":{\"color\":\"#2a3f5f\"},\"error_y\":{\"color\":\"#2a3f5f\"},\"marker\":{\"line\":{\"color\":\"#E5ECF6\",\"width\":0.5},\"pattern\":{\"fillmode\":\"overlay\",\"size\":10,\"solidity\":0.2}},\"type\":\"bar\"}],\"scattergeo\":[{\"type\":\"scattergeo\",\"marker\":{\"colorbar\":{\"outlinewidth\":0,\"ticks\":\"\"}}}],\"scatterpolar\":[{\"type\":\"scatterpolar\",\"marker\":{\"colorbar\":{\"outlinewidth\":0,\"ticks\":\"\"}}}],\"histogram\":[{\"marker\":{\"pattern\":{\"fillmode\":\"overlay\",\"size\":10,\"solidity\":0.2}},\"type\":\"histogram\"}],\"scattergl\":[{\"type\":\"scattergl\",\"marker\":{\"colorbar\":{\"outlinewidth\":0,\"ticks\":\"\"}}}],\"scatter3d\":[{\"type\":\"scatter3d\",\"line\":{\"colorbar\":{\"outlinewidth\":0,\"ticks\":\"\"}},\"marker\":{\"colorbar\":{\"outlinewidth\":0,\"ticks\":\"\"}}}],\"scattermapbox\":[{\"type\":\"scattermapbox\",\"marker\":{\"colorbar\":{\"outlinewidth\":0,\"ticks\":\"\"}}}],\"scatterternary\":[{\"type\":\"scatterternary\",\"marker\":{\"colorbar\":{\"outlinewidth\":0,\"ticks\":\"\"}}}],\"scattercarpet\":[{\"type\":\"scattercarpet\",\"marker\":{\"colorbar\":{\"outlinewidth\":0,\"ticks\":\"\"}}}],\"carpet\":[{\"aaxis\":{\"endlinecolor\":\"#2a3f5f\",\"gridcolor\":\"white\",\"linecolor\":\"white\",\"minorgridcolor\":\"white\",\"startlinecolor\":\"#2a3f5f\"},\"baxis\":{\"endlinecolor\":\"#2a3f5f\",\"gridcolor\":\"white\",\"linecolor\":\"white\",\"minorgridcolor\":\"white\",\"startlinecolor\":\"#2a3f5f\"},\"type\":\"carpet\"}],\"table\":[{\"cells\":{\"fill\":{\"color\":\"#EBF0F8\"},\"line\":{\"color\":\"white\"}},\"header\":{\"fill\":{\"color\":\"#C8D4E3\"},\"line\":{\"color\":\"white\"}},\"type\":\"table\"}],\"barpolar\":[{\"marker\":{\"line\":{\"color\":\"#E5ECF6\",\"width\":0.5},\"pattern\":{\"fillmode\":\"overlay\",\"size\":10,\"solidity\":0.2}},\"type\":\"barpolar\"}],\"pie\":[{\"automargin\":true,\"type\":\"pie\"}]},\"layout\":{\"autotypenumbers\":\"strict\",\"colorway\":[\"#636efa\",\"#EF553B\",\"#00cc96\",\"#ab63fa\",\"#FFA15A\",\"#19d3f3\",\"#FF6692\",\"#B6E880\",\"#FF97FF\",\"#FECB52\"],\"font\":{\"color\":\"#2a3f5f\"},\"hovermode\":\"closest\",\"hoverlabel\":{\"align\":\"left\"},\"paper_bgcolor\":\"white\",\"plot_bgcolor\":\"#E5ECF6\",\"polar\":{\"bgcolor\":\"#E5ECF6\",\"angularaxis\":{\"gridcolor\":\"white\",\"linecolor\":\"white\",\"ticks\":\"\"},\"radialaxis\":{\"gridcolor\":\"white\",\"linecolor\":\"white\",\"ticks\":\"\"}},\"ternary\":{\"bgcolor\":\"#E5ECF6\",\"aaxis\":{\"gridcolor\":\"white\",\"linecolor\":\"white\",\"ticks\":\"\"},\"baxis\":{\"gridcolor\":\"white\",\"linecolor\":\"white\",\"ticks\":\"\"},\"caxis\":{\"gridcolor\":\"white\",\"linecolor\":\"white\",\"ticks\":\"\"}},\"coloraxis\":{\"colorbar\":{\"outlinewidth\":0,\"ticks\":\"\"}},\"colorscale\":{\"sequential\":[[0.0,\"#0d0887\"],[0.1111111111111111,\"#46039f\"],[0.2222222222222222,\"#7201a8\"],[0.3333333333333333,\"#9c179e\"],[0.4444444444444444,\"#bd3786\"],[0.5555555555555556,\"#d8576b\"],[0.6666666666666666,\"#ed7953\"],[0.7777777777777778,\"#fb9f3a\"],[0.8888888888888888,\"#fdca26\"],[1.0,\"#f0f921\"]],\"sequentialminus\":[[0.0,\"#0d0887\"],[0.1111111111111111,\"#46039f\"],[0.2222222222222222,\"#7201a8\"],[0.3333333333333333,\"#9c179e\"],[0.4444444444444444,\"#bd3786\"],[0.5555555555555556,\"#d8576b\"],[0.6666666666666666,\"#ed7953\"],[0.7777777777777778,\"#fb9f3a\"],[0.8888888888888888,\"#fdca26\"],[1.0,\"#f0f921\"]],\"diverging\":[[0,\"#8e0152\"],[0.1,\"#c51b7d\"],[0.2,\"#de77ae\"],[0.3,\"#f1b6da\"],[0.4,\"#fde0ef\"],[0.5,\"#f7f7f7\"],[0.6,\"#e6f5d0\"],[0.7,\"#b8e186\"],[0.8,\"#7fbc41\"],[0.9,\"#4d9221\"],[1,\"#276419\"]]},\"xaxis\":{\"gridcolor\":\"white\",\"linecolor\":\"white\",\"ticks\":\"\",\"title\":{\"standoff\":15},\"zerolinecolor\":\"white\",\"automargin\":true,\"zerolinewidth\":2},\"yaxis\":{\"gridcolor\":\"white\",\"linecolor\":\"white\",\"ticks\":\"\",\"title\":{\"standoff\":15},\"zerolinecolor\":\"white\",\"automargin\":true,\"zerolinewidth\":2},\"scene\":{\"xaxis\":{\"backgroundcolor\":\"#E5ECF6\",\"gridcolor\":\"white\",\"linecolor\":\"white\",\"showbackground\":true,\"ticks\":\"\",\"zerolinecolor\":\"white\",\"gridwidth\":2},\"yaxis\":{\"backgroundcolor\":\"#E5ECF6\",\"gridcolor\":\"white\",\"linecolor\":\"white\",\"showbackground\":true,\"ticks\":\"\",\"zerolinecolor\":\"white\",\"gridwidth\":2},\"zaxis\":{\"backgroundcolor\":\"#E5ECF6\",\"gridcolor\":\"white\",\"linecolor\":\"white\",\"showbackground\":true,\"ticks\":\"\",\"zerolinecolor\":\"white\",\"gridwidth\":2}},\"shapedefaults\":{\"line\":{\"color\":\"#2a3f5f\"}},\"annotationdefaults\":{\"arrowcolor\":\"#2a3f5f\",\"arrowhead\":0,\"arrowwidth\":1},\"geo\":{\"bgcolor\":\"white\",\"landcolor\":\"#E5ECF6\",\"subunitcolor\":\"white\",\"showland\":true,\"showlakes\":true,\"lakecolor\":\"white\"},\"title\":{\"x\":0.05},\"mapbox\":{\"style\":\"light\"}}},\"title\":{\"text\":\"f1_score Heatmap \\u2014 Node: All\"},\"xaxis\":{\"title\":{\"text\":\"Model Name\"}},\"yaxis\":{\"title\":{\"text\":\"Model Name\"}},\"updatemenus\":[{\"active\":0,\"buttons\":[{\"args\":[{\"visible\":[true,false,false,false]},{\"title\":\"f1_score Heatmap \\u2014 Node: All\"}],\"label\":\"All\",\"method\":\"update\"},{\"args\":[{\"visible\":[false,true,false,false]},{\"title\":\"f1_score Heatmap \\u2014 Node: X_1\"}],\"label\":\"X_1\",\"method\":\"update\"},{\"args\":[{\"visible\":[false,false,true,false]},{\"title\":\"f1_score Heatmap \\u2014 Node: X_2\"}],\"label\":\"X_2\",\"method\":\"update\"},{\"args\":[{\"visible\":[false,false,false,true]},{\"title\":\"f1_score Heatmap \\u2014 Node: X_3\"}],\"label\":\"X_3\",\"method\":\"update\"}],\"direction\":\"down\",\"x\":1.02,\"xanchor\":\"left\",\"y\":1.1,\"yanchor\":\"top\"}],\"width\":900,\"height\":800},                        {\"responsive\": true}                    ).then(function(){\n",
       "                            \n",
       "var gd = document.getElementById('7bf9101d-d592-43c9-8e53-1cb1ff00e9d4');\n",
       "var x = new MutationObserver(function (mutations, observer) {{\n",
       "        var display = window.getComputedStyle(gd).display;\n",
       "        if (!display || display === 'none') {{\n",
       "            console.log([gd, 'removed!']);\n",
       "            Plotly.purge(gd);\n",
       "            observer.disconnect();\n",
       "        }}\n",
       "}});\n",
       "\n",
       "// Listen for the removal of the full notebook cells\n",
       "var notebookContainer = gd.closest('#notebook-container');\n",
       "if (notebookContainer) {{\n",
       "    x.observe(notebookContainer, {childList: true});\n",
       "}}\n",
       "\n",
       "// Listen for the clearing of the current output cell\n",
       "var outputEl = gd.closest('.output');\n",
       "if (outputEl) {{\n",
       "    x.observe(outputEl, {childList: true});\n",
       "}}\n",
       "\n",
       "                        })                };                });            </script>        </div>"
      ]
     },
     "metadata": {},
     "output_type": "display_data"
    }
   ],
   "source": [
    "compare_models_comparative(list_of_dags=list_of_models, model_names=alphas, node_names=list(true_dag.nodes), metric='f1_score', mb_nodes=['X_1', 'X_2', 'X_3'])"
   ]
  },
  {
   "cell_type": "markdown",
   "id": "fca6d3f8-cc84-4412-9bf9-796c66df105e",
   "metadata": {},
   "source": [
    "For the full structure, the F1 score ranges from 0.73 to 1.  \n",
    "Some models are very similar — for example, the models with alpha values of 0.03 and 0.04, as well as those with 0.19 and 0.20, have an F1 score of 0.99.  \n",
    "The least similar models are those with alpha values of 0.03 and 0.20, and 0.03 and 0.14.\n",
    "\n",
    "We can also observe that the model with an alpha value of 0.12 has an F1 score above 0.83 when compared to all other models.  \n",
    "This may serve as an indirect indicator of model stability."
   ]
  },
  {
   "cell_type": "markdown",
   "id": "3c6df7ba-46e8-41a0-b9a9-f68b4e019259",
   "metadata": {},
   "source": [
    "If we zoom in on the Markov blanket of node `X_1`, we can see that several models produce exactly the same result — this is evident in the areas of the heatmap where the F1 score is 1.  \n",
    "\n",
    "Some areas of the heatmap also highlight the least similar models — for example, models with alpha values between 0.01 and 0.03 compared to models with alpha values between 0.08 and 0.13.\n",
    "\n",
    "We can now inspect the most similar models by visualizing the Markov blankets of node `X_1`.\n",
    " "
   ]
  },
  {
   "cell_type": "code",
   "execution_count": 23,
   "id": "934f54f0-7d3d-4e2f-bb6e-488fd3745170",
   "metadata": {},
   "outputs": [
    {
     "data": {
      "text/html": [
       "\n",
       "        <div style=\"display: flex; gap: 60px;\">\n",
       "            <div style=\"text-align: center;\">\n",
       "                <h3>Markov blanket of node X_1 with alpha = 0.08</h3>\n",
       "                <?xml version=\"1.0\" encoding=\"UTF-8\" standalone=\"no\"?>\r\n",
       "<!DOCTYPE svg PUBLIC \"-//W3C//DTD SVG 1.1//EN\"\r\n",
       " \"http://www.w3.org/Graphics/SVG/1.1/DTD/svg11.dtd\">\r\n",
       "<!-- Generated by graphviz version 8.0.5 (20230430.1635)\r\n",
       " -->\r\n",
       "<!-- Title: Markov blanket of node X_1 with alpha = 0.08 Pages: 1 -->\r\n",
       "<svg width=\"398pt\" height=\"260pt\"\r\n",
       " viewBox=\"0.00 0.00 398.47 260.00\" xmlns=\"http://www.w3.org/2000/svg\" xmlns:xlink=\"http://www.w3.org/1999/xlink\">\r\n",
       "<g id=\"graph0\" class=\"graph\" transform=\"scale(1 1) rotate(0) translate(4 256)\">\r\n",
       "<title>Markov blanket of node X_1 with alpha = 0.08</title>\r\n",
       "<polygon fill=\"white\" stroke=\"none\" points=\"-4,4 -4,-256 394.47,-256 394.47,4 -4,4\"/>\r\n",
       "<!-- X_14 -->\r\n",
       "<g id=\"node1\" class=\"node\">\r\n",
       "<title>X_14</title>\r\n",
       "<ellipse fill=\"none\" stroke=\"black\" cx=\"140.37\" cy=\"-18\" rx=\"31.1\" ry=\"18\"/>\r\n",
       "<text text-anchor=\"middle\" x=\"140.37\" y=\"-12.57\" font-family=\"Times New Roman,serif\" font-size=\"14.00\">X_14</text>\r\n",
       "</g>\r\n",
       "<!-- X_20 -->\r\n",
       "<g id=\"node2\" class=\"node\">\r\n",
       "<title>X_20</title>\r\n",
       "<ellipse fill=\"none\" stroke=\"black\" cx=\"45.37\" cy=\"-162\" rx=\"31.1\" ry=\"18\"/>\r\n",
       "<text text-anchor=\"middle\" x=\"45.37\" y=\"-156.57\" font-family=\"Times New Roman,serif\" font-size=\"14.00\">X_20</text>\r\n",
       "</g>\r\n",
       "<!-- X_1 -->\r\n",
       "<g id=\"node9\" class=\"node\">\r\n",
       "<title>X_1</title>\r\n",
       "<ellipse fill=\"lightgreen\" stroke=\"black\" cx=\"85.37\" cy=\"-90\" rx=\"27\" ry=\"18\"/>\r\n",
       "<text text-anchor=\"middle\" x=\"85.37\" y=\"-84.58\" font-family=\"Times New Roman,serif\" font-size=\"14.00\">X_1</text>\r\n",
       "</g>\r\n",
       "<!-- X_20&#45;&gt;X_1 -->\r\n",
       "<g id=\"edge1\" class=\"edge\">\r\n",
       "<title>X_20&#45;&gt;X_1</title>\r\n",
       "<path fill=\"none\" stroke=\"crimson\" d=\"M54.85,-144.41C59.65,-136.01 65.58,-125.63 70.93,-116.26\"/>\r\n",
       "<polygon fill=\"crimson\" stroke=\"crimson\" points=\"74.31,-118.41 76.23,-107.99 68.23,-114.93 74.31,-118.41\"/>\r\n",
       "</g>\r\n",
       "<!-- X_8 -->\r\n",
       "<g id=\"node3\" class=\"node\">\r\n",
       "<title>X_8</title>\r\n",
       "<ellipse fill=\"none\" stroke=\"black\" cx=\"247.37\" cy=\"-18\" rx=\"27\" ry=\"18\"/>\r\n",
       "<text text-anchor=\"middle\" x=\"247.37\" y=\"-12.57\" font-family=\"Times New Roman,serif\" font-size=\"14.00\">X_8</text>\r\n",
       "</g>\r\n",
       "<!-- X_28 -->\r\n",
       "<g id=\"node4\" class=\"node\">\r\n",
       "<title>X_28</title>\r\n",
       "<ellipse fill=\"none\" stroke=\"black\" cx=\"205.37\" cy=\"-162\" rx=\"31.1\" ry=\"18\"/>\r\n",
       "<text text-anchor=\"middle\" x=\"205.37\" y=\"-156.57\" font-family=\"Times New Roman,serif\" font-size=\"14.00\">X_28</text>\r\n",
       "</g>\r\n",
       "<!-- X_28&#45;&gt;X_14 -->\r\n",
       "<g id=\"edge2\" class=\"edge\">\r\n",
       "<title>X_28&#45;&gt;X_14</title>\r\n",
       "<path fill=\"none\" stroke=\"crimson\" d=\"M188.95,-146.32C178.92,-136.45 166.65,-122.61 159.37,-108 149.84,-88.89 145.08,-65.15 142.7,-46.99\"/>\r\n",
       "<polygon fill=\"crimson\" stroke=\"crimson\" points=\"146.09,-46.78 141.49,-37.24 139.13,-47.57 146.09,-46.78\"/>\r\n",
       "</g>\r\n",
       "<!-- X_34 -->\r\n",
       "<g id=\"node5\" class=\"node\">\r\n",
       "<title>X_34</title>\r\n",
       "<ellipse fill=\"none\" stroke=\"black\" cx=\"125.37\" cy=\"-162\" rx=\"31.1\" ry=\"18\"/>\r\n",
       "<text text-anchor=\"middle\" x=\"125.37\" y=\"-156.57\" font-family=\"Times New Roman,serif\" font-size=\"14.00\">X_34</text>\r\n",
       "</g>\r\n",
       "<!-- X_34&#45;&gt;X_1 -->\r\n",
       "<g id=\"edge3\" class=\"edge\">\r\n",
       "<title>X_34&#45;&gt;X_1</title>\r\n",
       "<path fill=\"none\" stroke=\"crimson\" d=\"M115.89,-144.41C111.09,-136.01 105.16,-125.63 99.8,-116.26\"/>\r\n",
       "<polygon fill=\"crimson\" stroke=\"crimson\" points=\"102.51,-114.93 94.51,-107.99 96.43,-118.41 102.51,-114.93\"/>\r\n",
       "</g>\r\n",
       "<!-- X_24 -->\r\n",
       "<g id=\"node6\" class=\"node\">\r\n",
       "<title>X_24</title>\r\n",
       "<ellipse fill=\"none\" stroke=\"black\" cx=\"199.37\" cy=\"-90\" rx=\"31.1\" ry=\"18\"/>\r\n",
       "<text text-anchor=\"middle\" x=\"199.37\" y=\"-84.58\" font-family=\"Times New Roman,serif\" font-size=\"14.00\">X_24</text>\r\n",
       "</g>\r\n",
       "<!-- X_24&#45;&gt;X_14 -->\r\n",
       "<g id=\"edge4\" class=\"edge\">\r\n",
       "<title>X_24&#45;&gt;X_14</title>\r\n",
       "<path fill=\"none\" stroke=\"crimson\" d=\"M186.28,-73.46C178.64,-64.4 168.85,-52.79 160.27,-42.61\"/>\r\n",
       "<polygon fill=\"crimson\" stroke=\"crimson\" points=\"162.55,-40.88 153.43,-35.49 157.2,-45.39 162.55,-40.88\"/>\r\n",
       "</g>\r\n",
       "<!-- X_24&#45;&gt;X_8 -->\r\n",
       "<g id=\"edge5\" class=\"edge\">\r\n",
       "<title>X_24&#45;&gt;X_8</title>\r\n",
       "<path fill=\"none\" stroke=\"crimson\" d=\"M210.5,-72.76C216.46,-64.07 223.93,-53.19 230.58,-43.49\"/>\r\n",
       "<polygon fill=\"crimson\" stroke=\"crimson\" points=\"233.86,-45.89 236.63,-35.67 228.09,-41.93 233.86,-45.89\"/>\r\n",
       "</g>\r\n",
       "<!-- X_32 -->\r\n",
       "<g id=\"node7\" class=\"node\">\r\n",
       "<title>X_32</title>\r\n",
       "<ellipse fill=\"none\" stroke=\"black\" cx=\"43.37\" cy=\"-18\" rx=\"31.1\" ry=\"18\"/>\r\n",
       "<text text-anchor=\"middle\" x=\"43.37\" y=\"-12.57\" font-family=\"Times New Roman,serif\" font-size=\"14.00\">X_32</text>\r\n",
       "</g>\r\n",
       "<!-- X_39 -->\r\n",
       "<g id=\"node8\" class=\"node\">\r\n",
       "<title>X_39</title>\r\n",
       "<ellipse fill=\"none\" stroke=\"black\" cx=\"279.37\" cy=\"-90\" rx=\"31.1\" ry=\"18\"/>\r\n",
       "<text text-anchor=\"middle\" x=\"279.37\" y=\"-84.58\" font-family=\"Times New Roman,serif\" font-size=\"14.00\">X_39</text>\r\n",
       "</g>\r\n",
       "<!-- X_39&#45;&gt;X_8 -->\r\n",
       "<g id=\"edge6\" class=\"edge\">\r\n",
       "<title>X_39&#45;&gt;X_8</title>\r\n",
       "<path fill=\"none\" stroke=\"crimson\" d=\"M271.79,-72.41C268.08,-64.3 263.53,-54.35 259.37,-45.25\"/>\r\n",
       "<polygon fill=\"crimson\" stroke=\"crimson\" points=\"262.24,-44.11 254.9,-36.47 255.87,-47.02 262.24,-44.11\"/>\r\n",
       "</g>\r\n",
       "<!-- X_1&#45;&gt;X_14 -->\r\n",
       "<g id=\"edge7\" class=\"edge\">\r\n",
       "<title>X_1&#45;&gt;X_14</title>\r\n",
       "<path fill=\"none\" stroke=\"crimson\" d=\"M97.58,-73.46C104.53,-64.62 113.39,-53.34 121.25,-43.34\"/>\r\n",
       "<polygon fill=\"crimson\" stroke=\"crimson\" points=\"124.39,-46 127.82,-35.98 118.89,-41.68 124.39,-46\"/>\r\n",
       "</g>\r\n",
       "<!-- X_1&#45;&gt;X_8 -->\r\n",
       "<g id=\"edge8\" class=\"edge\">\r\n",
       "<title>X_1&#45;&gt;X_8</title>\r\n",
       "<path fill=\"none\" stroke=\"crimson\" d=\"M107.55,-79.41C135.39,-67.39 183.34,-46.67 215.2,-32.9\"/>\r\n",
       "<polygon fill=\"crimson\" stroke=\"crimson\" points=\"216.14,-35.87 223.93,-28.7 213.36,-29.45 216.14,-35.87\"/>\r\n",
       "</g>\r\n",
       "<!-- X_1&#45;&gt;X_32 -->\r\n",
       "<g id=\"edge9\" class=\"edge\">\r\n",
       "<title>X_1&#45;&gt;X_32</title>\r\n",
       "<path fill=\"none\" stroke=\"crimson\" d=\"M75.63,-72.76C70.59,-64.37 64.33,-53.93 58.67,-44.5\"/>\r\n",
       "<polygon fill=\"crimson\" stroke=\"crimson\" points=\"61.2,-42.92 53.06,-36.15 55.2,-46.52 61.2,-42.92\"/>\r\n",
       "</g>\r\n",
       "<!-- X_16 -->\r\n",
       "<g id=\"node10\" class=\"node\">\r\n",
       "<title>X_16</title>\r\n",
       "<ellipse fill=\"none\" stroke=\"black\" cx=\"359.37\" cy=\"-90\" rx=\"31.1\" ry=\"18\"/>\r\n",
       "<text text-anchor=\"middle\" x=\"359.37\" y=\"-84.58\" font-family=\"Times New Roman,serif\" font-size=\"14.00\">X_16</text>\r\n",
       "</g>\r\n",
       "<!-- X_16&#45;&gt;X_8 -->\r\n",
       "<g id=\"edge10\" class=\"edge\">\r\n",
       "<title>X_16&#45;&gt;X_8</title>\r\n",
       "<path fill=\"none\" stroke=\"crimson\" d=\"M338.83,-76.16C321.13,-65.1 295.42,-49.03 275.76,-36.75\"/>\r\n",
       "<polygon fill=\"crimson\" stroke=\"crimson\" points=\"277.99,-33.39 267.66,-31.06 274.28,-39.32 277.99,-33.39\"/>\r\n",
       "</g>\r\n",
       "<!-- X_27 -->\r\n",
       "<g id=\"node11\" class=\"node\">\r\n",
       "<title>X_27</title>\r\n",
       "<ellipse fill=\"none\" stroke=\"black\" cx=\"45.37\" cy=\"-234\" rx=\"31.1\" ry=\"18\"/>\r\n",
       "<text text-anchor=\"middle\" x=\"45.37\" y=\"-228.57\" font-family=\"Times New Roman,serif\" font-size=\"14.00\">X_27</text>\r\n",
       "</g>\r\n",
       "<!-- X_27&#45;&gt;X_20 -->\r\n",
       "<g id=\"edge13\" class=\"edge\">\r\n",
       "<title>X_27&#45;&gt;X_20</title>\r\n",
       "<path fill=\"none\" stroke=\"crimson\" d=\"M45.37,-215.7C45.37,-208.24 45.37,-199.32 45.37,-190.97\"/>\r\n",
       "<polygon fill=\"crimson\" stroke=\"crimson\" points=\"48.87,-191.1 45.37,-181.1 41.87,-191.1 48.87,-191.1\"/>\r\n",
       "</g>\r\n",
       "<!-- X_27&#45;&gt;X_28 -->\r\n",
       "<g id=\"edge12\" class=\"edge\">\r\n",
       "<title>X_27&#45;&gt;X_28</title>\r\n",
       "<path fill=\"none\" stroke=\"crimson\" d=\"M69.67,-222.37C96.77,-210.51 140.79,-191.25 171.31,-177.9\"/>\r\n",
       "<polygon fill=\"crimson\" stroke=\"crimson\" points=\"172.34,-180.83 180.1,-173.62 169.54,-174.42 172.34,-180.83\"/>\r\n",
       "</g>\r\n",
       "<!-- X_27&#45;&gt;X_32 -->\r\n",
       "<g id=\"edge11\" class=\"edge\">\r\n",
       "<title>X_27&#45;&gt;X_32</title>\r\n",
       "<path fill=\"none\" stroke=\"crimson\" d=\"M30.12,-218.34C21.01,-208.48 10.28,-194.65 5.37,-180 -10.27,-133.31 12.08,-76.95 28.55,-44.81\"/>\r\n",
       "<polygon fill=\"crimson\" stroke=\"crimson\" points=\"32.02,-46.74 33.64,-36.27 25.85,-43.45 32.02,-46.74\"/>\r\n",
       "</g>\r\n",
       "</g>\r\n",
       "</svg>\r\n",
       "\n",
       "            </div>\n",
       "            <div style=\"text-align: center;\">\n",
       "                <h3>Markov blanket of node X_1 with alpha = 0.13</h3>\n",
       "                <?xml version=\"1.0\" encoding=\"UTF-8\" standalone=\"no\"?>\r\n",
       "<!DOCTYPE svg PUBLIC \"-//W3C//DTD SVG 1.1//EN\"\r\n",
       " \"http://www.w3.org/Graphics/SVG/1.1/DTD/svg11.dtd\">\r\n",
       "<!-- Generated by graphviz version 8.0.5 (20230430.1635)\r\n",
       " -->\r\n",
       "<!-- Title: Markov blanket of node X_1 with alpha = 0.13 Pages: 1 -->\r\n",
       "<svg width=\"398pt\" height=\"260pt\"\r\n",
       " viewBox=\"0.00 0.00 398.47 260.00\" xmlns=\"http://www.w3.org/2000/svg\" xmlns:xlink=\"http://www.w3.org/1999/xlink\">\r\n",
       "<g id=\"graph0\" class=\"graph\" transform=\"scale(1 1) rotate(0) translate(4 256)\">\r\n",
       "<title>Markov blanket of node X_1 with alpha = 0.13</title>\r\n",
       "<polygon fill=\"white\" stroke=\"none\" points=\"-4,4 -4,-256 394.47,-256 394.47,4 -4,4\"/>\r\n",
       "<!-- X_14 -->\r\n",
       "<g id=\"node1\" class=\"node\">\r\n",
       "<title>X_14</title>\r\n",
       "<ellipse fill=\"none\" stroke=\"black\" cx=\"140.37\" cy=\"-18\" rx=\"31.1\" ry=\"18\"/>\r\n",
       "<text text-anchor=\"middle\" x=\"140.37\" y=\"-12.57\" font-family=\"Times New Roman,serif\" font-size=\"14.00\">X_14</text>\r\n",
       "</g>\r\n",
       "<!-- X_20 -->\r\n",
       "<g id=\"node2\" class=\"node\">\r\n",
       "<title>X_20</title>\r\n",
       "<ellipse fill=\"none\" stroke=\"black\" cx=\"45.37\" cy=\"-162\" rx=\"31.1\" ry=\"18\"/>\r\n",
       "<text text-anchor=\"middle\" x=\"45.37\" y=\"-156.57\" font-family=\"Times New Roman,serif\" font-size=\"14.00\">X_20</text>\r\n",
       "</g>\r\n",
       "<!-- X_1 -->\r\n",
       "<g id=\"node9\" class=\"node\">\r\n",
       "<title>X_1</title>\r\n",
       "<ellipse fill=\"lightgreen\" stroke=\"black\" cx=\"85.37\" cy=\"-90\" rx=\"27\" ry=\"18\"/>\r\n",
       "<text text-anchor=\"middle\" x=\"85.37\" y=\"-84.58\" font-family=\"Times New Roman,serif\" font-size=\"14.00\">X_1</text>\r\n",
       "</g>\r\n",
       "<!-- X_20&#45;&gt;X_1 -->\r\n",
       "<g id=\"edge1\" class=\"edge\">\r\n",
       "<title>X_20&#45;&gt;X_1</title>\r\n",
       "<path fill=\"none\" stroke=\"crimson\" d=\"M54.85,-144.41C59.65,-136.01 65.58,-125.63 70.93,-116.26\"/>\r\n",
       "<polygon fill=\"crimson\" stroke=\"crimson\" points=\"74.31,-118.41 76.23,-107.99 68.23,-114.93 74.31,-118.41\"/>\r\n",
       "</g>\r\n",
       "<!-- X_8 -->\r\n",
       "<g id=\"node3\" class=\"node\">\r\n",
       "<title>X_8</title>\r\n",
       "<ellipse fill=\"none\" stroke=\"black\" cx=\"247.37\" cy=\"-18\" rx=\"27\" ry=\"18\"/>\r\n",
       "<text text-anchor=\"middle\" x=\"247.37\" y=\"-12.57\" font-family=\"Times New Roman,serif\" font-size=\"14.00\">X_8</text>\r\n",
       "</g>\r\n",
       "<!-- X_28 -->\r\n",
       "<g id=\"node4\" class=\"node\">\r\n",
       "<title>X_28</title>\r\n",
       "<ellipse fill=\"none\" stroke=\"black\" cx=\"205.37\" cy=\"-162\" rx=\"31.1\" ry=\"18\"/>\r\n",
       "<text text-anchor=\"middle\" x=\"205.37\" y=\"-156.57\" font-family=\"Times New Roman,serif\" font-size=\"14.00\">X_28</text>\r\n",
       "</g>\r\n",
       "<!-- X_28&#45;&gt;X_14 -->\r\n",
       "<g id=\"edge2\" class=\"edge\">\r\n",
       "<title>X_28&#45;&gt;X_14</title>\r\n",
       "<path fill=\"none\" stroke=\"crimson\" d=\"M188.95,-146.32C178.92,-136.45 166.65,-122.61 159.37,-108 149.84,-88.89 145.08,-65.15 142.7,-46.99\"/>\r\n",
       "<polygon fill=\"crimson\" stroke=\"crimson\" points=\"146.09,-46.78 141.49,-37.24 139.13,-47.57 146.09,-46.78\"/>\r\n",
       "</g>\r\n",
       "<!-- X_34 -->\r\n",
       "<g id=\"node5\" class=\"node\">\r\n",
       "<title>X_34</title>\r\n",
       "<ellipse fill=\"none\" stroke=\"black\" cx=\"125.37\" cy=\"-162\" rx=\"31.1\" ry=\"18\"/>\r\n",
       "<text text-anchor=\"middle\" x=\"125.37\" y=\"-156.57\" font-family=\"Times New Roman,serif\" font-size=\"14.00\">X_34</text>\r\n",
       "</g>\r\n",
       "<!-- X_34&#45;&gt;X_1 -->\r\n",
       "<g id=\"edge3\" class=\"edge\">\r\n",
       "<title>X_34&#45;&gt;X_1</title>\r\n",
       "<path fill=\"none\" stroke=\"crimson\" d=\"M115.89,-144.41C111.09,-136.01 105.16,-125.63 99.8,-116.26\"/>\r\n",
       "<polygon fill=\"crimson\" stroke=\"crimson\" points=\"102.51,-114.93 94.51,-107.99 96.43,-118.41 102.51,-114.93\"/>\r\n",
       "</g>\r\n",
       "<!-- X_24 -->\r\n",
       "<g id=\"node6\" class=\"node\">\r\n",
       "<title>X_24</title>\r\n",
       "<ellipse fill=\"none\" stroke=\"black\" cx=\"199.37\" cy=\"-90\" rx=\"31.1\" ry=\"18\"/>\r\n",
       "<text text-anchor=\"middle\" x=\"199.37\" y=\"-84.58\" font-family=\"Times New Roman,serif\" font-size=\"14.00\">X_24</text>\r\n",
       "</g>\r\n",
       "<!-- X_24&#45;&gt;X_14 -->\r\n",
       "<g id=\"edge4\" class=\"edge\">\r\n",
       "<title>X_24&#45;&gt;X_14</title>\r\n",
       "<path fill=\"none\" stroke=\"crimson\" d=\"M186.28,-73.46C178.64,-64.4 168.85,-52.79 160.27,-42.61\"/>\r\n",
       "<polygon fill=\"crimson\" stroke=\"crimson\" points=\"162.55,-40.88 153.43,-35.49 157.2,-45.39 162.55,-40.88\"/>\r\n",
       "</g>\r\n",
       "<!-- X_24&#45;&gt;X_8 -->\r\n",
       "<g id=\"edge5\" class=\"edge\">\r\n",
       "<title>X_24&#45;&gt;X_8</title>\r\n",
       "<path fill=\"none\" stroke=\"crimson\" d=\"M210.5,-72.76C216.46,-64.07 223.93,-53.19 230.58,-43.49\"/>\r\n",
       "<polygon fill=\"crimson\" stroke=\"crimson\" points=\"233.86,-45.89 236.63,-35.67 228.09,-41.93 233.86,-45.89\"/>\r\n",
       "</g>\r\n",
       "<!-- X_32 -->\r\n",
       "<g id=\"node7\" class=\"node\">\r\n",
       "<title>X_32</title>\r\n",
       "<ellipse fill=\"none\" stroke=\"black\" cx=\"43.37\" cy=\"-18\" rx=\"31.1\" ry=\"18\"/>\r\n",
       "<text text-anchor=\"middle\" x=\"43.37\" y=\"-12.57\" font-family=\"Times New Roman,serif\" font-size=\"14.00\">X_32</text>\r\n",
       "</g>\r\n",
       "<!-- X_39 -->\r\n",
       "<g id=\"node8\" class=\"node\">\r\n",
       "<title>X_39</title>\r\n",
       "<ellipse fill=\"none\" stroke=\"black\" cx=\"279.37\" cy=\"-90\" rx=\"31.1\" ry=\"18\"/>\r\n",
       "<text text-anchor=\"middle\" x=\"279.37\" y=\"-84.58\" font-family=\"Times New Roman,serif\" font-size=\"14.00\">X_39</text>\r\n",
       "</g>\r\n",
       "<!-- X_39&#45;&gt;X_8 -->\r\n",
       "<g id=\"edge6\" class=\"edge\">\r\n",
       "<title>X_39&#45;&gt;X_8</title>\r\n",
       "<path fill=\"none\" stroke=\"crimson\" d=\"M271.79,-72.41C268.08,-64.3 263.53,-54.35 259.37,-45.25\"/>\r\n",
       "<polygon fill=\"crimson\" stroke=\"crimson\" points=\"262.24,-44.11 254.9,-36.47 255.87,-47.02 262.24,-44.11\"/>\r\n",
       "</g>\r\n",
       "<!-- X_1&#45;&gt;X_14 -->\r\n",
       "<g id=\"edge7\" class=\"edge\">\r\n",
       "<title>X_1&#45;&gt;X_14</title>\r\n",
       "<path fill=\"none\" stroke=\"crimson\" d=\"M97.58,-73.46C104.53,-64.62 113.39,-53.34 121.25,-43.34\"/>\r\n",
       "<polygon fill=\"crimson\" stroke=\"crimson\" points=\"124.39,-46 127.82,-35.98 118.89,-41.68 124.39,-46\"/>\r\n",
       "</g>\r\n",
       "<!-- X_1&#45;&gt;X_8 -->\r\n",
       "<g id=\"edge8\" class=\"edge\">\r\n",
       "<title>X_1&#45;&gt;X_8</title>\r\n",
       "<path fill=\"none\" stroke=\"crimson\" d=\"M107.55,-79.41C135.39,-67.39 183.34,-46.67 215.2,-32.9\"/>\r\n",
       "<polygon fill=\"crimson\" stroke=\"crimson\" points=\"216.14,-35.87 223.93,-28.7 213.36,-29.45 216.14,-35.87\"/>\r\n",
       "</g>\r\n",
       "<!-- X_1&#45;&gt;X_32 -->\r\n",
       "<g id=\"edge9\" class=\"edge\">\r\n",
       "<title>X_1&#45;&gt;X_32</title>\r\n",
       "<path fill=\"none\" stroke=\"crimson\" d=\"M75.63,-72.76C70.59,-64.37 64.33,-53.93 58.67,-44.5\"/>\r\n",
       "<polygon fill=\"crimson\" stroke=\"crimson\" points=\"61.2,-42.92 53.06,-36.15 55.2,-46.52 61.2,-42.92\"/>\r\n",
       "</g>\r\n",
       "<!-- X_16 -->\r\n",
       "<g id=\"node10\" class=\"node\">\r\n",
       "<title>X_16</title>\r\n",
       "<ellipse fill=\"none\" stroke=\"black\" cx=\"359.37\" cy=\"-90\" rx=\"31.1\" ry=\"18\"/>\r\n",
       "<text text-anchor=\"middle\" x=\"359.37\" y=\"-84.58\" font-family=\"Times New Roman,serif\" font-size=\"14.00\">X_16</text>\r\n",
       "</g>\r\n",
       "<!-- X_16&#45;&gt;X_8 -->\r\n",
       "<g id=\"edge10\" class=\"edge\">\r\n",
       "<title>X_16&#45;&gt;X_8</title>\r\n",
       "<path fill=\"none\" stroke=\"crimson\" d=\"M338.83,-76.16C321.13,-65.1 295.42,-49.03 275.76,-36.75\"/>\r\n",
       "<polygon fill=\"crimson\" stroke=\"crimson\" points=\"277.99,-33.39 267.66,-31.06 274.28,-39.32 277.99,-33.39\"/>\r\n",
       "</g>\r\n",
       "<!-- X_27 -->\r\n",
       "<g id=\"node11\" class=\"node\">\r\n",
       "<title>X_27</title>\r\n",
       "<ellipse fill=\"none\" stroke=\"black\" cx=\"45.37\" cy=\"-234\" rx=\"31.1\" ry=\"18\"/>\r\n",
       "<text text-anchor=\"middle\" x=\"45.37\" y=\"-228.57\" font-family=\"Times New Roman,serif\" font-size=\"14.00\">X_27</text>\r\n",
       "</g>\r\n",
       "<!-- X_27&#45;&gt;X_20 -->\r\n",
       "<g id=\"edge13\" class=\"edge\">\r\n",
       "<title>X_27&#45;&gt;X_20</title>\r\n",
       "<path fill=\"none\" stroke=\"crimson\" d=\"M45.37,-215.7C45.37,-208.24 45.37,-199.32 45.37,-190.97\"/>\r\n",
       "<polygon fill=\"crimson\" stroke=\"crimson\" points=\"48.87,-191.1 45.37,-181.1 41.87,-191.1 48.87,-191.1\"/>\r\n",
       "</g>\r\n",
       "<!-- X_27&#45;&gt;X_28 -->\r\n",
       "<g id=\"edge12\" class=\"edge\">\r\n",
       "<title>X_27&#45;&gt;X_28</title>\r\n",
       "<path fill=\"none\" stroke=\"crimson\" d=\"M69.67,-222.37C96.77,-210.51 140.79,-191.25 171.31,-177.9\"/>\r\n",
       "<polygon fill=\"crimson\" stroke=\"crimson\" points=\"172.34,-180.83 180.1,-173.62 169.54,-174.42 172.34,-180.83\"/>\r\n",
       "</g>\r\n",
       "<!-- X_27&#45;&gt;X_32 -->\r\n",
       "<g id=\"edge11\" class=\"edge\">\r\n",
       "<title>X_27&#45;&gt;X_32</title>\r\n",
       "<path fill=\"none\" stroke=\"crimson\" d=\"M30.12,-218.34C21.01,-208.48 10.28,-194.65 5.37,-180 -10.27,-133.31 12.08,-76.95 28.55,-44.81\"/>\r\n",
       "<polygon fill=\"crimson\" stroke=\"crimson\" points=\"32.02,-46.74 33.64,-36.27 25.85,-43.45 32.02,-46.74\"/>\r\n",
       "</g>\r\n",
       "</g>\r\n",
       "</svg>\r\n",
       "\n",
       "            </div>\n",
       "        </div>\n",
       "        "
      ],
      "text/plain": [
       "<IPython.core.display.HTML object>"
      ]
     },
     "metadata": {},
     "output_type": "display_data"
    }
   ],
   "source": [
    "bb = BNMetrics(list_of_models[7], list_of_models[12], node_names=list(true_dag.nodes), mb_nodes=['X_1'])\n",
    "bb.compare_two_bn(nodes=['X_1'], name1=f'Markov blanket of node X_1 with alpha = {alphas[7]:.2f}', name2=f'Markov blanket of node X_1 with alpha = {alphas[12]:.2f}')"
   ]
  },
  {
   "cell_type": "markdown",
   "id": "3edbac0a-6085-4d90-80be-e57f2fd9299e",
   "metadata": {},
   "source": [
    "From the plot above, we can see that for the Markov blanket of node `X_1`, all edges are shown in red, indicating that the Markov blankets are identical.  \n",
    "\n",
    "Now, let's look at the least similar Markov blankets of node `X_1`.\n"
   ]
  },
  {
   "cell_type": "code",
   "execution_count": 24,
   "id": "a050d12f-af48-4278-9c0d-e9c50750caf2",
   "metadata": {},
   "outputs": [
    {
     "data": {
      "text/html": [
       "\n",
       "        <div style=\"display: flex; gap: 60px;\">\n",
       "            <div style=\"text-align: center;\">\n",
       "                <h3>Markov blanket of node X_1 with alpha = 0.01</h3>\n",
       "                <?xml version=\"1.0\" encoding=\"UTF-8\" standalone=\"no\"?>\r\n",
       "<!DOCTYPE svg PUBLIC \"-//W3C//DTD SVG 1.1//EN\"\r\n",
       " \"http://www.w3.org/Graphics/SVG/1.1/DTD/svg11.dtd\">\r\n",
       "<!-- Generated by graphviz version 8.0.5 (20230430.1635)\r\n",
       " -->\r\n",
       "<!-- Title: Markov blanket of node X_1 with alpha = 0.01 Pages: 1 -->\r\n",
       "<svg width=\"192pt\" height=\"260pt\"\r\n",
       " viewBox=\"0.00 0.00 191.73 260.00\" xmlns=\"http://www.w3.org/2000/svg\" xmlns:xlink=\"http://www.w3.org/1999/xlink\">\r\n",
       "<g id=\"graph0\" class=\"graph\" transform=\"scale(1 1) rotate(0) translate(4 256)\">\r\n",
       "<title>Markov blanket of node X_1 with alpha = 0.01</title>\r\n",
       "<polygon fill=\"white\" stroke=\"none\" points=\"-4,4 -4,-256 187.73,-256 187.73,4 -4,4\"/>\r\n",
       "<!-- X_20 -->\r\n",
       "<g id=\"node1\" class=\"node\">\r\n",
       "<title>X_20</title>\r\n",
       "<ellipse fill=\"none\" stroke=\"black\" cx=\"123.62\" cy=\"-162\" rx=\"31.1\" ry=\"18\"/>\r\n",
       "<text text-anchor=\"middle\" x=\"123.62\" y=\"-156.57\" font-family=\"Times New Roman,serif\" font-size=\"14.00\">X_20</text>\r\n",
       "</g>\r\n",
       "<!-- X_1 -->\r\n",
       "<g id=\"node4\" class=\"node\">\r\n",
       "<title>X_1</title>\r\n",
       "<ellipse fill=\"lightgreen\" stroke=\"black\" cx=\"83.62\" cy=\"-90\" rx=\"27\" ry=\"18\"/>\r\n",
       "<text text-anchor=\"middle\" x=\"83.62\" y=\"-84.58\" font-family=\"Times New Roman,serif\" font-size=\"14.00\">X_1</text>\r\n",
       "</g>\r\n",
       "<!-- X_20&#45;&gt;X_1 -->\r\n",
       "<g id=\"edge1\" class=\"edge\">\r\n",
       "<title>X_20&#45;&gt;X_1</title>\r\n",
       "<path fill=\"none\" stroke=\"crimson\" d=\"M114.15,-144.41C109.34,-136.01 103.41,-125.63 98.06,-116.26\"/>\r\n",
       "<polygon fill=\"crimson\" stroke=\"crimson\" points=\"100.76,-114.93 92.76,-107.99 94.68,-118.41 100.76,-114.93\"/>\r\n",
       "</g>\r\n",
       "<!-- X_34 -->\r\n",
       "<g id=\"node2\" class=\"node\">\r\n",
       "<title>X_34</title>\r\n",
       "<ellipse fill=\"none\" stroke=\"black\" cx=\"43.62\" cy=\"-162\" rx=\"31.1\" ry=\"18\"/>\r\n",
       "<text text-anchor=\"middle\" x=\"43.62\" y=\"-156.57\" font-family=\"Times New Roman,serif\" font-size=\"14.00\">X_34</text>\r\n",
       "</g>\r\n",
       "<!-- X_34&#45;&gt;X_1 -->\r\n",
       "<g id=\"edge2\" class=\"edge\">\r\n",
       "<title>X_34&#45;&gt;X_1</title>\r\n",
       "<path fill=\"none\" stroke=\"crimson\" d=\"M53.1,-144.41C57.91,-136.01 63.84,-125.63 69.19,-116.26\"/>\r\n",
       "<polygon fill=\"crimson\" stroke=\"crimson\" points=\"72.57,-118.41 74.49,-107.99 66.49,-114.93 72.57,-118.41\"/>\r\n",
       "</g>\r\n",
       "<!-- X_21 -->\r\n",
       "<g id=\"node3\" class=\"node\">\r\n",
       "<title>X_21</title>\r\n",
       "<ellipse fill=\"none\" stroke=\"black\" cx=\"43.62\" cy=\"-234\" rx=\"31.1\" ry=\"18\"/>\r\n",
       "<text text-anchor=\"middle\" x=\"43.62\" y=\"-228.57\" font-family=\"Times New Roman,serif\" font-size=\"14.00\">X_21</text>\r\n",
       "</g>\r\n",
       "<!-- X_21&#45;&gt;X_20 -->\r\n",
       "<g id=\"edge4\" class=\"edge\">\r\n",
       "<title>X_21&#45;&gt;X_20</title>\r\n",
       "<path fill=\"none\" stroke=\"black\" d=\"M60.2,-218.5C71.36,-208.73 86.26,-195.69 98.82,-184.7\"/>\r\n",
       "<polygon fill=\"black\" stroke=\"black\" points=\"100.85,-186.7 106.07,-177.49 96.24,-181.44 100.85,-186.7\"/>\r\n",
       "</g>\r\n",
       "<!-- X_32 -->\r\n",
       "<g id=\"node5\" class=\"node\">\r\n",
       "<title>X_32</title>\r\n",
       "<ellipse fill=\"none\" stroke=\"black\" cx=\"83.62\" cy=\"-18\" rx=\"31.1\" ry=\"18\"/>\r\n",
       "<text text-anchor=\"middle\" x=\"83.62\" y=\"-12.57\" font-family=\"Times New Roman,serif\" font-size=\"14.00\">X_32</text>\r\n",
       "</g>\r\n",
       "<!-- X_21&#45;&gt;X_32 -->\r\n",
       "<g id=\"edge3\" class=\"edge\">\r\n",
       "<title>X_21&#45;&gt;X_32</title>\r\n",
       "<path fill=\"none\" stroke=\"black\" d=\"M28.37,-218.34C19.26,-208.48 8.53,-194.65 3.62,-180 -1.46,-164.83 -0.71,-159.4 3.62,-144 14.64,-104.85 42.48,-66.46 62.22,-42.78\"/>\r\n",
       "<polygon fill=\"black\" stroke=\"black\" points=\"65.5,-45.32 69.33,-35.45 60.17,-40.78 65.5,-45.32\"/>\r\n",
       "</g>\r\n",
       "<!-- X_1&#45;&gt;X_32 -->\r\n",
       "<g id=\"edge5\" class=\"edge\">\r\n",
       "<title>X_1&#45;&gt;X_32</title>\r\n",
       "<path fill=\"none\" stroke=\"crimson\" d=\"M83.62,-71.7C83.62,-64.24 83.62,-55.32 83.62,-46.97\"/>\r\n",
       "<polygon fill=\"crimson\" stroke=\"crimson\" points=\"87.12,-47.1 83.62,-37.1 80.12,-47.1 87.12,-47.1\"/>\r\n",
       "</g>\r\n",
       "<!-- X_27 -->\r\n",
       "<g id=\"node6\" class=\"node\">\r\n",
       "<title>X_27</title>\r\n",
       "<ellipse fill=\"none\" stroke=\"black\" cx=\"152.62\" cy=\"-234\" rx=\"31.1\" ry=\"18\"/>\r\n",
       "<text text-anchor=\"middle\" x=\"152.62\" y=\"-228.57\" font-family=\"Times New Roman,serif\" font-size=\"14.00\">X_27</text>\r\n",
       "</g>\r\n",
       "<!-- X_27&#45;&gt;X_20 -->\r\n",
       "<g id=\"edge7\" class=\"edge\">\r\n",
       "<title>X_27&#45;&gt;X_20</title>\r\n",
       "<path fill=\"none\" stroke=\"crimson\" d=\"M145.6,-216.05C142.33,-208.14 138.35,-198.54 134.68,-189.69\"/>\r\n",
       "<polygon fill=\"crimson\" stroke=\"crimson\" points=\"137.64,-188.69 130.58,-180.79 131.17,-191.37 137.64,-188.69\"/>\r\n",
       "</g>\r\n",
       "<!-- X_27&#45;&gt;X_32 -->\r\n",
       "<g id=\"edge6\" class=\"edge\">\r\n",
       "<title>X_27&#45;&gt;X_32</title>\r\n",
       "<path fill=\"none\" stroke=\"crimson\" d=\"M158.65,-215.97C164.16,-197.83 170.5,-168.43 163.62,-144 152.61,-104.85 124.77,-66.46 105.03,-42.78\"/>\r\n",
       "<polygon fill=\"crimson\" stroke=\"crimson\" points=\"107.08,-40.78 97.92,-35.45 101.75,-45.32 107.08,-40.78\"/>\r\n",
       "</g>\r\n",
       "</g>\r\n",
       "</svg>\r\n",
       "\n",
       "            </div>\n",
       "            <div style=\"text-align: center;\">\n",
       "                <h3>Markov blanket of node X_1 with alpha = 0.13</h3>\n",
       "                <?xml version=\"1.0\" encoding=\"UTF-8\" standalone=\"no\"?>\r\n",
       "<!DOCTYPE svg PUBLIC \"-//W3C//DTD SVG 1.1//EN\"\r\n",
       " \"http://www.w3.org/Graphics/SVG/1.1/DTD/svg11.dtd\">\r\n",
       "<!-- Generated by graphviz version 8.0.5 (20230430.1635)\r\n",
       " -->\r\n",
       "<!-- Title: Markov blanket of node X_1 with alpha = 0.13 Pages: 1 -->\r\n",
       "<svg width=\"398pt\" height=\"260pt\"\r\n",
       " viewBox=\"0.00 0.00 398.47 260.00\" xmlns=\"http://www.w3.org/2000/svg\" xmlns:xlink=\"http://www.w3.org/1999/xlink\">\r\n",
       "<g id=\"graph0\" class=\"graph\" transform=\"scale(1 1) rotate(0) translate(4 256)\">\r\n",
       "<title>Markov blanket of node X_1 with alpha = 0.13</title>\r\n",
       "<polygon fill=\"white\" stroke=\"none\" points=\"-4,4 -4,-256 394.47,-256 394.47,4 -4,4\"/>\r\n",
       "<!-- X_14 -->\r\n",
       "<g id=\"node1\" class=\"node\">\r\n",
       "<title>X_14</title>\r\n",
       "<ellipse fill=\"none\" stroke=\"black\" cx=\"140.37\" cy=\"-18\" rx=\"31.1\" ry=\"18\"/>\r\n",
       "<text text-anchor=\"middle\" x=\"140.37\" y=\"-12.57\" font-family=\"Times New Roman,serif\" font-size=\"14.00\">X_14</text>\r\n",
       "</g>\r\n",
       "<!-- X_20 -->\r\n",
       "<g id=\"node2\" class=\"node\">\r\n",
       "<title>X_20</title>\r\n",
       "<ellipse fill=\"none\" stroke=\"black\" cx=\"45.37\" cy=\"-162\" rx=\"31.1\" ry=\"18\"/>\r\n",
       "<text text-anchor=\"middle\" x=\"45.37\" y=\"-156.57\" font-family=\"Times New Roman,serif\" font-size=\"14.00\">X_20</text>\r\n",
       "</g>\r\n",
       "<!-- X_1 -->\r\n",
       "<g id=\"node9\" class=\"node\">\r\n",
       "<title>X_1</title>\r\n",
       "<ellipse fill=\"lightgreen\" stroke=\"black\" cx=\"85.37\" cy=\"-90\" rx=\"27\" ry=\"18\"/>\r\n",
       "<text text-anchor=\"middle\" x=\"85.37\" y=\"-84.58\" font-family=\"Times New Roman,serif\" font-size=\"14.00\">X_1</text>\r\n",
       "</g>\r\n",
       "<!-- X_20&#45;&gt;X_1 -->\r\n",
       "<g id=\"edge1\" class=\"edge\">\r\n",
       "<title>X_20&#45;&gt;X_1</title>\r\n",
       "<path fill=\"none\" stroke=\"crimson\" d=\"M54.85,-144.41C59.65,-136.01 65.58,-125.63 70.93,-116.26\"/>\r\n",
       "<polygon fill=\"crimson\" stroke=\"crimson\" points=\"74.31,-118.41 76.23,-107.99 68.23,-114.93 74.31,-118.41\"/>\r\n",
       "</g>\r\n",
       "<!-- X_8 -->\r\n",
       "<g id=\"node3\" class=\"node\">\r\n",
       "<title>X_8</title>\r\n",
       "<ellipse fill=\"none\" stroke=\"black\" cx=\"247.37\" cy=\"-18\" rx=\"27\" ry=\"18\"/>\r\n",
       "<text text-anchor=\"middle\" x=\"247.37\" y=\"-12.57\" font-family=\"Times New Roman,serif\" font-size=\"14.00\">X_8</text>\r\n",
       "</g>\r\n",
       "<!-- X_28 -->\r\n",
       "<g id=\"node4\" class=\"node\">\r\n",
       "<title>X_28</title>\r\n",
       "<ellipse fill=\"none\" stroke=\"black\" cx=\"205.37\" cy=\"-162\" rx=\"31.1\" ry=\"18\"/>\r\n",
       "<text text-anchor=\"middle\" x=\"205.37\" y=\"-156.57\" font-family=\"Times New Roman,serif\" font-size=\"14.00\">X_28</text>\r\n",
       "</g>\r\n",
       "<!-- X_28&#45;&gt;X_14 -->\r\n",
       "<g id=\"edge2\" class=\"edge\">\r\n",
       "<title>X_28&#45;&gt;X_14</title>\r\n",
       "<path fill=\"none\" stroke=\"black\" d=\"M188.95,-146.32C178.92,-136.45 166.65,-122.61 159.37,-108 149.84,-88.89 145.08,-65.15 142.7,-46.99\"/>\r\n",
       "<polygon fill=\"black\" stroke=\"black\" points=\"146.09,-46.78 141.49,-37.24 139.13,-47.57 146.09,-46.78\"/>\r\n",
       "</g>\r\n",
       "<!-- X_34 -->\r\n",
       "<g id=\"node5\" class=\"node\">\r\n",
       "<title>X_34</title>\r\n",
       "<ellipse fill=\"none\" stroke=\"black\" cx=\"125.37\" cy=\"-162\" rx=\"31.1\" ry=\"18\"/>\r\n",
       "<text text-anchor=\"middle\" x=\"125.37\" y=\"-156.57\" font-family=\"Times New Roman,serif\" font-size=\"14.00\">X_34</text>\r\n",
       "</g>\r\n",
       "<!-- X_34&#45;&gt;X_1 -->\r\n",
       "<g id=\"edge3\" class=\"edge\">\r\n",
       "<title>X_34&#45;&gt;X_1</title>\r\n",
       "<path fill=\"none\" stroke=\"crimson\" d=\"M115.89,-144.41C111.09,-136.01 105.16,-125.63 99.8,-116.26\"/>\r\n",
       "<polygon fill=\"crimson\" stroke=\"crimson\" points=\"102.51,-114.93 94.51,-107.99 96.43,-118.41 102.51,-114.93\"/>\r\n",
       "</g>\r\n",
       "<!-- X_24 -->\r\n",
       "<g id=\"node6\" class=\"node\">\r\n",
       "<title>X_24</title>\r\n",
       "<ellipse fill=\"none\" stroke=\"black\" cx=\"199.37\" cy=\"-90\" rx=\"31.1\" ry=\"18\"/>\r\n",
       "<text text-anchor=\"middle\" x=\"199.37\" y=\"-84.58\" font-family=\"Times New Roman,serif\" font-size=\"14.00\">X_24</text>\r\n",
       "</g>\r\n",
       "<!-- X_24&#45;&gt;X_14 -->\r\n",
       "<g id=\"edge4\" class=\"edge\">\r\n",
       "<title>X_24&#45;&gt;X_14</title>\r\n",
       "<path fill=\"none\" stroke=\"black\" d=\"M186.28,-73.46C178.64,-64.4 168.85,-52.79 160.27,-42.61\"/>\r\n",
       "<polygon fill=\"black\" stroke=\"black\" points=\"162.55,-40.88 153.43,-35.49 157.2,-45.39 162.55,-40.88\"/>\r\n",
       "</g>\r\n",
       "<!-- X_24&#45;&gt;X_8 -->\r\n",
       "<g id=\"edge5\" class=\"edge\">\r\n",
       "<title>X_24&#45;&gt;X_8</title>\r\n",
       "<path fill=\"none\" stroke=\"black\" d=\"M210.5,-72.76C216.46,-64.07 223.93,-53.19 230.58,-43.49\"/>\r\n",
       "<polygon fill=\"black\" stroke=\"black\" points=\"233.86,-45.89 236.63,-35.67 228.09,-41.93 233.86,-45.89\"/>\r\n",
       "</g>\r\n",
       "<!-- X_32 -->\r\n",
       "<g id=\"node7\" class=\"node\">\r\n",
       "<title>X_32</title>\r\n",
       "<ellipse fill=\"none\" stroke=\"black\" cx=\"43.37\" cy=\"-18\" rx=\"31.1\" ry=\"18\"/>\r\n",
       "<text text-anchor=\"middle\" x=\"43.37\" y=\"-12.57\" font-family=\"Times New Roman,serif\" font-size=\"14.00\">X_32</text>\r\n",
       "</g>\r\n",
       "<!-- X_39 -->\r\n",
       "<g id=\"node8\" class=\"node\">\r\n",
       "<title>X_39</title>\r\n",
       "<ellipse fill=\"none\" stroke=\"black\" cx=\"279.37\" cy=\"-90\" rx=\"31.1\" ry=\"18\"/>\r\n",
       "<text text-anchor=\"middle\" x=\"279.37\" y=\"-84.58\" font-family=\"Times New Roman,serif\" font-size=\"14.00\">X_39</text>\r\n",
       "</g>\r\n",
       "<!-- X_39&#45;&gt;X_8 -->\r\n",
       "<g id=\"edge6\" class=\"edge\">\r\n",
       "<title>X_39&#45;&gt;X_8</title>\r\n",
       "<path fill=\"none\" stroke=\"black\" d=\"M271.79,-72.41C268.08,-64.3 263.53,-54.35 259.37,-45.25\"/>\r\n",
       "<polygon fill=\"black\" stroke=\"black\" points=\"262.24,-44.11 254.9,-36.47 255.87,-47.02 262.24,-44.11\"/>\r\n",
       "</g>\r\n",
       "<!-- X_1&#45;&gt;X_14 -->\r\n",
       "<g id=\"edge7\" class=\"edge\">\r\n",
       "<title>X_1&#45;&gt;X_14</title>\r\n",
       "<path fill=\"none\" stroke=\"black\" d=\"M97.58,-73.46C104.53,-64.62 113.39,-53.34 121.25,-43.34\"/>\r\n",
       "<polygon fill=\"black\" stroke=\"black\" points=\"124.39,-46 127.82,-35.98 118.89,-41.68 124.39,-46\"/>\r\n",
       "</g>\r\n",
       "<!-- X_1&#45;&gt;X_8 -->\r\n",
       "<g id=\"edge8\" class=\"edge\">\r\n",
       "<title>X_1&#45;&gt;X_8</title>\r\n",
       "<path fill=\"none\" stroke=\"black\" d=\"M107.55,-79.41C135.39,-67.39 183.34,-46.67 215.2,-32.9\"/>\r\n",
       "<polygon fill=\"black\" stroke=\"black\" points=\"216.14,-35.87 223.93,-28.7 213.36,-29.45 216.14,-35.87\"/>\r\n",
       "</g>\r\n",
       "<!-- X_1&#45;&gt;X_32 -->\r\n",
       "<g id=\"edge9\" class=\"edge\">\r\n",
       "<title>X_1&#45;&gt;X_32</title>\r\n",
       "<path fill=\"none\" stroke=\"crimson\" d=\"M75.63,-72.76C70.59,-64.37 64.33,-53.93 58.67,-44.5\"/>\r\n",
       "<polygon fill=\"crimson\" stroke=\"crimson\" points=\"61.2,-42.92 53.06,-36.15 55.2,-46.52 61.2,-42.92\"/>\r\n",
       "</g>\r\n",
       "<!-- X_16 -->\r\n",
       "<g id=\"node10\" class=\"node\">\r\n",
       "<title>X_16</title>\r\n",
       "<ellipse fill=\"none\" stroke=\"black\" cx=\"359.37\" cy=\"-90\" rx=\"31.1\" ry=\"18\"/>\r\n",
       "<text text-anchor=\"middle\" x=\"359.37\" y=\"-84.58\" font-family=\"Times New Roman,serif\" font-size=\"14.00\">X_16</text>\r\n",
       "</g>\r\n",
       "<!-- X_16&#45;&gt;X_8 -->\r\n",
       "<g id=\"edge10\" class=\"edge\">\r\n",
       "<title>X_16&#45;&gt;X_8</title>\r\n",
       "<path fill=\"none\" stroke=\"black\" d=\"M338.83,-76.16C321.13,-65.1 295.42,-49.03 275.76,-36.75\"/>\r\n",
       "<polygon fill=\"black\" stroke=\"black\" points=\"277.99,-33.39 267.66,-31.06 274.28,-39.32 277.99,-33.39\"/>\r\n",
       "</g>\r\n",
       "<!-- X_27 -->\r\n",
       "<g id=\"node11\" class=\"node\">\r\n",
       "<title>X_27</title>\r\n",
       "<ellipse fill=\"none\" stroke=\"black\" cx=\"45.37\" cy=\"-234\" rx=\"31.1\" ry=\"18\"/>\r\n",
       "<text text-anchor=\"middle\" x=\"45.37\" y=\"-228.57\" font-family=\"Times New Roman,serif\" font-size=\"14.00\">X_27</text>\r\n",
       "</g>\r\n",
       "<!-- X_27&#45;&gt;X_20 -->\r\n",
       "<g id=\"edge13\" class=\"edge\">\r\n",
       "<title>X_27&#45;&gt;X_20</title>\r\n",
       "<path fill=\"none\" stroke=\"crimson\" d=\"M45.37,-215.7C45.37,-208.24 45.37,-199.32 45.37,-190.97\"/>\r\n",
       "<polygon fill=\"crimson\" stroke=\"crimson\" points=\"48.87,-191.1 45.37,-181.1 41.87,-191.1 48.87,-191.1\"/>\r\n",
       "</g>\r\n",
       "<!-- X_27&#45;&gt;X_28 -->\r\n",
       "<g id=\"edge12\" class=\"edge\">\r\n",
       "<title>X_27&#45;&gt;X_28</title>\r\n",
       "<path fill=\"none\" stroke=\"black\" d=\"M69.67,-222.37C96.77,-210.51 140.79,-191.25 171.31,-177.9\"/>\r\n",
       "<polygon fill=\"black\" stroke=\"black\" points=\"172.34,-180.83 180.1,-173.62 169.54,-174.42 172.34,-180.83\"/>\r\n",
       "</g>\r\n",
       "<!-- X_27&#45;&gt;X_32 -->\r\n",
       "<g id=\"edge11\" class=\"edge\">\r\n",
       "<title>X_27&#45;&gt;X_32</title>\r\n",
       "<path fill=\"none\" stroke=\"crimson\" d=\"M30.12,-218.34C21.01,-208.48 10.28,-194.65 5.37,-180 -10.27,-133.31 12.08,-76.95 28.55,-44.81\"/>\r\n",
       "<polygon fill=\"crimson\" stroke=\"crimson\" points=\"32.02,-46.74 33.64,-36.27 25.85,-43.45 32.02,-46.74\"/>\r\n",
       "</g>\r\n",
       "</g>\r\n",
       "</svg>\r\n",
       "\n",
       "            </div>\n",
       "        </div>\n",
       "        "
      ],
      "text/plain": [
       "<IPython.core.display.HTML object>"
      ]
     },
     "metadata": {},
     "output_type": "display_data"
    }
   ],
   "source": [
    "bb = BNMetrics(list_of_models[0], list_of_models[12], node_names=list(true_dag.nodes), mb_nodes=['X_1'])\n",
    "bb.compare_two_bn(nodes=['X_1'], name1=f'Markov blanket of node X_1 with alpha = {alphas[0]:.2f}', name2=f'Markov blanket of node X_1 with alpha = {alphas[12]:.2f}')"
   ]
  },
  {
   "cell_type": "markdown",
   "id": "06b036d8-5134-4a92-9963-e7c35ffc1374",
   "metadata": {},
   "source": [
    "From the plot above, we can see that the model with an alpha value of 0.01 produced a Markov blanket for node `X_1` that is very dissimilar compared to the model with an alpha value of 0.13.  \n",
    "\n",
    "These are interesting insights obtained through the use of the `bnm` package.\n"
   ]
  },
  {
   "cell_type": "markdown",
   "id": "e44a9200-bde9-41b7-962d-14131506035a",
   "metadata": {},
   "source": [
    "## Conclusion\n",
    "\n",
    "In this notebook, we explored how the `bnm` package can be used to compare multiple models generated by a structure learning algorithm under different hyperparameter settings.  \n",
    "By varying the alpha value in the PC algorithm and analyzing the resulting DAGs, we were able to assess both global and local structural patterns.\n",
    "\n",
    "We observed that:\n",
    "- Higher alpha values generally lead to more complex networks, though this trend can vary locally (as seen in the Markov blanket of node `X_1`).\n",
    "- Similarity analysis using F1 scores revealed which models produce consistent structures, and which differ substantially.\n",
    "- Visual inspection of Markov blankets provided insights into model behavior, identifying both stable and unstable parametrizations.\n",
    "\n",
    "These results demonstrate the importance of evaluating model stability when no ground-truth DAG is available.  \n",
    "The `bnm` package facilitates this process by of evaluating model stability and complexity combining descriptive and comparative metrics with intuitive visualizations.\n"
   ]
  },
  {
   "cell_type": "code",
   "execution_count": null,
   "id": "ded1c54a-fe09-4689-a1f5-89abcf8ed772",
   "metadata": {},
   "outputs": [],
   "source": []
  }
 ],
 "metadata": {
  "kernelspec": {
   "display_name": "Python 3 (ipykernel)",
   "language": "python",
   "name": "python3"
  },
  "language_info": {
   "codemirror_mode": {
    "name": "ipython",
    "version": 3
   },
   "file_extension": ".py",
   "mimetype": "text/x-python",
   "name": "python",
   "nbconvert_exporter": "python",
   "pygments_lexer": "ipython3",
   "version": "3.8.18"
  }
 },
 "nbformat": 4,
 "nbformat_minor": 5
}
