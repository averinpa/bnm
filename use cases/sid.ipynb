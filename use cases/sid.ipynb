{
 "cells": [
  {
   "cell_type": "code",
   "execution_count": 2,
   "id": "0ad232ea-23e6-4743-9cea-49d707cb19e5",
   "metadata": {},
   "outputs": [],
   "source": [
    "# !pip install --no-cache-dir git+https://github.com/averinpa/bnm.git@feature/sid-metric"
   ]
  },
  {
   "cell_type": "code",
   "execution_count": 2,
   "id": "bb06adf4-b6e4-451b-a523-0ec4957a9573",
   "metadata": {},
   "outputs": [],
   "source": [
    "from bnm import BNMetrics, generate_random_dag, dag_to_cpdag, generate_synthetic_data_from_dag\n",
    "import networkx as nx\n",
    "import pandas as pd\n",
    "import numpy as np\n",
    "from causallearn.search.ConstraintBased.PC import pc\n",
    "from bnm.utils import graph_to_matrix"
   ]
  },
  {
   "attachments": {
    "008384cd-ad5f-443b-8a88-091331b54c73.png": {
     "image/png": "[encoded data removed]"
    }
   },
   "cell_type": "markdown",
   "id": "e3b6ccb0-5615-4110-8a2a-be74d1489ad6",
   "metadata": {},
   "source": [
    "![image.png](attachment:008384cd-ad5f-443b-8a88-091331b54c73.png)"
   ]
  },
  {
   "cell_type": "code",
   "execution_count": 2,
   "id": "0d473c0e-30bb-4ed9-aa67-e3c2d8c84842",
   "metadata": {},
   "outputs": [],
   "source": [
    "nodes = ['X1', 'X2', 'Y1', 'Y2', 'Y3']\n",
    "\n",
    "G = np.array([[0, 1, 1, 1, 1], \n",
    "             [0, 0, 1, 1, 1], \n",
    "             [0, 0, 0, 0, 0], \n",
    "             [0, 0, 0, 0, 0], \n",
    "             [0, 0, 0, 0, 0]])\n",
    "\n",
    "H1 = np.array([[0, 1, 1, 1, 1], \n",
    "             [0, 0, 1, 1, 1], \n",
    "             [0, 0, 0, 1, 0], \n",
    "             [0, 0, 0, 0, 0], \n",
    "             [0, 0, 0, 0, 0]])\n",
    "\n",
    "H2 = np.array([[0, 0, 1, 1, 1], \n",
    "             [1, 0, 1, 1, 1], \n",
    "             [0, 0, 0, 0, 0], \n",
    "             [0, 0, 0, 0, 0], \n",
    "             [0, 0, 0, 0, 0]])"
   ]
  },
  {
   "cell_type": "code",
   "execution_count": 3,
   "id": "3b9f6edb-6a5d-4d27-b17a-895ccb6bf145",
   "metadata": {},
   "outputs": [
    {
     "data": {
      "text/html": [
       "\n",
       "        <div style=\"display: flex; gap: 60px;\">\n",
       "            <div style=\"text-align: center;\">\n",
       "                <h3>G</h3>\n",
       "                <?xml version=\"1.0\" encoding=\"UTF-8\" standalone=\"no\"?>\r\n",
       "<!DOCTYPE svg PUBLIC \"-//W3C//DTD SVG 1.1//EN\"\r\n",
       " \"http://www.w3.org/Graphics/SVG/1.1/DTD/svg11.dtd\">\r\n",
       "<!-- Generated by graphviz version 8.0.5 (20230430.1635)\r\n",
       " -->\r\n",
       "<!-- Title: G Pages: 1 -->\r\n",
       "<svg width=\"209pt\" height=\"188pt\"\r\n",
       " viewBox=\"0.00 0.00 209.00 188.00\" xmlns=\"http://www.w3.org/2000/svg\" xmlns:xlink=\"http://www.w3.org/1999/xlink\">\r\n",
       "<g id=\"graph0\" class=\"graph\" transform=\"scale(1 1) rotate(0) translate(4 184)\">\r\n",
       "<title>G</title>\r\n",
       "<polygon fill=\"white\" stroke=\"none\" points=\"-4,4 -4,-184 205,-184 205,4 -4,4\"/>\r\n",
       "<!-- X1 -->\r\n",
       "<g id=\"node1\" class=\"node\">\r\n",
       "<title>X1</title>\r\n",
       "<ellipse fill=\"none\" stroke=\"black\" cx=\"109\" cy=\"-162\" rx=\"27\" ry=\"18\"/>\r\n",
       "<text text-anchor=\"middle\" x=\"109\" y=\"-156.57\" font-family=\"Times New Roman,serif\" font-size=\"14.00\">X1</text>\r\n",
       "</g>\r\n",
       "<!-- X2 -->\r\n",
       "<g id=\"node2\" class=\"node\">\r\n",
       "<title>X2</title>\r\n",
       "<ellipse fill=\"none\" stroke=\"black\" cx=\"82\" cy=\"-90\" rx=\"27\" ry=\"18\"/>\r\n",
       "<text text-anchor=\"middle\" x=\"82\" y=\"-84.58\" font-family=\"Times New Roman,serif\" font-size=\"14.00\">X2</text>\r\n",
       "</g>\r\n",
       "<!-- X1&#45;&gt;X2 -->\r\n",
       "<g id=\"edge1\" class=\"edge\">\r\n",
       "<title>X1&#45;&gt;X2</title>\r\n",
       "<path fill=\"none\" stroke=\"crimson\" d=\"M102.46,-144.05C99.45,-136.23 95.79,-126.75 92.41,-117.98\"/>\r\n",
       "<polygon fill=\"crimson\" stroke=\"crimson\" points=\"95.34,-116.86 88.48,-108.79 88.81,-119.38 95.34,-116.86\"/>\r\n",
       "</g>\r\n",
       "<!-- Y1 -->\r\n",
       "<g id=\"node3\" class=\"node\">\r\n",
       "<title>Y1</title>\r\n",
       "<ellipse fill=\"none\" stroke=\"black\" cx=\"27\" cy=\"-18\" rx=\"27\" ry=\"18\"/>\r\n",
       "<text text-anchor=\"middle\" x=\"27\" y=\"-12.57\" font-family=\"Times New Roman,serif\" font-size=\"14.00\">Y1</text>\r\n",
       "</g>\r\n",
       "<!-- X1&#45;&gt;Y1 -->\r\n",
       "<g id=\"edge2\" class=\"edge\">\r\n",
       "<title>X1&#45;&gt;Y1</title>\r\n",
       "<path fill=\"none\" stroke=\"crimson\" d=\"M89.16,-149.38C74.95,-140.01 56.52,-125.52 46,-108 34.94,-89.58 30.27,-65.61 28.32,-47.19\"/>\r\n",
       "<polygon fill=\"crimson\" stroke=\"crimson\" points=\"31.73,-46.95 27.41,-37.27 24.75,-47.53 31.73,-46.95\"/>\r\n",
       "</g>\r\n",
       "<!-- Y2 -->\r\n",
       "<g id=\"node4\" class=\"node\">\r\n",
       "<title>Y2</title>\r\n",
       "<ellipse fill=\"none\" stroke=\"black\" cx=\"100\" cy=\"-18\" rx=\"27\" ry=\"18\"/>\r\n",
       "<text text-anchor=\"middle\" x=\"100\" y=\"-12.57\" font-family=\"Times New Roman,serif\" font-size=\"14.00\">Y2</text>\r\n",
       "</g>\r\n",
       "<!-- X1&#45;&gt;Y2 -->\r\n",
       "<g id=\"edge3\" class=\"edge\">\r\n",
       "<title>X1&#45;&gt;Y2</title>\r\n",
       "<path fill=\"none\" stroke=\"crimson\" d=\"M113.41,-143.85C117.41,-125.87 122.1,-96.82 118,-72 116.57,-63.33 113.9,-54.18 111.06,-45.96\"/>\r\n",
       "<polygon fill=\"crimson\" stroke=\"crimson\" points=\"114.05,-44.98 107.29,-36.82 107.49,-47.41 114.05,-44.98\"/>\r\n",
       "</g>\r\n",
       "<!-- Y3 -->\r\n",
       "<g id=\"node5\" class=\"node\">\r\n",
       "<title>Y3</title>\r\n",
       "<ellipse fill=\"none\" stroke=\"black\" cx=\"174\" cy=\"-18\" rx=\"27\" ry=\"18\"/>\r\n",
       "<text text-anchor=\"middle\" x=\"174\" y=\"-12.57\" font-family=\"Times New Roman,serif\" font-size=\"14.00\">Y3</text>\r\n",
       "</g>\r\n",
       "<!-- X1&#45;&gt;Y3 -->\r\n",
       "<g id=\"edge4\" class=\"edge\">\r\n",
       "<title>X1&#45;&gt;Y3</title>\r\n",
       "<path fill=\"none\" stroke=\"crimson\" d=\"M116.58,-144.43C127.74,-120.06 148.68,-74.31 161.95,-45.32\"/>\r\n",
       "<polygon fill=\"crimson\" stroke=\"crimson\" points=\"165.49,-47.01 166.46,-36.46 159.12,-44.1 165.49,-47.01\"/>\r\n",
       "</g>\r\n",
       "<!-- X2&#45;&gt;Y1 -->\r\n",
       "<g id=\"edge5\" class=\"edge\">\r\n",
       "<title>X2&#45;&gt;Y1</title>\r\n",
       "<path fill=\"none\" stroke=\"crimson\" d=\"M69.79,-73.46C62.74,-64.49 53.73,-53.02 45.79,-42.92\"/>\r\n",
       "<polygon fill=\"crimson\" stroke=\"crimson\" points=\"48.1,-41.19 39.17,-35.49 42.6,-45.52 48.1,-41.19\"/>\r\n",
       "</g>\r\n",
       "<!-- X2&#45;&gt;Y2 -->\r\n",
       "<g id=\"edge6\" class=\"edge\">\r\n",
       "<title>X2&#45;&gt;Y2</title>\r\n",
       "<path fill=\"none\" stroke=\"crimson\" d=\"M86.36,-72.05C88.35,-64.32 90.75,-54.96 92.99,-46.27\"/>\r\n",
       "<polygon fill=\"crimson\" stroke=\"crimson\" points=\"96.58,-47.35 95.68,-36.79 89.8,-45.6 96.58,-47.35\"/>\r\n",
       "</g>\r\n",
       "<!-- X2&#45;&gt;Y3 -->\r\n",
       "<g id=\"edge7\" class=\"edge\">\r\n",
       "<title>X2&#45;&gt;Y3</title>\r\n",
       "<path fill=\"none\" stroke=\"crimson\" d=\"M99.3,-75.83C113.05,-65.37 132.5,-50.58 148.1,-38.7\"/>\r\n",
       "<polygon fill=\"crimson\" stroke=\"crimson\" points=\"149.93,-40.95 155.77,-32.11 145.7,-35.38 149.93,-40.95\"/>\r\n",
       "</g>\r\n",
       "</g>\r\n",
       "</svg>\r\n",
       "\n",
       "            </div>\n",
       "            <div style=\"text-align: center;\">\n",
       "                <h3>H1</h3>\n",
       "                <?xml version=\"1.0\" encoding=\"UTF-8\" standalone=\"no\"?>\r\n",
       "<!DOCTYPE svg PUBLIC \"-//W3C//DTD SVG 1.1//EN\"\r\n",
       " \"http://www.w3.org/Graphics/SVG/1.1/DTD/svg11.dtd\">\r\n",
       "<!-- Generated by graphviz version 8.0.5 (20230430.1635)\r\n",
       " -->\r\n",
       "<!-- Title: H1 Pages: 1 -->\r\n",
       "<svg width=\"190pt\" height=\"260pt\"\r\n",
       " viewBox=\"0.00 0.00 189.90 260.00\" xmlns=\"http://www.w3.org/2000/svg\" xmlns:xlink=\"http://www.w3.org/1999/xlink\">\r\n",
       "<g id=\"graph0\" class=\"graph\" transform=\"scale(1 1) rotate(0) translate(4 256)\">\r\n",
       "<title>H1</title>\r\n",
       "<polygon fill=\"white\" stroke=\"none\" points=\"-4,4 -4,-256 185.9,-256 185.9,4 -4,4\"/>\r\n",
       "<!-- X1 -->\r\n",
       "<g id=\"node1\" class=\"node\">\r\n",
       "<title>X1</title>\r\n",
       "<ellipse fill=\"none\" stroke=\"black\" cx=\"109\" cy=\"-234\" rx=\"27\" ry=\"18\"/>\r\n",
       "<text text-anchor=\"middle\" x=\"109\" y=\"-228.57\" font-family=\"Times New Roman,serif\" font-size=\"14.00\">X1</text>\r\n",
       "</g>\r\n",
       "<!-- X2 -->\r\n",
       "<g id=\"node2\" class=\"node\">\r\n",
       "<title>X2</title>\r\n",
       "<ellipse fill=\"none\" stroke=\"black\" cx=\"82\" cy=\"-162\" rx=\"27\" ry=\"18\"/>\r\n",
       "<text text-anchor=\"middle\" x=\"82\" y=\"-156.57\" font-family=\"Times New Roman,serif\" font-size=\"14.00\">X2</text>\r\n",
       "</g>\r\n",
       "<!-- X1&#45;&gt;X2 -->\r\n",
       "<g id=\"edge1\" class=\"edge\">\r\n",
       "<title>X1&#45;&gt;X2</title>\r\n",
       "<path fill=\"none\" stroke=\"crimson\" d=\"M102.46,-216.05C99.45,-208.23 95.79,-198.75 92.41,-189.98\"/>\r\n",
       "<polygon fill=\"crimson\" stroke=\"crimson\" points=\"95.34,-188.86 88.48,-180.79 88.81,-191.38 95.34,-188.86\"/>\r\n",
       "</g>\r\n",
       "<!-- Y1 -->\r\n",
       "<g id=\"node3\" class=\"node\">\r\n",
       "<title>Y1</title>\r\n",
       "<ellipse fill=\"none\" stroke=\"black\" cx=\"27\" cy=\"-90\" rx=\"27\" ry=\"18\"/>\r\n",
       "<text text-anchor=\"middle\" x=\"27\" y=\"-84.58\" font-family=\"Times New Roman,serif\" font-size=\"14.00\">Y1</text>\r\n",
       "</g>\r\n",
       "<!-- X1&#45;&gt;Y1 -->\r\n",
       "<g id=\"edge2\" class=\"edge\">\r\n",
       "<title>X1&#45;&gt;Y1</title>\r\n",
       "<path fill=\"none\" stroke=\"crimson\" d=\"M89.16,-221.38C74.95,-212.01 56.52,-197.52 46,-180 34.94,-161.58 30.27,-137.61 28.32,-119.19\"/>\r\n",
       "<polygon fill=\"crimson\" stroke=\"crimson\" points=\"31.73,-118.95 27.41,-109.27 24.75,-119.53 31.73,-118.95\"/>\r\n",
       "</g>\r\n",
       "<!-- Y2 -->\r\n",
       "<g id=\"node4\" class=\"node\">\r\n",
       "<title>Y2</title>\r\n",
       "<ellipse fill=\"none\" stroke=\"black\" cx=\"82\" cy=\"-18\" rx=\"27\" ry=\"18\"/>\r\n",
       "<text text-anchor=\"middle\" x=\"82\" y=\"-12.57\" font-family=\"Times New Roman,serif\" font-size=\"14.00\">Y2</text>\r\n",
       "</g>\r\n",
       "<!-- X1&#45;&gt;Y2 -->\r\n",
       "<g id=\"edge3\" class=\"edge\">\r\n",
       "<title>X1&#45;&gt;Y2</title>\r\n",
       "<path fill=\"none\" stroke=\"crimson\" d=\"M123.15,-218.59C149.8,-189.65 202.23,-122.85 173,-72 160.97,-51.08 137.16,-37.64 116.91,-29.53\"/>\r\n",
       "<polygon fill=\"crimson\" stroke=\"crimson\" points=\"118.32,-25.95 107.72,-25.77 115.89,-32.52 118.32,-25.95\"/>\r\n",
       "</g>\r\n",
       "<!-- Y3 -->\r\n",
       "<g id=\"node5\" class=\"node\">\r\n",
       "<title>Y3</title>\r\n",
       "<ellipse fill=\"none\" stroke=\"black\" cx=\"137\" cy=\"-90\" rx=\"27\" ry=\"18\"/>\r\n",
       "<text text-anchor=\"middle\" x=\"137\" y=\"-84.58\" font-family=\"Times New Roman,serif\" font-size=\"14.00\">Y3</text>\r\n",
       "</g>\r\n",
       "<!-- X1&#45;&gt;Y3 -->\r\n",
       "<g id=\"edge4\" class=\"edge\">\r\n",
       "<title>X1&#45;&gt;Y3</title>\r\n",
       "<path fill=\"none\" stroke=\"crimson\" d=\"M112.38,-215.87C117.13,-191.78 125.84,-147.6 131.52,-118.77\"/>\r\n",
       "<polygon fill=\"crimson\" stroke=\"crimson\" points=\"135.11,-119.68 133.61,-109.19 128.24,-118.32 135.11,-119.68\"/>\r\n",
       "</g>\r\n",
       "<!-- X2&#45;&gt;Y1 -->\r\n",
       "<g id=\"edge5\" class=\"edge\">\r\n",
       "<title>X2&#45;&gt;Y1</title>\r\n",
       "<path fill=\"none\" stroke=\"crimson\" d=\"M69.79,-145.46C62.74,-136.49 53.73,-125.02 45.79,-114.92\"/>\r\n",
       "<polygon fill=\"crimson\" stroke=\"crimson\" points=\"48.1,-113.19 39.17,-107.49 42.6,-117.52 48.1,-113.19\"/>\r\n",
       "</g>\r\n",
       "<!-- X2&#45;&gt;Y2 -->\r\n",
       "<g id=\"edge6\" class=\"edge\">\r\n",
       "<title>X2&#45;&gt;Y2</title>\r\n",
       "<path fill=\"none\" stroke=\"crimson\" d=\"M82,-143.59C82,-119.5 82,-75.75 82,-47.03\"/>\r\n",
       "<polygon fill=\"crimson\" stroke=\"crimson\" points=\"85.5,-47.11 82,-37.11 78.5,-47.11 85.5,-47.11\"/>\r\n",
       "</g>\r\n",
       "<!-- X2&#45;&gt;Y3 -->\r\n",
       "<g id=\"edge7\" class=\"edge\">\r\n",
       "<title>X2&#45;&gt;Y3</title>\r\n",
       "<path fill=\"none\" stroke=\"crimson\" d=\"M94.21,-145.46C101.26,-136.49 110.27,-125.02 118.21,-114.92\"/>\r\n",
       "<polygon fill=\"crimson\" stroke=\"crimson\" points=\"121.4,-117.52 124.83,-107.49 115.9,-113.19 121.4,-117.52\"/>\r\n",
       "</g>\r\n",
       "<!-- Y1&#45;&gt;Y2 -->\r\n",
       "<g id=\"edge8\" class=\"edge\">\r\n",
       "<title>Y1&#45;&gt;Y2</title>\r\n",
       "<path fill=\"none\" stroke=\"black\" d=\"M39.21,-73.46C46.26,-64.49 55.27,-53.02 63.21,-42.92\"/>\r\n",
       "<polygon fill=\"black\" stroke=\"black\" points=\"66.4,-45.52 69.83,-35.49 60.9,-41.19 66.4,-45.52\"/>\r\n",
       "</g>\r\n",
       "</g>\r\n",
       "</svg>\r\n",
       "\n",
       "            </div>\n",
       "        </div>\n",
       "        "
      ],
      "text/plain": [
       "<IPython.core.display.HTML object>"
      ]
     },
     "metadata": {},
     "output_type": "display_data"
    },
    {
     "name": "stdout",
     "output_type": "stream",
     "text": [
      "            metric metric_value\n",
      "0              shd            1\n",
      "1              sid          0.0\n",
      "2  sid_lower_bound          0.0\n",
      "3  sid_upper_bound          0.0\n",
      "\n",
      "SID Incorect Interventional distributions\n",
      "[[0. 0. 0. 0. 0.]\n",
      " [0. 0. 0. 0. 0.]\n",
      " [0. 0. 0. 0. 0.]\n",
      " [0. 0. 0. 0. 0.]\n",
      " [0. 0. 0. 0. 0.]]\n"
     ]
    }
   ],
   "source": [
    "bnm = BNMetrics(G, H1, node_names=nodes)\n",
    "bnm.compare_two_bn(nodes=['All'], name1='G', name2='H1')\n",
    "print((bnm.compare_df(descriptive_metrics='', comparison_metrics=['shd', 'sid'])\n",
    "       .query(\"node_name == 'All'\")\n",
    "       .drop(columns='node_name')\n",
    "       .T\n",
    "       .reset_index()\n",
    "       .rename(columns={0:'metric_value', 'index': 'metric'})))\n",
    "print('\\nSID Incorect Interventional distributions')\n",
    "print(bnm.sid(nodes=['All'], output=False)['incorrect_mat'])"
   ]
  },
  {
   "cell_type": "code",
   "execution_count": 4,
   "id": "d3c9bb52-23a5-4bdf-b06a-3e2d0a1c5c6d",
   "metadata": {},
   "outputs": [
    {
     "data": {
      "text/html": [
       "\n",
       "        <div style=\"display: flex; gap: 60px;\">\n",
       "            <div style=\"text-align: center;\">\n",
       "                <h3>G</h3>\n",
       "                <?xml version=\"1.0\" encoding=\"UTF-8\" standalone=\"no\"?>\r\n",
       "<!DOCTYPE svg PUBLIC \"-//W3C//DTD SVG 1.1//EN\"\r\n",
       " \"http://www.w3.org/Graphics/SVG/1.1/DTD/svg11.dtd\">\r\n",
       "<!-- Generated by graphviz version 8.0.5 (20230430.1635)\r\n",
       " -->\r\n",
       "<!-- Title: G Pages: 1 -->\r\n",
       "<svg width=\"209pt\" height=\"188pt\"\r\n",
       " viewBox=\"0.00 0.00 209.00 188.00\" xmlns=\"http://www.w3.org/2000/svg\" xmlns:xlink=\"http://www.w3.org/1999/xlink\">\r\n",
       "<g id=\"graph0\" class=\"graph\" transform=\"scale(1 1) rotate(0) translate(4 184)\">\r\n",
       "<title>G</title>\r\n",
       "<polygon fill=\"white\" stroke=\"none\" points=\"-4,4 -4,-184 205,-184 205,4 -4,4\"/>\r\n",
       "<!-- X1 -->\r\n",
       "<g id=\"node1\" class=\"node\">\r\n",
       "<title>X1</title>\r\n",
       "<ellipse fill=\"none\" stroke=\"black\" cx=\"109\" cy=\"-162\" rx=\"27\" ry=\"18\"/>\r\n",
       "<text text-anchor=\"middle\" x=\"109\" y=\"-156.57\" font-family=\"Times New Roman,serif\" font-size=\"14.00\">X1</text>\r\n",
       "</g>\r\n",
       "<!-- X2 -->\r\n",
       "<g id=\"node2\" class=\"node\">\r\n",
       "<title>X2</title>\r\n",
       "<ellipse fill=\"none\" stroke=\"black\" cx=\"82\" cy=\"-90\" rx=\"27\" ry=\"18\"/>\r\n",
       "<text text-anchor=\"middle\" x=\"82\" y=\"-84.58\" font-family=\"Times New Roman,serif\" font-size=\"14.00\">X2</text>\r\n",
       "</g>\r\n",
       "<!-- X1&#45;&gt;X2 -->\r\n",
       "<g id=\"edge1\" class=\"edge\">\r\n",
       "<title>X1&#45;&gt;X2</title>\r\n",
       "<path fill=\"none\" stroke=\"black\" d=\"M102.46,-144.05C99.45,-136.23 95.79,-126.75 92.41,-117.98\"/>\r\n",
       "<polygon fill=\"black\" stroke=\"black\" points=\"95.34,-116.86 88.48,-108.79 88.81,-119.38 95.34,-116.86\"/>\r\n",
       "</g>\r\n",
       "<!-- Y1 -->\r\n",
       "<g id=\"node3\" class=\"node\">\r\n",
       "<title>Y1</title>\r\n",
       "<ellipse fill=\"none\" stroke=\"black\" cx=\"27\" cy=\"-18\" rx=\"27\" ry=\"18\"/>\r\n",
       "<text text-anchor=\"middle\" x=\"27\" y=\"-12.57\" font-family=\"Times New Roman,serif\" font-size=\"14.00\">Y1</text>\r\n",
       "</g>\r\n",
       "<!-- X1&#45;&gt;Y1 -->\r\n",
       "<g id=\"edge2\" class=\"edge\">\r\n",
       "<title>X1&#45;&gt;Y1</title>\r\n",
       "<path fill=\"none\" stroke=\"crimson\" d=\"M89.16,-149.38C74.95,-140.01 56.52,-125.52 46,-108 34.94,-89.58 30.27,-65.61 28.32,-47.19\"/>\r\n",
       "<polygon fill=\"crimson\" stroke=\"crimson\" points=\"31.73,-46.95 27.41,-37.27 24.75,-47.53 31.73,-46.95\"/>\r\n",
       "</g>\r\n",
       "<!-- Y2 -->\r\n",
       "<g id=\"node4\" class=\"node\">\r\n",
       "<title>Y2</title>\r\n",
       "<ellipse fill=\"none\" stroke=\"black\" cx=\"100\" cy=\"-18\" rx=\"27\" ry=\"18\"/>\r\n",
       "<text text-anchor=\"middle\" x=\"100\" y=\"-12.57\" font-family=\"Times New Roman,serif\" font-size=\"14.00\">Y2</text>\r\n",
       "</g>\r\n",
       "<!-- X1&#45;&gt;Y2 -->\r\n",
       "<g id=\"edge3\" class=\"edge\">\r\n",
       "<title>X1&#45;&gt;Y2</title>\r\n",
       "<path fill=\"none\" stroke=\"crimson\" d=\"M113.41,-143.85C117.41,-125.87 122.1,-96.82 118,-72 116.57,-63.33 113.9,-54.18 111.06,-45.96\"/>\r\n",
       "<polygon fill=\"crimson\" stroke=\"crimson\" points=\"114.05,-44.98 107.29,-36.82 107.49,-47.41 114.05,-44.98\"/>\r\n",
       "</g>\r\n",
       "<!-- Y3 -->\r\n",
       "<g id=\"node5\" class=\"node\">\r\n",
       "<title>Y3</title>\r\n",
       "<ellipse fill=\"none\" stroke=\"black\" cx=\"174\" cy=\"-18\" rx=\"27\" ry=\"18\"/>\r\n",
       "<text text-anchor=\"middle\" x=\"174\" y=\"-12.57\" font-family=\"Times New Roman,serif\" font-size=\"14.00\">Y3</text>\r\n",
       "</g>\r\n",
       "<!-- X1&#45;&gt;Y3 -->\r\n",
       "<g id=\"edge4\" class=\"edge\">\r\n",
       "<title>X1&#45;&gt;Y3</title>\r\n",
       "<path fill=\"none\" stroke=\"crimson\" d=\"M116.58,-144.43C127.74,-120.06 148.68,-74.31 161.95,-45.32\"/>\r\n",
       "<polygon fill=\"crimson\" stroke=\"crimson\" points=\"165.49,-47.01 166.46,-36.46 159.12,-44.1 165.49,-47.01\"/>\r\n",
       "</g>\r\n",
       "<!-- X2&#45;&gt;Y1 -->\r\n",
       "<g id=\"edge5\" class=\"edge\">\r\n",
       "<title>X2&#45;&gt;Y1</title>\r\n",
       "<path fill=\"none\" stroke=\"crimson\" d=\"M69.79,-73.46C62.74,-64.49 53.73,-53.02 45.79,-42.92\"/>\r\n",
       "<polygon fill=\"crimson\" stroke=\"crimson\" points=\"48.1,-41.19 39.17,-35.49 42.6,-45.52 48.1,-41.19\"/>\r\n",
       "</g>\r\n",
       "<!-- X2&#45;&gt;Y2 -->\r\n",
       "<g id=\"edge6\" class=\"edge\">\r\n",
       "<title>X2&#45;&gt;Y2</title>\r\n",
       "<path fill=\"none\" stroke=\"crimson\" d=\"M86.36,-72.05C88.35,-64.32 90.75,-54.96 92.99,-46.27\"/>\r\n",
       "<polygon fill=\"crimson\" stroke=\"crimson\" points=\"96.58,-47.35 95.68,-36.79 89.8,-45.6 96.58,-47.35\"/>\r\n",
       "</g>\r\n",
       "<!-- X2&#45;&gt;Y3 -->\r\n",
       "<g id=\"edge7\" class=\"edge\">\r\n",
       "<title>X2&#45;&gt;Y3</title>\r\n",
       "<path fill=\"none\" stroke=\"crimson\" d=\"M99.3,-75.83C113.05,-65.37 132.5,-50.58 148.1,-38.7\"/>\r\n",
       "<polygon fill=\"crimson\" stroke=\"crimson\" points=\"149.93,-40.95 155.77,-32.11 145.7,-35.38 149.93,-40.95\"/>\r\n",
       "</g>\r\n",
       "</g>\r\n",
       "</svg>\r\n",
       "\n",
       "            </div>\n",
       "            <div style=\"text-align: center;\">\n",
       "                <h3>H2</h3>\n",
       "                <?xml version=\"1.0\" encoding=\"UTF-8\" standalone=\"no\"?>\r\n",
       "<!DOCTYPE svg PUBLIC \"-//W3C//DTD SVG 1.1//EN\"\r\n",
       " \"http://www.w3.org/Graphics/SVG/1.1/DTD/svg11.dtd\">\r\n",
       "<!-- Generated by graphviz version 8.0.5 (20230430.1635)\r\n",
       " -->\r\n",
       "<!-- Title: H2 Pages: 1 -->\r\n",
       "<svg width=\"209pt\" height=\"188pt\"\r\n",
       " viewBox=\"0.00 0.00 209.00 188.00\" xmlns=\"http://www.w3.org/2000/svg\" xmlns:xlink=\"http://www.w3.org/1999/xlink\">\r\n",
       "<g id=\"graph0\" class=\"graph\" transform=\"scale(1 1) rotate(0) translate(4 184)\">\r\n",
       "<title>H2</title>\r\n",
       "<polygon fill=\"white\" stroke=\"none\" points=\"-4,4 -4,-184 205,-184 205,4 -4,4\"/>\r\n",
       "<!-- X1 -->\r\n",
       "<g id=\"node1\" class=\"node\">\r\n",
       "<title>X1</title>\r\n",
       "<ellipse fill=\"none\" stroke=\"black\" cx=\"82\" cy=\"-90\" rx=\"27\" ry=\"18\"/>\r\n",
       "<text text-anchor=\"middle\" x=\"82\" y=\"-84.58\" font-family=\"Times New Roman,serif\" font-size=\"14.00\">X1</text>\r\n",
       "</g>\r\n",
       "<!-- Y1 -->\r\n",
       "<g id=\"node3\" class=\"node\">\r\n",
       "<title>Y1</title>\r\n",
       "<ellipse fill=\"none\" stroke=\"black\" cx=\"27\" cy=\"-18\" rx=\"27\" ry=\"18\"/>\r\n",
       "<text text-anchor=\"middle\" x=\"27\" y=\"-12.57\" font-family=\"Times New Roman,serif\" font-size=\"14.00\">Y1</text>\r\n",
       "</g>\r\n",
       "<!-- X1&#45;&gt;Y1 -->\r\n",
       "<g id=\"edge1\" class=\"edge\">\r\n",
       "<title>X1&#45;&gt;Y1</title>\r\n",
       "<path fill=\"none\" stroke=\"crimson\" d=\"M69.79,-73.46C62.74,-64.49 53.73,-53.02 45.79,-42.92\"/>\r\n",
       "<polygon fill=\"crimson\" stroke=\"crimson\" points=\"48.1,-41.19 39.17,-35.49 42.6,-45.52 48.1,-41.19\"/>\r\n",
       "</g>\r\n",
       "<!-- Y2 -->\r\n",
       "<g id=\"node4\" class=\"node\">\r\n",
       "<title>Y2</title>\r\n",
       "<ellipse fill=\"none\" stroke=\"black\" cx=\"100\" cy=\"-18\" rx=\"27\" ry=\"18\"/>\r\n",
       "<text text-anchor=\"middle\" x=\"100\" y=\"-12.57\" font-family=\"Times New Roman,serif\" font-size=\"14.00\">Y2</text>\r\n",
       "</g>\r\n",
       "<!-- X1&#45;&gt;Y2 -->\r\n",
       "<g id=\"edge2\" class=\"edge\">\r\n",
       "<title>X1&#45;&gt;Y2</title>\r\n",
       "<path fill=\"none\" stroke=\"crimson\" d=\"M86.36,-72.05C88.35,-64.32 90.75,-54.96 92.99,-46.27\"/>\r\n",
       "<polygon fill=\"crimson\" stroke=\"crimson\" points=\"96.58,-47.35 95.68,-36.79 89.8,-45.6 96.58,-47.35\"/>\r\n",
       "</g>\r\n",
       "<!-- Y3 -->\r\n",
       "<g id=\"node5\" class=\"node\">\r\n",
       "<title>Y3</title>\r\n",
       "<ellipse fill=\"none\" stroke=\"black\" cx=\"174\" cy=\"-18\" rx=\"27\" ry=\"18\"/>\r\n",
       "<text text-anchor=\"middle\" x=\"174\" y=\"-12.57\" font-family=\"Times New Roman,serif\" font-size=\"14.00\">Y3</text>\r\n",
       "</g>\r\n",
       "<!-- X1&#45;&gt;Y3 -->\r\n",
       "<g id=\"edge3\" class=\"edge\">\r\n",
       "<title>X1&#45;&gt;Y3</title>\r\n",
       "<path fill=\"none\" stroke=\"crimson\" d=\"M99.3,-75.83C113.05,-65.37 132.5,-50.58 148.1,-38.7\"/>\r\n",
       "<polygon fill=\"crimson\" stroke=\"crimson\" points=\"149.93,-40.95 155.77,-32.11 145.7,-35.38 149.93,-40.95\"/>\r\n",
       "</g>\r\n",
       "<!-- X2 -->\r\n",
       "<g id=\"node2\" class=\"node\">\r\n",
       "<title>X2</title>\r\n",
       "<ellipse fill=\"none\" stroke=\"black\" cx=\"109\" cy=\"-162\" rx=\"27\" ry=\"18\"/>\r\n",
       "<text text-anchor=\"middle\" x=\"109\" y=\"-156.57\" font-family=\"Times New Roman,serif\" font-size=\"14.00\">X2</text>\r\n",
       "</g>\r\n",
       "<!-- X2&#45;&gt;X1 -->\r\n",
       "<g id=\"edge4\" class=\"edge\">\r\n",
       "<title>X2&#45;&gt;X1</title>\r\n",
       "<path fill=\"none\" stroke=\"black\" d=\"M102.46,-144.05C99.45,-136.23 95.79,-126.75 92.41,-117.98\"/>\r\n",
       "<polygon fill=\"black\" stroke=\"black\" points=\"95.34,-116.86 88.48,-108.79 88.81,-119.38 95.34,-116.86\"/>\r\n",
       "</g>\r\n",
       "<!-- X2&#45;&gt;Y1 -->\r\n",
       "<g id=\"edge5\" class=\"edge\">\r\n",
       "<title>X2&#45;&gt;Y1</title>\r\n",
       "<path fill=\"none\" stroke=\"crimson\" d=\"M89.16,-149.38C74.95,-140.01 56.52,-125.52 46,-108 34.94,-89.58 30.27,-65.61 28.32,-47.19\"/>\r\n",
       "<polygon fill=\"crimson\" stroke=\"crimson\" points=\"31.73,-46.95 27.41,-37.27 24.75,-47.53 31.73,-46.95\"/>\r\n",
       "</g>\r\n",
       "<!-- X2&#45;&gt;Y2 -->\r\n",
       "<g id=\"edge6\" class=\"edge\">\r\n",
       "<title>X2&#45;&gt;Y2</title>\r\n",
       "<path fill=\"none\" stroke=\"crimson\" d=\"M113.41,-143.85C117.41,-125.87 122.1,-96.82 118,-72 116.57,-63.33 113.9,-54.18 111.06,-45.96\"/>\r\n",
       "<polygon fill=\"crimson\" stroke=\"crimson\" points=\"114.05,-44.98 107.29,-36.82 107.49,-47.41 114.05,-44.98\"/>\r\n",
       "</g>\r\n",
       "<!-- X2&#45;&gt;Y3 -->\r\n",
       "<g id=\"edge7\" class=\"edge\">\r\n",
       "<title>X2&#45;&gt;Y3</title>\r\n",
       "<path fill=\"none\" stroke=\"crimson\" d=\"M116.58,-144.43C127.74,-120.06 148.68,-74.31 161.95,-45.32\"/>\r\n",
       "<polygon fill=\"crimson\" stroke=\"crimson\" points=\"165.49,-47.01 166.46,-36.46 159.12,-44.1 165.49,-47.01\"/>\r\n",
       "</g>\r\n",
       "</g>\r\n",
       "</svg>\r\n",
       "\n",
       "            </div>\n",
       "        </div>\n",
       "        "
      ],
      "text/plain": [
       "<IPython.core.display.HTML object>"
      ]
     },
     "metadata": {},
     "output_type": "display_data"
    },
    {
     "name": "stdout",
     "output_type": "stream",
     "text": [
      "            metric metric_value\n",
      "0              shd            1\n",
      "1              sid          8.0\n",
      "2  sid_lower_bound          8.0\n",
      "3  sid_upper_bound          8.0\n",
      "\n",
      "SID Incorect Interventional distributions\n",
      "[[0. 1. 1. 1. 1.]\n",
      " [1. 0. 1. 1. 1.]\n",
      " [0. 0. 0. 0. 0.]\n",
      " [0. 0. 0. 0. 0.]\n",
      " [0. 0. 0. 0. 0.]]\n"
     ]
    }
   ],
   "source": [
    "bnm = BNMetrics(G, H2, node_names=nodes)\n",
    "bnm.compare_two_bn(nodes=['All'], name1='G', name2='H2')\n",
    "print((bnm.compare_df(descriptive_metrics='', comparison_metrics=['shd', 'sid'])\n",
    "       .query(\"node_name == 'All'\")\n",
    "       .drop(columns='node_name')\n",
    "       .T\n",
    "       .reset_index()\n",
    "       .rename(columns={0:'metric_value', 'index': 'metric'})))\n",
    "print('\\nSID Incorect Interventional distributions')\n",
    "print(bnm.sid(nodes=['All'], output=False)['incorrect_mat'])"
   ]
  },
  {
   "cell_type": "code",
   "execution_count": 5,
   "id": "5a6c8c91-294a-4431-981c-d382e02dbf13",
   "metadata": {},
   "outputs": [],
   "source": [
    "nodes = ['X1', 'X2', 'X3', 'X4']\n",
    "\n",
    "DAG = np.array([[0, 0, 0, 0], \n",
    "                [0, 0, 1, 0], \n",
    "                [1, 0, 0, 0], \n",
    "                [1, 0, 1, 0]])\n",
    "\n",
    "DAG1 = np.array([[0, 1, 0, 0], \n",
    "                 [0, 0, 1, 0], \n",
    "                 [0, 0, 0, 0], \n",
    "                 [0, 0, 1, 0]])\n",
    "\n",
    "DAG2 = np.array([[0, 0, 0, 0], \n",
    "                 [1, 0, 1, 0], \n",
    "                 [0, 0, 0, 0], \n",
    "                 [0, 0, 1, 0]])\n",
    "\n",
    "CPDAG = np.array([[0, 1, 0, 0], \n",
    "                  [1, 0, 1, 0], \n",
    "                  [0, 0, 0, 0], \n",
    "                  [0, 0, 1, 0]])"
   ]
  },
  {
   "cell_type": "code",
   "execution_count": 6,
   "id": "899c4294-0575-4b3b-a99a-d2162ebd9dae",
   "metadata": {},
   "outputs": [
    {
     "data": {
      "text/html": [
       "\n",
       "        <div style=\"display: flex; gap: 60px;\">\n",
       "            <div style=\"text-align: center;\">\n",
       "                <h3>True DAG</h3>\n",
       "                <?xml version=\"1.0\" encoding=\"UTF-8\" standalone=\"no\"?>\r\n",
       "<!DOCTYPE svg PUBLIC \"-//W3C//DTD SVG 1.1//EN\"\r\n",
       " \"http://www.w3.org/Graphics/SVG/1.1/DTD/svg11.dtd\">\r\n",
       "<!-- Generated by graphviz version 8.0.5 (20230430.1635)\r\n",
       " -->\r\n",
       "<!-- Title: True DAG Pages: 1 -->\r\n",
       "<svg width=\"134pt\" height=\"188pt\"\r\n",
       " viewBox=\"0.00 0.00 134.00 188.00\" xmlns=\"http://www.w3.org/2000/svg\" xmlns:xlink=\"http://www.w3.org/1999/xlink\">\r\n",
       "<g id=\"graph0\" class=\"graph\" transform=\"scale(1 1) rotate(0) translate(4 184)\">\r\n",
       "<title>True DAG</title>\r\n",
       "<polygon fill=\"white\" stroke=\"none\" points=\"-4,4 -4,-184 130,-184 130,4 -4,4\"/>\r\n",
       "<!-- X1 -->\r\n",
       "<g id=\"node1\" class=\"node\">\r\n",
       "<title>X1</title>\r\n",
       "<ellipse fill=\"none\" stroke=\"black\" cx=\"71\" cy=\"-18\" rx=\"27\" ry=\"18\"/>\r\n",
       "<text text-anchor=\"middle\" x=\"71\" y=\"-12.57\" font-family=\"Times New Roman,serif\" font-size=\"14.00\">X1</text>\r\n",
       "</g>\r\n",
       "<!-- X2 -->\r\n",
       "<g id=\"node2\" class=\"node\">\r\n",
       "<title>X2</title>\r\n",
       "<ellipse fill=\"none\" stroke=\"black\" cx=\"27\" cy=\"-162\" rx=\"27\" ry=\"18\"/>\r\n",
       "<text text-anchor=\"middle\" x=\"27\" y=\"-156.57\" font-family=\"Times New Roman,serif\" font-size=\"14.00\">X2</text>\r\n",
       "</g>\r\n",
       "<!-- X3 -->\r\n",
       "<g id=\"node3\" class=\"node\">\r\n",
       "<title>X3</title>\r\n",
       "<ellipse fill=\"none\" stroke=\"black\" cx=\"44\" cy=\"-90\" rx=\"27\" ry=\"18\"/>\r\n",
       "<text text-anchor=\"middle\" x=\"44\" y=\"-84.58\" font-family=\"Times New Roman,serif\" font-size=\"14.00\">X3</text>\r\n",
       "</g>\r\n",
       "<!-- X2&#45;&gt;X3 -->\r\n",
       "<g id=\"edge1\" class=\"edge\">\r\n",
       "<title>X2&#45;&gt;X3</title>\r\n",
       "<path fill=\"none\" stroke=\"crimson\" d=\"M31.12,-144.05C32.95,-136.52 35.15,-127.44 37.22,-118.94\"/>\r\n",
       "<polygon fill=\"crimson\" stroke=\"crimson\" points=\"40.85,-119.82 39.8,-109.28 34.04,-118.17 40.85,-119.82\"/>\r\n",
       "</g>\r\n",
       "<!-- X3&#45;&gt;X1 -->\r\n",
       "<g id=\"edge2\" class=\"edge\">\r\n",
       "<title>X3&#45;&gt;X1</title>\r\n",
       "<path fill=\"none\" stroke=\"black\" d=\"M50.54,-72.05C53.55,-64.23 57.21,-54.75 60.59,-45.98\"/>\r\n",
       "<polygon fill=\"black\" stroke=\"black\" points=\"64.19,-47.38 64.52,-36.79 57.66,-44.86 64.19,-47.38\"/>\r\n",
       "</g>\r\n",
       "<!-- X4 -->\r\n",
       "<g id=\"node4\" class=\"node\">\r\n",
       "<title>X4</title>\r\n",
       "<ellipse fill=\"none\" stroke=\"black\" cx=\"99\" cy=\"-162\" rx=\"27\" ry=\"18\"/>\r\n",
       "<text text-anchor=\"middle\" x=\"99\" y=\"-156.57\" font-family=\"Times New Roman,serif\" font-size=\"14.00\">X4</text>\r\n",
       "</g>\r\n",
       "<!-- X4&#45;&gt;X1 -->\r\n",
       "<g id=\"edge3\" class=\"edge\">\r\n",
       "<title>X4&#45;&gt;X1</title>\r\n",
       "<path fill=\"none\" stroke=\"black\" d=\"M95.62,-143.87C90.87,-119.78 82.16,-75.6 76.48,-46.77\"/>\r\n",
       "<polygon fill=\"black\" stroke=\"black\" points=\"79.76,-46.32 74.39,-37.19 72.89,-47.68 79.76,-46.32\"/>\r\n",
       "</g>\r\n",
       "<!-- X4&#45;&gt;X3 -->\r\n",
       "<g id=\"edge4\" class=\"edge\">\r\n",
       "<title>X4&#45;&gt;X3</title>\r\n",
       "<path fill=\"none\" stroke=\"crimson\" d=\"M86.79,-145.46C79.74,-136.49 70.73,-125.02 62.79,-114.92\"/>\r\n",
       "<polygon fill=\"crimson\" stroke=\"crimson\" points=\"65.1,-113.19 56.17,-107.49 59.6,-117.52 65.1,-113.19\"/>\r\n",
       "</g>\r\n",
       "</g>\r\n",
       "</svg>\r\n",
       "\n",
       "            </div>\n",
       "            <div style=\"text-align: center;\">\n",
       "                <h3>Estimated DAG 1</h3>\n",
       "                <?xml version=\"1.0\" encoding=\"UTF-8\" standalone=\"no\"?>\r\n",
       "<!DOCTYPE svg PUBLIC \"-//W3C//DTD SVG 1.1//EN\"\r\n",
       " \"http://www.w3.org/Graphics/SVG/1.1/DTD/svg11.dtd\">\r\n",
       "<!-- Generated by graphviz version 8.0.5 (20230430.1635)\r\n",
       " -->\r\n",
       "<!-- Title: Estimated DAG 1 Pages: 1 -->\r\n",
       "<svg width=\"134pt\" height=\"188pt\"\r\n",
       " viewBox=\"0.00 0.00 134.00 188.00\" xmlns=\"http://www.w3.org/2000/svg\" xmlns:xlink=\"http://www.w3.org/1999/xlink\">\r\n",
       "<g id=\"graph0\" class=\"graph\" transform=\"scale(1 1) rotate(0) translate(4 184)\">\r\n",
       "<title>Estimated DAG 1</title>\r\n",
       "<polygon fill=\"white\" stroke=\"none\" points=\"-4,4 -4,-184 130,-184 130,4 -4,4\"/>\r\n",
       "<!-- X1 -->\r\n",
       "<g id=\"node1\" class=\"node\">\r\n",
       "<title>X1</title>\r\n",
       "<ellipse fill=\"none\" stroke=\"black\" cx=\"27\" cy=\"-162\" rx=\"27\" ry=\"18\"/>\r\n",
       "<text text-anchor=\"middle\" x=\"27\" y=\"-156.57\" font-family=\"Times New Roman,serif\" font-size=\"14.00\">X1</text>\r\n",
       "</g>\r\n",
       "<!-- X2 -->\r\n",
       "<g id=\"node2\" class=\"node\">\r\n",
       "<title>X2</title>\r\n",
       "<ellipse fill=\"none\" stroke=\"black\" cx=\"27\" cy=\"-90\" rx=\"27\" ry=\"18\"/>\r\n",
       "<text text-anchor=\"middle\" x=\"27\" y=\"-84.58\" font-family=\"Times New Roman,serif\" font-size=\"14.00\">X2</text>\r\n",
       "</g>\r\n",
       "<!-- X1&#45;&gt;X2 -->\r\n",
       "<g id=\"edge1\" class=\"edge\">\r\n",
       "<title>X1&#45;&gt;X2</title>\r\n",
       "<path fill=\"none\" stroke=\"black\" d=\"M27,-143.7C27,-136.24 27,-127.32 27,-118.97\"/>\r\n",
       "<polygon fill=\"black\" stroke=\"black\" points=\"30.5,-119.1 27,-109.1 23.5,-119.1 30.5,-119.1\"/>\r\n",
       "</g>\r\n",
       "<!-- X3 -->\r\n",
       "<g id=\"node3\" class=\"node\">\r\n",
       "<title>X3</title>\r\n",
       "<ellipse fill=\"none\" stroke=\"black\" cx=\"63\" cy=\"-18\" rx=\"27\" ry=\"18\"/>\r\n",
       "<text text-anchor=\"middle\" x=\"63\" y=\"-12.57\" font-family=\"Times New Roman,serif\" font-size=\"14.00\">X3</text>\r\n",
       "</g>\r\n",
       "<!-- X2&#45;&gt;X3 -->\r\n",
       "<g id=\"edge2\" class=\"edge\">\r\n",
       "<title>X2&#45;&gt;X3</title>\r\n",
       "<path fill=\"none\" stroke=\"crimson\" d=\"M35.35,-72.76C39.62,-64.46 44.92,-54.15 49.73,-44.79\"/>\r\n",
       "<polygon fill=\"crimson\" stroke=\"crimson\" points=\"53.23,-46.64 54.7,-36.15 47.01,-43.44 53.23,-46.64\"/>\r\n",
       "</g>\r\n",
       "<!-- X4 -->\r\n",
       "<g id=\"node4\" class=\"node\">\r\n",
       "<title>X4</title>\r\n",
       "<ellipse fill=\"none\" stroke=\"black\" cx=\"99\" cy=\"-90\" rx=\"27\" ry=\"18\"/>\r\n",
       "<text text-anchor=\"middle\" x=\"99\" y=\"-84.58\" font-family=\"Times New Roman,serif\" font-size=\"14.00\">X4</text>\r\n",
       "</g>\r\n",
       "<!-- X4&#45;&gt;X3 -->\r\n",
       "<g id=\"edge3\" class=\"edge\">\r\n",
       "<title>X4&#45;&gt;X3</title>\r\n",
       "<path fill=\"none\" stroke=\"crimson\" d=\"M90.65,-72.76C86.38,-64.46 81.08,-54.15 76.27,-44.79\"/>\r\n",
       "<polygon fill=\"crimson\" stroke=\"crimson\" points=\"78.99,-43.44 71.3,-36.15 72.77,-46.64 78.99,-43.44\"/>\r\n",
       "</g>\r\n",
       "</g>\r\n",
       "</svg>\r\n",
       "\n",
       "            </div>\n",
       "        </div>\n",
       "        "
      ],
      "text/plain": [
       "<IPython.core.display.HTML object>"
      ]
     },
     "metadata": {},
     "output_type": "display_data"
    },
    {
     "name": "stdout",
     "output_type": "stream",
     "text": [
      "            metric metric_value\n",
      "0              shd            3\n",
      "1              sid          6.0\n",
      "2  sid_lower_bound          6.0\n",
      "3  sid_upper_bound          6.0\n",
      "\n",
      "SID Incorect Interventional distributions\n",
      "[[0. 1. 1. 1.]\n",
      " [1. 0. 1. 1.]\n",
      " [0. 0. 0. 0.]\n",
      " [0. 0. 0. 0.]]\n"
     ]
    },
    {
     "data": {
      "text/html": [
       "\n",
       "        <div style=\"display: flex; gap: 60px;\">\n",
       "            <div style=\"text-align: center;\">\n",
       "                <h3>DAG</h3>\n",
       "                <?xml version=\"1.0\" encoding=\"UTF-8\" standalone=\"no\"?>\r\n",
       "<!DOCTYPE svg PUBLIC \"-//W3C//DTD SVG 1.1//EN\"\r\n",
       " \"http://www.w3.org/Graphics/SVG/1.1/DTD/svg11.dtd\">\r\n",
       "<!-- Generated by graphviz version 8.0.5 (20230430.1635)\r\n",
       " -->\r\n",
       "<!-- Title: DAG Pages: 1 -->\r\n",
       "<svg width=\"134pt\" height=\"188pt\"\r\n",
       " viewBox=\"0.00 0.00 134.00 188.00\" xmlns=\"http://www.w3.org/2000/svg\" xmlns:xlink=\"http://www.w3.org/1999/xlink\">\r\n",
       "<g id=\"graph0\" class=\"graph\" transform=\"scale(1 1) rotate(0) translate(4 184)\">\r\n",
       "<title>DAG</title>\r\n",
       "<polygon fill=\"white\" stroke=\"none\" points=\"-4,4 -4,-184 130,-184 130,4 -4,4\"/>\r\n",
       "<!-- X1 -->\r\n",
       "<g id=\"node1\" class=\"node\">\r\n",
       "<title>X1</title>\r\n",
       "<ellipse fill=\"none\" stroke=\"black\" cx=\"71\" cy=\"-18\" rx=\"27\" ry=\"18\"/>\r\n",
       "<text text-anchor=\"middle\" x=\"71\" y=\"-12.57\" font-family=\"Times New Roman,serif\" font-size=\"14.00\">X1</text>\r\n",
       "</g>\r\n",
       "<!-- X2 -->\r\n",
       "<g id=\"node2\" class=\"node\">\r\n",
       "<title>X2</title>\r\n",
       "<ellipse fill=\"none\" stroke=\"black\" cx=\"27\" cy=\"-162\" rx=\"27\" ry=\"18\"/>\r\n",
       "<text text-anchor=\"middle\" x=\"27\" y=\"-156.57\" font-family=\"Times New Roman,serif\" font-size=\"14.00\">X2</text>\r\n",
       "</g>\r\n",
       "<!-- X3 -->\r\n",
       "<g id=\"node3\" class=\"node\">\r\n",
       "<title>X3</title>\r\n",
       "<ellipse fill=\"none\" stroke=\"black\" cx=\"44\" cy=\"-90\" rx=\"27\" ry=\"18\"/>\r\n",
       "<text text-anchor=\"middle\" x=\"44\" y=\"-84.58\" font-family=\"Times New Roman,serif\" font-size=\"14.00\">X3</text>\r\n",
       "</g>\r\n",
       "<!-- X2&#45;&gt;X3 -->\r\n",
       "<g id=\"edge1\" class=\"edge\">\r\n",
       "<title>X2&#45;&gt;X3</title>\r\n",
       "<path fill=\"none\" stroke=\"crimson\" d=\"M31.12,-144.05C32.95,-136.52 35.15,-127.44 37.22,-118.94\"/>\r\n",
       "<polygon fill=\"crimson\" stroke=\"crimson\" points=\"40.85,-119.82 39.8,-109.28 34.04,-118.17 40.85,-119.82\"/>\r\n",
       "</g>\r\n",
       "<!-- X3&#45;&gt;X1 -->\r\n",
       "<g id=\"edge2\" class=\"edge\">\r\n",
       "<title>X3&#45;&gt;X1</title>\r\n",
       "<path fill=\"none\" stroke=\"black\" d=\"M50.54,-72.05C53.55,-64.23 57.21,-54.75 60.59,-45.98\"/>\r\n",
       "<polygon fill=\"black\" stroke=\"black\" points=\"64.19,-47.38 64.52,-36.79 57.66,-44.86 64.19,-47.38\"/>\r\n",
       "</g>\r\n",
       "<!-- X4 -->\r\n",
       "<g id=\"node4\" class=\"node\">\r\n",
       "<title>X4</title>\r\n",
       "<ellipse fill=\"none\" stroke=\"black\" cx=\"99\" cy=\"-162\" rx=\"27\" ry=\"18\"/>\r\n",
       "<text text-anchor=\"middle\" x=\"99\" y=\"-156.57\" font-family=\"Times New Roman,serif\" font-size=\"14.00\">X4</text>\r\n",
       "</g>\r\n",
       "<!-- X4&#45;&gt;X1 -->\r\n",
       "<g id=\"edge3\" class=\"edge\">\r\n",
       "<title>X4&#45;&gt;X1</title>\r\n",
       "<path fill=\"none\" stroke=\"black\" d=\"M95.62,-143.87C90.87,-119.78 82.16,-75.6 76.48,-46.77\"/>\r\n",
       "<polygon fill=\"black\" stroke=\"black\" points=\"79.76,-46.32 74.39,-37.19 72.89,-47.68 79.76,-46.32\"/>\r\n",
       "</g>\r\n",
       "<!-- X4&#45;&gt;X3 -->\r\n",
       "<g id=\"edge4\" class=\"edge\">\r\n",
       "<title>X4&#45;&gt;X3</title>\r\n",
       "<path fill=\"none\" stroke=\"crimson\" d=\"M86.79,-145.46C79.74,-136.49 70.73,-125.02 62.79,-114.92\"/>\r\n",
       "<polygon fill=\"crimson\" stroke=\"crimson\" points=\"65.1,-113.19 56.17,-107.49 59.6,-117.52 65.1,-113.19\"/>\r\n",
       "</g>\r\n",
       "</g>\r\n",
       "</svg>\r\n",
       "\n",
       "            </div>\n",
       "            <div style=\"text-align: center;\">\n",
       "                <h3>Estimated DAG 2</h3>\n",
       "                <?xml version=\"1.0\" encoding=\"UTF-8\" standalone=\"no\"?>\r\n",
       "<!DOCTYPE svg PUBLIC \"-//W3C//DTD SVG 1.1//EN\"\r\n",
       " \"http://www.w3.org/Graphics/SVG/1.1/DTD/svg11.dtd\">\r\n",
       "<!-- Generated by graphviz version 8.0.5 (20230430.1635)\r\n",
       " -->\r\n",
       "<!-- Title: Estimated DAG 2 Pages: 1 -->\r\n",
       "<svg width=\"134pt\" height=\"116pt\"\r\n",
       " viewBox=\"0.00 0.00 134.00 116.00\" xmlns=\"http://www.w3.org/2000/svg\" xmlns:xlink=\"http://www.w3.org/1999/xlink\">\r\n",
       "<g id=\"graph0\" class=\"graph\" transform=\"scale(1 1) rotate(0) translate(4 112)\">\r\n",
       "<title>Estimated DAG 2</title>\r\n",
       "<polygon fill=\"white\" stroke=\"none\" points=\"-4,4 -4,-112 130,-112 130,4 -4,4\"/>\r\n",
       "<!-- X1 -->\r\n",
       "<g id=\"node1\" class=\"node\">\r\n",
       "<title>X1</title>\r\n",
       "<ellipse fill=\"none\" stroke=\"black\" cx=\"27\" cy=\"-18\" rx=\"27\" ry=\"18\"/>\r\n",
       "<text text-anchor=\"middle\" x=\"27\" y=\"-12.57\" font-family=\"Times New Roman,serif\" font-size=\"14.00\">X1</text>\r\n",
       "</g>\r\n",
       "<!-- X2 -->\r\n",
       "<g id=\"node2\" class=\"node\">\r\n",
       "<title>X2</title>\r\n",
       "<ellipse fill=\"none\" stroke=\"black\" cx=\"27\" cy=\"-90\" rx=\"27\" ry=\"18\"/>\r\n",
       "<text text-anchor=\"middle\" x=\"27\" y=\"-84.58\" font-family=\"Times New Roman,serif\" font-size=\"14.00\">X2</text>\r\n",
       "</g>\r\n",
       "<!-- X2&#45;&gt;X1 -->\r\n",
       "<g id=\"edge1\" class=\"edge\">\r\n",
       "<title>X2&#45;&gt;X1</title>\r\n",
       "<path fill=\"none\" stroke=\"black\" d=\"M27,-71.7C27,-64.24 27,-55.32 27,-46.97\"/>\r\n",
       "<polygon fill=\"black\" stroke=\"black\" points=\"30.5,-47.1 27,-37.1 23.5,-47.1 30.5,-47.1\"/>\r\n",
       "</g>\r\n",
       "<!-- X3 -->\r\n",
       "<g id=\"node3\" class=\"node\">\r\n",
       "<title>X3</title>\r\n",
       "<ellipse fill=\"none\" stroke=\"black\" cx=\"99\" cy=\"-18\" rx=\"27\" ry=\"18\"/>\r\n",
       "<text text-anchor=\"middle\" x=\"99\" y=\"-12.57\" font-family=\"Times New Roman,serif\" font-size=\"14.00\">X3</text>\r\n",
       "</g>\r\n",
       "<!-- X2&#45;&gt;X3 -->\r\n",
       "<g id=\"edge2\" class=\"edge\">\r\n",
       "<title>X2&#45;&gt;X3</title>\r\n",
       "<path fill=\"none\" stroke=\"crimson\" d=\"M41.92,-74.5C51.86,-64.83 65.12,-51.94 76.35,-41.02\"/>\r\n",
       "<polygon fill=\"crimson\" stroke=\"crimson\" points=\"78.37,-43.97 83.1,-34.49 73.49,-38.95 78.37,-43.97\"/>\r\n",
       "</g>\r\n",
       "<!-- X4 -->\r\n",
       "<g id=\"node4\" class=\"node\">\r\n",
       "<title>X4</title>\r\n",
       "<ellipse fill=\"none\" stroke=\"black\" cx=\"99\" cy=\"-90\" rx=\"27\" ry=\"18\"/>\r\n",
       "<text text-anchor=\"middle\" x=\"99\" y=\"-84.58\" font-family=\"Times New Roman,serif\" font-size=\"14.00\">X4</text>\r\n",
       "</g>\r\n",
       "<!-- X4&#45;&gt;X3 -->\r\n",
       "<g id=\"edge3\" class=\"edge\">\r\n",
       "<title>X4&#45;&gt;X3</title>\r\n",
       "<path fill=\"none\" stroke=\"crimson\" d=\"M99,-71.7C99,-64.24 99,-55.32 99,-46.97\"/>\r\n",
       "<polygon fill=\"crimson\" stroke=\"crimson\" points=\"102.5,-47.1 99,-37.1 95.5,-47.1 102.5,-47.1\"/>\r\n",
       "</g>\r\n",
       "</g>\r\n",
       "</svg>\r\n",
       "\n",
       "            </div>\n",
       "        </div>\n",
       "        "
      ],
      "text/plain": [
       "<IPython.core.display.HTML object>"
      ]
     },
     "metadata": {},
     "output_type": "display_data"
    },
    {
     "name": "stdout",
     "output_type": "stream",
     "text": [
      "            metric metric_value\n",
      "0              shd            3\n",
      "1              sid          2.0\n",
      "2  sid_lower_bound          2.0\n",
      "3  sid_upper_bound          2.0\n",
      "\n",
      "SID Incorect Interventional distributions\n",
      "[[0. 0. 1. 1.]\n",
      " [0. 0. 0. 0.]\n",
      " [0. 0. 0. 0.]\n",
      " [0. 0. 0. 0.]]\n"
     ]
    },
    {
     "data": {
      "text/html": [
       "\n",
       "        <div style=\"display: flex; gap: 60px;\">\n",
       "            <div style=\"text-align: center;\">\n",
       "                <h3>DAG</h3>\n",
       "                <?xml version=\"1.0\" encoding=\"UTF-8\" standalone=\"no\"?>\r\n",
       "<!DOCTYPE svg PUBLIC \"-//W3C//DTD SVG 1.1//EN\"\r\n",
       " \"http://www.w3.org/Graphics/SVG/1.1/DTD/svg11.dtd\">\r\n",
       "<!-- Generated by graphviz version 8.0.5 (20230430.1635)\r\n",
       " -->\r\n",
       "<!-- Title: DAG Pages: 1 -->\r\n",
       "<svg width=\"134pt\" height=\"188pt\"\r\n",
       " viewBox=\"0.00 0.00 134.00 188.00\" xmlns=\"http://www.w3.org/2000/svg\" xmlns:xlink=\"http://www.w3.org/1999/xlink\">\r\n",
       "<g id=\"graph0\" class=\"graph\" transform=\"scale(1 1) rotate(0) translate(4 184)\">\r\n",
       "<title>DAG</title>\r\n",
       "<polygon fill=\"white\" stroke=\"none\" points=\"-4,4 -4,-184 130,-184 130,4 -4,4\"/>\r\n",
       "<!-- X1 -->\r\n",
       "<g id=\"node1\" class=\"node\">\r\n",
       "<title>X1</title>\r\n",
       "<ellipse fill=\"none\" stroke=\"black\" cx=\"71\" cy=\"-18\" rx=\"27\" ry=\"18\"/>\r\n",
       "<text text-anchor=\"middle\" x=\"71\" y=\"-12.57\" font-family=\"Times New Roman,serif\" font-size=\"14.00\">X1</text>\r\n",
       "</g>\r\n",
       "<!-- X2 -->\r\n",
       "<g id=\"node2\" class=\"node\">\r\n",
       "<title>X2</title>\r\n",
       "<ellipse fill=\"none\" stroke=\"black\" cx=\"27\" cy=\"-162\" rx=\"27\" ry=\"18\"/>\r\n",
       "<text text-anchor=\"middle\" x=\"27\" y=\"-156.57\" font-family=\"Times New Roman,serif\" font-size=\"14.00\">X2</text>\r\n",
       "</g>\r\n",
       "<!-- X3 -->\r\n",
       "<g id=\"node3\" class=\"node\">\r\n",
       "<title>X3</title>\r\n",
       "<ellipse fill=\"none\" stroke=\"black\" cx=\"44\" cy=\"-90\" rx=\"27\" ry=\"18\"/>\r\n",
       "<text text-anchor=\"middle\" x=\"44\" y=\"-84.58\" font-family=\"Times New Roman,serif\" font-size=\"14.00\">X3</text>\r\n",
       "</g>\r\n",
       "<!-- X2&#45;&gt;X3 -->\r\n",
       "<g id=\"edge1\" class=\"edge\">\r\n",
       "<title>X2&#45;&gt;X3</title>\r\n",
       "<path fill=\"none\" stroke=\"crimson\" d=\"M31.12,-144.05C32.95,-136.52 35.15,-127.44 37.22,-118.94\"/>\r\n",
       "<polygon fill=\"crimson\" stroke=\"crimson\" points=\"40.85,-119.82 39.8,-109.28 34.04,-118.17 40.85,-119.82\"/>\r\n",
       "</g>\r\n",
       "<!-- X3&#45;&gt;X1 -->\r\n",
       "<g id=\"edge2\" class=\"edge\">\r\n",
       "<title>X3&#45;&gt;X1</title>\r\n",
       "<path fill=\"none\" stroke=\"black\" d=\"M50.54,-72.05C53.55,-64.23 57.21,-54.75 60.59,-45.98\"/>\r\n",
       "<polygon fill=\"black\" stroke=\"black\" points=\"64.19,-47.38 64.52,-36.79 57.66,-44.86 64.19,-47.38\"/>\r\n",
       "</g>\r\n",
       "<!-- X4 -->\r\n",
       "<g id=\"node4\" class=\"node\">\r\n",
       "<title>X4</title>\r\n",
       "<ellipse fill=\"none\" stroke=\"black\" cx=\"99\" cy=\"-162\" rx=\"27\" ry=\"18\"/>\r\n",
       "<text text-anchor=\"middle\" x=\"99\" y=\"-156.57\" font-family=\"Times New Roman,serif\" font-size=\"14.00\">X4</text>\r\n",
       "</g>\r\n",
       "<!-- X4&#45;&gt;X1 -->\r\n",
       "<g id=\"edge3\" class=\"edge\">\r\n",
       "<title>X4&#45;&gt;X1</title>\r\n",
       "<path fill=\"none\" stroke=\"black\" d=\"M95.62,-143.87C90.87,-119.78 82.16,-75.6 76.48,-46.77\"/>\r\n",
       "<polygon fill=\"black\" stroke=\"black\" points=\"79.76,-46.32 74.39,-37.19 72.89,-47.68 79.76,-46.32\"/>\r\n",
       "</g>\r\n",
       "<!-- X4&#45;&gt;X3 -->\r\n",
       "<g id=\"edge4\" class=\"edge\">\r\n",
       "<title>X4&#45;&gt;X3</title>\r\n",
       "<path fill=\"none\" stroke=\"crimson\" d=\"M86.79,-145.46C79.74,-136.49 70.73,-125.02 62.79,-114.92\"/>\r\n",
       "<polygon fill=\"crimson\" stroke=\"crimson\" points=\"65.1,-113.19 56.17,-107.49 59.6,-117.52 65.1,-113.19\"/>\r\n",
       "</g>\r\n",
       "</g>\r\n",
       "</svg>\r\n",
       "\n",
       "            </div>\n",
       "            <div style=\"text-align: center;\">\n",
       "                <h3>Estimated CPDAG</h3>\n",
       "                <?xml version=\"1.0\" encoding=\"UTF-8\" standalone=\"no\"?>\r\n",
       "<!DOCTYPE svg PUBLIC \"-//W3C//DTD SVG 1.1//EN\"\r\n",
       " \"http://www.w3.org/Graphics/SVG/1.1/DTD/svg11.dtd\">\r\n",
       "<!-- Generated by graphviz version 8.0.5 (20230430.1635)\r\n",
       " -->\r\n",
       "<!-- Title: Estimated CPDAG Pages: 1 -->\r\n",
       "<svg width=\"134pt\" height=\"188pt\"\r\n",
       " viewBox=\"0.00 0.00 134.00 188.00\" xmlns=\"http://www.w3.org/2000/svg\" xmlns:xlink=\"http://www.w3.org/1999/xlink\">\r\n",
       "<g id=\"graph0\" class=\"graph\" transform=\"scale(1 1) rotate(0) translate(4 184)\">\r\n",
       "<title>Estimated CPDAG</title>\r\n",
       "<polygon fill=\"white\" stroke=\"none\" points=\"-4,4 -4,-184 130,-184 130,4 -4,4\"/>\r\n",
       "<!-- X1 -->\r\n",
       "<g id=\"node1\" class=\"node\">\r\n",
       "<title>X1</title>\r\n",
       "<ellipse fill=\"none\" stroke=\"black\" cx=\"27\" cy=\"-162\" rx=\"27\" ry=\"18\"/>\r\n",
       "<text text-anchor=\"middle\" x=\"27\" y=\"-156.57\" font-family=\"Times New Roman,serif\" font-size=\"14.00\">X1</text>\r\n",
       "</g>\r\n",
       "<!-- X2 -->\r\n",
       "<g id=\"node2\" class=\"node\">\r\n",
       "<title>X2</title>\r\n",
       "<ellipse fill=\"none\" stroke=\"black\" cx=\"27\" cy=\"-90\" rx=\"27\" ry=\"18\"/>\r\n",
       "<text text-anchor=\"middle\" x=\"27\" y=\"-84.58\" font-family=\"Times New Roman,serif\" font-size=\"14.00\">X2</text>\r\n",
       "</g>\r\n",
       "<!-- X1&#45;&gt;X2 -->\r\n",
       "<g id=\"edge1\" class=\"edge\">\r\n",
       "<title>X1&#45;&gt;X2</title>\r\n",
       "<path fill=\"none\" stroke=\"black\" d=\"M27,-143.7C27,-132.85 27,-118.92 27,-108.1\"/>\r\n",
       "</g>\r\n",
       "<!-- X3 -->\r\n",
       "<g id=\"node3\" class=\"node\">\r\n",
       "<title>X3</title>\r\n",
       "<ellipse fill=\"none\" stroke=\"black\" cx=\"63\" cy=\"-18\" rx=\"27\" ry=\"18\"/>\r\n",
       "<text text-anchor=\"middle\" x=\"63\" y=\"-12.57\" font-family=\"Times New Roman,serif\" font-size=\"14.00\">X3</text>\r\n",
       "</g>\r\n",
       "<!-- X2&#45;&gt;X3 -->\r\n",
       "<g id=\"edge2\" class=\"edge\">\r\n",
       "<title>X2&#45;&gt;X3</title>\r\n",
       "<path fill=\"none\" stroke=\"crimson\" d=\"M35.35,-72.76C39.62,-64.46 44.92,-54.15 49.73,-44.79\"/>\r\n",
       "<polygon fill=\"crimson\" stroke=\"crimson\" points=\"53.23,-46.64 54.7,-36.15 47.01,-43.44 53.23,-46.64\"/>\r\n",
       "</g>\r\n",
       "<!-- X4 -->\r\n",
       "<g id=\"node4\" class=\"node\">\r\n",
       "<title>X4</title>\r\n",
       "<ellipse fill=\"none\" stroke=\"black\" cx=\"99\" cy=\"-90\" rx=\"27\" ry=\"18\"/>\r\n",
       "<text text-anchor=\"middle\" x=\"99\" y=\"-84.58\" font-family=\"Times New Roman,serif\" font-size=\"14.00\">X4</text>\r\n",
       "</g>\r\n",
       "<!-- X4&#45;&gt;X3 -->\r\n",
       "<g id=\"edge3\" class=\"edge\">\r\n",
       "<title>X4&#45;&gt;X3</title>\r\n",
       "<path fill=\"none\" stroke=\"crimson\" d=\"M90.65,-72.76C86.38,-64.46 81.08,-54.15 76.27,-44.79\"/>\r\n",
       "<polygon fill=\"crimson\" stroke=\"crimson\" points=\"78.99,-43.44 71.3,-36.15 72.77,-46.64 78.99,-43.44\"/>\r\n",
       "</g>\r\n",
       "</g>\r\n",
       "</svg>\r\n",
       "\n",
       "            </div>\n",
       "        </div>\n",
       "        "
      ],
      "text/plain": [
       "<IPython.core.display.HTML object>"
      ]
     },
     "metadata": {},
     "output_type": "display_data"
    },
    {
     "name": "stdout",
     "output_type": "stream",
     "text": [
      "            metric metric_value\n",
      "0              shd            3\n",
      "1              sid          6.0\n",
      "2  sid_lower_bound          2.0\n",
      "3  sid_upper_bound          6.0\n",
      "\n",
      "SID Incorect Interventional distributions\n",
      "[[0. 1. 1. 1.]\n",
      " [1. 0. 1. 1.]\n",
      " [0. 0. 0. 0.]\n",
      " [0. 0. 0. 0.]]\n"
     ]
    }
   ],
   "source": [
    "bnm = BNMetrics(DAG, DAG1, node_names=nodes)\n",
    "bnm.compare_two_bn(nodes=['All'], name1='True DAG', name2='Estimated DAG 1')\n",
    "print((bnm.compare_df(descriptive_metrics='', comparison_metrics=['shd', 'sid'])\n",
    "       .query(\"node_name == 'All'\")\n",
    "       .drop(columns='node_name')\n",
    "       .T\n",
    "       .reset_index()\n",
    "       .rename(columns={0:'metric_value', 'index': 'metric'})))\n",
    "print('\\nSID Incorect Interventional distributions')\n",
    "print(bnm.sid(nodes=['All'], output=False)['incorrect_mat'])\n",
    "\n",
    "\n",
    "\n",
    "bnm = BNMetrics(DAG, DAG2, node_names=nodes)\n",
    "bnm.compare_two_bn(nodes=['All'], name1='DAG', name2='Estimated DAG 2')\n",
    "print((bnm.compare_df(descriptive_metrics='', comparison_metrics=['shd', 'sid'])\n",
    "       .query(\"node_name == 'All'\")\n",
    "       .drop(columns='node_name')\n",
    "       .T\n",
    "       .reset_index()\n",
    "       .rename(columns={0:'metric_value', 'index': 'metric'})))\n",
    "print('\\nSID Incorect Interventional distributions')\n",
    "print(bnm.sid(nodes=['All'], output=False)['incorrect_mat'])\n",
    "\n",
    "\n",
    "\n",
    "bnm = BNMetrics(DAG, CPDAG, node_names=nodes)\n",
    "bnm.compare_two_bn(nodes=['All'], name1='DAG', name2='Estimated CPDAG')\n",
    "print((bnm.compare_df(descriptive_metrics='', comparison_metrics=['shd', 'sid'])\n",
    "       .query(\"node_name == 'All'\")\n",
    "       .drop(columns='node_name')\n",
    "       .T\n",
    "       .reset_index()\n",
    "       .rename(columns={0:'metric_value', 'index': 'metric'})))\n",
    "print('\\nSID Incorect Interventional distributions')\n",
    "print(bnm.sid(nodes=['All'], output=False)['incorrect_mat'])"
   ]
  },
  {
   "cell_type": "markdown",
   "id": "200fb27e-cc66-4324-b9cf-c547c0134bdb",
   "metadata": {},
   "source": [
    "### Structure learning"
   ]
  },
  {
   "cell_type": "code",
   "execution_count": 3,
   "id": "4bb8e64f-a091-4d0b-8402-4801fc9d5560",
   "metadata": {},
   "outputs": [],
   "source": [
    "true_dag = generate_random_dag(n_nodes=40, edge_prob=0.1, seed=55)\n",
    "data = generate_synthetic_data_from_dag(true_dag, n_samples=1000, stdev=1.0, seed=55)\n",
    "data = data[list(true_dag.nodes)]"
   ]
  },
  {
   "cell_type": "code",
   "execution_count": 4,
   "id": "33dcbbbe-8cdc-4fe9-ab24-b5ad2c3bc1c6",
   "metadata": {},
   "outputs": [
    {
     "data": {
      "application/vnd.jupyter.widget-view+json": {
       "model_id": "2f38a0f06fb84115b87ea89df65fafda",
       "version_major": 2,
       "version_minor": 0
      },
      "text/plain": [
       "  0%|          | 0/40 [00:00<?, ?it/s]"
      ]
     },
     "metadata": {},
     "output_type": "display_data"
    }
   ],
   "source": [
    "cg = pc(data.values)"
   ]
  },
  {
   "cell_type": "code",
   "execution_count": 5,
   "id": "20ca0776-38de-4f5e-b161-671bba872f70",
   "metadata": {},
   "outputs": [
    {
     "data": {
      "text/plain": [
       "(40, 40)"
      ]
     },
     "execution_count": 5,
     "metadata": {},
     "output_type": "execute_result"
    }
   ],
   "source": [
    "cg.to_nx_graph()\n",
    "nx.to_numpy_array(cg.nx_graph).shape"
   ]
  },
  {
   "cell_type": "code",
   "execution_count": 6,
   "id": "5d73ee41-ef17-44d8-a022-dc3b36475feb",
   "metadata": {},
   "outputs": [],
   "source": [
    "bn_obj = BNMetrics(G1=true_dag, G2=nx.to_numpy_array(cg.nx_graph), mb_nodes=['X_33'])"
   ]
  },
  {
   "cell_type": "code",
   "execution_count": 7,
   "id": "7d2f0599-b71e-4c29-a794-663907538fd2",
   "metadata": {},
   "outputs": [],
   "source": [
    "mat = bn_obj.sid(nodes=['X_33'], output=False)['incorrect_mat']"
   ]
  },
  {
   "cell_type": "code",
   "execution_count": 8,
   "id": "9b11b3d3-1b5e-4f8b-a866-6cc2cb6ee267",
   "metadata": {},
   "outputs": [],
   "source": [
    "labels = list(bn_obj.graph_dict['X_33']['d1'].nodes())"
   ]
  },
  {
   "cell_type": "code",
   "execution_count": 9,
   "id": "4898dd38-f704-421d-851e-72031855f9be",
   "metadata": {},
   "outputs": [
    {
     "data": {
      "text/plain": [
       "array([[0., 0., 0., 0., 0., 0., 0., 0., 0., 0., 0., 0.],\n",
       "       [0., 0., 0., 0., 0., 0., 0., 0., 0., 0., 0., 0.],\n",
       "       [0., 0., 0., 0., 0., 0., 0., 0., 0., 0., 0., 0.],\n",
       "       [1., 1., 1., 0., 1., 1., 1., 1., 1., 0., 1., 1.],\n",
       "       [0., 0., 0., 0., 0., 0., 0., 0., 0., 0., 0., 0.],\n",
       "       [0., 0., 0., 0., 0., 0., 0., 0., 0., 1., 0., 0.],\n",
       "       [0., 0., 0., 0., 0., 0., 0., 0., 0., 0., 0., 0.],\n",
       "       [1., 1., 0., 1., 1., 1., 0., 0., 0., 0., 1., 1.],\n",
       "       [0., 0., 0., 0., 0., 0., 0., 0., 0., 0., 0., 0.],\n",
       "       [0., 0., 0., 0., 0., 0., 0., 0., 0., 0., 0., 0.],\n",
       "       [0., 0., 0., 0., 0., 0., 0., 0., 0., 0., 0., 0.],\n",
       "       [0., 0., 0., 0., 0., 0., 0., 0., 0., 0., 0., 0.]])"
      ]
     },
     "execution_count": 9,
     "metadata": {},
     "output_type": "execute_result"
    }
   ],
   "source": [
    "mat"
   ]
  },
  {
   "cell_type": "code",
   "execution_count": 12,
   "id": "b263662f-76b8-4b7f-804a-4ebb18472a2c",
   "metadata": {},
   "outputs": [
    {
     "data": {
      "text/plain": [
       "(15, 15)"
      ]
     },
     "execution_count": 12,
     "metadata": {},
     "output_type": "execute_result"
    }
   ],
   "source": [
    "mat.shape"
   ]
  },
  {
   "cell_type": "code",
   "execution_count": 18,
   "id": "47ef76a4-be83-4fa3-a01e-c26bf30c87e8",
   "metadata": {},
   "outputs": [
    {
     "data": {
      "text/plain": [
       "array([[0., 0., 0., 0.],\n",
       "       [0., 0., 0., 0.],\n",
       "       [0., 0., 0., 0.],\n",
       "       [0., 0., 0., 0.]])"
      ]
     },
     "execution_count": 18,
     "metadata": {},
     "output_type": "execute_result"
    }
   ],
   "source": [
    "mat"
   ]
  },
  {
   "cell_type": "code",
   "execution_count": 22,
   "id": "c71aaff0-df84-418d-a64b-b8ff35d10b05",
   "metadata": {},
   "outputs": [
    {
     "data": {
      "application/vnd.plotly.v1+json": {
       "config": {
        "plotlyServerURL": "https://plotly.com"
       },
       "data": [
        {
         "colorscale": [
          [
           0,
           "white"
          ],
          [
           0.9999,
           "white"
          ],
          [
           1,
           "crimson"
          ]
         ],
         "showscale": false,
         "type": "heatmap",
         "x": [
          "X_34",
          "X_37",
          "X_35",
          "X_22"
         ],
         "xgap": 1,
         "y": [
          "X_34",
          "X_37",
          "X_35",
          "X_22"
         ],
         "ygap": 1,
         "z": [
          [
           0,
           0,
           0,
           0
          ],
          [
           0,
           0,
           0,
           0
          ],
          [
           0,
           0,
           0,
           0
          ],
          [
           0,
           0,
           0,
           0
          ]
         ],
         "zmax": 1,
         "zmin": 0
        }
       ],
       "layout": {
        "height": 500,
        "template": {
         "data": {
          "bar": [
           {
            "error_x": {
             "color": "#2a3f5f"
            },
            "error_y": {
             "color": "#2a3f5f"
            },
            "marker": {
             "line": {
              "color": "#E5ECF6",
              "width": 0.5
             },
             "pattern": {
              "fillmode": "overlay",
              "size": 10,
              "solidity": 0.2
             }
            },
            "type": "bar"
           }
          ],
          "barpolar": [
           {
            "marker": {
             "line": {
              "color": "#E5ECF6",
              "width": 0.5
             },
             "pattern": {
              "fillmode": "overlay",
              "size": 10,
              "solidity": 0.2
             }
            },
            "type": "barpolar"
           }
          ],
          "carpet": [
           {
            "aaxis": {
             "endlinecolor": "#2a3f5f",
             "gridcolor": "white",
             "linecolor": "white",
             "minorgridcolor": "white",
             "startlinecolor": "#2a3f5f"
            },
            "baxis": {
             "endlinecolor": "#2a3f5f",
             "gridcolor": "white",
             "linecolor": "white",
             "minorgridcolor": "white",
             "startlinecolor": "#2a3f5f"
            },
            "type": "carpet"
           }
          ],
          "choropleth": [
           {
            "colorbar": {
             "outlinewidth": 0,
             "ticks": ""
            },
            "type": "choropleth"
           }
          ],
          "contour": [
           {
            "colorbar": {
             "outlinewidth": 0,
             "ticks": ""
            },
            "colorscale": [
             [
              0,
              "#0d0887"
             ],
             [
              0.1111111111111111,
              "#46039f"
             ],
             [
              0.2222222222222222,
              "#7201a8"
             ],
             [
              0.3333333333333333,
              "#9c179e"
             ],
             [
              0.4444444444444444,
              "#bd3786"
             ],
             [
              0.5555555555555556,
              "#d8576b"
             ],
             [
              0.6666666666666666,
              "#ed7953"
             ],
             [
              0.7777777777777778,
              "#fb9f3a"
             ],
             [
              0.8888888888888888,
              "#fdca26"
             ],
             [
              1,
              "#f0f921"
             ]
            ],
            "type": "contour"
           }
          ],
          "contourcarpet": [
           {
            "colorbar": {
             "outlinewidth": 0,
             "ticks": ""
            },
            "type": "contourcarpet"
           }
          ],
          "heatmap": [
           {
            "colorbar": {
             "outlinewidth": 0,
             "ticks": ""
            },
            "colorscale": [
             [
              0,
              "#0d0887"
             ],
             [
              0.1111111111111111,
              "#46039f"
             ],
             [
              0.2222222222222222,
              "#7201a8"
             ],
             [
              0.3333333333333333,
              "#9c179e"
             ],
             [
              0.4444444444444444,
              "#bd3786"
             ],
             [
              0.5555555555555556,
              "#d8576b"
             ],
             [
              0.6666666666666666,
              "#ed7953"
             ],
             [
              0.7777777777777778,
              "#fb9f3a"
             ],
             [
              0.8888888888888888,
              "#fdca26"
             ],
             [
              1,
              "#f0f921"
             ]
            ],
            "type": "heatmap"
           }
          ],
          "heatmapgl": [
           {
            "colorbar": {
             "outlinewidth": 0,
             "ticks": ""
            },
            "colorscale": [
             [
              0,
              "#0d0887"
             ],
             [
              0.1111111111111111,
              "#46039f"
             ],
             [
              0.2222222222222222,
              "#7201a8"
             ],
             [
              0.3333333333333333,
              "#9c179e"
             ],
             [
              0.4444444444444444,
              "#bd3786"
             ],
             [
              0.5555555555555556,
              "#d8576b"
             ],
             [
              0.6666666666666666,
              "#ed7953"
             ],
             [
              0.7777777777777778,
              "#fb9f3a"
             ],
             [
              0.8888888888888888,
              "#fdca26"
             ],
             [
              1,
              "#f0f921"
             ]
            ],
            "type": "heatmapgl"
           }
          ],
          "histogram": [
           {
            "marker": {
             "pattern": {
              "fillmode": "overlay",
              "size": 10,
              "solidity": 0.2
             }
            },
            "type": "histogram"
           }
          ],
          "histogram2d": [
           {
            "colorbar": {
             "outlinewidth": 0,
             "ticks": ""
            },
            "colorscale": [
             [
              0,
              "#0d0887"
             ],
             [
              0.1111111111111111,
              "#46039f"
             ],
             [
              0.2222222222222222,
              "#7201a8"
             ],
             [
              0.3333333333333333,
              "#9c179e"
             ],
             [
              0.4444444444444444,
              "#bd3786"
             ],
             [
              0.5555555555555556,
              "#d8576b"
             ],
             [
              0.6666666666666666,
              "#ed7953"
             ],
             [
              0.7777777777777778,
              "#fb9f3a"
             ],
             [
              0.8888888888888888,
              "#fdca26"
             ],
             [
              1,
              "#f0f921"
             ]
            ],
            "type": "histogram2d"
           }
          ],
          "histogram2dcontour": [
           {
            "colorbar": {
             "outlinewidth": 0,
             "ticks": ""
            },
            "colorscale": [
             [
              0,
              "#0d0887"
             ],
             [
              0.1111111111111111,
              "#46039f"
             ],
             [
              0.2222222222222222,
              "#7201a8"
             ],
             [
              0.3333333333333333,
              "#9c179e"
             ],
             [
              0.4444444444444444,
              "#bd3786"
             ],
             [
              0.5555555555555556,
              "#d8576b"
             ],
             [
              0.6666666666666666,
              "#ed7953"
             ],
             [
              0.7777777777777778,
              "#fb9f3a"
             ],
             [
              0.8888888888888888,
              "#fdca26"
             ],
             [
              1,
              "#f0f921"
             ]
            ],
            "type": "histogram2dcontour"
           }
          ],
          "mesh3d": [
           {
            "colorbar": {
             "outlinewidth": 0,
             "ticks": ""
            },
            "type": "mesh3d"
           }
          ],
          "parcoords": [
           {
            "line": {
             "colorbar": {
              "outlinewidth": 0,
              "ticks": ""
             }
            },
            "type": "parcoords"
           }
          ],
          "pie": [
           {
            "automargin": true,
            "type": "pie"
           }
          ],
          "scatter": [
           {
            "fillpattern": {
             "fillmode": "overlay",
             "size": 10,
             "solidity": 0.2
            },
            "type": "scatter"
           }
          ],
          "scatter3d": [
           {
            "line": {
             "colorbar": {
              "outlinewidth": 0,
              "ticks": ""
             }
            },
            "marker": {
             "colorbar": {
              "outlinewidth": 0,
              "ticks": ""
             }
            },
            "type": "scatter3d"
           }
          ],
          "scattercarpet": [
           {
            "marker": {
             "colorbar": {
              "outlinewidth": 0,
              "ticks": ""
             }
            },
            "type": "scattercarpet"
           }
          ],
          "scattergeo": [
           {
            "marker": {
             "colorbar": {
              "outlinewidth": 0,
              "ticks": ""
             }
            },
            "type": "scattergeo"
           }
          ],
          "scattergl": [
           {
            "marker": {
             "colorbar": {
              "outlinewidth": 0,
              "ticks": ""
             }
            },
            "type": "scattergl"
           }
          ],
          "scattermapbox": [
           {
            "marker": {
             "colorbar": {
              "outlinewidth": 0,
              "ticks": ""
             }
            },
            "type": "scattermapbox"
           }
          ],
          "scatterpolar": [
           {
            "marker": {
             "colorbar": {
              "outlinewidth": 0,
              "ticks": ""
             }
            },
            "type": "scatterpolar"
           }
          ],
          "scatterpolargl": [
           {
            "marker": {
             "colorbar": {
              "outlinewidth": 0,
              "ticks": ""
             }
            },
            "type": "scatterpolargl"
           }
          ],
          "scatterternary": [
           {
            "marker": {
             "colorbar": {
              "outlinewidth": 0,
              "ticks": ""
             }
            },
            "type": "scatterternary"
           }
          ],
          "surface": [
           {
            "colorbar": {
             "outlinewidth": 0,
             "ticks": ""
            },
            "colorscale": [
             [
              0,
              "#0d0887"
             ],
             [
              0.1111111111111111,
              "#46039f"
             ],
             [
              0.2222222222222222,
              "#7201a8"
             ],
             [
              0.3333333333333333,
              "#9c179e"
             ],
             [
              0.4444444444444444,
              "#bd3786"
             ],
             [
              0.5555555555555556,
              "#d8576b"
             ],
             [
              0.6666666666666666,
              "#ed7953"
             ],
             [
              0.7777777777777778,
              "#fb9f3a"
             ],
             [
              0.8888888888888888,
              "#fdca26"
             ],
             [
              1,
              "#f0f921"
             ]
            ],
            "type": "surface"
           }
          ],
          "table": [
           {
            "cells": {
             "fill": {
              "color": "#EBF0F8"
             },
             "line": {
              "color": "white"
             }
            },
            "header": {
             "fill": {
              "color": "#C8D4E3"
             },
             "line": {
              "color": "white"
             }
            },
            "type": "table"
           }
          ]
         },
         "layout": {
          "annotationdefaults": {
           "arrowcolor": "#2a3f5f",
           "arrowhead": 0,
           "arrowwidth": 1
          },
          "autotypenumbers": "strict",
          "coloraxis": {
           "colorbar": {
            "outlinewidth": 0,
            "ticks": ""
           }
          },
          "colorscale": {
           "diverging": [
            [
             0,
             "#8e0152"
            ],
            [
             0.1,
             "#c51b7d"
            ],
            [
             0.2,
             "#de77ae"
            ],
            [
             0.3,
             "#f1b6da"
            ],
            [
             0.4,
             "#fde0ef"
            ],
            [
             0.5,
             "#f7f7f7"
            ],
            [
             0.6,
             "#e6f5d0"
            ],
            [
             0.7,
             "#b8e186"
            ],
            [
             0.8,
             "#7fbc41"
            ],
            [
             0.9,
             "#4d9221"
            ],
            [
             1,
             "#276419"
            ]
           ],
           "sequential": [
            [
             0,
             "#0d0887"
            ],
            [
             0.1111111111111111,
             "#46039f"
            ],
            [
             0.2222222222222222,
             "#7201a8"
            ],
            [
             0.3333333333333333,
             "#9c179e"
            ],
            [
             0.4444444444444444,
             "#bd3786"
            ],
            [
             0.5555555555555556,
             "#d8576b"
            ],
            [
             0.6666666666666666,
             "#ed7953"
            ],
            [
             0.7777777777777778,
             "#fb9f3a"
            ],
            [
             0.8888888888888888,
             "#fdca26"
            ],
            [
             1,
             "#f0f921"
            ]
           ],
           "sequentialminus": [
            [
             0,
             "#0d0887"
            ],
            [
             0.1111111111111111,
             "#46039f"
            ],
            [
             0.2222222222222222,
             "#7201a8"
            ],
            [
             0.3333333333333333,
             "#9c179e"
            ],
            [
             0.4444444444444444,
             "#bd3786"
            ],
            [
             0.5555555555555556,
             "#d8576b"
            ],
            [
             0.6666666666666666,
             "#ed7953"
            ],
            [
             0.7777777777777778,
             "#fb9f3a"
            ],
            [
             0.8888888888888888,
             "#fdca26"
            ],
            [
             1,
             "#f0f921"
            ]
           ]
          },
          "colorway": [
           "#636efa",
           "#EF553B",
           "#00cc96",
           "#ab63fa",
           "#FFA15A",
           "#19d3f3",
           "#FF6692",
           "#B6E880",
           "#FF97FF",
           "#FECB52"
          ],
          "font": {
           "color": "#2a3f5f"
          },
          "geo": {
           "bgcolor": "white",
           "lakecolor": "white",
           "landcolor": "#E5ECF6",
           "showlakes": true,
           "showland": true,
           "subunitcolor": "white"
          },
          "hoverlabel": {
           "align": "left"
          },
          "hovermode": "closest",
          "mapbox": {
           "style": "light"
          },
          "paper_bgcolor": "white",
          "plot_bgcolor": "#E5ECF6",
          "polar": {
           "angularaxis": {
            "gridcolor": "white",
            "linecolor": "white",
            "ticks": ""
           },
           "bgcolor": "#E5ECF6",
           "radialaxis": {
            "gridcolor": "white",
            "linecolor": "white",
            "ticks": ""
           }
          },
          "scene": {
           "xaxis": {
            "backgroundcolor": "#E5ECF6",
            "gridcolor": "white",
            "gridwidth": 2,
            "linecolor": "white",
            "showbackground": true,
            "ticks": "",
            "zerolinecolor": "white"
           },
           "yaxis": {
            "backgroundcolor": "#E5ECF6",
            "gridcolor": "white",
            "gridwidth": 2,
            "linecolor": "white",
            "showbackground": true,
            "ticks": "",
            "zerolinecolor": "white"
           },
           "zaxis": {
            "backgroundcolor": "#E5ECF6",
            "gridcolor": "white",
            "gridwidth": 2,
            "linecolor": "white",
            "showbackground": true,
            "ticks": "",
            "zerolinecolor": "white"
           }
          },
          "shapedefaults": {
           "line": {
            "color": "#2a3f5f"
           }
          },
          "ternary": {
           "aaxis": {
            "gridcolor": "white",
            "linecolor": "white",
            "ticks": ""
           },
           "baxis": {
            "gridcolor": "white",
            "linecolor": "white",
            "ticks": ""
           },
           "bgcolor": "#E5ECF6",
           "caxis": {
            "gridcolor": "white",
            "linecolor": "white",
            "ticks": ""
           }
          },
          "title": {
           "x": 0.05
          },
          "xaxis": {
           "automargin": true,
           "gridcolor": "white",
           "linecolor": "white",
           "ticks": "",
           "title": {
            "standoff": 15
           },
           "zerolinecolor": "white",
           "zerolinewidth": 2
          },
          "yaxis": {
           "automargin": true,
           "gridcolor": "white",
           "linecolor": "white",
           "ticks": "",
           "title": {
            "standoff": 15
           },
           "zerolinecolor": "white",
           "zerolinewidth": 2
          }
         }
        },
        "title": {
         "text": "SID: 0"
        },
        "width": 500,
        "xaxis": {
         "autorange": true,
         "range": [
          -0.5,
          3.5
         ],
         "showgrid": false,
         "side": "top",
         "tickangle": 90,
         "type": "category"
        },
        "yaxis": {
         "autorange": true,
         "range": [
          3.5,
          -0.5
         ],
         "showgrid": false,
         "type": "category"
        }
       }
      },
      "image/png": "[encoded data removed]",
      "text/html": [
       "<div>                            <div id=\"b3545b0e-99a0-4f81-8f6e-b52b95a91e9e\" class=\"plotly-graph-div\" style=\"height:500px; width:500px;\"></div>            <script type=\"text/javascript\">                require([\"plotly\"], function(Plotly) {                    window.PLOTLYENV=window.PLOTLYENV || {};                                    if (document.getElementById(\"b3545b0e-99a0-4f81-8f6e-b52b95a91e9e\")) {                    Plotly.newPlot(                        \"b3545b0e-99a0-4f81-8f6e-b52b95a91e9e\",                        [{\"colorscale\":[[0.0,\"white\"],[0.9999,\"white\"],[1.0,\"crimson\"]],\"showscale\":false,\"x\":[\"X_34\",\"X_37\",\"X_35\",\"X_22\"],\"xgap\":1,\"y\":[\"X_34\",\"X_37\",\"X_35\",\"X_22\"],\"ygap\":1,\"z\":[[0.0,0.0,0.0,0.0],[0.0,0.0,0.0,0.0],[0.0,0.0,0.0,0.0],[0.0,0.0,0.0,0.0]],\"zmax\":1,\"zmin\":0,\"type\":\"heatmap\"}],                        {\"template\":{\"data\":{\"histogram2dcontour\":[{\"type\":\"histogram2dcontour\",\"colorbar\":{\"outlinewidth\":0,\"ticks\":\"\"},\"colorscale\":[[0.0,\"#0d0887\"],[0.1111111111111111,\"#46039f\"],[0.2222222222222222,\"#7201a8\"],[0.3333333333333333,\"#9c179e\"],[0.4444444444444444,\"#bd3786\"],[0.5555555555555556,\"#d8576b\"],[0.6666666666666666,\"#ed7953\"],[0.7777777777777778,\"#fb9f3a\"],[0.8888888888888888,\"#fdca26\"],[1.0,\"#f0f921\"]]}],\"choropleth\":[{\"type\":\"choropleth\",\"colorbar\":{\"outlinewidth\":0,\"ticks\":\"\"}}],\"histogram2d\":[{\"type\":\"histogram2d\",\"colorbar\":{\"outlinewidth\":0,\"ticks\":\"\"},\"colorscale\":[[0.0,\"#0d0887\"],[0.1111111111111111,\"#46039f\"],[0.2222222222222222,\"#7201a8\"],[0.3333333333333333,\"#9c179e\"],[0.4444444444444444,\"#bd3786\"],[0.5555555555555556,\"#d8576b\"],[0.6666666666666666,\"#ed7953\"],[0.7777777777777778,\"#fb9f3a\"],[0.8888888888888888,\"#fdca26\"],[1.0,\"#f0f921\"]]}],\"heatmap\":[{\"type\":\"heatmap\",\"colorbar\":{\"outlinewidth\":0,\"ticks\":\"\"},\"colorscale\":[[0.0,\"#0d0887\"],[0.1111111111111111,\"#46039f\"],[0.2222222222222222,\"#7201a8\"],[0.3333333333333333,\"#9c179e\"],[0.4444444444444444,\"#bd3786\"],[0.5555555555555556,\"#d8576b\"],[0.6666666666666666,\"#ed7953\"],[0.7777777777777778,\"#fb9f3a\"],[0.8888888888888888,\"#fdca26\"],[1.0,\"#f0f921\"]]}],\"heatmapgl\":[{\"type\":\"heatmapgl\",\"colorbar\":{\"outlinewidth\":0,\"ticks\":\"\"},\"colorscale\":[[0.0,\"#0d0887\"],[0.1111111111111111,\"#46039f\"],[0.2222222222222222,\"#7201a8\"],[0.3333333333333333,\"#9c179e\"],[0.4444444444444444,\"#bd3786\"],[0.5555555555555556,\"#d8576b\"],[0.6666666666666666,\"#ed7953\"],[0.7777777777777778,\"#fb9f3a\"],[0.8888888888888888,\"#fdca26\"],[1.0,\"#f0f921\"]]}],\"contourcarpet\":[{\"type\":\"contourcarpet\",\"colorbar\":{\"outlinewidth\":0,\"ticks\":\"\"}}],\"contour\":[{\"type\":\"contour\",\"colorbar\":{\"outlinewidth\":0,\"ticks\":\"\"},\"colorscale\":[[0.0,\"#0d0887\"],[0.1111111111111111,\"#46039f\"],[0.2222222222222222,\"#7201a8\"],[0.3333333333333333,\"#9c179e\"],[0.4444444444444444,\"#bd3786\"],[0.5555555555555556,\"#d8576b\"],[0.6666666666666666,\"#ed7953\"],[0.7777777777777778,\"#fb9f3a\"],[0.8888888888888888,\"#fdca26\"],[1.0,\"#f0f921\"]]}],\"surface\":[{\"type\":\"surface\",\"colorbar\":{\"outlinewidth\":0,\"ticks\":\"\"},\"colorscale\":[[0.0,\"#0d0887\"],[0.1111111111111111,\"#46039f\"],[0.2222222222222222,\"#7201a8\"],[0.3333333333333333,\"#9c179e\"],[0.4444444444444444,\"#bd3786\"],[0.5555555555555556,\"#d8576b\"],[0.6666666666666666,\"#ed7953\"],[0.7777777777777778,\"#fb9f3a\"],[0.8888888888888888,\"#fdca26\"],[1.0,\"#f0f921\"]]}],\"mesh3d\":[{\"type\":\"mesh3d\",\"colorbar\":{\"outlinewidth\":0,\"ticks\":\"\"}}],\"scatter\":[{\"fillpattern\":{\"fillmode\":\"overlay\",\"size\":10,\"solidity\":0.2},\"type\":\"scatter\"}],\"parcoords\":[{\"type\":\"parcoords\",\"line\":{\"colorbar\":{\"outlinewidth\":0,\"ticks\":\"\"}}}],\"scatterpolargl\":[{\"type\":\"scatterpolargl\",\"marker\":{\"colorbar\":{\"outlinewidth\":0,\"ticks\":\"\"}}}],\"bar\":[{\"error_x\":{\"color\":\"#2a3f5f\"},\"error_y\":{\"color\":\"#2a3f5f\"},\"marker\":{\"line\":{\"color\":\"#E5ECF6\",\"width\":0.5},\"pattern\":{\"fillmode\":\"overlay\",\"size\":10,\"solidity\":0.2}},\"type\":\"bar\"}],\"scattergeo\":[{\"type\":\"scattergeo\",\"marker\":{\"colorbar\":{\"outlinewidth\":0,\"ticks\":\"\"}}}],\"scatterpolar\":[{\"type\":\"scatterpolar\",\"marker\":{\"colorbar\":{\"outlinewidth\":0,\"ticks\":\"\"}}}],\"histogram\":[{\"marker\":{\"pattern\":{\"fillmode\":\"overlay\",\"size\":10,\"solidity\":0.2}},\"type\":\"histogram\"}],\"scattergl\":[{\"type\":\"scattergl\",\"marker\":{\"colorbar\":{\"outlinewidth\":0,\"ticks\":\"\"}}}],\"scatter3d\":[{\"type\":\"scatter3d\",\"line\":{\"colorbar\":{\"outlinewidth\":0,\"ticks\":\"\"}},\"marker\":{\"colorbar\":{\"outlinewidth\":0,\"ticks\":\"\"}}}],\"scattermapbox\":[{\"type\":\"scattermapbox\",\"marker\":{\"colorbar\":{\"outlinewidth\":0,\"ticks\":\"\"}}}],\"scatterternary\":[{\"type\":\"scatterternary\",\"marker\":{\"colorbar\":{\"outlinewidth\":0,\"ticks\":\"\"}}}],\"scattercarpet\":[{\"type\":\"scattercarpet\",\"marker\":{\"colorbar\":{\"outlinewidth\":0,\"ticks\":\"\"}}}],\"carpet\":[{\"aaxis\":{\"endlinecolor\":\"#2a3f5f\",\"gridcolor\":\"white\",\"linecolor\":\"white\",\"minorgridcolor\":\"white\",\"startlinecolor\":\"#2a3f5f\"},\"baxis\":{\"endlinecolor\":\"#2a3f5f\",\"gridcolor\":\"white\",\"linecolor\":\"white\",\"minorgridcolor\":\"white\",\"startlinecolor\":\"#2a3f5f\"},\"type\":\"carpet\"}],\"table\":[{\"cells\":{\"fill\":{\"color\":\"#EBF0F8\"},\"line\":{\"color\":\"white\"}},\"header\":{\"fill\":{\"color\":\"#C8D4E3\"},\"line\":{\"color\":\"white\"}},\"type\":\"table\"}],\"barpolar\":[{\"marker\":{\"line\":{\"color\":\"#E5ECF6\",\"width\":0.5},\"pattern\":{\"fillmode\":\"overlay\",\"size\":10,\"solidity\":0.2}},\"type\":\"barpolar\"}],\"pie\":[{\"automargin\":true,\"type\":\"pie\"}]},\"layout\":{\"autotypenumbers\":\"strict\",\"colorway\":[\"#636efa\",\"#EF553B\",\"#00cc96\",\"#ab63fa\",\"#FFA15A\",\"#19d3f3\",\"#FF6692\",\"#B6E880\",\"#FF97FF\",\"#FECB52\"],\"font\":{\"color\":\"#2a3f5f\"},\"hovermode\":\"closest\",\"hoverlabel\":{\"align\":\"left\"},\"paper_bgcolor\":\"white\",\"plot_bgcolor\":\"#E5ECF6\",\"polar\":{\"bgcolor\":\"#E5ECF6\",\"angularaxis\":{\"gridcolor\":\"white\",\"linecolor\":\"white\",\"ticks\":\"\"},\"radialaxis\":{\"gridcolor\":\"white\",\"linecolor\":\"white\",\"ticks\":\"\"}},\"ternary\":{\"bgcolor\":\"#E5ECF6\",\"aaxis\":{\"gridcolor\":\"white\",\"linecolor\":\"white\",\"ticks\":\"\"},\"baxis\":{\"gridcolor\":\"white\",\"linecolor\":\"white\",\"ticks\":\"\"},\"caxis\":{\"gridcolor\":\"white\",\"linecolor\":\"white\",\"ticks\":\"\"}},\"coloraxis\":{\"colorbar\":{\"outlinewidth\":0,\"ticks\":\"\"}},\"colorscale\":{\"sequential\":[[0.0,\"#0d0887\"],[0.1111111111111111,\"#46039f\"],[0.2222222222222222,\"#7201a8\"],[0.3333333333333333,\"#9c179e\"],[0.4444444444444444,\"#bd3786\"],[0.5555555555555556,\"#d8576b\"],[0.6666666666666666,\"#ed7953\"],[0.7777777777777778,\"#fb9f3a\"],[0.8888888888888888,\"#fdca26\"],[1.0,\"#f0f921\"]],\"sequentialminus\":[[0.0,\"#0d0887\"],[0.1111111111111111,\"#46039f\"],[0.2222222222222222,\"#7201a8\"],[0.3333333333333333,\"#9c179e\"],[0.4444444444444444,\"#bd3786\"],[0.5555555555555556,\"#d8576b\"],[0.6666666666666666,\"#ed7953\"],[0.7777777777777778,\"#fb9f3a\"],[0.8888888888888888,\"#fdca26\"],[1.0,\"#f0f921\"]],\"diverging\":[[0,\"#8e0152\"],[0.1,\"#c51b7d\"],[0.2,\"#de77ae\"],[0.3,\"#f1b6da\"],[0.4,\"#fde0ef\"],[0.5,\"#f7f7f7\"],[0.6,\"#e6f5d0\"],[0.7,\"#b8e186\"],[0.8,\"#7fbc41\"],[0.9,\"#4d9221\"],[1,\"#276419\"]]},\"xaxis\":{\"gridcolor\":\"white\",\"linecolor\":\"white\",\"ticks\":\"\",\"title\":{\"standoff\":15},\"zerolinecolor\":\"white\",\"automargin\":true,\"zerolinewidth\":2},\"yaxis\":{\"gridcolor\":\"white\",\"linecolor\":\"white\",\"ticks\":\"\",\"title\":{\"standoff\":15},\"zerolinecolor\":\"white\",\"automargin\":true,\"zerolinewidth\":2},\"scene\":{\"xaxis\":{\"backgroundcolor\":\"#E5ECF6\",\"gridcolor\":\"white\",\"linecolor\":\"white\",\"showbackground\":true,\"ticks\":\"\",\"zerolinecolor\":\"white\",\"gridwidth\":2},\"yaxis\":{\"backgroundcolor\":\"#E5ECF6\",\"gridcolor\":\"white\",\"linecolor\":\"white\",\"showbackground\":true,\"ticks\":\"\",\"zerolinecolor\":\"white\",\"gridwidth\":2},\"zaxis\":{\"backgroundcolor\":\"#E5ECF6\",\"gridcolor\":\"white\",\"linecolor\":\"white\",\"showbackground\":true,\"ticks\":\"\",\"zerolinecolor\":\"white\",\"gridwidth\":2}},\"shapedefaults\":{\"line\":{\"color\":\"#2a3f5f\"}},\"annotationdefaults\":{\"arrowcolor\":\"#2a3f5f\",\"arrowhead\":0,\"arrowwidth\":1},\"geo\":{\"bgcolor\":\"white\",\"landcolor\":\"#E5ECF6\",\"subunitcolor\":\"white\",\"showland\":true,\"showlakes\":true,\"lakecolor\":\"white\"},\"title\":{\"x\":0.05},\"mapbox\":{\"style\":\"light\"}}},\"xaxis\":{\"showgrid\":false,\"tickangle\":90,\"side\":\"top\"},\"yaxis\":{\"showgrid\":false,\"autorange\":\"reversed\"},\"title\":{\"text\":\"SID: 0\"},\"width\":500,\"height\":500},                        {\"responsive\": true}                    ).then(function(){\n",
       "                            \n",
       "var gd = document.getElementById('b3545b0e-99a0-4f81-8f6e-b52b95a91e9e');\n",
       "var x = new MutationObserver(function (mutations, observer) {{\n",
       "        var display = window.getComputedStyle(gd).display;\n",
       "        if (!display || display === 'none') {{\n",
       "            console.log([gd, 'removed!']);\n",
       "            Plotly.purge(gd);\n",
       "            observer.disconnect();\n",
       "        }}\n",
       "}});\n",
       "\n",
       "// Listen for the removal of the full notebook cells\n",
       "var notebookContainer = gd.closest('#notebook-container');\n",
       "if (notebookContainer) {{\n",
       "    x.observe(notebookContainer, {childList: true});\n",
       "}}\n",
       "\n",
       "// Listen for the clearing of the current output cell\n",
       "var outputEl = gd.closest('.output');\n",
       "if (outputEl) {{\n",
       "    x.observe(outputEl, {childList: true});\n",
       "}}\n",
       "\n",
       "                        })                };                });            </script>        </div>"
      ]
     },
     "metadata": {},
     "output_type": "display_data"
    }
   ],
   "source": [
    "bn_obj = BNMetrics(G1=true_dag, G2=nx.to_numpy_array(cg.nx_graph))\n",
    "mat = bn_obj.sid(nodes=['X_22'], output=False)['incorrect_mat']\n",
    "sid = bn_obj.sid(nodes=['X_22'], output=False)['sid']\n",
    "labels = list(bn_obj.graph_dict['X_22']['d1'].nodes())\n",
    "black_white_scale = [[0.0, 'white'], [0.9999, 'white'], [1.0, 'crimson']]\n",
    "# Create heatmap\n",
    "fig = go.Figure(data=go.Heatmap(\n",
    "    z=mat,\n",
    "    x=labels,\n",
    "    y=labels,\n",
    "    showscale=False,\n",
    "    xgap=1,           # Add gaps to simulate grid\n",
    "    ygap=1,\n",
    "    colorscale=black_white_scale,\n",
    "    zmin=0,\n",
    "    zmax=1,# or 'Blues', 'Hot', etc.\n",
    "))\n",
    "\n",
    "fig.update_layout(\n",
    "    title=f\"SID: {int(sid)}\",\n",
    "    xaxis=dict(showgrid=False, tickangle=90, side='top'),\n",
    "    yaxis=dict(showgrid=False, autorange='reversed'),\n",
    "    width=500,   # adjust width in pixels\n",
    "    height=500   # adjust height in pixels\n",
    ")\n",
    "fig.show()\n"
   ]
  },
  {
   "cell_type": "code",
   "execution_count": 50,
   "id": "a74b75ab-38c4-4635-aad3-b9120ec83d20",
   "metadata": {},
   "outputs": [
    {
     "data": {
      "text/plain": [
       "(array([[0, 0, 0, 0, 0, 0, 0, 0, 0, 0, 1, 0],\n",
       "        [0, 0, 0, 1, 0, 0, 0, 0, 0, 1, 0, 0],\n",
       "        [0, 0, 0, 0, 0, 0, 0, 0, 0, 1, 0, 0],\n",
       "        [0, 0, 0, 0, 0, 0, 0, 0, 0, 1, 0, 0],\n",
       "        [0, 0, 0, 0, 0, 0, 0, 0, 0, 1, 0, 0],\n",
       "        [0, 0, 0, 0, 0, 0, 0, 0, 0, 0, 0, 0],\n",
       "        [0, 0, 0, 0, 0, 0, 0, 0, 0, 1, 0, 0],\n",
       "        [0, 0, 0, 0, 0, 1, 0, 0, 0, 0, 0, 0],\n",
       "        [0, 0, 1, 1, 0, 1, 0, 0, 0, 0, 0, 0],\n",
       "        [0, 0, 0, 0, 0, 0, 0, 0, 0, 0, 0, 0],\n",
       "        [0, 0, 0, 0, 0, 1, 0, 0, 0, 1, 0, 0],\n",
       "        [0, 1, 0, 0, 0, 0, 0, 0, 0, 0, 1, 0]]),\n",
       " ['X_38',\n",
       "  'X_2',\n",
       "  'X_20',\n",
       "  'X_19',\n",
       "  'X_35',\n",
       "  'X_15',\n",
       "  'X_11',\n",
       "  'X_4',\n",
       "  'X_21',\n",
       "  'X_40',\n",
       "  'X_33',\n",
       "  'X_29'])"
      ]
     },
     "execution_count": 50,
     "metadata": {},
     "output_type": "execute_result"
    }
   ],
   "source": [
    "graph_to_matrix(bn_obj.graph_dict['X_33']['d1'])"
   ]
  },
  {
   "cell_type": "code",
   "execution_count": 51,
   "id": "cb25ad55-67e9-4b45-b077-00ba54ccc9f3",
   "metadata": {},
   "outputs": [
    {
     "data": {
      "text/plain": [
       "(array([[0, 0, 0, 0, 0, 0, 0, 0, 0, 0, 1, 0],\n",
       "        [0, 0, 0, 0, 0, 0, 0, 0, 0, 0, 0, 0],\n",
       "        [0, 0, 0, 0, 0, 0, 0, 0, 0, 0, 0, 0],\n",
       "        [0, 0, 0, 0, 0, 1, 0, 0, 0, 0, 0, 0],\n",
       "        [0, 0, 0, 0, 0, 0, 0, 0, 0, 0, 0, 0],\n",
       "        [0, 0, 0, 0, 0, 0, 0, 0, 0, 0, 0, 0],\n",
       "        [0, 0, 0, 0, 0, 0, 0, 0, 0, 0, 0, 0],\n",
       "        [0, 0, 0, 0, 0, 0, 0, 0, 0, 0, 0, 0],\n",
       "        [0, 0, 1, 0, 0, 1, 0, 0, 0, 0, 0, 0],\n",
       "        [0, 0, 0, 0, 0, 1, 0, 0, 0, 0, 0, 0],\n",
       "        [0, 0, 0, 0, 0, 1, 0, 0, 0, 0, 0, 0],\n",
       "        [0, 1, 0, 0, 0, 0, 0, 0, 0, 0, 1, 0]]),\n",
       " ['X_38',\n",
       "  'X_2',\n",
       "  'X_20',\n",
       "  'X_19',\n",
       "  'X_35',\n",
       "  'X_15',\n",
       "  'X_11',\n",
       "  'X_4',\n",
       "  'X_21',\n",
       "  'X_40',\n",
       "  'X_33',\n",
       "  'X_29'])"
      ]
     },
     "execution_count": 51,
     "metadata": {},
     "output_type": "execute_result"
    }
   ],
   "source": [
    "graph_to_matrix(bn_obj.graph_dict['X_33']['d3'])"
   ]
  },
  {
   "cell_type": "code",
   "execution_count": 47,
   "id": "43137f93-5ea3-4d8a-a06b-4f6a2c51872d",
   "metadata": {},
   "outputs": [
    {
     "data": {
      "text/html": [
       "\n",
       "        <div style=\"display: flex; gap: 60px;\">\n",
       "            <div style=\"text-align: center;\">\n",
       "                <h3>DAG1</h3>\n",
       "                <?xml version=\"1.0\" encoding=\"UTF-8\" standalone=\"no\"?>\r\n",
       "<!DOCTYPE svg PUBLIC \"-//W3C//DTD SVG 1.1//EN\"\r\n",
       " \"http://www.w3.org/Graphics/SVG/1.1/DTD/svg11.dtd\">\r\n",
       "<!-- Generated by graphviz version 8.0.5 (20230430.1635)\r\n",
       " -->\r\n",
       "<!-- Title: DAG1 Pages: 1 -->\r\n",
       "<svg width=\"493pt\" height=\"260pt\"\r\n",
       " viewBox=\"0.00 0.00 493.21 260.00\" xmlns=\"http://www.w3.org/2000/svg\" xmlns:xlink=\"http://www.w3.org/1999/xlink\">\r\n",
       "<g id=\"graph0\" class=\"graph\" transform=\"scale(1 1) rotate(0) translate(4 256)\">\r\n",
       "<title>DAG1</title>\r\n",
       "<polygon fill=\"white\" stroke=\"none\" points=\"-4,4 -4,-256 489.21,-256 489.21,4 -4,4\"/>\r\n",
       "<!-- X_38 -->\r\n",
       "<g id=\"node1\" class=\"node\">\r\n",
       "<title>X_38</title>\r\n",
       "<ellipse fill=\"none\" stroke=\"black\" cx=\"31.1\" cy=\"-234\" rx=\"31.1\" ry=\"18\"/>\r\n",
       "<text text-anchor=\"middle\" x=\"31.1\" y=\"-228.57\" font-family=\"Times New Roman,serif\" font-size=\"14.00\">X_38</text>\r\n",
       "</g>\r\n",
       "<!-- X_33 -->\r\n",
       "<g id=\"node11\" class=\"node\">\r\n",
       "<title>X_33</title>\r\n",
       "<ellipse fill=\"lightgreen\" stroke=\"black\" cx=\"31.1\" cy=\"-162\" rx=\"31.1\" ry=\"18\"/>\r\n",
       "<text text-anchor=\"middle\" x=\"31.1\" y=\"-156.57\" font-family=\"Times New Roman,serif\" font-size=\"14.00\">X_33</text>\r\n",
       "</g>\r\n",
       "<!-- X_38&#45;&gt;X_33 -->\r\n",
       "<g id=\"edge1\" class=\"edge\">\r\n",
       "<title>X_38&#45;&gt;X_33</title>\r\n",
       "<path fill=\"none\" stroke=\"crimson\" d=\"M31.1,-215.7C31.1,-208.24 31.1,-199.32 31.1,-190.97\"/>\r\n",
       "<polygon fill=\"crimson\" stroke=\"crimson\" points=\"34.6,-191.1 31.1,-181.1 27.6,-191.1 34.6,-191.1\"/>\r\n",
       "</g>\r\n",
       "<!-- X_2 -->\r\n",
       "<g id=\"node2\" class=\"node\">\r\n",
       "<title>X_2</title>\r\n",
       "<ellipse fill=\"none\" stroke=\"black\" cx=\"259.1\" cy=\"-162\" rx=\"27\" ry=\"18\"/>\r\n",
       "<text text-anchor=\"middle\" x=\"259.1\" y=\"-156.57\" font-family=\"Times New Roman,serif\" font-size=\"14.00\">X_2</text>\r\n",
       "</g>\r\n",
       "<!-- X_19 -->\r\n",
       "<g id=\"node4\" class=\"node\">\r\n",
       "<title>X_19</title>\r\n",
       "<ellipse fill=\"none\" stroke=\"black\" cx=\"256.1\" cy=\"-90\" rx=\"31.1\" ry=\"18\"/>\r\n",
       "<text text-anchor=\"middle\" x=\"256.1\" y=\"-84.58\" font-family=\"Times New Roman,serif\" font-size=\"14.00\">X_19</text>\r\n",
       "</g>\r\n",
       "<!-- X_2&#45;&gt;X_19 -->\r\n",
       "<g id=\"edge3\" class=\"edge\">\r\n",
       "<title>X_2&#45;&gt;X_19</title>\r\n",
       "<path fill=\"none\" stroke=\"black\" d=\"M258.36,-143.7C258.04,-136.24 257.66,-127.32 257.3,-118.97\"/>\r\n",
       "<polygon fill=\"black\" stroke=\"black\" points=\"260.76,-118.95 256.84,-109.1 253.77,-119.25 260.76,-118.95\"/>\r\n",
       "</g>\r\n",
       "<!-- X_40 -->\r\n",
       "<g id=\"node10\" class=\"node\">\r\n",
       "<title>X_40</title>\r\n",
       "<ellipse fill=\"none\" stroke=\"black\" cx=\"285.1\" cy=\"-18\" rx=\"31.1\" ry=\"18\"/>\r\n",
       "<text text-anchor=\"middle\" x=\"285.1\" y=\"-12.57\" font-family=\"Times New Roman,serif\" font-size=\"14.00\">X_40</text>\r\n",
       "</g>\r\n",
       "<!-- X_2&#45;&gt;X_40 -->\r\n",
       "<g id=\"edge2\" class=\"edge\">\r\n",
       "<title>X_2&#45;&gt;X_40</title>\r\n",
       "<path fill=\"none\" stroke=\"black\" d=\"M273.23,-146.14C281.67,-136.19 291.59,-122.34 296.1,-108 302.38,-88.05 299.04,-64.53 294.45,-46.68\"/>\r\n",
       "<polygon fill=\"black\" stroke=\"black\" points=\"297.54,-45.77 291.42,-37.12 290.81,-47.7 297.54,-45.77\"/>\r\n",
       "</g>\r\n",
       "<!-- X_20 -->\r\n",
       "<g id=\"node3\" class=\"node\">\r\n",
       "<title>X_20</title>\r\n",
       "<ellipse fill=\"none\" stroke=\"black\" cx=\"176.1\" cy=\"-90\" rx=\"31.1\" ry=\"18\"/>\r\n",
       "<text text-anchor=\"middle\" x=\"176.1\" y=\"-84.58\" font-family=\"Times New Roman,serif\" font-size=\"14.00\">X_20</text>\r\n",
       "</g>\r\n",
       "<!-- X_20&#45;&gt;X_40 -->\r\n",
       "<g id=\"edge4\" class=\"edge\">\r\n",
       "<title>X_20&#45;&gt;X_40</title>\r\n",
       "<path fill=\"none\" stroke=\"black\" d=\"M196.35,-76C213.1,-65.24 237.11,-49.82 255.93,-37.74\"/>\r\n",
       "<polygon fill=\"black\" stroke=\"black\" points=\"257.44,-40.28 263.97,-31.93 253.66,-34.39 257.44,-40.28\"/>\r\n",
       "</g>\r\n",
       "<!-- X_19&#45;&gt;X_40 -->\r\n",
       "<g id=\"edge5\" class=\"edge\">\r\n",
       "<title>X_19&#45;&gt;X_40</title>\r\n",
       "<path fill=\"none\" stroke=\"black\" d=\"M263.12,-72.05C266.4,-64.14 270.38,-54.54 274.05,-45.69\"/>\r\n",
       "<polygon fill=\"black\" stroke=\"black\" points=\"277.55,-47.37 278.15,-36.79 271.09,-44.69 277.55,-47.37\"/>\r\n",
       "</g>\r\n",
       "<!-- X_35 -->\r\n",
       "<g id=\"node5\" class=\"node\">\r\n",
       "<title>X_35</title>\r\n",
       "<ellipse fill=\"none\" stroke=\"black\" cx=\"374.1\" cy=\"-90\" rx=\"31.1\" ry=\"18\"/>\r\n",
       "<text text-anchor=\"middle\" x=\"374.1\" y=\"-84.58\" font-family=\"Times New Roman,serif\" font-size=\"14.00\">X_35</text>\r\n",
       "</g>\r\n",
       "<!-- X_35&#45;&gt;X_40 -->\r\n",
       "<g id=\"edge6\" class=\"edge\">\r\n",
       "<title>X_35&#45;&gt;X_40</title>\r\n",
       "<path fill=\"none\" stroke=\"black\" d=\"M356.09,-74.83C343.31,-64.78 325.93,-51.11 311.57,-39.82\"/>\r\n",
       "<polygon fill=\"black\" stroke=\"black\" points=\"314.11,-36.58 304.09,-33.14 309.78,-42.08 314.11,-36.58\"/>\r\n",
       "</g>\r\n",
       "<!-- X_15 -->\r\n",
       "<g id=\"node6\" class=\"node\">\r\n",
       "<title>X_15</title>\r\n",
       "<ellipse fill=\"none\" stroke=\"black\" cx=\"96.1\" cy=\"-90\" rx=\"31.1\" ry=\"18\"/>\r\n",
       "<text text-anchor=\"middle\" x=\"96.1\" y=\"-84.58\" font-family=\"Times New Roman,serif\" font-size=\"14.00\">X_15</text>\r\n",
       "</g>\r\n",
       "<!-- X_11 -->\r\n",
       "<g id=\"node7\" class=\"node\">\r\n",
       "<title>X_11</title>\r\n",
       "<ellipse fill=\"none\" stroke=\"black\" cx=\"454.1\" cy=\"-90\" rx=\"31.1\" ry=\"18\"/>\r\n",
       "<text text-anchor=\"middle\" x=\"454.1\" y=\"-84.58\" font-family=\"Times New Roman,serif\" font-size=\"14.00\">X_11</text>\r\n",
       "</g>\r\n",
       "<!-- X_11&#45;&gt;X_40 -->\r\n",
       "<g id=\"edge7\" class=\"edge\">\r\n",
       "<title>X_11&#45;&gt;X_40</title>\r\n",
       "<path fill=\"none\" stroke=\"black\" d=\"M429.59,-78.52C424.47,-76.36 419.12,-74.09 414.1,-72 382.3,-58.71 345.97,-43.81 319.98,-33.2\"/>\r\n",
       "<polygon fill=\"black\" stroke=\"black\" points=\"321.45,-29.61 310.87,-29.07 318.81,-36.09 321.45,-29.61\"/>\r\n",
       "</g>\r\n",
       "<!-- X_4 -->\r\n",
       "<g id=\"node8\" class=\"node\">\r\n",
       "<title>X_4</title>\r\n",
       "<ellipse fill=\"none\" stroke=\"black\" cx=\"107.1\" cy=\"-162\" rx=\"27\" ry=\"18\"/>\r\n",
       "<text text-anchor=\"middle\" x=\"107.1\" y=\"-156.57\" font-family=\"Times New Roman,serif\" font-size=\"14.00\">X_4</text>\r\n",
       "</g>\r\n",
       "<!-- X_4&#45;&gt;X_15 -->\r\n",
       "<g id=\"edge8\" class=\"edge\">\r\n",
       "<title>X_4&#45;&gt;X_15</title>\r\n",
       "<path fill=\"none\" stroke=\"black\" d=\"M104.38,-143.7C103.21,-136.24 101.81,-127.32 100.5,-118.97\"/>\r\n",
       "<polygon fill=\"black\" stroke=\"black\" points=\"103.8,-118.44 98.79,-109.1 96.89,-119.53 103.8,-118.44\"/>\r\n",
       "</g>\r\n",
       "<!-- X_21 -->\r\n",
       "<g id=\"node9\" class=\"node\">\r\n",
       "<title>X_21</title>\r\n",
       "<ellipse fill=\"none\" stroke=\"black\" cx=\"183.1\" cy=\"-162\" rx=\"31.1\" ry=\"18\"/>\r\n",
       "<text text-anchor=\"middle\" x=\"183.1\" y=\"-156.57\" font-family=\"Times New Roman,serif\" font-size=\"14.00\">X_21</text>\r\n",
       "</g>\r\n",
       "<!-- X_21&#45;&gt;X_20 -->\r\n",
       "<g id=\"edge11\" class=\"edge\">\r\n",
       "<title>X_21&#45;&gt;X_20</title>\r\n",
       "<path fill=\"none\" stroke=\"crimson\" d=\"M181.37,-143.7C180.63,-136.24 179.74,-127.32 178.9,-118.97\"/>\r\n",
       "<polygon fill=\"crimson\" stroke=\"crimson\" points=\"182.29,-118.71 177.81,-109.1 175.33,-119.4 182.29,-118.71\"/>\r\n",
       "</g>\r\n",
       "<!-- X_21&#45;&gt;X_19 -->\r\n",
       "<g id=\"edge10\" class=\"edge\">\r\n",
       "<title>X_21&#45;&gt;X_19</title>\r\n",
       "<path fill=\"none\" stroke=\"black\" d=\"M198.59,-146.15C208.55,-136.6 221.7,-123.99 232.9,-113.25\"/>\r\n",
       "<polygon fill=\"black\" stroke=\"black\" points=\"234.85,-116.27 239.64,-106.82 230,-111.22 234.85,-116.27\"/>\r\n",
       "</g>\r\n",
       "<!-- X_21&#45;&gt;X_15 -->\r\n",
       "<g id=\"edge9\" class=\"edge\">\r\n",
       "<title>X_21&#45;&gt;X_15</title>\r\n",
       "<path fill=\"none\" stroke=\"crimson\" d=\"M165.5,-146.83C153,-136.78 136.01,-123.11 121.98,-111.82\"/>\r\n",
       "<polygon fill=\"crimson\" stroke=\"crimson\" points=\"124.67,-108.69 114.68,-105.14 120.28,-114.14 124.67,-108.69\"/>\r\n",
       "</g>\r\n",
       "<!-- X_33&#45;&gt;X_15 -->\r\n",
       "<g id=\"edge12\" class=\"edge\">\r\n",
       "<title>X_33&#45;&gt;X_15</title>\r\n",
       "<path fill=\"none\" stroke=\"crimson\" d=\"M45.21,-145.81C53.81,-136.55 64.98,-124.52 74.66,-114.09\"/>\r\n",
       "<polygon fill=\"crimson\" stroke=\"crimson\" points=\"76.79,-116.87 81.03,-107.16 71.66,-112.11 76.79,-116.87\"/>\r\n",
       "</g>\r\n",
       "<!-- X_33&#45;&gt;X_40 -->\r\n",
       "<g id=\"edge13\" class=\"edge\">\r\n",
       "<title>X_33&#45;&gt;X_40</title>\r\n",
       "<path fill=\"none\" stroke=\"black\" d=\"M31.01,-143.64C31.87,-123.52 36.49,-90.73 56.1,-72 82.72,-46.59 185.52,-30.67 243.93,-23.49\"/>\r\n",
       "<polygon fill=\"black\" stroke=\"black\" points=\"244.12,-26.87 253.64,-22.21 243.29,-19.92 244.12,-26.87\"/>\r\n",
       "</g>\r\n",
       "<!-- X_29 -->\r\n",
       "<g id=\"node12\" class=\"node\">\r\n",
       "<title>X_29</title>\r\n",
       "<ellipse fill=\"none\" stroke=\"black\" cx=\"185.1\" cy=\"-234\" rx=\"31.1\" ry=\"18\"/>\r\n",
       "<text text-anchor=\"middle\" x=\"185.1\" y=\"-228.57\" font-family=\"Times New Roman,serif\" font-size=\"14.00\">X_29</text>\r\n",
       "</g>\r\n",
       "<!-- X_29&#45;&gt;X_2 -->\r\n",
       "<g id=\"edge14\" class=\"edge\">\r\n",
       "<title>X_29&#45;&gt;X_2</title>\r\n",
       "<path fill=\"none\" stroke=\"crimson\" d=\"M200.8,-218.15C211.04,-208.47 224.59,-195.65 236.04,-184.81\"/>\r\n",
       "<polygon fill=\"crimson\" stroke=\"crimson\" points=\"238.08,-187.76 242.94,-178.35 233.27,-182.67 238.08,-187.76\"/>\r\n",
       "</g>\r\n",
       "<!-- X_29&#45;&gt;X_33 -->\r\n",
       "<g id=\"edge15\" class=\"edge\">\r\n",
       "<title>X_29&#45;&gt;X_33</title>\r\n",
       "<path fill=\"none\" stroke=\"crimson\" d=\"M161.04,-222.06C135.16,-210.3 93.82,-191.51 64.73,-178.28\"/>\r\n",
       "<polygon fill=\"crimson\" stroke=\"crimson\" points=\"66.55,-174.81 56,-173.86 63.65,-181.19 66.55,-174.81\"/>\r\n",
       "</g>\r\n",
       "</g>\r\n",
       "</svg>\r\n",
       "\n",
       "            </div>\n",
       "            <div style=\"text-align: center;\">\n",
       "                <h3>DAG2</h3>\n",
       "                <?xml version=\"1.0\" encoding=\"UTF-8\" standalone=\"no\"?>\r\n",
       "<!DOCTYPE svg PUBLIC \"-//W3C//DTD SVG 1.1//EN\"\r\n",
       " \"http://www.w3.org/Graphics/SVG/1.1/DTD/svg11.dtd\">\r\n",
       "<!-- Generated by graphviz version 8.0.5 (20230430.1635)\r\n",
       " -->\r\n",
       "<!-- Title: DAG2 Pages: 1 -->\r\n",
       "<svg width=\"500pt\" height=\"188pt\"\r\n",
       " viewBox=\"0.00 0.00 500.10 188.00\" xmlns=\"http://www.w3.org/2000/svg\" xmlns:xlink=\"http://www.w3.org/1999/xlink\">\r\n",
       "<g id=\"graph0\" class=\"graph\" transform=\"scale(1 1) rotate(0) translate(4 184)\">\r\n",
       "<title>DAG2</title>\r\n",
       "<polygon fill=\"white\" stroke=\"none\" points=\"-4,4 -4,-184 496.1,-184 496.1,4 -4,4\"/>\r\n",
       "<!-- X_38 -->\r\n",
       "<g id=\"node1\" class=\"node\">\r\n",
       "<title>X_38</title>\r\n",
       "<ellipse fill=\"none\" stroke=\"black\" cx=\"31.1\" cy=\"-162\" rx=\"31.1\" ry=\"18\"/>\r\n",
       "<text text-anchor=\"middle\" x=\"31.1\" y=\"-156.57\" font-family=\"Times New Roman,serif\" font-size=\"14.00\">X_38</text>\r\n",
       "</g>\r\n",
       "<!-- X_33 -->\r\n",
       "<g id=\"node11\" class=\"node\">\r\n",
       "<title>X_33</title>\r\n",
       "<ellipse fill=\"lightgreen\" stroke=\"black\" cx=\"31.1\" cy=\"-90\" rx=\"31.1\" ry=\"18\"/>\r\n",
       "<text text-anchor=\"middle\" x=\"31.1\" y=\"-84.58\" font-family=\"Times New Roman,serif\" font-size=\"14.00\">X_33</text>\r\n",
       "</g>\r\n",
       "<!-- X_38&#45;&gt;X_33 -->\r\n",
       "<g id=\"edge1\" class=\"edge\">\r\n",
       "<title>X_38&#45;&gt;X_33</title>\r\n",
       "<path fill=\"none\" stroke=\"crimson\" d=\"M31.1,-143.7C31.1,-136.24 31.1,-127.32 31.1,-118.97\"/>\r\n",
       "<polygon fill=\"crimson\" stroke=\"crimson\" points=\"34.6,-119.1 31.1,-109.1 27.6,-119.1 34.6,-119.1\"/>\r\n",
       "</g>\r\n",
       "<!-- X_2 -->\r\n",
       "<g id=\"node2\" class=\"node\">\r\n",
       "<title>X_2</title>\r\n",
       "<ellipse fill=\"none\" stroke=\"black\" cx=\"347.1\" cy=\"-90\" rx=\"27\" ry=\"18\"/>\r\n",
       "<text text-anchor=\"middle\" x=\"347.1\" y=\"-84.58\" font-family=\"Times New Roman,serif\" font-size=\"14.00\">X_2</text>\r\n",
       "</g>\r\n",
       "<!-- X_20 -->\r\n",
       "<g id=\"node3\" class=\"node\">\r\n",
       "<title>X_20</title>\r\n",
       "<ellipse fill=\"none\" stroke=\"black\" cx=\"271.1\" cy=\"-18\" rx=\"31.1\" ry=\"18\"/>\r\n",
       "<text text-anchor=\"middle\" x=\"271.1\" y=\"-12.57\" font-family=\"Times New Roman,serif\" font-size=\"14.00\">X_20</text>\r\n",
       "</g>\r\n",
       "<!-- X_19 -->\r\n",
       "<g id=\"node4\" class=\"node\">\r\n",
       "<title>X_19</title>\r\n",
       "<ellipse fill=\"none\" stroke=\"black\" cx=\"111.1\" cy=\"-90\" rx=\"31.1\" ry=\"18\"/>\r\n",
       "<text text-anchor=\"middle\" x=\"111.1\" y=\"-84.58\" font-family=\"Times New Roman,serif\" font-size=\"14.00\">X_19</text>\r\n",
       "</g>\r\n",
       "<!-- X_15 -->\r\n",
       "<g id=\"node6\" class=\"node\">\r\n",
       "<title>X_15</title>\r\n",
       "<ellipse fill=\"none\" stroke=\"black\" cx=\"151.1\" cy=\"-18\" rx=\"31.1\" ry=\"18\"/>\r\n",
       "<text text-anchor=\"middle\" x=\"151.1\" y=\"-12.57\" font-family=\"Times New Roman,serif\" font-size=\"14.00\">X_15</text>\r\n",
       "</g>\r\n",
       "<!-- X_19&#45;&gt;X_15 -->\r\n",
       "<g id=\"edge2\" class=\"edge\">\r\n",
       "<title>X_19&#45;&gt;X_15</title>\r\n",
       "<path fill=\"none\" stroke=\"black\" d=\"M120.58,-72.41C125.27,-64.22 131.02,-54.14 136.27,-44.95\"/>\r\n",
       "<polygon fill=\"black\" stroke=\"black\" points=\"139.77,-46.89 141.69,-36.47 133.69,-43.42 139.77,-46.89\"/>\r\n",
       "</g>\r\n",
       "<!-- X_35 -->\r\n",
       "<g id=\"node5\" class=\"node\">\r\n",
       "<title>X_35</title>\r\n",
       "<ellipse fill=\"none\" stroke=\"black\" cx=\"309.1\" cy=\"-162\" rx=\"31.1\" ry=\"18\"/>\r\n",
       "<text text-anchor=\"middle\" x=\"309.1\" y=\"-156.57\" font-family=\"Times New Roman,serif\" font-size=\"14.00\">X_35</text>\r\n",
       "</g>\r\n",
       "<!-- X_11 -->\r\n",
       "<g id=\"node7\" class=\"node\">\r\n",
       "<title>X_11</title>\r\n",
       "<ellipse fill=\"none\" stroke=\"black\" cx=\"389.1\" cy=\"-162\" rx=\"31.1\" ry=\"18\"/>\r\n",
       "<text text-anchor=\"middle\" x=\"389.1\" y=\"-156.57\" font-family=\"Times New Roman,serif\" font-size=\"14.00\">X_11</text>\r\n",
       "</g>\r\n",
       "<!-- X_4 -->\r\n",
       "<g id=\"node8\" class=\"node\">\r\n",
       "<title>X_4</title>\r\n",
       "<ellipse fill=\"none\" stroke=\"black\" cx=\"465.1\" cy=\"-162\" rx=\"27\" ry=\"18\"/>\r\n",
       "<text text-anchor=\"middle\" x=\"465.1\" y=\"-156.57\" font-family=\"Times New Roman,serif\" font-size=\"14.00\">X_4</text>\r\n",
       "</g>\r\n",
       "<!-- X_21 -->\r\n",
       "<g id=\"node9\" class=\"node\">\r\n",
       "<title>X_21</title>\r\n",
       "<ellipse fill=\"none\" stroke=\"black\" cx=\"271.1\" cy=\"-90\" rx=\"31.1\" ry=\"18\"/>\r\n",
       "<text text-anchor=\"middle\" x=\"271.1\" y=\"-84.58\" font-family=\"Times New Roman,serif\" font-size=\"14.00\">X_21</text>\r\n",
       "</g>\r\n",
       "<!-- X_21&#45;&gt;X_20 -->\r\n",
       "<g id=\"edge4\" class=\"edge\">\r\n",
       "<title>X_21&#45;&gt;X_20</title>\r\n",
       "<path fill=\"none\" stroke=\"crimson\" d=\"M271.1,-71.7C271.1,-64.24 271.1,-55.32 271.1,-46.97\"/>\r\n",
       "<polygon fill=\"crimson\" stroke=\"crimson\" points=\"274.6,-47.1 271.1,-37.1 267.6,-47.1 274.6,-47.1\"/>\r\n",
       "</g>\r\n",
       "<!-- X_21&#45;&gt;X_15 -->\r\n",
       "<g id=\"edge3\" class=\"edge\">\r\n",
       "<title>X_21&#45;&gt;X_15</title>\r\n",
       "<path fill=\"none\" stroke=\"crimson\" d=\"M249.65,-76.49C230.71,-65.44 202.88,-49.2 181.62,-36.8\"/>\r\n",
       "<polygon fill=\"crimson\" stroke=\"crimson\" points=\"183.77,-33.42 173.37,-31.41 180.25,-39.47 183.77,-33.42\"/>\r\n",
       "</g>\r\n",
       "<!-- X_40 -->\r\n",
       "<g id=\"node10\" class=\"node\">\r\n",
       "<title>X_40</title>\r\n",
       "<ellipse fill=\"none\" stroke=\"black\" cx=\"191.1\" cy=\"-90\" rx=\"31.1\" ry=\"18\"/>\r\n",
       "<text text-anchor=\"middle\" x=\"191.1\" y=\"-84.58\" font-family=\"Times New Roman,serif\" font-size=\"14.00\">X_40</text>\r\n",
       "</g>\r\n",
       "<!-- X_40&#45;&gt;X_15 -->\r\n",
       "<g id=\"edge5\" class=\"edge\">\r\n",
       "<title>X_40&#45;&gt;X_15</title>\r\n",
       "<path fill=\"none\" stroke=\"black\" d=\"M181.62,-72.41C176.94,-64.22 171.18,-54.14 165.94,-44.95\"/>\r\n",
       "<polygon fill=\"black\" stroke=\"black\" points=\"168.52,-43.42 160.52,-36.47 162.44,-46.89 168.52,-43.42\"/>\r\n",
       "</g>\r\n",
       "<!-- X_33&#45;&gt;X_15 -->\r\n",
       "<g id=\"edge6\" class=\"edge\">\r\n",
       "<title>X_33&#45;&gt;X_15</title>\r\n",
       "<path fill=\"none\" stroke=\"crimson\" d=\"M52.56,-76.49C71.5,-65.44 99.33,-49.2 120.59,-36.8\"/>\r\n",
       "<polygon fill=\"crimson\" stroke=\"crimson\" points=\"121.96,-39.47 128.84,-31.41 118.43,-33.42 121.96,-39.47\"/>\r\n",
       "</g>\r\n",
       "<!-- X_29 -->\r\n",
       "<g id=\"node12\" class=\"node\">\r\n",
       "<title>X_29</title>\r\n",
       "<ellipse fill=\"none\" stroke=\"black\" cx=\"229.1\" cy=\"-162\" rx=\"31.1\" ry=\"18\"/>\r\n",
       "<text text-anchor=\"middle\" x=\"229.1\" y=\"-156.57\" font-family=\"Times New Roman,serif\" font-size=\"14.00\">X_29</text>\r\n",
       "</g>\r\n",
       "<!-- X_29&#45;&gt;X_2 -->\r\n",
       "<g id=\"edge7\" class=\"edge\">\r\n",
       "<title>X_29&#45;&gt;X_2</title>\r\n",
       "<path fill=\"none\" stroke=\"crimson\" d=\"M250.2,-148.49C269.09,-137.28 296.96,-120.75 317.97,-108.29\"/>\r\n",
       "<polygon fill=\"crimson\" stroke=\"crimson\" points=\"319.55,-110.82 326.37,-102.71 315.98,-104.8 319.55,-110.82\"/>\r\n",
       "</g>\r\n",
       "<!-- X_29&#45;&gt;X_33 -->\r\n",
       "<g id=\"edge8\" class=\"edge\">\r\n",
       "<title>X_29&#45;&gt;X_33</title>\r\n",
       "<path fill=\"none\" stroke=\"crimson\" d=\"M202.04,-152.63C170.39,-142.68 116.55,-125.25 71.1,-108 69.2,-107.28 67.25,-106.52 65.29,-105.74\"/>\r\n",
       "<polygon fill=\"crimson\" stroke=\"crimson\" points=\"67.1,-102.29 56.52,-101.73 64.45,-108.76 67.1,-102.29\"/>\r\n",
       "</g>\r\n",
       "</g>\r\n",
       "</svg>\r\n",
       "\n",
       "            </div>\n",
       "        </div>\n",
       "        "
      ],
      "text/plain": [
       "<IPython.core.display.HTML object>"
      ]
     },
     "metadata": {},
     "output_type": "display_data"
    }
   ],
   "source": [
    "bn_obj.compare_two_bn(nodes=['X_33'], option=2)"
   ]
  },
  {
   "cell_type": "code",
   "execution_count": null,
   "id": "24229187-35e8-4d66-8f5e-f8163766a73f",
   "metadata": {},
   "outputs": [],
   "source": []
  }
 ],
 "metadata": {
  "kernelspec": {
   "display_name": "Python (dagmetrics-env)",
   "language": "python",
   "name": "dagmetrics-env"
  },
  "language_info": {
   "codemirror_mode": {
    "name": "ipython",
    "version": 3
   },
   "file_extension": ".py",
   "mimetype": "text/x-python",
   "name": "python",
   "nbconvert_exporter": "python",
   "pygments_lexer": "ipython3",
   "version": "3.8.18"
  }
 },
 "nbformat": 4,
 "nbformat_minor": 5
}
