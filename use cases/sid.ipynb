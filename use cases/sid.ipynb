{
 "cells": [
  {
   "cell_type": "code",
   "execution_count": 1,
   "id": "0ad232ea-23e6-4743-9cea-49d707cb19e5",
   "metadata": {},
   "outputs": [],
   "source": [
    "# !pip install --no-cache-dir git+https://github.com/averinpa/bnm.git@feature/sid-metric"
   ]
  },
  {
   "cell_type": "markdown",
   "id": "5324088b-efe4-426f-90e5-9a75d587b8e1",
   "metadata": {},
   "source": [
    "# Strictiral Intervention Distance"
   ]
  },
  {
   "cell_type": "code",
   "execution_count": 59,
   "id": "bb06adf4-b6e4-451b-a523-0ec4957a9573",
   "metadata": {},
   "outputs": [],
   "source": [
    "from bnm import BNMetrics, generate_random_dag\n",
    "import networkx as nx\n",
    "import pandas as pd\n",
    "import plotly.io as pio\n",
    "pio.renderers.default = 'jupyterlab'\n",
    "import numpy as np\n",
    "from causallearn.search.ConstraintBased.PC import pc"
   ]
  },
  {
   "cell_type": "markdown",
   "id": "d16a3009-53bc-4b7b-aef5-d2c63c83a8f8",
   "metadata": {},
   "source": [
    "# Introduction\n",
    "\n",
    "Evaluating the accuracy of estimated causal graphs is essential in causal inference, particularly when the goal is to predict the outcomes of interventions. Common metrics such as the **Structural Hamming Distance (SHD)** only capture edge-level discrepancies between graphs and do not reflect whether those differences affect **causal predictions**.\n",
    "\n",
    "To address this limitation, **Peters and Bühlmann (2014)** introduced the **Structural Intervention Distance (SID)** — a graph-based metric designed to measure how many interventional distributions are incorrectly estimated by a given graph structure. Unlike SHD, SID is **semantically grounded**: it quantifies how many pairs of nodes $(i, j)$ have incorrect causal effect estimates $p(X_j \\mid do(X_i))$ in the estimated graph, assuming the true data-generating structure is known.\n",
    "\n",
    "> The methodology and algorithms used for SID in this notebook follow the definitions and procedures introduced in:  \n",
    "> **Peters, J., & Bühlmann, P. (2014). Structural intervention distance (SID) for evaluating causal graphs.**  \n",
    "> The implementation is adapted from the corresponding **R package `SID`**, developed by the authors of the original paper.\n",
    "\n",
    "The SID functionality in the Python `bnmetrics` package is a direct port of this logic, reproducing:\n",
    "- SID calculation for DAG-to-DAG and DAG-to-CPDAG comparisons\n",
    "- Lower and upper bounds for CPDAG comparisons  \n",
    "- Matrix with incorrect causal effects\n",
    "\n",
    "This notebook presents three use cases for the `sid()` method in `bnmetrics`:\n",
    "- Use Case 1: Reproducing the Paper Example with G, H₁, and H₂\n",
    "- Use Case 2: Comparing a DAG with DAGs and a CPDAG (Bounds)\n",
    "- Use Case 3: SID on Markov Blankets of Selected Nodes\n"
   ]
  },
  {
   "cell_type": "markdown",
   "id": "3f4ec1ac-0f00-4273-a0ae-1cd7228961b3",
   "metadata": {},
   "source": [
    "## Use Case 1: Reproducing the SID Paper Example — G vs. H₁ and G vs. H₂\n",
    "\n",
    "In this example, we replicate the illustrative case from the original SID paper by Peters and Bühlmann (2014), Section 2.1. This example demonstrates that even when two estimated graphs have the **same SHD**, they can differ drastically in how well they **preserve the interventional distributions** implied by the true graph.\n",
    "\n",
    "---\n",
    "\n",
    "- $G$: the true DAG  \n",
    "- $H_1$: adds an extra edge $Y_1 \\rightarrow Y_2$, which does not alter any interventional distributions\n",
    "- $H_2$: has a reversed edge $X_1 \\leftarrow X_2$, which does impact interventional predictions\n"
   ]
  },
  {
   "cell_type": "code",
   "execution_count": 60,
   "id": "0d473c0e-30bb-4ed9-aa67-e3c2d8c84842",
   "metadata": {},
   "outputs": [],
   "source": [
    "nodes = ['X1', 'X2', 'Y1', 'Y2', 'Y3']\n",
    "\n",
    "G = np.array([[0, 1, 1, 1, 1], \n",
    "             [0, 0, 1, 1, 1], \n",
    "             [0, 0, 0, 0, 0], \n",
    "             [0, 0, 0, 0, 0], \n",
    "             [0, 0, 0, 0, 0]])\n",
    "\n",
    "H1 = np.array([[0, 1, 1, 1, 1], \n",
    "             [0, 0, 1, 1, 1], \n",
    "             [0, 0, 0, 1, 0], \n",
    "             [0, 0, 0, 0, 0], \n",
    "             [0, 0, 0, 0, 0]])\n",
    "\n",
    "H2 = np.array([[0, 0, 1, 1, 1], \n",
    "             [1, 0, 1, 1, 1], \n",
    "             [0, 0, 0, 0, 0], \n",
    "             [0, 0, 0, 0, 0], \n",
    "             [0, 0, 0, 0, 0]])"
   ]
  },
  {
   "cell_type": "markdown",
   "id": "961d3d2a-2b3f-4a70-b49b-ca200d13a9b8",
   "metadata": {},
   "source": [
    "### Case 1: G vs. H₁\n",
    "Below are `G` and `H1` side by side. You can see that in `H1` there is an additional edge  $Y_1 \\rightarrow Y_2$"
   ]
  },
  {
   "cell_type": "code",
   "execution_count": 61,
   "id": "3b9f6edb-6a5d-4d27-b17a-895ccb6bf145",
   "metadata": {},
   "outputs": [
    {
     "data": {
      "text/html": [
       "\n",
       "        <div style=\"display: flex; gap: 60px;\">\n",
       "            <div style=\"text-align: center;\">\n",
       "                <h3>G</h3>\n",
       "                <?xml version=\"1.0\" encoding=\"UTF-8\" standalone=\"no\"?>\r\n",
       "<!DOCTYPE svg PUBLIC \"-//W3C//DTD SVG 1.1//EN\"\r\n",
       " \"http://www.w3.org/Graphics/SVG/1.1/DTD/svg11.dtd\">\r\n",
       "<!-- Generated by graphviz version 8.0.5 (20230430.1635)\r\n",
       " -->\r\n",
       "<!-- Title: G Pages: 1 -->\r\n",
       "<svg width=\"209pt\" height=\"188pt\"\r\n",
       " viewBox=\"0.00 0.00 209.00 188.00\" xmlns=\"http://www.w3.org/2000/svg\" xmlns:xlink=\"http://www.w3.org/1999/xlink\">\r\n",
       "<g id=\"graph0\" class=\"graph\" transform=\"scale(1 1) rotate(0) translate(4 184)\">\r\n",
       "<title>G</title>\r\n",
       "<polygon fill=\"white\" stroke=\"none\" points=\"-4,4 -4,-184 205,-184 205,4 -4,4\"/>\r\n",
       "<!-- X1 -->\r\n",
       "<g id=\"node1\" class=\"node\">\r\n",
       "<title>X1</title>\r\n",
       "<ellipse fill=\"none\" stroke=\"black\" cx=\"109\" cy=\"-162\" rx=\"27\" ry=\"18\"/>\r\n",
       "<text text-anchor=\"middle\" x=\"109\" y=\"-156.57\" font-family=\"Times New Roman,serif\" font-size=\"14.00\">X1</text>\r\n",
       "</g>\r\n",
       "<!-- X2 -->\r\n",
       "<g id=\"node2\" class=\"node\">\r\n",
       "<title>X2</title>\r\n",
       "<ellipse fill=\"none\" stroke=\"black\" cx=\"82\" cy=\"-90\" rx=\"27\" ry=\"18\"/>\r\n",
       "<text text-anchor=\"middle\" x=\"82\" y=\"-84.58\" font-family=\"Times New Roman,serif\" font-size=\"14.00\">X2</text>\r\n",
       "</g>\r\n",
       "<!-- X1&#45;&gt;X2 -->\r\n",
       "<g id=\"edge1\" class=\"edge\">\r\n",
       "<title>X1&#45;&gt;X2</title>\r\n",
       "<path fill=\"none\" stroke=\"crimson\" d=\"M102.46,-144.05C99.45,-136.23 95.79,-126.75 92.41,-117.98\"/>\r\n",
       "<polygon fill=\"crimson\" stroke=\"crimson\" points=\"95.34,-116.86 88.48,-108.79 88.81,-119.38 95.34,-116.86\"/>\r\n",
       "</g>\r\n",
       "<!-- Y1 -->\r\n",
       "<g id=\"node3\" class=\"node\">\r\n",
       "<title>Y1</title>\r\n",
       "<ellipse fill=\"none\" stroke=\"black\" cx=\"27\" cy=\"-18\" rx=\"27\" ry=\"18\"/>\r\n",
       "<text text-anchor=\"middle\" x=\"27\" y=\"-12.57\" font-family=\"Times New Roman,serif\" font-size=\"14.00\">Y1</text>\r\n",
       "</g>\r\n",
       "<!-- X1&#45;&gt;Y1 -->\r\n",
       "<g id=\"edge2\" class=\"edge\">\r\n",
       "<title>X1&#45;&gt;Y1</title>\r\n",
       "<path fill=\"none\" stroke=\"crimson\" d=\"M89.16,-149.38C74.95,-140.01 56.52,-125.52 46,-108 34.94,-89.58 30.27,-65.61 28.32,-47.19\"/>\r\n",
       "<polygon fill=\"crimson\" stroke=\"crimson\" points=\"31.73,-46.95 27.41,-37.27 24.75,-47.53 31.73,-46.95\"/>\r\n",
       "</g>\r\n",
       "<!-- Y2 -->\r\n",
       "<g id=\"node4\" class=\"node\">\r\n",
       "<title>Y2</title>\r\n",
       "<ellipse fill=\"none\" stroke=\"black\" cx=\"100\" cy=\"-18\" rx=\"27\" ry=\"18\"/>\r\n",
       "<text text-anchor=\"middle\" x=\"100\" y=\"-12.57\" font-family=\"Times New Roman,serif\" font-size=\"14.00\">Y2</text>\r\n",
       "</g>\r\n",
       "<!-- X1&#45;&gt;Y2 -->\r\n",
       "<g id=\"edge3\" class=\"edge\">\r\n",
       "<title>X1&#45;&gt;Y2</title>\r\n",
       "<path fill=\"none\" stroke=\"crimson\" d=\"M113.41,-143.85C117.41,-125.87 122.1,-96.82 118,-72 116.57,-63.33 113.9,-54.18 111.06,-45.96\"/>\r\n",
       "<polygon fill=\"crimson\" stroke=\"crimson\" points=\"114.05,-44.98 107.29,-36.82 107.49,-47.41 114.05,-44.98\"/>\r\n",
       "</g>\r\n",
       "<!-- Y3 -->\r\n",
       "<g id=\"node5\" class=\"node\">\r\n",
       "<title>Y3</title>\r\n",
       "<ellipse fill=\"none\" stroke=\"black\" cx=\"174\" cy=\"-18\" rx=\"27\" ry=\"18\"/>\r\n",
       "<text text-anchor=\"middle\" x=\"174\" y=\"-12.57\" font-family=\"Times New Roman,serif\" font-size=\"14.00\">Y3</text>\r\n",
       "</g>\r\n",
       "<!-- X1&#45;&gt;Y3 -->\r\n",
       "<g id=\"edge4\" class=\"edge\">\r\n",
       "<title>X1&#45;&gt;Y3</title>\r\n",
       "<path fill=\"none\" stroke=\"crimson\" d=\"M116.58,-144.43C127.74,-120.06 148.68,-74.31 161.95,-45.32\"/>\r\n",
       "<polygon fill=\"crimson\" stroke=\"crimson\" points=\"165.49,-47.01 166.46,-36.46 159.12,-44.1 165.49,-47.01\"/>\r\n",
       "</g>\r\n",
       "<!-- X2&#45;&gt;Y1 -->\r\n",
       "<g id=\"edge5\" class=\"edge\">\r\n",
       "<title>X2&#45;&gt;Y1</title>\r\n",
       "<path fill=\"none\" stroke=\"crimson\" d=\"M69.79,-73.46C62.74,-64.49 53.73,-53.02 45.79,-42.92\"/>\r\n",
       "<polygon fill=\"crimson\" stroke=\"crimson\" points=\"48.1,-41.19 39.17,-35.49 42.6,-45.52 48.1,-41.19\"/>\r\n",
       "</g>\r\n",
       "<!-- X2&#45;&gt;Y2 -->\r\n",
       "<g id=\"edge6\" class=\"edge\">\r\n",
       "<title>X2&#45;&gt;Y2</title>\r\n",
       "<path fill=\"none\" stroke=\"crimson\" d=\"M86.36,-72.05C88.35,-64.32 90.75,-54.96 92.99,-46.27\"/>\r\n",
       "<polygon fill=\"crimson\" stroke=\"crimson\" points=\"96.58,-47.35 95.68,-36.79 89.8,-45.6 96.58,-47.35\"/>\r\n",
       "</g>\r\n",
       "<!-- X2&#45;&gt;Y3 -->\r\n",
       "<g id=\"edge7\" class=\"edge\">\r\n",
       "<title>X2&#45;&gt;Y3</title>\r\n",
       "<path fill=\"none\" stroke=\"crimson\" d=\"M99.3,-75.83C113.05,-65.37 132.5,-50.58 148.1,-38.7\"/>\r\n",
       "<polygon fill=\"crimson\" stroke=\"crimson\" points=\"149.93,-40.95 155.77,-32.11 145.7,-35.38 149.93,-40.95\"/>\r\n",
       "</g>\r\n",
       "</g>\r\n",
       "</svg>\r\n",
       "\n",
       "            </div>\n",
       "            <div style=\"text-align: center;\">\n",
       "                <h3>H1</h3>\n",
       "                <?xml version=\"1.0\" encoding=\"UTF-8\" standalone=\"no\"?>\r\n",
       "<!DOCTYPE svg PUBLIC \"-//W3C//DTD SVG 1.1//EN\"\r\n",
       " \"http://www.w3.org/Graphics/SVG/1.1/DTD/svg11.dtd\">\r\n",
       "<!-- Generated by graphviz version 8.0.5 (20230430.1635)\r\n",
       " -->\r\n",
       "<!-- Title: H1 Pages: 1 -->\r\n",
       "<svg width=\"190pt\" height=\"260pt\"\r\n",
       " viewBox=\"0.00 0.00 189.90 260.00\" xmlns=\"http://www.w3.org/2000/svg\" xmlns:xlink=\"http://www.w3.org/1999/xlink\">\r\n",
       "<g id=\"graph0\" class=\"graph\" transform=\"scale(1 1) rotate(0) translate(4 256)\">\r\n",
       "<title>H1</title>\r\n",
       "<polygon fill=\"white\" stroke=\"none\" points=\"-4,4 -4,-256 185.9,-256 185.9,4 -4,4\"/>\r\n",
       "<!-- X1 -->\r\n",
       "<g id=\"node1\" class=\"node\">\r\n",
       "<title>X1</title>\r\n",
       "<ellipse fill=\"none\" stroke=\"black\" cx=\"109\" cy=\"-234\" rx=\"27\" ry=\"18\"/>\r\n",
       "<text text-anchor=\"middle\" x=\"109\" y=\"-228.57\" font-family=\"Times New Roman,serif\" font-size=\"14.00\">X1</text>\r\n",
       "</g>\r\n",
       "<!-- X2 -->\r\n",
       "<g id=\"node2\" class=\"node\">\r\n",
       "<title>X2</title>\r\n",
       "<ellipse fill=\"none\" stroke=\"black\" cx=\"82\" cy=\"-162\" rx=\"27\" ry=\"18\"/>\r\n",
       "<text text-anchor=\"middle\" x=\"82\" y=\"-156.57\" font-family=\"Times New Roman,serif\" font-size=\"14.00\">X2</text>\r\n",
       "</g>\r\n",
       "<!-- X1&#45;&gt;X2 -->\r\n",
       "<g id=\"edge1\" class=\"edge\">\r\n",
       "<title>X1&#45;&gt;X2</title>\r\n",
       "<path fill=\"none\" stroke=\"crimson\" d=\"M102.46,-216.05C99.45,-208.23 95.79,-198.75 92.41,-189.98\"/>\r\n",
       "<polygon fill=\"crimson\" stroke=\"crimson\" points=\"95.34,-188.86 88.48,-180.79 88.81,-191.38 95.34,-188.86\"/>\r\n",
       "</g>\r\n",
       "<!-- Y1 -->\r\n",
       "<g id=\"node3\" class=\"node\">\r\n",
       "<title>Y1</title>\r\n",
       "<ellipse fill=\"none\" stroke=\"black\" cx=\"27\" cy=\"-90\" rx=\"27\" ry=\"18\"/>\r\n",
       "<text text-anchor=\"middle\" x=\"27\" y=\"-84.58\" font-family=\"Times New Roman,serif\" font-size=\"14.00\">Y1</text>\r\n",
       "</g>\r\n",
       "<!-- X1&#45;&gt;Y1 -->\r\n",
       "<g id=\"edge2\" class=\"edge\">\r\n",
       "<title>X1&#45;&gt;Y1</title>\r\n",
       "<path fill=\"none\" stroke=\"crimson\" d=\"M89.16,-221.38C74.95,-212.01 56.52,-197.52 46,-180 34.94,-161.58 30.27,-137.61 28.32,-119.19\"/>\r\n",
       "<polygon fill=\"crimson\" stroke=\"crimson\" points=\"31.73,-118.95 27.41,-109.27 24.75,-119.53 31.73,-118.95\"/>\r\n",
       "</g>\r\n",
       "<!-- Y2 -->\r\n",
       "<g id=\"node4\" class=\"node\">\r\n",
       "<title>Y2</title>\r\n",
       "<ellipse fill=\"none\" stroke=\"black\" cx=\"82\" cy=\"-18\" rx=\"27\" ry=\"18\"/>\r\n",
       "<text text-anchor=\"middle\" x=\"82\" y=\"-12.57\" font-family=\"Times New Roman,serif\" font-size=\"14.00\">Y2</text>\r\n",
       "</g>\r\n",
       "<!-- X1&#45;&gt;Y2 -->\r\n",
       "<g id=\"edge3\" class=\"edge\">\r\n",
       "<title>X1&#45;&gt;Y2</title>\r\n",
       "<path fill=\"none\" stroke=\"crimson\" d=\"M123.15,-218.59C149.8,-189.65 202.23,-122.85 173,-72 160.97,-51.08 137.16,-37.64 116.91,-29.53\"/>\r\n",
       "<polygon fill=\"crimson\" stroke=\"crimson\" points=\"118.32,-25.95 107.72,-25.77 115.89,-32.52 118.32,-25.95\"/>\r\n",
       "</g>\r\n",
       "<!-- Y3 -->\r\n",
       "<g id=\"node5\" class=\"node\">\r\n",
       "<title>Y3</title>\r\n",
       "<ellipse fill=\"none\" stroke=\"black\" cx=\"137\" cy=\"-90\" rx=\"27\" ry=\"18\"/>\r\n",
       "<text text-anchor=\"middle\" x=\"137\" y=\"-84.58\" font-family=\"Times New Roman,serif\" font-size=\"14.00\">Y3</text>\r\n",
       "</g>\r\n",
       "<!-- X1&#45;&gt;Y3 -->\r\n",
       "<g id=\"edge4\" class=\"edge\">\r\n",
       "<title>X1&#45;&gt;Y3</title>\r\n",
       "<path fill=\"none\" stroke=\"crimson\" d=\"M112.38,-215.87C117.13,-191.78 125.84,-147.6 131.52,-118.77\"/>\r\n",
       "<polygon fill=\"crimson\" stroke=\"crimson\" points=\"135.11,-119.68 133.61,-109.19 128.24,-118.32 135.11,-119.68\"/>\r\n",
       "</g>\r\n",
       "<!-- X2&#45;&gt;Y1 -->\r\n",
       "<g id=\"edge5\" class=\"edge\">\r\n",
       "<title>X2&#45;&gt;Y1</title>\r\n",
       "<path fill=\"none\" stroke=\"crimson\" d=\"M69.79,-145.46C62.74,-136.49 53.73,-125.02 45.79,-114.92\"/>\r\n",
       "<polygon fill=\"crimson\" stroke=\"crimson\" points=\"48.1,-113.19 39.17,-107.49 42.6,-117.52 48.1,-113.19\"/>\r\n",
       "</g>\r\n",
       "<!-- X2&#45;&gt;Y2 -->\r\n",
       "<g id=\"edge6\" class=\"edge\">\r\n",
       "<title>X2&#45;&gt;Y2</title>\r\n",
       "<path fill=\"none\" stroke=\"crimson\" d=\"M82,-143.59C82,-119.5 82,-75.75 82,-47.03\"/>\r\n",
       "<polygon fill=\"crimson\" stroke=\"crimson\" points=\"85.5,-47.11 82,-37.11 78.5,-47.11 85.5,-47.11\"/>\r\n",
       "</g>\r\n",
       "<!-- X2&#45;&gt;Y3 -->\r\n",
       "<g id=\"edge7\" class=\"edge\">\r\n",
       "<title>X2&#45;&gt;Y3</title>\r\n",
       "<path fill=\"none\" stroke=\"crimson\" d=\"M94.21,-145.46C101.26,-136.49 110.27,-125.02 118.21,-114.92\"/>\r\n",
       "<polygon fill=\"crimson\" stroke=\"crimson\" points=\"121.4,-117.52 124.83,-107.49 115.9,-113.19 121.4,-117.52\"/>\r\n",
       "</g>\r\n",
       "<!-- Y1&#45;&gt;Y2 -->\r\n",
       "<g id=\"edge8\" class=\"edge\">\r\n",
       "<title>Y1&#45;&gt;Y2</title>\r\n",
       "<path fill=\"none\" stroke=\"black\" d=\"M39.21,-73.46C46.26,-64.49 55.27,-53.02 63.21,-42.92\"/>\r\n",
       "<polygon fill=\"black\" stroke=\"black\" points=\"66.4,-45.52 69.83,-35.49 60.9,-41.19 66.4,-45.52\"/>\r\n",
       "</g>\r\n",
       "</g>\r\n",
       "</svg>\r\n",
       "\n",
       "            </div>\n",
       "        </div>\n",
       "        "
      ],
      "text/plain": [
       "<IPython.core.display.HTML object>"
      ]
     },
     "metadata": {},
     "output_type": "display_data"
    }
   ],
   "source": [
    "bnm = BNMetrics(G, H1, node_names=nodes)\n",
    "bnm.compare_two_bn(nodes=['All'], name1='G', name2='H1')"
   ]
  },
  {
   "cell_type": "code",
   "execution_count": 62,
   "id": "75dde01a-08eb-4d99-b0c4-5a9f0f27ea53",
   "metadata": {},
   "outputs": [
    {
     "data": {
      "text/html": [
       "<div>\n",
       "<style scoped>\n",
       "    .dataframe tbody tr th:only-of-type {\n",
       "        vertical-align: middle;\n",
       "    }\n",
       "\n",
       "    .dataframe tbody tr th {\n",
       "        vertical-align: top;\n",
       "    }\n",
       "\n",
       "    .dataframe thead th {\n",
       "        text-align: right;\n",
       "    }\n",
       "</style>\n",
       "<table border=\"1\" class=\"dataframe\">\n",
       "  <thead>\n",
       "    <tr style=\"text-align: right;\">\n",
       "      <th></th>\n",
       "      <th>metric</th>\n",
       "      <th>metric_value</th>\n",
       "    </tr>\n",
       "  </thead>\n",
       "  <tbody>\n",
       "    <tr>\n",
       "      <th>0</th>\n",
       "      <td>shd</td>\n",
       "      <td>1</td>\n",
       "    </tr>\n",
       "    <tr>\n",
       "      <th>1</th>\n",
       "      <td>sid</td>\n",
       "      <td>0.0</td>\n",
       "    </tr>\n",
       "    <tr>\n",
       "      <th>2</th>\n",
       "      <td>sid_lower_bound</td>\n",
       "      <td>0.0</td>\n",
       "    </tr>\n",
       "    <tr>\n",
       "      <th>3</th>\n",
       "      <td>sid_upper_bound</td>\n",
       "      <td>0.0</td>\n",
       "    </tr>\n",
       "  </tbody>\n",
       "</table>\n",
       "</div>"
      ],
      "text/plain": [
       "            metric metric_value\n",
       "0              shd            1\n",
       "1              sid          0.0\n",
       "2  sid_lower_bound          0.0\n",
       "3  sid_upper_bound          0.0"
      ]
     },
     "execution_count": 62,
     "metadata": {},
     "output_type": "execute_result"
    }
   ],
   "source": [
    "(bnm.compare_df(descriptive_metrics='', comparison_metrics=['shd', 'sid'])\n",
    "       .query(\"node_name == 'All'\")\n",
    "       .drop(columns='node_name')\n",
    "       .T\n",
    "       .reset_index()\n",
    "       .rename(columns={0:'metric_value', 'index': 'metric'}))"
   ]
  },
  {
   "cell_type": "markdown",
   "id": "970c1b9c-dca7-4aa1-9370-17f8cee01508",
   "metadata": {},
   "source": [
    "**Key observations:**\n",
    "- $\\text{SHD}(G, H_1) = 1$  \n",
    "- $\\text{SID}(G, H_1) = 0$  \n",
    "- The added edge does not introduce bias under any intervention  "
   ]
  },
  {
   "cell_type": "code",
   "execution_count": 63,
   "id": "d991786f-d099-4d54-9238-c1d0c782ac91",
   "metadata": {},
   "outputs": [
    {
     "data": {
      "application/vnd.plotly.v1+json": {
       "config": {
        "plotlyServerURL": "https://plotly.com"
       },
       "data": [
        {
         "colorscale": [
          [
           0,
           "white"
          ],
          [
           0.9999,
           "white"
          ],
          [
           1,
           "crimson"
          ]
         ],
         "showscale": false,
         "type": "heatmap",
         "x": [
          "X1",
          "X2",
          "Y1",
          "Y2",
          "Y3"
         ],
         "xgap": 1,
         "y": [
          "X1",
          "X2",
          "Y1",
          "Y2",
          "Y3"
         ],
         "ygap": 1,
         "z": [
          [
           0,
           0,
           0,
           0,
           0
          ],
          [
           0,
           0,
           0,
           0,
           0
          ],
          [
           0,
           0,
           0,
           0,
           0
          ],
          [
           0,
           0,
           0,
           0,
           0
          ],
          [
           0,
           0,
           0,
           0,
           0
          ]
         ],
         "zmax": 1,
         "zmin": 0
        }
       ],
       "layout": {
        "height": 500,
        "template": {
         "data": {
          "bar": [
           {
            "error_x": {
             "color": "#2a3f5f"
            },
            "error_y": {
             "color": "#2a3f5f"
            },
            "marker": {
             "line": {
              "color": "#E5ECF6",
              "width": 0.5
             },
             "pattern": {
              "fillmode": "overlay",
              "size": 10,
              "solidity": 0.2
             }
            },
            "type": "bar"
           }
          ],
          "barpolar": [
           {
            "marker": {
             "line": {
              "color": "#E5ECF6",
              "width": 0.5
             },
             "pattern": {
              "fillmode": "overlay",
              "size": 10,
              "solidity": 0.2
             }
            },
            "type": "barpolar"
           }
          ],
          "carpet": [
           {
            "aaxis": {
             "endlinecolor": "#2a3f5f",
             "gridcolor": "white",
             "linecolor": "white",
             "minorgridcolor": "white",
             "startlinecolor": "#2a3f5f"
            },
            "baxis": {
             "endlinecolor": "#2a3f5f",
             "gridcolor": "white",
             "linecolor": "white",
             "minorgridcolor": "white",
             "startlinecolor": "#2a3f5f"
            },
            "type": "carpet"
           }
          ],
          "choropleth": [
           {
            "colorbar": {
             "outlinewidth": 0,
             "ticks": ""
            },
            "type": "choropleth"
           }
          ],
          "contour": [
           {
            "colorbar": {
             "outlinewidth": 0,
             "ticks": ""
            },
            "colorscale": [
             [
              0,
              "#0d0887"
             ],
             [
              0.1111111111111111,
              "#46039f"
             ],
             [
              0.2222222222222222,
              "#7201a8"
             ],
             [
              0.3333333333333333,
              "#9c179e"
             ],
             [
              0.4444444444444444,
              "#bd3786"
             ],
             [
              0.5555555555555556,
              "#d8576b"
             ],
             [
              0.6666666666666666,
              "#ed7953"
             ],
             [
              0.7777777777777778,
              "#fb9f3a"
             ],
             [
              0.8888888888888888,
              "#fdca26"
             ],
             [
              1,
              "#f0f921"
             ]
            ],
            "type": "contour"
           }
          ],
          "contourcarpet": [
           {
            "colorbar": {
             "outlinewidth": 0,
             "ticks": ""
            },
            "type": "contourcarpet"
           }
          ],
          "heatmap": [
           {
            "colorbar": {
             "outlinewidth": 0,
             "ticks": ""
            },
            "colorscale": [
             [
              0,
              "#0d0887"
             ],
             [
              0.1111111111111111,
              "#46039f"
             ],
             [
              0.2222222222222222,
              "#7201a8"
             ],
             [
              0.3333333333333333,
              "#9c179e"
             ],
             [
              0.4444444444444444,
              "#bd3786"
             ],
             [
              0.5555555555555556,
              "#d8576b"
             ],
             [
              0.6666666666666666,
              "#ed7953"
             ],
             [
              0.7777777777777778,
              "#fb9f3a"
             ],
             [
              0.8888888888888888,
              "#fdca26"
             ],
             [
              1,
              "#f0f921"
             ]
            ],
            "type": "heatmap"
           }
          ],
          "heatmapgl": [
           {
            "colorbar": {
             "outlinewidth": 0,
             "ticks": ""
            },
            "colorscale": [
             [
              0,
              "#0d0887"
             ],
             [
              0.1111111111111111,
              "#46039f"
             ],
             [
              0.2222222222222222,
              "#7201a8"
             ],
             [
              0.3333333333333333,
              "#9c179e"
             ],
             [
              0.4444444444444444,
              "#bd3786"
             ],
             [
              0.5555555555555556,
              "#d8576b"
             ],
             [
              0.6666666666666666,
              "#ed7953"
             ],
             [
              0.7777777777777778,
              "#fb9f3a"
             ],
             [
              0.8888888888888888,
              "#fdca26"
             ],
             [
              1,
              "#f0f921"
             ]
            ],
            "type": "heatmapgl"
           }
          ],
          "histogram": [
           {
            "marker": {
             "pattern": {
              "fillmode": "overlay",
              "size": 10,
              "solidity": 0.2
             }
            },
            "type": "histogram"
           }
          ],
          "histogram2d": [
           {
            "colorbar": {
             "outlinewidth": 0,
             "ticks": ""
            },
            "colorscale": [
             [
              0,
              "#0d0887"
             ],
             [
              0.1111111111111111,
              "#46039f"
             ],
             [
              0.2222222222222222,
              "#7201a8"
             ],
             [
              0.3333333333333333,
              "#9c179e"
             ],
             [
              0.4444444444444444,
              "#bd3786"
             ],
             [
              0.5555555555555556,
              "#d8576b"
             ],
             [
              0.6666666666666666,
              "#ed7953"
             ],
             [
              0.7777777777777778,
              "#fb9f3a"
             ],
             [
              0.8888888888888888,
              "#fdca26"
             ],
             [
              1,
              "#f0f921"
             ]
            ],
            "type": "histogram2d"
           }
          ],
          "histogram2dcontour": [
           {
            "colorbar": {
             "outlinewidth": 0,
             "ticks": ""
            },
            "colorscale": [
             [
              0,
              "#0d0887"
             ],
             [
              0.1111111111111111,
              "#46039f"
             ],
             [
              0.2222222222222222,
              "#7201a8"
             ],
             [
              0.3333333333333333,
              "#9c179e"
             ],
             [
              0.4444444444444444,
              "#bd3786"
             ],
             [
              0.5555555555555556,
              "#d8576b"
             ],
             [
              0.6666666666666666,
              "#ed7953"
             ],
             [
              0.7777777777777778,
              "#fb9f3a"
             ],
             [
              0.8888888888888888,
              "#fdca26"
             ],
             [
              1,
              "#f0f921"
             ]
            ],
            "type": "histogram2dcontour"
           }
          ],
          "mesh3d": [
           {
            "colorbar": {
             "outlinewidth": 0,
             "ticks": ""
            },
            "type": "mesh3d"
           }
          ],
          "parcoords": [
           {
            "line": {
             "colorbar": {
              "outlinewidth": 0,
              "ticks": ""
             }
            },
            "type": "parcoords"
           }
          ],
          "pie": [
           {
            "automargin": true,
            "type": "pie"
           }
          ],
          "scatter": [
           {
            "fillpattern": {
             "fillmode": "overlay",
             "size": 10,
             "solidity": 0.2
            },
            "type": "scatter"
           }
          ],
          "scatter3d": [
           {
            "line": {
             "colorbar": {
              "outlinewidth": 0,
              "ticks": ""
             }
            },
            "marker": {
             "colorbar": {
              "outlinewidth": 0,
              "ticks": ""
             }
            },
            "type": "scatter3d"
           }
          ],
          "scattercarpet": [
           {
            "marker": {
             "colorbar": {
              "outlinewidth": 0,
              "ticks": ""
             }
            },
            "type": "scattercarpet"
           }
          ],
          "scattergeo": [
           {
            "marker": {
             "colorbar": {
              "outlinewidth": 0,
              "ticks": ""
             }
            },
            "type": "scattergeo"
           }
          ],
          "scattergl": [
           {
            "marker": {
             "colorbar": {
              "outlinewidth": 0,
              "ticks": ""
             }
            },
            "type": "scattergl"
           }
          ],
          "scattermapbox": [
           {
            "marker": {
             "colorbar": {
              "outlinewidth": 0,
              "ticks": ""
             }
            },
            "type": "scattermapbox"
           }
          ],
          "scatterpolar": [
           {
            "marker": {
             "colorbar": {
              "outlinewidth": 0,
              "ticks": ""
             }
            },
            "type": "scatterpolar"
           }
          ],
          "scatterpolargl": [
           {
            "marker": {
             "colorbar": {
              "outlinewidth": 0,
              "ticks": ""
             }
            },
            "type": "scatterpolargl"
           }
          ],
          "scatterternary": [
           {
            "marker": {
             "colorbar": {
              "outlinewidth": 0,
              "ticks": ""
             }
            },
            "type": "scatterternary"
           }
          ],
          "surface": [
           {
            "colorbar": {
             "outlinewidth": 0,
             "ticks": ""
            },
            "colorscale": [
             [
              0,
              "#0d0887"
             ],
             [
              0.1111111111111111,
              "#46039f"
             ],
             [
              0.2222222222222222,
              "#7201a8"
             ],
             [
              0.3333333333333333,
              "#9c179e"
             ],
             [
              0.4444444444444444,
              "#bd3786"
             ],
             [
              0.5555555555555556,
              "#d8576b"
             ],
             [
              0.6666666666666666,
              "#ed7953"
             ],
             [
              0.7777777777777778,
              "#fb9f3a"
             ],
             [
              0.8888888888888888,
              "#fdca26"
             ],
             [
              1,
              "#f0f921"
             ]
            ],
            "type": "surface"
           }
          ],
          "table": [
           {
            "cells": {
             "fill": {
              "color": "#EBF0F8"
             },
             "line": {
              "color": "white"
             }
            },
            "header": {
             "fill": {
              "color": "#C8D4E3"
             },
             "line": {
              "color": "white"
             }
            },
            "type": "table"
           }
          ]
         },
         "layout": {
          "annotationdefaults": {
           "arrowcolor": "#2a3f5f",
           "arrowhead": 0,
           "arrowwidth": 1
          },
          "autotypenumbers": "strict",
          "coloraxis": {
           "colorbar": {
            "outlinewidth": 0,
            "ticks": ""
           }
          },
          "colorscale": {
           "diverging": [
            [
             0,
             "#8e0152"
            ],
            [
             0.1,
             "#c51b7d"
            ],
            [
             0.2,
             "#de77ae"
            ],
            [
             0.3,
             "#f1b6da"
            ],
            [
             0.4,
             "#fde0ef"
            ],
            [
             0.5,
             "#f7f7f7"
            ],
            [
             0.6,
             "#e6f5d0"
            ],
            [
             0.7,
             "#b8e186"
            ],
            [
             0.8,
             "#7fbc41"
            ],
            [
             0.9,
             "#4d9221"
            ],
            [
             1,
             "#276419"
            ]
           ],
           "sequential": [
            [
             0,
             "#0d0887"
            ],
            [
             0.1111111111111111,
             "#46039f"
            ],
            [
             0.2222222222222222,
             "#7201a8"
            ],
            [
             0.3333333333333333,
             "#9c179e"
            ],
            [
             0.4444444444444444,
             "#bd3786"
            ],
            [
             0.5555555555555556,
             "#d8576b"
            ],
            [
             0.6666666666666666,
             "#ed7953"
            ],
            [
             0.7777777777777778,
             "#fb9f3a"
            ],
            [
             0.8888888888888888,
             "#fdca26"
            ],
            [
             1,
             "#f0f921"
            ]
           ],
           "sequentialminus": [
            [
             0,
             "#0d0887"
            ],
            [
             0.1111111111111111,
             "#46039f"
            ],
            [
             0.2222222222222222,
             "#7201a8"
            ],
            [
             0.3333333333333333,
             "#9c179e"
            ],
            [
             0.4444444444444444,
             "#bd3786"
            ],
            [
             0.5555555555555556,
             "#d8576b"
            ],
            [
             0.6666666666666666,
             "#ed7953"
            ],
            [
             0.7777777777777778,
             "#fb9f3a"
            ],
            [
             0.8888888888888888,
             "#fdca26"
            ],
            [
             1,
             "#f0f921"
            ]
           ]
          },
          "colorway": [
           "#636efa",
           "#EF553B",
           "#00cc96",
           "#ab63fa",
           "#FFA15A",
           "#19d3f3",
           "#FF6692",
           "#B6E880",
           "#FF97FF",
           "#FECB52"
          ],
          "font": {
           "color": "#2a3f5f"
          },
          "geo": {
           "bgcolor": "white",
           "lakecolor": "white",
           "landcolor": "#E5ECF6",
           "showlakes": true,
           "showland": true,
           "subunitcolor": "white"
          },
          "hoverlabel": {
           "align": "left"
          },
          "hovermode": "closest",
          "mapbox": {
           "style": "light"
          },
          "paper_bgcolor": "white",
          "plot_bgcolor": "#E5ECF6",
          "polar": {
           "angularaxis": {
            "gridcolor": "white",
            "linecolor": "white",
            "ticks": ""
           },
           "bgcolor": "#E5ECF6",
           "radialaxis": {
            "gridcolor": "white",
            "linecolor": "white",
            "ticks": ""
           }
          },
          "scene": {
           "xaxis": {
            "backgroundcolor": "#E5ECF6",
            "gridcolor": "white",
            "gridwidth": 2,
            "linecolor": "white",
            "showbackground": true,
            "ticks": "",
            "zerolinecolor": "white"
           },
           "yaxis": {
            "backgroundcolor": "#E5ECF6",
            "gridcolor": "white",
            "gridwidth": 2,
            "linecolor": "white",
            "showbackground": true,
            "ticks": "",
            "zerolinecolor": "white"
           },
           "zaxis": {
            "backgroundcolor": "#E5ECF6",
            "gridcolor": "white",
            "gridwidth": 2,
            "linecolor": "white",
            "showbackground": true,
            "ticks": "",
            "zerolinecolor": "white"
           }
          },
          "shapedefaults": {
           "line": {
            "color": "#2a3f5f"
           }
          },
          "ternary": {
           "aaxis": {
            "gridcolor": "white",
            "linecolor": "white",
            "ticks": ""
           },
           "baxis": {
            "gridcolor": "white",
            "linecolor": "white",
            "ticks": ""
           },
           "bgcolor": "#E5ECF6",
           "caxis": {
            "gridcolor": "white",
            "linecolor": "white",
            "ticks": ""
           }
          },
          "title": {
           "x": 0.05
          },
          "xaxis": {
           "automargin": true,
           "gridcolor": "white",
           "linecolor": "white",
           "ticks": "",
           "title": {
            "standoff": 15
           },
           "zerolinecolor": "white",
           "zerolinewidth": 2
          },
          "yaxis": {
           "automargin": true,
           "gridcolor": "white",
           "linecolor": "white",
           "ticks": "",
           "title": {
            "standoff": 15
           },
           "zerolinecolor": "white",
           "zerolinewidth": 2
          }
         }
        },
        "title": {
         "text": "SID: 0"
        },
        "width": 500,
        "xaxis": {
         "autorange": true,
         "range": [
          -0.5,
          4.5
         ],
         "showgrid": false,
         "side": "top",
         "tickangle": 90,
         "type": "category"
        },
        "yaxis": {
         "autorange": true,
         "range": [
          4.5,
          -0.5
         ],
         "showgrid": false,
         "type": "category"
        }
       }
      },
      "image/png": "[encoded data removed]"
     },
     "metadata": {},
     "output_type": "display_data"
    }
   ],
   "source": [
    "bnm.plot_sid_matrix()"
   ]
  },
  {
   "cell_type": "markdown",
   "id": "2bbaae81-cbce-4d72-9fcc-789bd47135ff",
   "metadata": {},
   "source": [
    "All entries in the SID matrix are 0. All pairs $(i, j)$ have correct interventional predictions"
   ]
  },
  {
   "cell_type": "markdown",
   "id": "4b34c76d-ac01-45f3-90f8-489e2000bd77",
   "metadata": {},
   "source": [
    "**Conclusion**:  \n",
    "This shows that SID can be 0 even when SHD is not 0, because SHD penalizes the extra edge even though it has no interventional effect.\n",
    "\n",
    "---\n",
    "\n",
    "### Case 2: G vs. H₂\n",
    "\n",
    "Below are $G$ and $H_2$ side by side. You can see that in $H_2$ there is reversed edge $X_1 \\leftarrow X_2$"
   ]
  },
  {
   "cell_type": "code",
   "execution_count": 64,
   "id": "d3c9bb52-23a5-4bdf-b06a-3e2d0a1c5c6d",
   "metadata": {},
   "outputs": [
    {
     "data": {
      "text/html": [
       "\n",
       "        <div style=\"display: flex; gap: 60px;\">\n",
       "            <div style=\"text-align: center;\">\n",
       "                <h3>G</h3>\n",
       "                <?xml version=\"1.0\" encoding=\"UTF-8\" standalone=\"no\"?>\r\n",
       "<!DOCTYPE svg PUBLIC \"-//W3C//DTD SVG 1.1//EN\"\r\n",
       " \"http://www.w3.org/Graphics/SVG/1.1/DTD/svg11.dtd\">\r\n",
       "<!-- Generated by graphviz version 8.0.5 (20230430.1635)\r\n",
       " -->\r\n",
       "<!-- Title: G Pages: 1 -->\r\n",
       "<svg width=\"209pt\" height=\"188pt\"\r\n",
       " viewBox=\"0.00 0.00 209.00 188.00\" xmlns=\"http://www.w3.org/2000/svg\" xmlns:xlink=\"http://www.w3.org/1999/xlink\">\r\n",
       "<g id=\"graph0\" class=\"graph\" transform=\"scale(1 1) rotate(0) translate(4 184)\">\r\n",
       "<title>G</title>\r\n",
       "<polygon fill=\"white\" stroke=\"none\" points=\"-4,4 -4,-184 205,-184 205,4 -4,4\"/>\r\n",
       "<!-- X1 -->\r\n",
       "<g id=\"node1\" class=\"node\">\r\n",
       "<title>X1</title>\r\n",
       "<ellipse fill=\"none\" stroke=\"black\" cx=\"109\" cy=\"-162\" rx=\"27\" ry=\"18\"/>\r\n",
       "<text text-anchor=\"middle\" x=\"109\" y=\"-156.57\" font-family=\"Times New Roman,serif\" font-size=\"14.00\">X1</text>\r\n",
       "</g>\r\n",
       "<!-- X2 -->\r\n",
       "<g id=\"node2\" class=\"node\">\r\n",
       "<title>X2</title>\r\n",
       "<ellipse fill=\"none\" stroke=\"black\" cx=\"82\" cy=\"-90\" rx=\"27\" ry=\"18\"/>\r\n",
       "<text text-anchor=\"middle\" x=\"82\" y=\"-84.58\" font-family=\"Times New Roman,serif\" font-size=\"14.00\">X2</text>\r\n",
       "</g>\r\n",
       "<!-- X1&#45;&gt;X2 -->\r\n",
       "<g id=\"edge1\" class=\"edge\">\r\n",
       "<title>X1&#45;&gt;X2</title>\r\n",
       "<path fill=\"none\" stroke=\"black\" d=\"M102.46,-144.05C99.45,-136.23 95.79,-126.75 92.41,-117.98\"/>\r\n",
       "<polygon fill=\"black\" stroke=\"black\" points=\"95.34,-116.86 88.48,-108.79 88.81,-119.38 95.34,-116.86\"/>\r\n",
       "</g>\r\n",
       "<!-- Y1 -->\r\n",
       "<g id=\"node3\" class=\"node\">\r\n",
       "<title>Y1</title>\r\n",
       "<ellipse fill=\"none\" stroke=\"black\" cx=\"27\" cy=\"-18\" rx=\"27\" ry=\"18\"/>\r\n",
       "<text text-anchor=\"middle\" x=\"27\" y=\"-12.57\" font-family=\"Times New Roman,serif\" font-size=\"14.00\">Y1</text>\r\n",
       "</g>\r\n",
       "<!-- X1&#45;&gt;Y1 -->\r\n",
       "<g id=\"edge2\" class=\"edge\">\r\n",
       "<title>X1&#45;&gt;Y1</title>\r\n",
       "<path fill=\"none\" stroke=\"crimson\" d=\"M89.16,-149.38C74.95,-140.01 56.52,-125.52 46,-108 34.94,-89.58 30.27,-65.61 28.32,-47.19\"/>\r\n",
       "<polygon fill=\"crimson\" stroke=\"crimson\" points=\"31.73,-46.95 27.41,-37.27 24.75,-47.53 31.73,-46.95\"/>\r\n",
       "</g>\r\n",
       "<!-- Y2 -->\r\n",
       "<g id=\"node4\" class=\"node\">\r\n",
       "<title>Y2</title>\r\n",
       "<ellipse fill=\"none\" stroke=\"black\" cx=\"100\" cy=\"-18\" rx=\"27\" ry=\"18\"/>\r\n",
       "<text text-anchor=\"middle\" x=\"100\" y=\"-12.57\" font-family=\"Times New Roman,serif\" font-size=\"14.00\">Y2</text>\r\n",
       "</g>\r\n",
       "<!-- X1&#45;&gt;Y2 -->\r\n",
       "<g id=\"edge3\" class=\"edge\">\r\n",
       "<title>X1&#45;&gt;Y2</title>\r\n",
       "<path fill=\"none\" stroke=\"crimson\" d=\"M113.41,-143.85C117.41,-125.87 122.1,-96.82 118,-72 116.57,-63.33 113.9,-54.18 111.06,-45.96\"/>\r\n",
       "<polygon fill=\"crimson\" stroke=\"crimson\" points=\"114.05,-44.98 107.29,-36.82 107.49,-47.41 114.05,-44.98\"/>\r\n",
       "</g>\r\n",
       "<!-- Y3 -->\r\n",
       "<g id=\"node5\" class=\"node\">\r\n",
       "<title>Y3</title>\r\n",
       "<ellipse fill=\"none\" stroke=\"black\" cx=\"174\" cy=\"-18\" rx=\"27\" ry=\"18\"/>\r\n",
       "<text text-anchor=\"middle\" x=\"174\" y=\"-12.57\" font-family=\"Times New Roman,serif\" font-size=\"14.00\">Y3</text>\r\n",
       "</g>\r\n",
       "<!-- X1&#45;&gt;Y3 -->\r\n",
       "<g id=\"edge4\" class=\"edge\">\r\n",
       "<title>X1&#45;&gt;Y3</title>\r\n",
       "<path fill=\"none\" stroke=\"crimson\" d=\"M116.58,-144.43C127.74,-120.06 148.68,-74.31 161.95,-45.32\"/>\r\n",
       "<polygon fill=\"crimson\" stroke=\"crimson\" points=\"165.49,-47.01 166.46,-36.46 159.12,-44.1 165.49,-47.01\"/>\r\n",
       "</g>\r\n",
       "<!-- X2&#45;&gt;Y1 -->\r\n",
       "<g id=\"edge5\" class=\"edge\">\r\n",
       "<title>X2&#45;&gt;Y1</title>\r\n",
       "<path fill=\"none\" stroke=\"crimson\" d=\"M69.79,-73.46C62.74,-64.49 53.73,-53.02 45.79,-42.92\"/>\r\n",
       "<polygon fill=\"crimson\" stroke=\"crimson\" points=\"48.1,-41.19 39.17,-35.49 42.6,-45.52 48.1,-41.19\"/>\r\n",
       "</g>\r\n",
       "<!-- X2&#45;&gt;Y2 -->\r\n",
       "<g id=\"edge6\" class=\"edge\">\r\n",
       "<title>X2&#45;&gt;Y2</title>\r\n",
       "<path fill=\"none\" stroke=\"crimson\" d=\"M86.36,-72.05C88.35,-64.32 90.75,-54.96 92.99,-46.27\"/>\r\n",
       "<polygon fill=\"crimson\" stroke=\"crimson\" points=\"96.58,-47.35 95.68,-36.79 89.8,-45.6 96.58,-47.35\"/>\r\n",
       "</g>\r\n",
       "<!-- X2&#45;&gt;Y3 -->\r\n",
       "<g id=\"edge7\" class=\"edge\">\r\n",
       "<title>X2&#45;&gt;Y3</title>\r\n",
       "<path fill=\"none\" stroke=\"crimson\" d=\"M99.3,-75.83C113.05,-65.37 132.5,-50.58 148.1,-38.7\"/>\r\n",
       "<polygon fill=\"crimson\" stroke=\"crimson\" points=\"149.93,-40.95 155.77,-32.11 145.7,-35.38 149.93,-40.95\"/>\r\n",
       "</g>\r\n",
       "</g>\r\n",
       "</svg>\r\n",
       "\n",
       "            </div>\n",
       "            <div style=\"text-align: center;\">\n",
       "                <h3>H2</h3>\n",
       "                <?xml version=\"1.0\" encoding=\"UTF-8\" standalone=\"no\"?>\r\n",
       "<!DOCTYPE svg PUBLIC \"-//W3C//DTD SVG 1.1//EN\"\r\n",
       " \"http://www.w3.org/Graphics/SVG/1.1/DTD/svg11.dtd\">\r\n",
       "<!-- Generated by graphviz version 8.0.5 (20230430.1635)\r\n",
       " -->\r\n",
       "<!-- Title: H2 Pages: 1 -->\r\n",
       "<svg width=\"209pt\" height=\"188pt\"\r\n",
       " viewBox=\"0.00 0.00 209.00 188.00\" xmlns=\"http://www.w3.org/2000/svg\" xmlns:xlink=\"http://www.w3.org/1999/xlink\">\r\n",
       "<g id=\"graph0\" class=\"graph\" transform=\"scale(1 1) rotate(0) translate(4 184)\">\r\n",
       "<title>H2</title>\r\n",
       "<polygon fill=\"white\" stroke=\"none\" points=\"-4,4 -4,-184 205,-184 205,4 -4,4\"/>\r\n",
       "<!-- X1 -->\r\n",
       "<g id=\"node1\" class=\"node\">\r\n",
       "<title>X1</title>\r\n",
       "<ellipse fill=\"none\" stroke=\"black\" cx=\"82\" cy=\"-90\" rx=\"27\" ry=\"18\"/>\r\n",
       "<text text-anchor=\"middle\" x=\"82\" y=\"-84.58\" font-family=\"Times New Roman,serif\" font-size=\"14.00\">X1</text>\r\n",
       "</g>\r\n",
       "<!-- Y1 -->\r\n",
       "<g id=\"node3\" class=\"node\">\r\n",
       "<title>Y1</title>\r\n",
       "<ellipse fill=\"none\" stroke=\"black\" cx=\"27\" cy=\"-18\" rx=\"27\" ry=\"18\"/>\r\n",
       "<text text-anchor=\"middle\" x=\"27\" y=\"-12.57\" font-family=\"Times New Roman,serif\" font-size=\"14.00\">Y1</text>\r\n",
       "</g>\r\n",
       "<!-- X1&#45;&gt;Y1 -->\r\n",
       "<g id=\"edge1\" class=\"edge\">\r\n",
       "<title>X1&#45;&gt;Y1</title>\r\n",
       "<path fill=\"none\" stroke=\"crimson\" d=\"M69.79,-73.46C62.74,-64.49 53.73,-53.02 45.79,-42.92\"/>\r\n",
       "<polygon fill=\"crimson\" stroke=\"crimson\" points=\"48.1,-41.19 39.17,-35.49 42.6,-45.52 48.1,-41.19\"/>\r\n",
       "</g>\r\n",
       "<!-- Y2 -->\r\n",
       "<g id=\"node4\" class=\"node\">\r\n",
       "<title>Y2</title>\r\n",
       "<ellipse fill=\"none\" stroke=\"black\" cx=\"100\" cy=\"-18\" rx=\"27\" ry=\"18\"/>\r\n",
       "<text text-anchor=\"middle\" x=\"100\" y=\"-12.57\" font-family=\"Times New Roman,serif\" font-size=\"14.00\">Y2</text>\r\n",
       "</g>\r\n",
       "<!-- X1&#45;&gt;Y2 -->\r\n",
       "<g id=\"edge2\" class=\"edge\">\r\n",
       "<title>X1&#45;&gt;Y2</title>\r\n",
       "<path fill=\"none\" stroke=\"crimson\" d=\"M86.36,-72.05C88.35,-64.32 90.75,-54.96 92.99,-46.27\"/>\r\n",
       "<polygon fill=\"crimson\" stroke=\"crimson\" points=\"96.58,-47.35 95.68,-36.79 89.8,-45.6 96.58,-47.35\"/>\r\n",
       "</g>\r\n",
       "<!-- Y3 -->\r\n",
       "<g id=\"node5\" class=\"node\">\r\n",
       "<title>Y3</title>\r\n",
       "<ellipse fill=\"none\" stroke=\"black\" cx=\"174\" cy=\"-18\" rx=\"27\" ry=\"18\"/>\r\n",
       "<text text-anchor=\"middle\" x=\"174\" y=\"-12.57\" font-family=\"Times New Roman,serif\" font-size=\"14.00\">Y3</text>\r\n",
       "</g>\r\n",
       "<!-- X1&#45;&gt;Y3 -->\r\n",
       "<g id=\"edge3\" class=\"edge\">\r\n",
       "<title>X1&#45;&gt;Y3</title>\r\n",
       "<path fill=\"none\" stroke=\"crimson\" d=\"M99.3,-75.83C113.05,-65.37 132.5,-50.58 148.1,-38.7\"/>\r\n",
       "<polygon fill=\"crimson\" stroke=\"crimson\" points=\"149.93,-40.95 155.77,-32.11 145.7,-35.38 149.93,-40.95\"/>\r\n",
       "</g>\r\n",
       "<!-- X2 -->\r\n",
       "<g id=\"node2\" class=\"node\">\r\n",
       "<title>X2</title>\r\n",
       "<ellipse fill=\"none\" stroke=\"black\" cx=\"109\" cy=\"-162\" rx=\"27\" ry=\"18\"/>\r\n",
       "<text text-anchor=\"middle\" x=\"109\" y=\"-156.57\" font-family=\"Times New Roman,serif\" font-size=\"14.00\">X2</text>\r\n",
       "</g>\r\n",
       "<!-- X2&#45;&gt;X1 -->\r\n",
       "<g id=\"edge4\" class=\"edge\">\r\n",
       "<title>X2&#45;&gt;X1</title>\r\n",
       "<path fill=\"none\" stroke=\"black\" d=\"M102.46,-144.05C99.45,-136.23 95.79,-126.75 92.41,-117.98\"/>\r\n",
       "<polygon fill=\"black\" stroke=\"black\" points=\"95.34,-116.86 88.48,-108.79 88.81,-119.38 95.34,-116.86\"/>\r\n",
       "</g>\r\n",
       "<!-- X2&#45;&gt;Y1 -->\r\n",
       "<g id=\"edge5\" class=\"edge\">\r\n",
       "<title>X2&#45;&gt;Y1</title>\r\n",
       "<path fill=\"none\" stroke=\"crimson\" d=\"M89.16,-149.38C74.95,-140.01 56.52,-125.52 46,-108 34.94,-89.58 30.27,-65.61 28.32,-47.19\"/>\r\n",
       "<polygon fill=\"crimson\" stroke=\"crimson\" points=\"31.73,-46.95 27.41,-37.27 24.75,-47.53 31.73,-46.95\"/>\r\n",
       "</g>\r\n",
       "<!-- X2&#45;&gt;Y2 -->\r\n",
       "<g id=\"edge6\" class=\"edge\">\r\n",
       "<title>X2&#45;&gt;Y2</title>\r\n",
       "<path fill=\"none\" stroke=\"crimson\" d=\"M113.41,-143.85C117.41,-125.87 122.1,-96.82 118,-72 116.57,-63.33 113.9,-54.18 111.06,-45.96\"/>\r\n",
       "<polygon fill=\"crimson\" stroke=\"crimson\" points=\"114.05,-44.98 107.29,-36.82 107.49,-47.41 114.05,-44.98\"/>\r\n",
       "</g>\r\n",
       "<!-- X2&#45;&gt;Y3 -->\r\n",
       "<g id=\"edge7\" class=\"edge\">\r\n",
       "<title>X2&#45;&gt;Y3</title>\r\n",
       "<path fill=\"none\" stroke=\"crimson\" d=\"M116.58,-144.43C127.74,-120.06 148.68,-74.31 161.95,-45.32\"/>\r\n",
       "<polygon fill=\"crimson\" stroke=\"crimson\" points=\"165.49,-47.01 166.46,-36.46 159.12,-44.1 165.49,-47.01\"/>\r\n",
       "</g>\r\n",
       "</g>\r\n",
       "</svg>\r\n",
       "\n",
       "            </div>\n",
       "        </div>\n",
       "        "
      ],
      "text/plain": [
       "<IPython.core.display.HTML object>"
      ]
     },
     "metadata": {},
     "output_type": "display_data"
    }
   ],
   "source": [
    "bnm = BNMetrics(G, H2, node_names=nodes)\n",
    "bnm.compare_two_bn(nodes=['All'], name1='G', name2='H2')"
   ]
  },
  {
   "cell_type": "code",
   "execution_count": 65,
   "id": "a17930bb-097c-4cb6-b19d-a4f9435ac7da",
   "metadata": {},
   "outputs": [
    {
     "data": {
      "text/html": [
       "<div>\n",
       "<style scoped>\n",
       "    .dataframe tbody tr th:only-of-type {\n",
       "        vertical-align: middle;\n",
       "    }\n",
       "\n",
       "    .dataframe tbody tr th {\n",
       "        vertical-align: top;\n",
       "    }\n",
       "\n",
       "    .dataframe thead th {\n",
       "        text-align: right;\n",
       "    }\n",
       "</style>\n",
       "<table border=\"1\" class=\"dataframe\">\n",
       "  <thead>\n",
       "    <tr style=\"text-align: right;\">\n",
       "      <th></th>\n",
       "      <th>metric</th>\n",
       "      <th>metric_value</th>\n",
       "    </tr>\n",
       "  </thead>\n",
       "  <tbody>\n",
       "    <tr>\n",
       "      <th>0</th>\n",
       "      <td>shd</td>\n",
       "      <td>1</td>\n",
       "    </tr>\n",
       "    <tr>\n",
       "      <th>1</th>\n",
       "      <td>sid</td>\n",
       "      <td>8.0</td>\n",
       "    </tr>\n",
       "    <tr>\n",
       "      <th>2</th>\n",
       "      <td>sid_lower_bound</td>\n",
       "      <td>8.0</td>\n",
       "    </tr>\n",
       "    <tr>\n",
       "      <th>3</th>\n",
       "      <td>sid_upper_bound</td>\n",
       "      <td>8.0</td>\n",
       "    </tr>\n",
       "  </tbody>\n",
       "</table>\n",
       "</div>"
      ],
      "text/plain": [
       "            metric metric_value\n",
       "0              shd            1\n",
       "1              sid          8.0\n",
       "2  sid_lower_bound          8.0\n",
       "3  sid_upper_bound          8.0"
      ]
     },
     "execution_count": 65,
     "metadata": {},
     "output_type": "execute_result"
    }
   ],
   "source": [
    "(bnm.compare_df(descriptive_metrics='', comparison_metrics=['shd', 'sid'])\n",
    "       .query(\"node_name == 'All'\")\n",
    "       .drop(columns='node_name')\n",
    "       .T\n",
    "       .reset_index()\n",
    "       .rename(columns={0:'metric_value', 'index': 'metric'}))"
   ]
  },
  {
   "cell_type": "markdown",
   "id": "3696b11a-20a5-467d-9ec7-703bb15aa4fc",
   "metadata": {},
   "source": [
    "**Key observations:**\n",
    "- $\\text{SHD}(G, H₂) = 1$  \n",
    "- $\\text{SID}(G, H₂) = 8$  \n",
    "- The reversed edge breaks multiple parent sets used for adjustment\n",
    "- The SID matrix clearly shows incorrect interventional distributions for several pairs"
   ]
  },
  {
   "cell_type": "code",
   "execution_count": 66,
   "id": "bfc50294-10c2-4d74-85f2-9279196be866",
   "metadata": {},
   "outputs": [
    {
     "data": {
      "application/vnd.plotly.v1+json": {
       "config": {
        "plotlyServerURL": "https://plotly.com"
       },
       "data": [
        {
         "colorscale": [
          [
           0,
           "white"
          ],
          [
           0.9999,
           "white"
          ],
          [
           1,
           "crimson"
          ]
         ],
         "showscale": false,
         "type": "heatmap",
         "x": [
          "X1",
          "X2",
          "Y1",
          "Y2",
          "Y3"
         ],
         "xgap": 1,
         "y": [
          "X1",
          "X2",
          "Y1",
          "Y2",
          "Y3"
         ],
         "ygap": 1,
         "z": [
          [
           0,
           1,
           1,
           1,
           1
          ],
          [
           1,
           0,
           1,
           1,
           1
          ],
          [
           0,
           0,
           0,
           0,
           0
          ],
          [
           0,
           0,
           0,
           0,
           0
          ],
          [
           0,
           0,
           0,
           0,
           0
          ]
         ],
         "zmax": 1,
         "zmin": 0
        }
       ],
       "layout": {
        "height": 500,
        "template": {
         "data": {
          "bar": [
           {
            "error_x": {
             "color": "#2a3f5f"
            },
            "error_y": {
             "color": "#2a3f5f"
            },
            "marker": {
             "line": {
              "color": "#E5ECF6",
              "width": 0.5
             },
             "pattern": {
              "fillmode": "overlay",
              "size": 10,
              "solidity": 0.2
             }
            },
            "type": "bar"
           }
          ],
          "barpolar": [
           {
            "marker": {
             "line": {
              "color": "#E5ECF6",
              "width": 0.5
             },
             "pattern": {
              "fillmode": "overlay",
              "size": 10,
              "solidity": 0.2
             }
            },
            "type": "barpolar"
           }
          ],
          "carpet": [
           {
            "aaxis": {
             "endlinecolor": "#2a3f5f",
             "gridcolor": "white",
             "linecolor": "white",
             "minorgridcolor": "white",
             "startlinecolor": "#2a3f5f"
            },
            "baxis": {
             "endlinecolor": "#2a3f5f",
             "gridcolor": "white",
             "linecolor": "white",
             "minorgridcolor": "white",
             "startlinecolor": "#2a3f5f"
            },
            "type": "carpet"
           }
          ],
          "choropleth": [
           {
            "colorbar": {
             "outlinewidth": 0,
             "ticks": ""
            },
            "type": "choropleth"
           }
          ],
          "contour": [
           {
            "colorbar": {
             "outlinewidth": 0,
             "ticks": ""
            },
            "colorscale": [
             [
              0,
              "#0d0887"
             ],
             [
              0.1111111111111111,
              "#46039f"
             ],
             [
              0.2222222222222222,
              "#7201a8"
             ],
             [
              0.3333333333333333,
              "#9c179e"
             ],
             [
              0.4444444444444444,
              "#bd3786"
             ],
             [
              0.5555555555555556,
              "#d8576b"
             ],
             [
              0.6666666666666666,
              "#ed7953"
             ],
             [
              0.7777777777777778,
              "#fb9f3a"
             ],
             [
              0.8888888888888888,
              "#fdca26"
             ],
             [
              1,
              "#f0f921"
             ]
            ],
            "type": "contour"
           }
          ],
          "contourcarpet": [
           {
            "colorbar": {
             "outlinewidth": 0,
             "ticks": ""
            },
            "type": "contourcarpet"
           }
          ],
          "heatmap": [
           {
            "colorbar": {
             "outlinewidth": 0,
             "ticks": ""
            },
            "colorscale": [
             [
              0,
              "#0d0887"
             ],
             [
              0.1111111111111111,
              "#46039f"
             ],
             [
              0.2222222222222222,
              "#7201a8"
             ],
             [
              0.3333333333333333,
              "#9c179e"
             ],
             [
              0.4444444444444444,
              "#bd3786"
             ],
             [
              0.5555555555555556,
              "#d8576b"
             ],
             [
              0.6666666666666666,
              "#ed7953"
             ],
             [
              0.7777777777777778,
              "#fb9f3a"
             ],
             [
              0.8888888888888888,
              "#fdca26"
             ],
             [
              1,
              "#f0f921"
             ]
            ],
            "type": "heatmap"
           }
          ],
          "heatmapgl": [
           {
            "colorbar": {
             "outlinewidth": 0,
             "ticks": ""
            },
            "colorscale": [
             [
              0,
              "#0d0887"
             ],
             [
              0.1111111111111111,
              "#46039f"
             ],
             [
              0.2222222222222222,
              "#7201a8"
             ],
             [
              0.3333333333333333,
              "#9c179e"
             ],
             [
              0.4444444444444444,
              "#bd3786"
             ],
             [
              0.5555555555555556,
              "#d8576b"
             ],
             [
              0.6666666666666666,
              "#ed7953"
             ],
             [
              0.7777777777777778,
              "#fb9f3a"
             ],
             [
              0.8888888888888888,
              "#fdca26"
             ],
             [
              1,
              "#f0f921"
             ]
            ],
            "type": "heatmapgl"
           }
          ],
          "histogram": [
           {
            "marker": {
             "pattern": {
              "fillmode": "overlay",
              "size": 10,
              "solidity": 0.2
             }
            },
            "type": "histogram"
           }
          ],
          "histogram2d": [
           {
            "colorbar": {
             "outlinewidth": 0,
             "ticks": ""
            },
            "colorscale": [
             [
              0,
              "#0d0887"
             ],
             [
              0.1111111111111111,
              "#46039f"
             ],
             [
              0.2222222222222222,
              "#7201a8"
             ],
             [
              0.3333333333333333,
              "#9c179e"
             ],
             [
              0.4444444444444444,
              "#bd3786"
             ],
             [
              0.5555555555555556,
              "#d8576b"
             ],
             [
              0.6666666666666666,
              "#ed7953"
             ],
             [
              0.7777777777777778,
              "#fb9f3a"
             ],
             [
              0.8888888888888888,
              "#fdca26"
             ],
             [
              1,
              "#f0f921"
             ]
            ],
            "type": "histogram2d"
           }
          ],
          "histogram2dcontour": [
           {
            "colorbar": {
             "outlinewidth": 0,
             "ticks": ""
            },
            "colorscale": [
             [
              0,
              "#0d0887"
             ],
             [
              0.1111111111111111,
              "#46039f"
             ],
             [
              0.2222222222222222,
              "#7201a8"
             ],
             [
              0.3333333333333333,
              "#9c179e"
             ],
             [
              0.4444444444444444,
              "#bd3786"
             ],
             [
              0.5555555555555556,
              "#d8576b"
             ],
             [
              0.6666666666666666,
              "#ed7953"
             ],
             [
              0.7777777777777778,
              "#fb9f3a"
             ],
             [
              0.8888888888888888,
              "#fdca26"
             ],
             [
              1,
              "#f0f921"
             ]
            ],
            "type": "histogram2dcontour"
           }
          ],
          "mesh3d": [
           {
            "colorbar": {
             "outlinewidth": 0,
             "ticks": ""
            },
            "type": "mesh3d"
           }
          ],
          "parcoords": [
           {
            "line": {
             "colorbar": {
              "outlinewidth": 0,
              "ticks": ""
             }
            },
            "type": "parcoords"
           }
          ],
          "pie": [
           {
            "automargin": true,
            "type": "pie"
           }
          ],
          "scatter": [
           {
            "fillpattern": {
             "fillmode": "overlay",
             "size": 10,
             "solidity": 0.2
            },
            "type": "scatter"
           }
          ],
          "scatter3d": [
           {
            "line": {
             "colorbar": {
              "outlinewidth": 0,
              "ticks": ""
             }
            },
            "marker": {
             "colorbar": {
              "outlinewidth": 0,
              "ticks": ""
             }
            },
            "type": "scatter3d"
           }
          ],
          "scattercarpet": [
           {
            "marker": {
             "colorbar": {
              "outlinewidth": 0,
              "ticks": ""
             }
            },
            "type": "scattercarpet"
           }
          ],
          "scattergeo": [
           {
            "marker": {
             "colorbar": {
              "outlinewidth": 0,
              "ticks": ""
             }
            },
            "type": "scattergeo"
           }
          ],
          "scattergl": [
           {
            "marker": {
             "colorbar": {
              "outlinewidth": 0,
              "ticks": ""
             }
            },
            "type": "scattergl"
           }
          ],
          "scattermapbox": [
           {
            "marker": {
             "colorbar": {
              "outlinewidth": 0,
              "ticks": ""
             }
            },
            "type": "scattermapbox"
           }
          ],
          "scatterpolar": [
           {
            "marker": {
             "colorbar": {
              "outlinewidth": 0,
              "ticks": ""
             }
            },
            "type": "scatterpolar"
           }
          ],
          "scatterpolargl": [
           {
            "marker": {
             "colorbar": {
              "outlinewidth": 0,
              "ticks": ""
             }
            },
            "type": "scatterpolargl"
           }
          ],
          "scatterternary": [
           {
            "marker": {
             "colorbar": {
              "outlinewidth": 0,
              "ticks": ""
             }
            },
            "type": "scatterternary"
           }
          ],
          "surface": [
           {
            "colorbar": {
             "outlinewidth": 0,
             "ticks": ""
            },
            "colorscale": [
             [
              0,
              "#0d0887"
             ],
             [
              0.1111111111111111,
              "#46039f"
             ],
             [
              0.2222222222222222,
              "#7201a8"
             ],
             [
              0.3333333333333333,
              "#9c179e"
             ],
             [
              0.4444444444444444,
              "#bd3786"
             ],
             [
              0.5555555555555556,
              "#d8576b"
             ],
             [
              0.6666666666666666,
              "#ed7953"
             ],
             [
              0.7777777777777778,
              "#fb9f3a"
             ],
             [
              0.8888888888888888,
              "#fdca26"
             ],
             [
              1,
              "#f0f921"
             ]
            ],
            "type": "surface"
           }
          ],
          "table": [
           {
            "cells": {
             "fill": {
              "color": "#EBF0F8"
             },
             "line": {
              "color": "white"
             }
            },
            "header": {
             "fill": {
              "color": "#C8D4E3"
             },
             "line": {
              "color": "white"
             }
            },
            "type": "table"
           }
          ]
         },
         "layout": {
          "annotationdefaults": {
           "arrowcolor": "#2a3f5f",
           "arrowhead": 0,
           "arrowwidth": 1
          },
          "autotypenumbers": "strict",
          "coloraxis": {
           "colorbar": {
            "outlinewidth": 0,
            "ticks": ""
           }
          },
          "colorscale": {
           "diverging": [
            [
             0,
             "#8e0152"
            ],
            [
             0.1,
             "#c51b7d"
            ],
            [
             0.2,
             "#de77ae"
            ],
            [
             0.3,
             "#f1b6da"
            ],
            [
             0.4,
             "#fde0ef"
            ],
            [
             0.5,
             "#f7f7f7"
            ],
            [
             0.6,
             "#e6f5d0"
            ],
            [
             0.7,
             "#b8e186"
            ],
            [
             0.8,
             "#7fbc41"
            ],
            [
             0.9,
             "#4d9221"
            ],
            [
             1,
             "#276419"
            ]
           ],
           "sequential": [
            [
             0,
             "#0d0887"
            ],
            [
             0.1111111111111111,
             "#46039f"
            ],
            [
             0.2222222222222222,
             "#7201a8"
            ],
            [
             0.3333333333333333,
             "#9c179e"
            ],
            [
             0.4444444444444444,
             "#bd3786"
            ],
            [
             0.5555555555555556,
             "#d8576b"
            ],
            [
             0.6666666666666666,
             "#ed7953"
            ],
            [
             0.7777777777777778,
             "#fb9f3a"
            ],
            [
             0.8888888888888888,
             "#fdca26"
            ],
            [
             1,
             "#f0f921"
            ]
           ],
           "sequentialminus": [
            [
             0,
             "#0d0887"
            ],
            [
             0.1111111111111111,
             "#46039f"
            ],
            [
             0.2222222222222222,
             "#7201a8"
            ],
            [
             0.3333333333333333,
             "#9c179e"
            ],
            [
             0.4444444444444444,
             "#bd3786"
            ],
            [
             0.5555555555555556,
             "#d8576b"
            ],
            [
             0.6666666666666666,
             "#ed7953"
            ],
            [
             0.7777777777777778,
             "#fb9f3a"
            ],
            [
             0.8888888888888888,
             "#fdca26"
            ],
            [
             1,
             "#f0f921"
            ]
           ]
          },
          "colorway": [
           "#636efa",
           "#EF553B",
           "#00cc96",
           "#ab63fa",
           "#FFA15A",
           "#19d3f3",
           "#FF6692",
           "#B6E880",
           "#FF97FF",
           "#FECB52"
          ],
          "font": {
           "color": "#2a3f5f"
          },
          "geo": {
           "bgcolor": "white",
           "lakecolor": "white",
           "landcolor": "#E5ECF6",
           "showlakes": true,
           "showland": true,
           "subunitcolor": "white"
          },
          "hoverlabel": {
           "align": "left"
          },
          "hovermode": "closest",
          "mapbox": {
           "style": "light"
          },
          "paper_bgcolor": "white",
          "plot_bgcolor": "#E5ECF6",
          "polar": {
           "angularaxis": {
            "gridcolor": "white",
            "linecolor": "white",
            "ticks": ""
           },
           "bgcolor": "#E5ECF6",
           "radialaxis": {
            "gridcolor": "white",
            "linecolor": "white",
            "ticks": ""
           }
          },
          "scene": {
           "xaxis": {
            "backgroundcolor": "#E5ECF6",
            "gridcolor": "white",
            "gridwidth": 2,
            "linecolor": "white",
            "showbackground": true,
            "ticks": "",
            "zerolinecolor": "white"
           },
           "yaxis": {
            "backgroundcolor": "#E5ECF6",
            "gridcolor": "white",
            "gridwidth": 2,
            "linecolor": "white",
            "showbackground": true,
            "ticks": "",
            "zerolinecolor": "white"
           },
           "zaxis": {
            "backgroundcolor": "#E5ECF6",
            "gridcolor": "white",
            "gridwidth": 2,
            "linecolor": "white",
            "showbackground": true,
            "ticks": "",
            "zerolinecolor": "white"
           }
          },
          "shapedefaults": {
           "line": {
            "color": "#2a3f5f"
           }
          },
          "ternary": {
           "aaxis": {
            "gridcolor": "white",
            "linecolor": "white",
            "ticks": ""
           },
           "baxis": {
            "gridcolor": "white",
            "linecolor": "white",
            "ticks": ""
           },
           "bgcolor": "#E5ECF6",
           "caxis": {
            "gridcolor": "white",
            "linecolor": "white",
            "ticks": ""
           }
          },
          "title": {
           "x": 0.05
          },
          "xaxis": {
           "automargin": true,
           "gridcolor": "white",
           "linecolor": "white",
           "ticks": "",
           "title": {
            "standoff": 15
           },
           "zerolinecolor": "white",
           "zerolinewidth": 2
          },
          "yaxis": {
           "automargin": true,
           "gridcolor": "white",
           "linecolor": "white",
           "ticks": "",
           "title": {
            "standoff": 15
           },
           "zerolinecolor": "white",
           "zerolinewidth": 2
          }
         }
        },
        "title": {
         "text": "SID: 8"
        },
        "width": 500,
        "xaxis": {
         "autorange": true,
         "range": [
          -0.5,
          4.5
         ],
         "showgrid": false,
         "side": "top",
         "tickangle": 90,
         "type": "category"
        },
        "yaxis": {
         "autorange": true,
         "range": [
          4.5,
          -0.5
         ],
         "showgrid": false,
         "type": "category"
        }
       }
      },
      "image/png": "[encoded data removed]"
     },
     "metadata": {},
     "output_type": "display_data"
    }
   ],
   "source": [
    "bnm.plot_sid_matrix()"
   ]
  },
  {
   "cell_type": "markdown",
   "id": "1b63fe93-593b-4e1c-879f-c791ab900fde",
   "metadata": {},
   "source": [
    "**Conclusion**:  \n",
    "This example shows that two graphs can have equal $\\text{SHD}$ but different $\\text{SID}$, highlighting how $\\text{SID}$ captures incorrect causal effects rather than structural mismatches alone."
   ]
  },
  {
   "cell_type": "markdown",
   "id": "fd3f4b55-15dd-42eb-95b8-b7d53e1332d5",
   "metadata": {},
   "source": [
    "## Use Case 2: Comparing DAG with DAGs and CPDAG — SID Bounds\n",
    "\n",
    "In this example, we illustrate how the $\\text{SID}$ behaves when comparing a true DAG to:\n",
    "- multiple estimated DAGs within a Markov equivalence class\n",
    "- their corresponding CPDAG (Completed Partially Directed Acyclic Graph)\n",
    "\n",
    "This use case demonstrates how $\\text{SID}$ can be used to compute lower and upper bounds when the estimated structure is partially undirected.\n",
    "\n",
    "We use the same true DAG in all comparisons, but vary the estimated structures.\n"
   ]
  },
  {
   "cell_type": "markdown",
   "id": "c4d2dfec-9869-4018-826f-73d6ff0ec884",
   "metadata": {},
   "source": [
    "### Description of Generated Graphs\n",
    "\n",
    "The following four graphs are defined over the node set $[X_1, X_2, X_3, X_4]$, and will be used to demonstrate the behavior of SID in both DAG-to-DAG and DAG-to-CPDAG comparisons:\n",
    "\n",
    "- **DAG**: This graph represents the ground truth from which intervention distributions will be computed.\n",
    "\n",
    "- **DAG1**: An estimated DAG with structural errors.  \n",
    " \n",
    "- **DAG2**: Another estimated DAG, Markov equivalent to **DAG1**\n",
    "\n",
    "- **CPDAG**: The completed partially directed acyclic graph representing the Markov equivalence class of DAG1 and DAG2.  \n",
    "  - It contains both directed and undirected edges indicating uncertainty in edge orientation.  \n",
    "  - SID lower and upper bounds are computed based on all DAGs consistent with this CPDAG.\n",
    "\n",
    "These structures serve as a controlled illustration of how SID captures interventional discrepancies, while SHD cannot distinguish between equally distant graphs with different causal implications.\n"
   ]
  },
  {
   "cell_type": "code",
   "execution_count": 67,
   "id": "5a6c8c91-294a-4431-981c-d382e02dbf13",
   "metadata": {},
   "outputs": [],
   "source": [
    "nodes = ['X1', 'X2', 'X3', 'X4']\n",
    "\n",
    "DAG = np.array([[0, 0, 0, 0], \n",
    "                [0, 0, 1, 0], \n",
    "                [1, 0, 0, 0], \n",
    "                [1, 0, 1, 0]])\n",
    "\n",
    "DAG1 = np.array([[0, 1, 0, 0], \n",
    "                 [0, 0, 1, 0], \n",
    "                 [0, 0, 0, 0], \n",
    "                 [0, 0, 1, 0]])\n",
    "\n",
    "DAG2 = np.array([[0, 0, 0, 0], \n",
    "                 [1, 0, 1, 0], \n",
    "                 [0, 0, 0, 0], \n",
    "                 [0, 0, 1, 0]])\n",
    "\n",
    "CPDAG = np.array([[0, 1, 0, 0], \n",
    "                  [1, 0, 1, 0], \n",
    "                  [0, 0, 0, 0], \n",
    "                  [0, 0, 1, 0]])"
   ]
  },
  {
   "cell_type": "markdown",
   "id": "44847840-a8bb-4b91-a5b9-56ad290c8667",
   "metadata": {},
   "source": [
    "### Comparison 1: True DAG vs. Estimated DAG 1"
   ]
  },
  {
   "cell_type": "code",
   "execution_count": 68,
   "id": "899c4294-0575-4b3b-a99a-d2162ebd9dae",
   "metadata": {},
   "outputs": [
    {
     "data": {
      "text/html": [
       "\n",
       "        <div style=\"display: flex; gap: 60px;\">\n",
       "            <div style=\"text-align: center;\">\n",
       "                <h3>True DAG</h3>\n",
       "                <?xml version=\"1.0\" encoding=\"UTF-8\" standalone=\"no\"?>\r\n",
       "<!DOCTYPE svg PUBLIC \"-//W3C//DTD SVG 1.1//EN\"\r\n",
       " \"http://www.w3.org/Graphics/SVG/1.1/DTD/svg11.dtd\">\r\n",
       "<!-- Generated by graphviz version 8.0.5 (20230430.1635)\r\n",
       " -->\r\n",
       "<!-- Title: True DAG Pages: 1 -->\r\n",
       "<svg width=\"134pt\" height=\"188pt\"\r\n",
       " viewBox=\"0.00 0.00 134.00 188.00\" xmlns=\"http://www.w3.org/2000/svg\" xmlns:xlink=\"http://www.w3.org/1999/xlink\">\r\n",
       "<g id=\"graph0\" class=\"graph\" transform=\"scale(1 1) rotate(0) translate(4 184)\">\r\n",
       "<title>True DAG</title>\r\n",
       "<polygon fill=\"white\" stroke=\"none\" points=\"-4,4 -4,-184 130,-184 130,4 -4,4\"/>\r\n",
       "<!-- X1 -->\r\n",
       "<g id=\"node1\" class=\"node\">\r\n",
       "<title>X1</title>\r\n",
       "<ellipse fill=\"none\" stroke=\"black\" cx=\"71\" cy=\"-18\" rx=\"27\" ry=\"18\"/>\r\n",
       "<text text-anchor=\"middle\" x=\"71\" y=\"-12.57\" font-family=\"Times New Roman,serif\" font-size=\"14.00\">X1</text>\r\n",
       "</g>\r\n",
       "<!-- X2 -->\r\n",
       "<g id=\"node2\" class=\"node\">\r\n",
       "<title>X2</title>\r\n",
       "<ellipse fill=\"none\" stroke=\"black\" cx=\"27\" cy=\"-162\" rx=\"27\" ry=\"18\"/>\r\n",
       "<text text-anchor=\"middle\" x=\"27\" y=\"-156.57\" font-family=\"Times New Roman,serif\" font-size=\"14.00\">X2</text>\r\n",
       "</g>\r\n",
       "<!-- X3 -->\r\n",
       "<g id=\"node3\" class=\"node\">\r\n",
       "<title>X3</title>\r\n",
       "<ellipse fill=\"none\" stroke=\"black\" cx=\"44\" cy=\"-90\" rx=\"27\" ry=\"18\"/>\r\n",
       "<text text-anchor=\"middle\" x=\"44\" y=\"-84.58\" font-family=\"Times New Roman,serif\" font-size=\"14.00\">X3</text>\r\n",
       "</g>\r\n",
       "<!-- X2&#45;&gt;X3 -->\r\n",
       "<g id=\"edge1\" class=\"edge\">\r\n",
       "<title>X2&#45;&gt;X3</title>\r\n",
       "<path fill=\"none\" stroke=\"crimson\" d=\"M31.12,-144.05C32.95,-136.52 35.15,-127.44 37.22,-118.94\"/>\r\n",
       "<polygon fill=\"crimson\" stroke=\"crimson\" points=\"40.85,-119.82 39.8,-109.28 34.04,-118.17 40.85,-119.82\"/>\r\n",
       "</g>\r\n",
       "<!-- X3&#45;&gt;X1 -->\r\n",
       "<g id=\"edge2\" class=\"edge\">\r\n",
       "<title>X3&#45;&gt;X1</title>\r\n",
       "<path fill=\"none\" stroke=\"black\" d=\"M50.54,-72.05C53.55,-64.23 57.21,-54.75 60.59,-45.98\"/>\r\n",
       "<polygon fill=\"black\" stroke=\"black\" points=\"64.19,-47.38 64.52,-36.79 57.66,-44.86 64.19,-47.38\"/>\r\n",
       "</g>\r\n",
       "<!-- X4 -->\r\n",
       "<g id=\"node4\" class=\"node\">\r\n",
       "<title>X4</title>\r\n",
       "<ellipse fill=\"none\" stroke=\"black\" cx=\"99\" cy=\"-162\" rx=\"27\" ry=\"18\"/>\r\n",
       "<text text-anchor=\"middle\" x=\"99\" y=\"-156.57\" font-family=\"Times New Roman,serif\" font-size=\"14.00\">X4</text>\r\n",
       "</g>\r\n",
       "<!-- X4&#45;&gt;X1 -->\r\n",
       "<g id=\"edge3\" class=\"edge\">\r\n",
       "<title>X4&#45;&gt;X1</title>\r\n",
       "<path fill=\"none\" stroke=\"black\" d=\"M95.62,-143.87C90.87,-119.78 82.16,-75.6 76.48,-46.77\"/>\r\n",
       "<polygon fill=\"black\" stroke=\"black\" points=\"79.76,-46.32 74.39,-37.19 72.89,-47.68 79.76,-46.32\"/>\r\n",
       "</g>\r\n",
       "<!-- X4&#45;&gt;X3 -->\r\n",
       "<g id=\"edge4\" class=\"edge\">\r\n",
       "<title>X4&#45;&gt;X3</title>\r\n",
       "<path fill=\"none\" stroke=\"crimson\" d=\"M86.79,-145.46C79.74,-136.49 70.73,-125.02 62.79,-114.92\"/>\r\n",
       "<polygon fill=\"crimson\" stroke=\"crimson\" points=\"65.1,-113.19 56.17,-107.49 59.6,-117.52 65.1,-113.19\"/>\r\n",
       "</g>\r\n",
       "</g>\r\n",
       "</svg>\r\n",
       "\n",
       "            </div>\n",
       "            <div style=\"text-align: center;\">\n",
       "                <h3>Estimated DAG 1</h3>\n",
       "                <?xml version=\"1.0\" encoding=\"UTF-8\" standalone=\"no\"?>\r\n",
       "<!DOCTYPE svg PUBLIC \"-//W3C//DTD SVG 1.1//EN\"\r\n",
       " \"http://www.w3.org/Graphics/SVG/1.1/DTD/svg11.dtd\">\r\n",
       "<!-- Generated by graphviz version 8.0.5 (20230430.1635)\r\n",
       " -->\r\n",
       "<!-- Title: Estimated DAG 1 Pages: 1 -->\r\n",
       "<svg width=\"134pt\" height=\"188pt\"\r\n",
       " viewBox=\"0.00 0.00 134.00 188.00\" xmlns=\"http://www.w3.org/2000/svg\" xmlns:xlink=\"http://www.w3.org/1999/xlink\">\r\n",
       "<g id=\"graph0\" class=\"graph\" transform=\"scale(1 1) rotate(0) translate(4 184)\">\r\n",
       "<title>Estimated DAG 1</title>\r\n",
       "<polygon fill=\"white\" stroke=\"none\" points=\"-4,4 -4,-184 130,-184 130,4 -4,4\"/>\r\n",
       "<!-- X1 -->\r\n",
       "<g id=\"node1\" class=\"node\">\r\n",
       "<title>X1</title>\r\n",
       "<ellipse fill=\"none\" stroke=\"black\" cx=\"27\" cy=\"-162\" rx=\"27\" ry=\"18\"/>\r\n",
       "<text text-anchor=\"middle\" x=\"27\" y=\"-156.57\" font-family=\"Times New Roman,serif\" font-size=\"14.00\">X1</text>\r\n",
       "</g>\r\n",
       "<!-- X2 -->\r\n",
       "<g id=\"node2\" class=\"node\">\r\n",
       "<title>X2</title>\r\n",
       "<ellipse fill=\"none\" stroke=\"black\" cx=\"27\" cy=\"-90\" rx=\"27\" ry=\"18\"/>\r\n",
       "<text text-anchor=\"middle\" x=\"27\" y=\"-84.58\" font-family=\"Times New Roman,serif\" font-size=\"14.00\">X2</text>\r\n",
       "</g>\r\n",
       "<!-- X1&#45;&gt;X2 -->\r\n",
       "<g id=\"edge1\" class=\"edge\">\r\n",
       "<title>X1&#45;&gt;X2</title>\r\n",
       "<path fill=\"none\" stroke=\"black\" d=\"M27,-143.7C27,-136.24 27,-127.32 27,-118.97\"/>\r\n",
       "<polygon fill=\"black\" stroke=\"black\" points=\"30.5,-119.1 27,-109.1 23.5,-119.1 30.5,-119.1\"/>\r\n",
       "</g>\r\n",
       "<!-- X3 -->\r\n",
       "<g id=\"node3\" class=\"node\">\r\n",
       "<title>X3</title>\r\n",
       "<ellipse fill=\"none\" stroke=\"black\" cx=\"63\" cy=\"-18\" rx=\"27\" ry=\"18\"/>\r\n",
       "<text text-anchor=\"middle\" x=\"63\" y=\"-12.57\" font-family=\"Times New Roman,serif\" font-size=\"14.00\">X3</text>\r\n",
       "</g>\r\n",
       "<!-- X2&#45;&gt;X3 -->\r\n",
       "<g id=\"edge2\" class=\"edge\">\r\n",
       "<title>X2&#45;&gt;X3</title>\r\n",
       "<path fill=\"none\" stroke=\"crimson\" d=\"M35.35,-72.76C39.62,-64.46 44.92,-54.15 49.73,-44.79\"/>\r\n",
       "<polygon fill=\"crimson\" stroke=\"crimson\" points=\"53.23,-46.64 54.7,-36.15 47.01,-43.44 53.23,-46.64\"/>\r\n",
       "</g>\r\n",
       "<!-- X4 -->\r\n",
       "<g id=\"node4\" class=\"node\">\r\n",
       "<title>X4</title>\r\n",
       "<ellipse fill=\"none\" stroke=\"black\" cx=\"99\" cy=\"-90\" rx=\"27\" ry=\"18\"/>\r\n",
       "<text text-anchor=\"middle\" x=\"99\" y=\"-84.58\" font-family=\"Times New Roman,serif\" font-size=\"14.00\">X4</text>\r\n",
       "</g>\r\n",
       "<!-- X4&#45;&gt;X3 -->\r\n",
       "<g id=\"edge3\" class=\"edge\">\r\n",
       "<title>X4&#45;&gt;X3</title>\r\n",
       "<path fill=\"none\" stroke=\"crimson\" d=\"M90.65,-72.76C86.38,-64.46 81.08,-54.15 76.27,-44.79\"/>\r\n",
       "<polygon fill=\"crimson\" stroke=\"crimson\" points=\"78.99,-43.44 71.3,-36.15 72.77,-46.64 78.99,-43.44\"/>\r\n",
       "</g>\r\n",
       "</g>\r\n",
       "</svg>\r\n",
       "\n",
       "            </div>\n",
       "        </div>\n",
       "        "
      ],
      "text/plain": [
       "<IPython.core.display.HTML object>"
      ]
     },
     "metadata": {},
     "output_type": "display_data"
    },
    {
     "name": "stdout",
     "output_type": "stream",
     "text": [
      "            metric metric_value\n",
      "0              shd            3\n",
      "1              sid          6.0\n",
      "2  sid_lower_bound          6.0\n",
      "3  sid_upper_bound          6.0\n",
      "\n",
      "SID Incorrect Causal Effects\n",
      "[[0. 1. 1. 1.]\n",
      " [1. 0. 1. 1.]\n",
      " [0. 0. 0. 0.]\n",
      " [0. 0. 0. 0.]]\n"
     ]
    }
   ],
   "source": [
    "bnm = BNMetrics(DAG, DAG1, node_names=nodes)\n",
    "bnm.compare_two_bn(nodes=['All'], name1='True DAG', name2='Estimated DAG 1')\n",
    "print((bnm.compare_df(descriptive_metrics='', comparison_metrics=['shd', 'sid'])\n",
    "       .query(\"node_name == 'All'\")\n",
    "       .drop(columns='node_name')\n",
    "       .T\n",
    "       .reset_index()\n",
    "       .rename(columns={0:'metric_value', 'index': 'metric'})))\n",
    "print('\\nSID Incorrect Causal Effects')\n",
    "print(bnm.sid(nodes=['All'], output=False)['incorrect_mat'])"
   ]
  },
  {
   "cell_type": "markdown",
   "id": "73294d61-0097-40db-80f4-4f52e68de08b",
   "metadata": {},
   "source": [
    "\n",
    "- $\\text{SHD} = 3$\n",
    "- $\\text{SID} = 6$\n",
    "- SID matrix shows multiple incorrect causal effects, especially for interventions on $X_1$ and $X_2$\n",
    "\n",
    "### Comparison 2: True DAG vs. Estimated DAG 2"
   ]
  },
  {
   "cell_type": "code",
   "execution_count": 69,
   "id": "67cfba33-c6b0-41e9-8202-f5f3894a4fa1",
   "metadata": {},
   "outputs": [
    {
     "data": {
      "text/html": [
       "\n",
       "        <div style=\"display: flex; gap: 60px;\">\n",
       "            <div style=\"text-align: center;\">\n",
       "                <h3>True DAG</h3>\n",
       "                <?xml version=\"1.0\" encoding=\"UTF-8\" standalone=\"no\"?>\r\n",
       "<!DOCTYPE svg PUBLIC \"-//W3C//DTD SVG 1.1//EN\"\r\n",
       " \"http://www.w3.org/Graphics/SVG/1.1/DTD/svg11.dtd\">\r\n",
       "<!-- Generated by graphviz version 8.0.5 (20230430.1635)\r\n",
       " -->\r\n",
       "<!-- Title: True DAG Pages: 1 -->\r\n",
       "<svg width=\"134pt\" height=\"188pt\"\r\n",
       " viewBox=\"0.00 0.00 134.00 188.00\" xmlns=\"http://www.w3.org/2000/svg\" xmlns:xlink=\"http://www.w3.org/1999/xlink\">\r\n",
       "<g id=\"graph0\" class=\"graph\" transform=\"scale(1 1) rotate(0) translate(4 184)\">\r\n",
       "<title>True DAG</title>\r\n",
       "<polygon fill=\"white\" stroke=\"none\" points=\"-4,4 -4,-184 130,-184 130,4 -4,4\"/>\r\n",
       "<!-- X1 -->\r\n",
       "<g id=\"node1\" class=\"node\">\r\n",
       "<title>X1</title>\r\n",
       "<ellipse fill=\"none\" stroke=\"black\" cx=\"71\" cy=\"-18\" rx=\"27\" ry=\"18\"/>\r\n",
       "<text text-anchor=\"middle\" x=\"71\" y=\"-12.57\" font-family=\"Times New Roman,serif\" font-size=\"14.00\">X1</text>\r\n",
       "</g>\r\n",
       "<!-- X2 -->\r\n",
       "<g id=\"node2\" class=\"node\">\r\n",
       "<title>X2</title>\r\n",
       "<ellipse fill=\"none\" stroke=\"black\" cx=\"27\" cy=\"-162\" rx=\"27\" ry=\"18\"/>\r\n",
       "<text text-anchor=\"middle\" x=\"27\" y=\"-156.57\" font-family=\"Times New Roman,serif\" font-size=\"14.00\">X2</text>\r\n",
       "</g>\r\n",
       "<!-- X3 -->\r\n",
       "<g id=\"node3\" class=\"node\">\r\n",
       "<title>X3</title>\r\n",
       "<ellipse fill=\"none\" stroke=\"black\" cx=\"44\" cy=\"-90\" rx=\"27\" ry=\"18\"/>\r\n",
       "<text text-anchor=\"middle\" x=\"44\" y=\"-84.58\" font-family=\"Times New Roman,serif\" font-size=\"14.00\">X3</text>\r\n",
       "</g>\r\n",
       "<!-- X2&#45;&gt;X3 -->\r\n",
       "<g id=\"edge1\" class=\"edge\">\r\n",
       "<title>X2&#45;&gt;X3</title>\r\n",
       "<path fill=\"none\" stroke=\"crimson\" d=\"M31.12,-144.05C32.95,-136.52 35.15,-127.44 37.22,-118.94\"/>\r\n",
       "<polygon fill=\"crimson\" stroke=\"crimson\" points=\"40.85,-119.82 39.8,-109.28 34.04,-118.17 40.85,-119.82\"/>\r\n",
       "</g>\r\n",
       "<!-- X3&#45;&gt;X1 -->\r\n",
       "<g id=\"edge2\" class=\"edge\">\r\n",
       "<title>X3&#45;&gt;X1</title>\r\n",
       "<path fill=\"none\" stroke=\"black\" d=\"M50.54,-72.05C53.55,-64.23 57.21,-54.75 60.59,-45.98\"/>\r\n",
       "<polygon fill=\"black\" stroke=\"black\" points=\"64.19,-47.38 64.52,-36.79 57.66,-44.86 64.19,-47.38\"/>\r\n",
       "</g>\r\n",
       "<!-- X4 -->\r\n",
       "<g id=\"node4\" class=\"node\">\r\n",
       "<title>X4</title>\r\n",
       "<ellipse fill=\"none\" stroke=\"black\" cx=\"99\" cy=\"-162\" rx=\"27\" ry=\"18\"/>\r\n",
       "<text text-anchor=\"middle\" x=\"99\" y=\"-156.57\" font-family=\"Times New Roman,serif\" font-size=\"14.00\">X4</text>\r\n",
       "</g>\r\n",
       "<!-- X4&#45;&gt;X1 -->\r\n",
       "<g id=\"edge3\" class=\"edge\">\r\n",
       "<title>X4&#45;&gt;X1</title>\r\n",
       "<path fill=\"none\" stroke=\"black\" d=\"M95.62,-143.87C90.87,-119.78 82.16,-75.6 76.48,-46.77\"/>\r\n",
       "<polygon fill=\"black\" stroke=\"black\" points=\"79.76,-46.32 74.39,-37.19 72.89,-47.68 79.76,-46.32\"/>\r\n",
       "</g>\r\n",
       "<!-- X4&#45;&gt;X3 -->\r\n",
       "<g id=\"edge4\" class=\"edge\">\r\n",
       "<title>X4&#45;&gt;X3</title>\r\n",
       "<path fill=\"none\" stroke=\"crimson\" d=\"M86.79,-145.46C79.74,-136.49 70.73,-125.02 62.79,-114.92\"/>\r\n",
       "<polygon fill=\"crimson\" stroke=\"crimson\" points=\"65.1,-113.19 56.17,-107.49 59.6,-117.52 65.1,-113.19\"/>\r\n",
       "</g>\r\n",
       "</g>\r\n",
       "</svg>\r\n",
       "\n",
       "            </div>\n",
       "            <div style=\"text-align: center;\">\n",
       "                <h3>Estimated DAG 2</h3>\n",
       "                <?xml version=\"1.0\" encoding=\"UTF-8\" standalone=\"no\"?>\r\n",
       "<!DOCTYPE svg PUBLIC \"-//W3C//DTD SVG 1.1//EN\"\r\n",
       " \"http://www.w3.org/Graphics/SVG/1.1/DTD/svg11.dtd\">\r\n",
       "<!-- Generated by graphviz version 8.0.5 (20230430.1635)\r\n",
       " -->\r\n",
       "<!-- Title: Estimated DAG 2 Pages: 1 -->\r\n",
       "<svg width=\"134pt\" height=\"116pt\"\r\n",
       " viewBox=\"0.00 0.00 134.00 116.00\" xmlns=\"http://www.w3.org/2000/svg\" xmlns:xlink=\"http://www.w3.org/1999/xlink\">\r\n",
       "<g id=\"graph0\" class=\"graph\" transform=\"scale(1 1) rotate(0) translate(4 112)\">\r\n",
       "<title>Estimated DAG 2</title>\r\n",
       "<polygon fill=\"white\" stroke=\"none\" points=\"-4,4 -4,-112 130,-112 130,4 -4,4\"/>\r\n",
       "<!-- X1 -->\r\n",
       "<g id=\"node1\" class=\"node\">\r\n",
       "<title>X1</title>\r\n",
       "<ellipse fill=\"none\" stroke=\"black\" cx=\"27\" cy=\"-18\" rx=\"27\" ry=\"18\"/>\r\n",
       "<text text-anchor=\"middle\" x=\"27\" y=\"-12.57\" font-family=\"Times New Roman,serif\" font-size=\"14.00\">X1</text>\r\n",
       "</g>\r\n",
       "<!-- X2 -->\r\n",
       "<g id=\"node2\" class=\"node\">\r\n",
       "<title>X2</title>\r\n",
       "<ellipse fill=\"none\" stroke=\"black\" cx=\"27\" cy=\"-90\" rx=\"27\" ry=\"18\"/>\r\n",
       "<text text-anchor=\"middle\" x=\"27\" y=\"-84.58\" font-family=\"Times New Roman,serif\" font-size=\"14.00\">X2</text>\r\n",
       "</g>\r\n",
       "<!-- X2&#45;&gt;X1 -->\r\n",
       "<g id=\"edge1\" class=\"edge\">\r\n",
       "<title>X2&#45;&gt;X1</title>\r\n",
       "<path fill=\"none\" stroke=\"black\" d=\"M27,-71.7C27,-64.24 27,-55.32 27,-46.97\"/>\r\n",
       "<polygon fill=\"black\" stroke=\"black\" points=\"30.5,-47.1 27,-37.1 23.5,-47.1 30.5,-47.1\"/>\r\n",
       "</g>\r\n",
       "<!-- X3 -->\r\n",
       "<g id=\"node3\" class=\"node\">\r\n",
       "<title>X3</title>\r\n",
       "<ellipse fill=\"none\" stroke=\"black\" cx=\"99\" cy=\"-18\" rx=\"27\" ry=\"18\"/>\r\n",
       "<text text-anchor=\"middle\" x=\"99\" y=\"-12.57\" font-family=\"Times New Roman,serif\" font-size=\"14.00\">X3</text>\r\n",
       "</g>\r\n",
       "<!-- X2&#45;&gt;X3 -->\r\n",
       "<g id=\"edge2\" class=\"edge\">\r\n",
       "<title>X2&#45;&gt;X3</title>\r\n",
       "<path fill=\"none\" stroke=\"crimson\" d=\"M41.92,-74.5C51.86,-64.83 65.12,-51.94 76.35,-41.02\"/>\r\n",
       "<polygon fill=\"crimson\" stroke=\"crimson\" points=\"78.37,-43.97 83.1,-34.49 73.49,-38.95 78.37,-43.97\"/>\r\n",
       "</g>\r\n",
       "<!-- X4 -->\r\n",
       "<g id=\"node4\" class=\"node\">\r\n",
       "<title>X4</title>\r\n",
       "<ellipse fill=\"none\" stroke=\"black\" cx=\"99\" cy=\"-90\" rx=\"27\" ry=\"18\"/>\r\n",
       "<text text-anchor=\"middle\" x=\"99\" y=\"-84.58\" font-family=\"Times New Roman,serif\" font-size=\"14.00\">X4</text>\r\n",
       "</g>\r\n",
       "<!-- X4&#45;&gt;X3 -->\r\n",
       "<g id=\"edge3\" class=\"edge\">\r\n",
       "<title>X4&#45;&gt;X3</title>\r\n",
       "<path fill=\"none\" stroke=\"crimson\" d=\"M99,-71.7C99,-64.24 99,-55.32 99,-46.97\"/>\r\n",
       "<polygon fill=\"crimson\" stroke=\"crimson\" points=\"102.5,-47.1 99,-37.1 95.5,-47.1 102.5,-47.1\"/>\r\n",
       "</g>\r\n",
       "</g>\r\n",
       "</svg>\r\n",
       "\n",
       "            </div>\n",
       "        </div>\n",
       "        "
      ],
      "text/plain": [
       "<IPython.core.display.HTML object>"
      ]
     },
     "metadata": {},
     "output_type": "display_data"
    },
    {
     "name": "stdout",
     "output_type": "stream",
     "text": [
      "            metric metric_value\n",
      "0              shd            3\n",
      "1              sid          2.0\n",
      "2  sid_lower_bound          2.0\n",
      "3  sid_upper_bound          2.0\n",
      "\n",
      "SID Incorrect Causal Effects\n",
      "[[0. 0. 1. 1.]\n",
      " [0. 0. 0. 0.]\n",
      " [0. 0. 0. 0.]\n",
      " [0. 0. 0. 0.]]\n"
     ]
    }
   ],
   "source": [
    "bnm = BNMetrics(DAG, DAG2, node_names=nodes)\n",
    "bnm.compare_two_bn(nodes=['All'], name1='True DAG', name2='Estimated DAG 2')\n",
    "print((bnm.compare_df(descriptive_metrics='', comparison_metrics=['shd', 'sid'])\n",
    "       .query(\"node_name == 'All'\")\n",
    "       .drop(columns='node_name')\n",
    "       .T\n",
    "       .reset_index()\n",
    "       .rename(columns={0:'metric_value', 'index': 'metric'})))\n",
    "print('\\nSID Incorrect Causal Effects')\n",
    "print(bnm.sid(nodes=['All'], output=False)['incorrect_mat'])"
   ]
  },
  {
   "cell_type": "markdown",
   "id": "23b74aa6-fb8e-47dc-9569-6caec44d148f",
   "metadata": {},
   "source": [
    "- $\\text{SHD} = 3$\n",
    "- $\\text{SID} = 2$  \n",
    "- Fewer incorrect interventions than DAG 1\n",
    "\n",
    "### Comparison 3: True DAG vs. Estimated CPDAG"
   ]
  },
  {
   "cell_type": "code",
   "execution_count": 70,
   "id": "ee6e5860-c913-4b81-8099-7666d45365e1",
   "metadata": {},
   "outputs": [
    {
     "data": {
      "text/html": [
       "\n",
       "        <div style=\"display: flex; gap: 60px;\">\n",
       "            <div style=\"text-align: center;\">\n",
       "                <h3>True DAG</h3>\n",
       "                <?xml version=\"1.0\" encoding=\"UTF-8\" standalone=\"no\"?>\r\n",
       "<!DOCTYPE svg PUBLIC \"-//W3C//DTD SVG 1.1//EN\"\r\n",
       " \"http://www.w3.org/Graphics/SVG/1.1/DTD/svg11.dtd\">\r\n",
       "<!-- Generated by graphviz version 8.0.5 (20230430.1635)\r\n",
       " -->\r\n",
       "<!-- Title: True DAG Pages: 1 -->\r\n",
       "<svg width=\"134pt\" height=\"188pt\"\r\n",
       " viewBox=\"0.00 0.00 134.00 188.00\" xmlns=\"http://www.w3.org/2000/svg\" xmlns:xlink=\"http://www.w3.org/1999/xlink\">\r\n",
       "<g id=\"graph0\" class=\"graph\" transform=\"scale(1 1) rotate(0) translate(4 184)\">\r\n",
       "<title>True DAG</title>\r\n",
       "<polygon fill=\"white\" stroke=\"none\" points=\"-4,4 -4,-184 130,-184 130,4 -4,4\"/>\r\n",
       "<!-- X1 -->\r\n",
       "<g id=\"node1\" class=\"node\">\r\n",
       "<title>X1</title>\r\n",
       "<ellipse fill=\"none\" stroke=\"black\" cx=\"71\" cy=\"-18\" rx=\"27\" ry=\"18\"/>\r\n",
       "<text text-anchor=\"middle\" x=\"71\" y=\"-12.57\" font-family=\"Times New Roman,serif\" font-size=\"14.00\">X1</text>\r\n",
       "</g>\r\n",
       "<!-- X2 -->\r\n",
       "<g id=\"node2\" class=\"node\">\r\n",
       "<title>X2</title>\r\n",
       "<ellipse fill=\"none\" stroke=\"black\" cx=\"27\" cy=\"-162\" rx=\"27\" ry=\"18\"/>\r\n",
       "<text text-anchor=\"middle\" x=\"27\" y=\"-156.57\" font-family=\"Times New Roman,serif\" font-size=\"14.00\">X2</text>\r\n",
       "</g>\r\n",
       "<!-- X3 -->\r\n",
       "<g id=\"node3\" class=\"node\">\r\n",
       "<title>X3</title>\r\n",
       "<ellipse fill=\"none\" stroke=\"black\" cx=\"44\" cy=\"-90\" rx=\"27\" ry=\"18\"/>\r\n",
       "<text text-anchor=\"middle\" x=\"44\" y=\"-84.58\" font-family=\"Times New Roman,serif\" font-size=\"14.00\">X3</text>\r\n",
       "</g>\r\n",
       "<!-- X2&#45;&gt;X3 -->\r\n",
       "<g id=\"edge1\" class=\"edge\">\r\n",
       "<title>X2&#45;&gt;X3</title>\r\n",
       "<path fill=\"none\" stroke=\"crimson\" d=\"M31.12,-144.05C32.95,-136.52 35.15,-127.44 37.22,-118.94\"/>\r\n",
       "<polygon fill=\"crimson\" stroke=\"crimson\" points=\"40.85,-119.82 39.8,-109.28 34.04,-118.17 40.85,-119.82\"/>\r\n",
       "</g>\r\n",
       "<!-- X3&#45;&gt;X1 -->\r\n",
       "<g id=\"edge2\" class=\"edge\">\r\n",
       "<title>X3&#45;&gt;X1</title>\r\n",
       "<path fill=\"none\" stroke=\"black\" d=\"M50.54,-72.05C53.55,-64.23 57.21,-54.75 60.59,-45.98\"/>\r\n",
       "<polygon fill=\"black\" stroke=\"black\" points=\"64.19,-47.38 64.52,-36.79 57.66,-44.86 64.19,-47.38\"/>\r\n",
       "</g>\r\n",
       "<!-- X4 -->\r\n",
       "<g id=\"node4\" class=\"node\">\r\n",
       "<title>X4</title>\r\n",
       "<ellipse fill=\"none\" stroke=\"black\" cx=\"99\" cy=\"-162\" rx=\"27\" ry=\"18\"/>\r\n",
       "<text text-anchor=\"middle\" x=\"99\" y=\"-156.57\" font-family=\"Times New Roman,serif\" font-size=\"14.00\">X4</text>\r\n",
       "</g>\r\n",
       "<!-- X4&#45;&gt;X1 -->\r\n",
       "<g id=\"edge3\" class=\"edge\">\r\n",
       "<title>X4&#45;&gt;X1</title>\r\n",
       "<path fill=\"none\" stroke=\"black\" d=\"M95.62,-143.87C90.87,-119.78 82.16,-75.6 76.48,-46.77\"/>\r\n",
       "<polygon fill=\"black\" stroke=\"black\" points=\"79.76,-46.32 74.39,-37.19 72.89,-47.68 79.76,-46.32\"/>\r\n",
       "</g>\r\n",
       "<!-- X4&#45;&gt;X3 -->\r\n",
       "<g id=\"edge4\" class=\"edge\">\r\n",
       "<title>X4&#45;&gt;X3</title>\r\n",
       "<path fill=\"none\" stroke=\"crimson\" d=\"M86.79,-145.46C79.74,-136.49 70.73,-125.02 62.79,-114.92\"/>\r\n",
       "<polygon fill=\"crimson\" stroke=\"crimson\" points=\"65.1,-113.19 56.17,-107.49 59.6,-117.52 65.1,-113.19\"/>\r\n",
       "</g>\r\n",
       "</g>\r\n",
       "</svg>\r\n",
       "\n",
       "            </div>\n",
       "            <div style=\"text-align: center;\">\n",
       "                <h3>Estimated CPDAG</h3>\n",
       "                <?xml version=\"1.0\" encoding=\"UTF-8\" standalone=\"no\"?>\r\n",
       "<!DOCTYPE svg PUBLIC \"-//W3C//DTD SVG 1.1//EN\"\r\n",
       " \"http://www.w3.org/Graphics/SVG/1.1/DTD/svg11.dtd\">\r\n",
       "<!-- Generated by graphviz version 8.0.5 (20230430.1635)\r\n",
       " -->\r\n",
       "<!-- Title: Estimated CPDAG Pages: 1 -->\r\n",
       "<svg width=\"134pt\" height=\"188pt\"\r\n",
       " viewBox=\"0.00 0.00 134.00 188.00\" xmlns=\"http://www.w3.org/2000/svg\" xmlns:xlink=\"http://www.w3.org/1999/xlink\">\r\n",
       "<g id=\"graph0\" class=\"graph\" transform=\"scale(1 1) rotate(0) translate(4 184)\">\r\n",
       "<title>Estimated CPDAG</title>\r\n",
       "<polygon fill=\"white\" stroke=\"none\" points=\"-4,4 -4,-184 130,-184 130,4 -4,4\"/>\r\n",
       "<!-- X1 -->\r\n",
       "<g id=\"node1\" class=\"node\">\r\n",
       "<title>X1</title>\r\n",
       "<ellipse fill=\"none\" stroke=\"black\" cx=\"27\" cy=\"-162\" rx=\"27\" ry=\"18\"/>\r\n",
       "<text text-anchor=\"middle\" x=\"27\" y=\"-156.57\" font-family=\"Times New Roman,serif\" font-size=\"14.00\">X1</text>\r\n",
       "</g>\r\n",
       "<!-- X2 -->\r\n",
       "<g id=\"node2\" class=\"node\">\r\n",
       "<title>X2</title>\r\n",
       "<ellipse fill=\"none\" stroke=\"black\" cx=\"27\" cy=\"-90\" rx=\"27\" ry=\"18\"/>\r\n",
       "<text text-anchor=\"middle\" x=\"27\" y=\"-84.58\" font-family=\"Times New Roman,serif\" font-size=\"14.00\">X2</text>\r\n",
       "</g>\r\n",
       "<!-- X1&#45;&gt;X2 -->\r\n",
       "<g id=\"edge1\" class=\"edge\">\r\n",
       "<title>X1&#45;&gt;X2</title>\r\n",
       "<path fill=\"none\" stroke=\"black\" d=\"M27,-143.7C27,-132.85 27,-118.92 27,-108.1\"/>\r\n",
       "</g>\r\n",
       "<!-- X3 -->\r\n",
       "<g id=\"node3\" class=\"node\">\r\n",
       "<title>X3</title>\r\n",
       "<ellipse fill=\"none\" stroke=\"black\" cx=\"63\" cy=\"-18\" rx=\"27\" ry=\"18\"/>\r\n",
       "<text text-anchor=\"middle\" x=\"63\" y=\"-12.57\" font-family=\"Times New Roman,serif\" font-size=\"14.00\">X3</text>\r\n",
       "</g>\r\n",
       "<!-- X2&#45;&gt;X3 -->\r\n",
       "<g id=\"edge2\" class=\"edge\">\r\n",
       "<title>X2&#45;&gt;X3</title>\r\n",
       "<path fill=\"none\" stroke=\"crimson\" d=\"M35.35,-72.76C39.62,-64.46 44.92,-54.15 49.73,-44.79\"/>\r\n",
       "<polygon fill=\"crimson\" stroke=\"crimson\" points=\"53.23,-46.64 54.7,-36.15 47.01,-43.44 53.23,-46.64\"/>\r\n",
       "</g>\r\n",
       "<!-- X4 -->\r\n",
       "<g id=\"node4\" class=\"node\">\r\n",
       "<title>X4</title>\r\n",
       "<ellipse fill=\"none\" stroke=\"black\" cx=\"99\" cy=\"-90\" rx=\"27\" ry=\"18\"/>\r\n",
       "<text text-anchor=\"middle\" x=\"99\" y=\"-84.58\" font-family=\"Times New Roman,serif\" font-size=\"14.00\">X4</text>\r\n",
       "</g>\r\n",
       "<!-- X4&#45;&gt;X3 -->\r\n",
       "<g id=\"edge3\" class=\"edge\">\r\n",
       "<title>X4&#45;&gt;X3</title>\r\n",
       "<path fill=\"none\" stroke=\"crimson\" d=\"M90.65,-72.76C86.38,-64.46 81.08,-54.15 76.27,-44.79\"/>\r\n",
       "<polygon fill=\"crimson\" stroke=\"crimson\" points=\"78.99,-43.44 71.3,-36.15 72.77,-46.64 78.99,-43.44\"/>\r\n",
       "</g>\r\n",
       "</g>\r\n",
       "</svg>\r\n",
       "\n",
       "            </div>\n",
       "        </div>\n",
       "        "
      ],
      "text/plain": [
       "<IPython.core.display.HTML object>"
      ]
     },
     "metadata": {},
     "output_type": "display_data"
    },
    {
     "name": "stdout",
     "output_type": "stream",
     "text": [
      "            metric metric_value\n",
      "0              shd            3\n",
      "1              sid          6.0\n",
      "2  sid_lower_bound          2.0\n",
      "3  sid_upper_bound          6.0\n",
      "\n",
      "SID Incorrect Causal Effects\n",
      "[[0. 1. 1. 1.]\n",
      " [1. 0. 1. 1.]\n",
      " [0. 0. 0. 0.]\n",
      " [0. 0. 0. 0.]]\n"
     ]
    }
   ],
   "source": [
    "bnm = BNMetrics(DAG, CPDAG, node_names=nodes)\n",
    "bnm.compare_two_bn(nodes=['All'], name1='True DAG', name2='Estimated CPDAG')\n",
    "print((bnm.compare_df(descriptive_metrics='', comparison_metrics=['shd', 'sid'])\n",
    "       .query(\"node_name == 'All'\")\n",
    "       .drop(columns='node_name')\n",
    "       .T\n",
    "       .reset_index()\n",
    "       .rename(columns={0:'metric_value', 'index': 'metric'})))\n",
    "print('\\nSID Incorrect Causal Effects')\n",
    "print(bnm.sid(nodes=['All'], output=False)['incorrect_mat'])"
   ]
  },
  {
   "cell_type": "markdown",
   "id": "ea1eec2a-42d5-4dab-a336-dd3bf40103b9",
   "metadata": {},
   "source": [
    "\n",
    "- $\\text{SHD} = 3$\n",
    "- $\\text{SID} = 6$  \n",
    "- $\\text{SID lower bound} = 2$\n",
    "- $\\text{SID upper bound} = 6$\n",
    "\n",
    "The CPDAG represents the **Markov equivalence class** of DAGs like DAG 1 and DAG 2.  \n",
    "SID bounds capture the range of possible SID values depending on which DAG in the class we choose.\n",
    "\n",
    "\n",
    "### Conclusion\n",
    "\n",
    "| Comparison                 | SHD | SID  | SID Lower | SID Upper |\n",
    "|----------------------------|-----|------|-----------|-----------|\n",
    "| DAG vs. DAG 1              |  3  | 6.0  |     –     |     –     |\n",
    "| DAG vs. DAG 2              |  3  | 2.0  |     –     |     –     |\n",
    "| DAG vs. CPDAG (DAG1+2 mix) |  3  | 6.0  |   2.0     |   6.0     |\n",
    "\n",
    "This example illustrates that **SID bounds** when evaluating estimated CPDAGs, where the edge directions are only partially identifiable."
   ]
  },
  {
   "cell_type": "markdown",
   "id": "244c3038-18c3-42b0-8a13-d137a0b0ef89",
   "metadata": {},
   "source": [
    "## Use Case 3: SID on Markov Blankets of Specific Nodes (Local Evaluation)\n",
    "\n",
    "In this use case, we simulate a scenario where a true causal DAG is known, and we estimate a CPDAG using the PC algorithm from synthetic data. Instead of evaluating the entire graph globally, we focus on a subset of nodes, assessing how well the estimated graph preserves the interventional structure locally.\n",
    "\n",
    "---\n",
    "\n",
    "### Setup Overview\n",
    "\n",
    "- A true DAG with 40 nodes was generated using a random sparse structure.\n",
    "- Synthetic data (1,000 samples) was simulated from this DAG under a linear Gaussian SEM.\n",
    "- A CPDAG was estimated from the data using the PC algorithm.\n",
    "- We compared the estimated CPDAG to the true DAG using the SID.\n",
    "- A Markov blanket of node $X_16$ and the node itself was selected to analyze SID locally."
   ]
  },
  {
   "cell_type": "code",
   "execution_count": 71,
   "id": "4bb8e64f-a091-4d0b-8402-4801fc9d5560",
   "metadata": {},
   "outputs": [
    {
     "data": {
      "application/vnd.jupyter.widget-view+json": {
       "model_id": "60bf1374b81a406797fb09ff6b015f93",
       "version_major": 2,
       "version_minor": 0
      },
      "text/plain": [
       "  0%|          | 0/40 [00:00<?, ?it/s]"
      ]
     },
     "metadata": {},
     "output_type": "display_data"
    }
   ],
   "source": [
    "true_dag = generate_random_dag(n_nodes=40, edge_prob=0.1, seed=55)\n",
    "data = generate_synthetic_data_from_dag(true_dag, n_samples=1000, stdev=1.0, seed=55)\n",
    "data = data[list(true_dag.nodes)]\n",
    "cg = pc(data.values)"
   ]
  },
  {
   "cell_type": "code",
   "execution_count": 72,
   "id": "20ca0776-38de-4f5e-b161-671bba872f70",
   "metadata": {},
   "outputs": [],
   "source": [
    "cg.to_nx_graph()\n",
    "bn_obj = BNMetrics(G1=true_dag, G2=nx.to_numpy_array(cg.nx_graph))"
   ]
  },
  {
   "cell_type": "markdown",
   "id": "821dc1fd-ab6f-4693-b05c-c0310bcc3966",
   "metadata": {},
   "source": [
    "Below are the comparison of local structure of the first DAG with the same set of nodes in the second DAG"
   ]
  },
  {
   "cell_type": "code",
   "execution_count": 73,
   "id": "9b07b1fc-5d63-426f-9929-7227be2c9706",
   "metadata": {},
   "outputs": [
    {
     "data": {
      "text/html": [
       "\n",
       "        <div style=\"display: flex; gap: 60px;\">\n",
       "            <div style=\"text-align: center;\">\n",
       "                <h3>True Markov Blanket of X_16</h3>\n",
       "                <?xml version=\"1.0\" encoding=\"UTF-8\" standalone=\"no\"?>\r\n",
       "<!DOCTYPE svg PUBLIC \"-//W3C//DTD SVG 1.1//EN\"\r\n",
       " \"http://www.w3.org/Graphics/SVG/1.1/DTD/svg11.dtd\">\r\n",
       "<!-- Generated by graphviz version 8.0.5 (20230430.1635)\r\n",
       " -->\r\n",
       "<!-- Title: True Markov Blanket of X_16 Pages: 1 -->\r\n",
       "<svg width=\"384pt\" height=\"188pt\"\r\n",
       " viewBox=\"0.00 0.00 384.40 188.00\" xmlns=\"http://www.w3.org/2000/svg\" xmlns:xlink=\"http://www.w3.org/1999/xlink\">\r\n",
       "<g id=\"graph0\" class=\"graph\" transform=\"scale(1 1) rotate(0) translate(4 184)\">\r\n",
       "<title>True Markov Blanket of X_16</title>\r\n",
       "<polygon fill=\"white\" stroke=\"none\" points=\"-4,4 -4,-184 380.4,-184 380.4,4 -4,4\"/>\r\n",
       "<!-- X_26 -->\r\n",
       "<g id=\"node1\" class=\"node\">\r\n",
       "<title>X_26</title>\r\n",
       "<ellipse fill=\"none\" stroke=\"black\" cx=\"117.29\" cy=\"-18\" rx=\"31.1\" ry=\"18\"/>\r\n",
       "<text text-anchor=\"middle\" x=\"117.29\" y=\"-12.57\" font-family=\"Times New Roman,serif\" font-size=\"14.00\">X_26</text>\r\n",
       "</g>\r\n",
       "<!-- X_1 -->\r\n",
       "<g id=\"node2\" class=\"node\">\r\n",
       "<title>X_1</title>\r\n",
       "<ellipse fill=\"none\" stroke=\"black\" cx=\"269.29\" cy=\"-90\" rx=\"27\" ry=\"18\"/>\r\n",
       "<text text-anchor=\"middle\" x=\"269.29\" y=\"-84.58\" font-family=\"Times New Roman,serif\" font-size=\"14.00\">X_1</text>\r\n",
       "</g>\r\n",
       "<!-- X_8 -->\r\n",
       "<g id=\"node7\" class=\"node\">\r\n",
       "<title>X_8</title>\r\n",
       "<ellipse fill=\"none\" stroke=\"black\" cx=\"269.29\" cy=\"-18\" rx=\"27\" ry=\"18\"/>\r\n",
       "<text text-anchor=\"middle\" x=\"269.29\" y=\"-12.57\" font-family=\"Times New Roman,serif\" font-size=\"14.00\">X_8</text>\r\n",
       "</g>\r\n",
       "<!-- X_1&#45;&gt;X_8 -->\r\n",
       "<g id=\"edge1\" class=\"edge\">\r\n",
       "<title>X_1&#45;&gt;X_8</title>\r\n",
       "<path fill=\"none\" stroke=\"crimson\" d=\"M269.29,-71.7C269.29,-64.24 269.29,-55.32 269.29,-46.97\"/>\r\n",
       "<polygon fill=\"crimson\" stroke=\"crimson\" points=\"272.79,-47.1 269.29,-37.1 265.79,-47.1 272.79,-47.1\"/>\r\n",
       "</g>\r\n",
       "<!-- X_35 -->\r\n",
       "<g id=\"node3\" class=\"node\">\r\n",
       "<title>X_35</title>\r\n",
       "<ellipse fill=\"none\" stroke=\"black\" cx=\"345.29\" cy=\"-162\" rx=\"31.1\" ry=\"18\"/>\r\n",
       "<text text-anchor=\"middle\" x=\"345.29\" y=\"-156.57\" font-family=\"Times New Roman,serif\" font-size=\"14.00\">X_35</text>\r\n",
       "</g>\r\n",
       "<!-- X_16 -->\r\n",
       "<g id=\"node9\" class=\"node\">\r\n",
       "<title>X_16</title>\r\n",
       "<ellipse fill=\"lightgreen\" stroke=\"black\" cx=\"345.29\" cy=\"-90\" rx=\"31.1\" ry=\"18\"/>\r\n",
       "<text text-anchor=\"middle\" x=\"345.29\" y=\"-84.58\" font-family=\"Times New Roman,serif\" font-size=\"14.00\">X_16</text>\r\n",
       "</g>\r\n",
       "<!-- X_35&#45;&gt;X_16 -->\r\n",
       "<g id=\"edge2\" class=\"edge\">\r\n",
       "<title>X_35&#45;&gt;X_16</title>\r\n",
       "<path fill=\"none\" stroke=\"black\" d=\"M345.29,-143.7C345.29,-136.24 345.29,-127.32 345.29,-118.97\"/>\r\n",
       "<polygon fill=\"black\" stroke=\"black\" points=\"348.79,-119.1 345.29,-109.1 341.79,-119.1 348.79,-119.1\"/>\r\n",
       "</g>\r\n",
       "<!-- X_20 -->\r\n",
       "<g id=\"node4\" class=\"node\">\r\n",
       "<title>X_20</title>\r\n",
       "<ellipse fill=\"none\" stroke=\"black\" cx=\"221.29\" cy=\"-162\" rx=\"31.1\" ry=\"18\"/>\r\n",
       "<text text-anchor=\"middle\" x=\"221.29\" y=\"-156.57\" font-family=\"Times New Roman,serif\" font-size=\"14.00\">X_20</text>\r\n",
       "</g>\r\n",
       "<!-- X_20&#45;&gt;X_26 -->\r\n",
       "<g id=\"edge4\" class=\"edge\">\r\n",
       "<title>X_20&#45;&gt;X_26</title>\r\n",
       "<path fill=\"none\" stroke=\"black\" d=\"M209.84,-144.84C197.12,-126.95 175.92,-97.28 157.29,-72 150.32,-62.53 142.55,-52.2 135.73,-43.19\"/>\r\n",
       "<polygon fill=\"black\" stroke=\"black\" points=\"138.12,-41.55 129.29,-35.7 132.55,-45.78 138.12,-41.55\"/>\r\n",
       "</g>\r\n",
       "<!-- X_20&#45;&gt;X_1 -->\r\n",
       "<g id=\"edge3\" class=\"edge\">\r\n",
       "<title>X_20&#45;&gt;X_1</title>\r\n",
       "<path fill=\"none\" stroke=\"crimson\" d=\"M232.43,-144.76C238.39,-136.07 245.85,-125.19 252.5,-115.49\"/>\r\n",
       "<polygon fill=\"crimson\" stroke=\"crimson\" points=\"255.78,-117.89 258.55,-107.67 250.01,-113.93 255.78,-117.89\"/>\r\n",
       "</g>\r\n",
       "<!-- X_18 -->\r\n",
       "<g id=\"node5\" class=\"node\">\r\n",
       "<title>X_18</title>\r\n",
       "<ellipse fill=\"none\" stroke=\"black\" cx=\"117.29\" cy=\"-90\" rx=\"31.1\" ry=\"18\"/>\r\n",
       "<text text-anchor=\"middle\" x=\"117.29\" y=\"-84.58\" font-family=\"Times New Roman,serif\" font-size=\"14.00\">X_18</text>\r\n",
       "</g>\r\n",
       "<!-- X_18&#45;&gt;X_26 -->\r\n",
       "<g id=\"edge5\" class=\"edge\">\r\n",
       "<title>X_18&#45;&gt;X_26</title>\r\n",
       "<path fill=\"none\" stroke=\"black\" d=\"M117.29,-71.7C117.29,-64.24 117.29,-55.32 117.29,-46.97\"/>\r\n",
       "<polygon fill=\"black\" stroke=\"black\" points=\"120.79,-47.1 117.29,-37.1 113.79,-47.1 120.79,-47.1\"/>\r\n",
       "</g>\r\n",
       "<!-- X_7 -->\r\n",
       "<g id=\"node6\" class=\"node\">\r\n",
       "<title>X_7</title>\r\n",
       "<ellipse fill=\"none\" stroke=\"black\" cx=\"41.29\" cy=\"-90\" rx=\"27\" ry=\"18\"/>\r\n",
       "<text text-anchor=\"middle\" x=\"41.29\" y=\"-84.58\" font-family=\"Times New Roman,serif\" font-size=\"14.00\">X_7</text>\r\n",
       "</g>\r\n",
       "<!-- X_7&#45;&gt;X_26 -->\r\n",
       "<g id=\"edge6\" class=\"edge\">\r\n",
       "<title>X_7&#45;&gt;X_26</title>\r\n",
       "<path fill=\"none\" stroke=\"crimson\" d=\"M56.67,-74.83C67.18,-65.16 81.3,-52.15 93.28,-41.12\"/>\r\n",
       "<polygon fill=\"crimson\" stroke=\"crimson\" points=\"95.17,-44.22 100.15,-34.87 90.42,-39.07 95.17,-44.22\"/>\r\n",
       "</g>\r\n",
       "<!-- X_24 -->\r\n",
       "<g id=\"node8\" class=\"node\">\r\n",
       "<title>X_24</title>\r\n",
       "<ellipse fill=\"none\" stroke=\"black\" cx=\"41.29\" cy=\"-162\" rx=\"31.1\" ry=\"18\"/>\r\n",
       "<text text-anchor=\"middle\" x=\"41.29\" y=\"-156.57\" font-family=\"Times New Roman,serif\" font-size=\"14.00\">X_24</text>\r\n",
       "</g>\r\n",
       "<!-- X_24&#45;&gt;X_26 -->\r\n",
       "<g id=\"edge9\" class=\"edge\">\r\n",
       "<title>X_24&#45;&gt;X_26</title>\r\n",
       "<path fill=\"none\" stroke=\"black\" d=\"M26.7,-145.72C10.99,-127.33 -9.86,-95.94 5.29,-72 21,-47.19 51.8,-33.77 77.13,-26.65\"/>\r\n",
       "<polygon fill=\"black\" stroke=\"black\" points=\"77.78,-29.84 86.59,-23.96 76.04,-23.06 77.78,-29.84\"/>\r\n",
       "</g>\r\n",
       "<!-- X_24&#45;&gt;X_7 -->\r\n",
       "<g id=\"edge8\" class=\"edge\">\r\n",
       "<title>X_24&#45;&gt;X_7</title>\r\n",
       "<path fill=\"none\" stroke=\"black\" d=\"M41.29,-143.7C41.29,-136.24 41.29,-127.32 41.29,-118.97\"/>\r\n",
       "<polygon fill=\"black\" stroke=\"black\" points=\"44.79,-119.1 41.29,-109.1 37.79,-119.1 44.79,-119.1\"/>\r\n",
       "</g>\r\n",
       "<!-- X_24&#45;&gt;X_8 -->\r\n",
       "<g id=\"edge7\" class=\"edge\">\r\n",
       "<title>X_24&#45;&gt;X_8</title>\r\n",
       "<path fill=\"none\" stroke=\"crimson\" d=\"M67.09,-151.32C91.21,-141.79 127.85,-126.05 157.29,-108 190,-87.94 224.02,-59.68 245.86,-40.42\"/>\r\n",
       "<polygon fill=\"crimson\" stroke=\"crimson\" points=\"247.75,-43.54 252.88,-34.27 243.09,-38.31 247.75,-43.54\"/>\r\n",
       "</g>\r\n",
       "<!-- X_16&#45;&gt;X_26 -->\r\n",
       "<g id=\"edge10\" class=\"edge\">\r\n",
       "<title>X_16&#45;&gt;X_26</title>\r\n",
       "<path fill=\"none\" stroke=\"black\" d=\"M321.37,-78.25C316.13,-76.06 310.56,-73.85 305.29,-72 254.42,-54.1 194.19,-37.98 155.87,-28.34\"/>\r\n",
       "<polygon fill=\"black\" stroke=\"black\" points=\"157.22,-24.82 146.67,-25.8 155.53,-31.62 157.22,-24.82\"/>\r\n",
       "</g>\r\n",
       "<!-- X_16&#45;&gt;X_8 -->\r\n",
       "<g id=\"edge11\" class=\"edge\">\r\n",
       "<title>X_16&#45;&gt;X_8</title>\r\n",
       "<path fill=\"none\" stroke=\"crimson\" d=\"M329.18,-74.15C318.48,-64.31 304.29,-51.23 292.4,-40.28\"/>\r\n",
       "<polygon fill=\"crimson\" stroke=\"crimson\" points=\"295.34,-38.31 285.61,-34.11 290.59,-43.46 295.34,-38.31\"/>\r\n",
       "</g>\r\n",
       "</g>\r\n",
       "</svg>\r\n",
       "\n",
       "            </div>\n",
       "            <div style=\"text-align: center;\">\n",
       "                <h3>Estimated Structure over Same Nodes</h3>\n",
       "                <?xml version=\"1.0\" encoding=\"UTF-8\" standalone=\"no\"?>\r\n",
       "<!DOCTYPE svg PUBLIC \"-//W3C//DTD SVG 1.1//EN\"\r\n",
       " \"http://www.w3.org/Graphics/SVG/1.1/DTD/svg11.dtd\">\r\n",
       "<!-- Generated by graphviz version 8.0.5 (20230430.1635)\r\n",
       " -->\r\n",
       "<!-- Title: Estimated Structure over Same Nodes Pages: 1 -->\r\n",
       "<svg width=\"306pt\" height=\"188pt\"\r\n",
       " viewBox=\"0.00 0.00 306.21 188.00\" xmlns=\"http://www.w3.org/2000/svg\" xmlns:xlink=\"http://www.w3.org/1999/xlink\">\r\n",
       "<g id=\"graph0\" class=\"graph\" transform=\"scale(1 1) rotate(0) translate(4 184)\">\r\n",
       "<title>Estimated Structure over Same Nodes</title>\r\n",
       "<polygon fill=\"white\" stroke=\"none\" points=\"-4,4 -4,-184 302.21,-184 302.21,4 -4,4\"/>\r\n",
       "<!-- X_26 -->\r\n",
       "<g id=\"node1\" class=\"node\">\r\n",
       "<title>X_26</title>\r\n",
       "<ellipse fill=\"none\" stroke=\"black\" cx=\"31.1\" cy=\"-90\" rx=\"31.1\" ry=\"18\"/>\r\n",
       "<text text-anchor=\"middle\" x=\"31.1\" y=\"-84.58\" font-family=\"Times New Roman,serif\" font-size=\"14.00\">X_26</text>\r\n",
       "</g>\r\n",
       "<!-- X_1 -->\r\n",
       "<g id=\"node2\" class=\"node\">\r\n",
       "<title>X_1</title>\r\n",
       "<ellipse fill=\"none\" stroke=\"black\" cx=\"187.1\" cy=\"-90\" rx=\"27\" ry=\"18\"/>\r\n",
       "<text text-anchor=\"middle\" x=\"187.1\" y=\"-84.58\" font-family=\"Times New Roman,serif\" font-size=\"14.00\">X_1</text>\r\n",
       "</g>\r\n",
       "<!-- X_8 -->\r\n",
       "<g id=\"node7\" class=\"node\">\r\n",
       "<title>X_8</title>\r\n",
       "<ellipse fill=\"none\" stroke=\"black\" cx=\"187.1\" cy=\"-18\" rx=\"27\" ry=\"18\"/>\r\n",
       "<text text-anchor=\"middle\" x=\"187.1\" y=\"-12.57\" font-family=\"Times New Roman,serif\" font-size=\"14.00\">X_8</text>\r\n",
       "</g>\r\n",
       "<!-- X_1&#45;&gt;X_8 -->\r\n",
       "<g id=\"edge1\" class=\"edge\">\r\n",
       "<title>X_1&#45;&gt;X_8</title>\r\n",
       "<path fill=\"none\" stroke=\"crimson\" d=\"M187.1,-71.7C187.1,-64.24 187.1,-55.32 187.1,-46.97\"/>\r\n",
       "<polygon fill=\"crimson\" stroke=\"crimson\" points=\"190.6,-47.1 187.1,-37.1 183.6,-47.1 190.6,-47.1\"/>\r\n",
       "</g>\r\n",
       "<!-- X_35 -->\r\n",
       "<g id=\"node3\" class=\"node\">\r\n",
       "<title>X_35</title>\r\n",
       "<ellipse fill=\"none\" stroke=\"black\" cx=\"263.1\" cy=\"-18\" rx=\"31.1\" ry=\"18\"/>\r\n",
       "<text text-anchor=\"middle\" x=\"263.1\" y=\"-12.57\" font-family=\"Times New Roman,serif\" font-size=\"14.00\">X_35</text>\r\n",
       "</g>\r\n",
       "<!-- X_20 -->\r\n",
       "<g id=\"node4\" class=\"node\">\r\n",
       "<title>X_20</title>\r\n",
       "<ellipse fill=\"none\" stroke=\"black\" cx=\"187.1\" cy=\"-162\" rx=\"31.1\" ry=\"18\"/>\r\n",
       "<text text-anchor=\"middle\" x=\"187.1\" y=\"-156.57\" font-family=\"Times New Roman,serif\" font-size=\"14.00\">X_20</text>\r\n",
       "</g>\r\n",
       "<!-- X_20&#45;&gt;X_1 -->\r\n",
       "<g id=\"edge2\" class=\"edge\">\r\n",
       "<title>X_20&#45;&gt;X_1</title>\r\n",
       "<path fill=\"none\" stroke=\"crimson\" d=\"M187.1,-143.7C187.1,-136.24 187.1,-127.32 187.1,-118.97\"/>\r\n",
       "<polygon fill=\"crimson\" stroke=\"crimson\" points=\"190.6,-119.1 187.1,-109.1 183.6,-119.1 190.6,-119.1\"/>\r\n",
       "</g>\r\n",
       "<!-- X_18 -->\r\n",
       "<g id=\"node5\" class=\"node\">\r\n",
       "<title>X_18</title>\r\n",
       "<ellipse fill=\"none\" stroke=\"black\" cx=\"267.1\" cy=\"-162\" rx=\"31.1\" ry=\"18\"/>\r\n",
       "<text text-anchor=\"middle\" x=\"267.1\" y=\"-156.57\" font-family=\"Times New Roman,serif\" font-size=\"14.00\">X_18</text>\r\n",
       "</g>\r\n",
       "<!-- X_7 -->\r\n",
       "<g id=\"node6\" class=\"node\">\r\n",
       "<title>X_7</title>\r\n",
       "<ellipse fill=\"none\" stroke=\"black\" cx=\"31.1\" cy=\"-162\" rx=\"27\" ry=\"18\"/>\r\n",
       "<text text-anchor=\"middle\" x=\"31.1\" y=\"-156.57\" font-family=\"Times New Roman,serif\" font-size=\"14.00\">X_7</text>\r\n",
       "</g>\r\n",
       "<!-- X_7&#45;&gt;X_26 -->\r\n",
       "<g id=\"edge3\" class=\"edge\">\r\n",
       "<title>X_7&#45;&gt;X_26</title>\r\n",
       "<path fill=\"none\" stroke=\"crimson\" d=\"M31.1,-143.7C31.1,-136.24 31.1,-127.32 31.1,-118.97\"/>\r\n",
       "<polygon fill=\"crimson\" stroke=\"crimson\" points=\"34.6,-119.1 31.1,-109.1 27.6,-119.1 34.6,-119.1\"/>\r\n",
       "</g>\r\n",
       "<!-- X_24 -->\r\n",
       "<g id=\"node8\" class=\"node\">\r\n",
       "<title>X_24</title>\r\n",
       "<ellipse fill=\"none\" stroke=\"black\" cx=\"111.1\" cy=\"-90\" rx=\"31.1\" ry=\"18\"/>\r\n",
       "<text text-anchor=\"middle\" x=\"111.1\" y=\"-84.58\" font-family=\"Times New Roman,serif\" font-size=\"14.00\">X_24</text>\r\n",
       "</g>\r\n",
       "<!-- X_24&#45;&gt;X_8 -->\r\n",
       "<g id=\"edge4\" class=\"edge\">\r\n",
       "<title>X_24&#45;&gt;X_8</title>\r\n",
       "<path fill=\"none\" stroke=\"crimson\" d=\"M127.22,-74.15C137.91,-64.31 152.11,-51.23 164,-40.28\"/>\r\n",
       "<polygon fill=\"crimson\" stroke=\"crimson\" points=\"165.8,-43.46 170.79,-34.11 161.06,-38.31 165.8,-43.46\"/>\r\n",
       "</g>\r\n",
       "<!-- X_16 -->\r\n",
       "<g id=\"node9\" class=\"node\">\r\n",
       "<title>X_16</title>\r\n",
       "<ellipse fill=\"lightgreen\" stroke=\"black\" cx=\"263.1\" cy=\"-90\" rx=\"31.1\" ry=\"18\"/>\r\n",
       "<text text-anchor=\"middle\" x=\"263.1\" y=\"-84.58\" font-family=\"Times New Roman,serif\" font-size=\"14.00\">X_16</text>\r\n",
       "</g>\r\n",
       "<!-- X_16&#45;&gt;X_35 -->\r\n",
       "<g id=\"edge6\" class=\"edge\">\r\n",
       "<title>X_16&#45;&gt;X_35</title>\r\n",
       "<path fill=\"none\" stroke=\"black\" d=\"M263.1,-71.7C263.1,-60.85 263.1,-46.92 263.1,-36.1\"/>\r\n",
       "</g>\r\n",
       "<!-- X_16&#45;&gt;X_8 -->\r\n",
       "<g id=\"edge5\" class=\"edge\">\r\n",
       "<title>X_16&#45;&gt;X_8</title>\r\n",
       "<path fill=\"none\" stroke=\"crimson\" d=\"M246.99,-74.15C236.29,-64.31 222.1,-51.23 210.21,-40.28\"/>\r\n",
       "<polygon fill=\"crimson\" stroke=\"crimson\" points=\"213.15,-38.31 203.42,-34.11 208.41,-43.46 213.15,-38.31\"/>\r\n",
       "</g>\r\n",
       "</g>\r\n",
       "</svg>\r\n",
       "\n",
       "            </div>\n",
       "        </div>\n",
       "        "
      ],
      "text/plain": [
       "<IPython.core.display.HTML object>"
      ]
     },
     "metadata": {},
     "output_type": "display_data"
    }
   ],
   "source": [
    "nodes = ['X_16']\n",
    "bn_obj.compare_two_bn(\n",
    "    nodes=nodes,\n",
    "    option=2,\n",
    "    name1='True Markov Blanket of X_16',\n",
    "    name2='Estimated Structure over Same Nodes'\n",
    ")"
   ]
  },
  {
   "cell_type": "markdown",
   "id": "c8567978-397e-400c-94c3-825d968bc47b",
   "metadata": {},
   "source": [
    "\n",
    "\n",
    "### 📊 SID Matrix for Selected Nodes\n",
    "\n",
    "The SID matrix below visualizes incorrect interventional predictions among the selected 9 variables:\n",
    "\n",
    "- Red cells indicate incorrect predictions of \\( p(X_j \\mid do(X_i)) \\)\n",
    "- SID value for this subset = **14**\n",
    "- Node `X_16` (highlighted in green in both graphs) is a focal point of the comparison"
   ]
  },
  {
   "cell_type": "code",
   "execution_count": 74,
   "id": "5d73ee41-ef17-44d8-a022-dc3b36475feb",
   "metadata": {},
   "outputs": [
    {
     "data": {
      "application/vnd.plotly.v1+json": {
       "config": {
        "plotlyServerURL": "https://plotly.com"
       },
       "data": [
        {
         "colorscale": [
          [
           0,
           "white"
          ],
          [
           0.9999,
           "white"
          ],
          [
           1,
           "crimson"
          ]
         ],
         "showscale": false,
         "type": "heatmap",
         "x": [
          "X_26",
          "X_1",
          "X_35",
          "X_20",
          "X_18",
          "X_7",
          "X_8",
          "X_24",
          "X_16"
         ],
         "xgap": 1,
         "y": [
          "X_26",
          "X_1",
          "X_35",
          "X_20",
          "X_18",
          "X_7",
          "X_8",
          "X_24",
          "X_16"
         ],
         "ygap": 1,
         "z": [
          [
           0,
           1,
           1,
           1,
           1,
           0,
           1,
           1,
           1
          ],
          [
           0,
           0,
           0,
           0,
           0,
           0,
           0,
           0,
           0
          ],
          [
           1,
           0,
           0,
           0,
           0,
           0,
           1,
           0,
           1
          ],
          [
           0,
           0,
           0,
           0,
           0,
           0,
           0,
           0,
           0
          ],
          [
           0,
           0,
           0,
           0,
           0,
           0,
           0,
           0,
           0
          ],
          [
           1,
           0,
           0,
           0,
           0,
           0,
           1,
           1,
           0
          ],
          [
           0,
           0,
           0,
           0,
           0,
           0,
           0,
           0,
           0
          ],
          [
           0,
           0,
           0,
           0,
           0,
           0,
           0,
           0,
           0
          ],
          [
           0,
           0,
           1,
           0,
           0,
           0,
           0,
           0,
           0
          ]
         ],
         "zmax": 1,
         "zmin": 0
        }
       ],
       "layout": {
        "height": 500,
        "template": {
         "data": {
          "bar": [
           {
            "error_x": {
             "color": "#2a3f5f"
            },
            "error_y": {
             "color": "#2a3f5f"
            },
            "marker": {
             "line": {
              "color": "#E5ECF6",
              "width": 0.5
             },
             "pattern": {
              "fillmode": "overlay",
              "size": 10,
              "solidity": 0.2
             }
            },
            "type": "bar"
           }
          ],
          "barpolar": [
           {
            "marker": {
             "line": {
              "color": "#E5ECF6",
              "width": 0.5
             },
             "pattern": {
              "fillmode": "overlay",
              "size": 10,
              "solidity": 0.2
             }
            },
            "type": "barpolar"
           }
          ],
          "carpet": [
           {
            "aaxis": {
             "endlinecolor": "#2a3f5f",
             "gridcolor": "white",
             "linecolor": "white",
             "minorgridcolor": "white",
             "startlinecolor": "#2a3f5f"
            },
            "baxis": {
             "endlinecolor": "#2a3f5f",
             "gridcolor": "white",
             "linecolor": "white",
             "minorgridcolor": "white",
             "startlinecolor": "#2a3f5f"
            },
            "type": "carpet"
           }
          ],
          "choropleth": [
           {
            "colorbar": {
             "outlinewidth": 0,
             "ticks": ""
            },
            "type": "choropleth"
           }
          ],
          "contour": [
           {
            "colorbar": {
             "outlinewidth": 0,
             "ticks": ""
            },
            "colorscale": [
             [
              0,
              "#0d0887"
             ],
             [
              0.1111111111111111,
              "#46039f"
             ],
             [
              0.2222222222222222,
              "#7201a8"
             ],
             [
              0.3333333333333333,
              "#9c179e"
             ],
             [
              0.4444444444444444,
              "#bd3786"
             ],
             [
              0.5555555555555556,
              "#d8576b"
             ],
             [
              0.6666666666666666,
              "#ed7953"
             ],
             [
              0.7777777777777778,
              "#fb9f3a"
             ],
             [
              0.8888888888888888,
              "#fdca26"
             ],
             [
              1,
              "#f0f921"
             ]
            ],
            "type": "contour"
           }
          ],
          "contourcarpet": [
           {
            "colorbar": {
             "outlinewidth": 0,
             "ticks": ""
            },
            "type": "contourcarpet"
           }
          ],
          "heatmap": [
           {
            "colorbar": {
             "outlinewidth": 0,
             "ticks": ""
            },
            "colorscale": [
             [
              0,
              "#0d0887"
             ],
             [
              0.1111111111111111,
              "#46039f"
             ],
             [
              0.2222222222222222,
              "#7201a8"
             ],
             [
              0.3333333333333333,
              "#9c179e"
             ],
             [
              0.4444444444444444,
              "#bd3786"
             ],
             [
              0.5555555555555556,
              "#d8576b"
             ],
             [
              0.6666666666666666,
              "#ed7953"
             ],
             [
              0.7777777777777778,
              "#fb9f3a"
             ],
             [
              0.8888888888888888,
              "#fdca26"
             ],
             [
              1,
              "#f0f921"
             ]
            ],
            "type": "heatmap"
           }
          ],
          "heatmapgl": [
           {
            "colorbar": {
             "outlinewidth": 0,
             "ticks": ""
            },
            "colorscale": [
             [
              0,
              "#0d0887"
             ],
             [
              0.1111111111111111,
              "#46039f"
             ],
             [
              0.2222222222222222,
              "#7201a8"
             ],
             [
              0.3333333333333333,
              "#9c179e"
             ],
             [
              0.4444444444444444,
              "#bd3786"
             ],
             [
              0.5555555555555556,
              "#d8576b"
             ],
             [
              0.6666666666666666,
              "#ed7953"
             ],
             [
              0.7777777777777778,
              "#fb9f3a"
             ],
             [
              0.8888888888888888,
              "#fdca26"
             ],
             [
              1,
              "#f0f921"
             ]
            ],
            "type": "heatmapgl"
           }
          ],
          "histogram": [
           {
            "marker": {
             "pattern": {
              "fillmode": "overlay",
              "size": 10,
              "solidity": 0.2
             }
            },
            "type": "histogram"
           }
          ],
          "histogram2d": [
           {
            "colorbar": {
             "outlinewidth": 0,
             "ticks": ""
            },
            "colorscale": [
             [
              0,
              "#0d0887"
             ],
             [
              0.1111111111111111,
              "#46039f"
             ],
             [
              0.2222222222222222,
              "#7201a8"
             ],
             [
              0.3333333333333333,
              "#9c179e"
             ],
             [
              0.4444444444444444,
              "#bd3786"
             ],
             [
              0.5555555555555556,
              "#d8576b"
             ],
             [
              0.6666666666666666,
              "#ed7953"
             ],
             [
              0.7777777777777778,
              "#fb9f3a"
             ],
             [
              0.8888888888888888,
              "#fdca26"
             ],
             [
              1,
              "#f0f921"
             ]
            ],
            "type": "histogram2d"
           }
          ],
          "histogram2dcontour": [
           {
            "colorbar": {
             "outlinewidth": 0,
             "ticks": ""
            },
            "colorscale": [
             [
              0,
              "#0d0887"
             ],
             [
              0.1111111111111111,
              "#46039f"
             ],
             [
              0.2222222222222222,
              "#7201a8"
             ],
             [
              0.3333333333333333,
              "#9c179e"
             ],
             [
              0.4444444444444444,
              "#bd3786"
             ],
             [
              0.5555555555555556,
              "#d8576b"
             ],
             [
              0.6666666666666666,
              "#ed7953"
             ],
             [
              0.7777777777777778,
              "#fb9f3a"
             ],
             [
              0.8888888888888888,
              "#fdca26"
             ],
             [
              1,
              "#f0f921"
             ]
            ],
            "type": "histogram2dcontour"
           }
          ],
          "mesh3d": [
           {
            "colorbar": {
             "outlinewidth": 0,
             "ticks": ""
            },
            "type": "mesh3d"
           }
          ],
          "parcoords": [
           {
            "line": {
             "colorbar": {
              "outlinewidth": 0,
              "ticks": ""
             }
            },
            "type": "parcoords"
           }
          ],
          "pie": [
           {
            "automargin": true,
            "type": "pie"
           }
          ],
          "scatter": [
           {
            "fillpattern": {
             "fillmode": "overlay",
             "size": 10,
             "solidity": 0.2
            },
            "type": "scatter"
           }
          ],
          "scatter3d": [
           {
            "line": {
             "colorbar": {
              "outlinewidth": 0,
              "ticks": ""
             }
            },
            "marker": {
             "colorbar": {
              "outlinewidth": 0,
              "ticks": ""
             }
            },
            "type": "scatter3d"
           }
          ],
          "scattercarpet": [
           {
            "marker": {
             "colorbar": {
              "outlinewidth": 0,
              "ticks": ""
             }
            },
            "type": "scattercarpet"
           }
          ],
          "scattergeo": [
           {
            "marker": {
             "colorbar": {
              "outlinewidth": 0,
              "ticks": ""
             }
            },
            "type": "scattergeo"
           }
          ],
          "scattergl": [
           {
            "marker": {
             "colorbar": {
              "outlinewidth": 0,
              "ticks": ""
             }
            },
            "type": "scattergl"
           }
          ],
          "scattermapbox": [
           {
            "marker": {
             "colorbar": {
              "outlinewidth": 0,
              "ticks": ""
             }
            },
            "type": "scattermapbox"
           }
          ],
          "scatterpolar": [
           {
            "marker": {
             "colorbar": {
              "outlinewidth": 0,
              "ticks": ""
             }
            },
            "type": "scatterpolar"
           }
          ],
          "scatterpolargl": [
           {
            "marker": {
             "colorbar": {
              "outlinewidth": 0,
              "ticks": ""
             }
            },
            "type": "scatterpolargl"
           }
          ],
          "scatterternary": [
           {
            "marker": {
             "colorbar": {
              "outlinewidth": 0,
              "ticks": ""
             }
            },
            "type": "scatterternary"
           }
          ],
          "surface": [
           {
            "colorbar": {
             "outlinewidth": 0,
             "ticks": ""
            },
            "colorscale": [
             [
              0,
              "#0d0887"
             ],
             [
              0.1111111111111111,
              "#46039f"
             ],
             [
              0.2222222222222222,
              "#7201a8"
             ],
             [
              0.3333333333333333,
              "#9c179e"
             ],
             [
              0.4444444444444444,
              "#bd3786"
             ],
             [
              0.5555555555555556,
              "#d8576b"
             ],
             [
              0.6666666666666666,
              "#ed7953"
             ],
             [
              0.7777777777777778,
              "#fb9f3a"
             ],
             [
              0.8888888888888888,
              "#fdca26"
             ],
             [
              1,
              "#f0f921"
             ]
            ],
            "type": "surface"
           }
          ],
          "table": [
           {
            "cells": {
             "fill": {
              "color": "#EBF0F8"
             },
             "line": {
              "color": "white"
             }
            },
            "header": {
             "fill": {
              "color": "#C8D4E3"
             },
             "line": {
              "color": "white"
             }
            },
            "type": "table"
           }
          ]
         },
         "layout": {
          "annotationdefaults": {
           "arrowcolor": "#2a3f5f",
           "arrowhead": 0,
           "arrowwidth": 1
          },
          "autotypenumbers": "strict",
          "coloraxis": {
           "colorbar": {
            "outlinewidth": 0,
            "ticks": ""
           }
          },
          "colorscale": {
           "diverging": [
            [
             0,
             "#8e0152"
            ],
            [
             0.1,
             "#c51b7d"
            ],
            [
             0.2,
             "#de77ae"
            ],
            [
             0.3,
             "#f1b6da"
            ],
            [
             0.4,
             "#fde0ef"
            ],
            [
             0.5,
             "#f7f7f7"
            ],
            [
             0.6,
             "#e6f5d0"
            ],
            [
             0.7,
             "#b8e186"
            ],
            [
             0.8,
             "#7fbc41"
            ],
            [
             0.9,
             "#4d9221"
            ],
            [
             1,
             "#276419"
            ]
           ],
           "sequential": [
            [
             0,
             "#0d0887"
            ],
            [
             0.1111111111111111,
             "#46039f"
            ],
            [
             0.2222222222222222,
             "#7201a8"
            ],
            [
             0.3333333333333333,
             "#9c179e"
            ],
            [
             0.4444444444444444,
             "#bd3786"
            ],
            [
             0.5555555555555556,
             "#d8576b"
            ],
            [
             0.6666666666666666,
             "#ed7953"
            ],
            [
             0.7777777777777778,
             "#fb9f3a"
            ],
            [
             0.8888888888888888,
             "#fdca26"
            ],
            [
             1,
             "#f0f921"
            ]
           ],
           "sequentialminus": [
            [
             0,
             "#0d0887"
            ],
            [
             0.1111111111111111,
             "#46039f"
            ],
            [
             0.2222222222222222,
             "#7201a8"
            ],
            [
             0.3333333333333333,
             "#9c179e"
            ],
            [
             0.4444444444444444,
             "#bd3786"
            ],
            [
             0.5555555555555556,
             "#d8576b"
            ],
            [
             0.6666666666666666,
             "#ed7953"
            ],
            [
             0.7777777777777778,
             "#fb9f3a"
            ],
            [
             0.8888888888888888,
             "#fdca26"
            ],
            [
             1,
             "#f0f921"
            ]
           ]
          },
          "colorway": [
           "#636efa",
           "#EF553B",
           "#00cc96",
           "#ab63fa",
           "#FFA15A",
           "#19d3f3",
           "#FF6692",
           "#B6E880",
           "#FF97FF",
           "#FECB52"
          ],
          "font": {
           "color": "#2a3f5f"
          },
          "geo": {
           "bgcolor": "white",
           "lakecolor": "white",
           "landcolor": "#E5ECF6",
           "showlakes": true,
           "showland": true,
           "subunitcolor": "white"
          },
          "hoverlabel": {
           "align": "left"
          },
          "hovermode": "closest",
          "mapbox": {
           "style": "light"
          },
          "paper_bgcolor": "white",
          "plot_bgcolor": "#E5ECF6",
          "polar": {
           "angularaxis": {
            "gridcolor": "white",
            "linecolor": "white",
            "ticks": ""
           },
           "bgcolor": "#E5ECF6",
           "radialaxis": {
            "gridcolor": "white",
            "linecolor": "white",
            "ticks": ""
           }
          },
          "scene": {
           "xaxis": {
            "backgroundcolor": "#E5ECF6",
            "gridcolor": "white",
            "gridwidth": 2,
            "linecolor": "white",
            "showbackground": true,
            "ticks": "",
            "zerolinecolor": "white"
           },
           "yaxis": {
            "backgroundcolor": "#E5ECF6",
            "gridcolor": "white",
            "gridwidth": 2,
            "linecolor": "white",
            "showbackground": true,
            "ticks": "",
            "zerolinecolor": "white"
           },
           "zaxis": {
            "backgroundcolor": "#E5ECF6",
            "gridcolor": "white",
            "gridwidth": 2,
            "linecolor": "white",
            "showbackground": true,
            "ticks": "",
            "zerolinecolor": "white"
           }
          },
          "shapedefaults": {
           "line": {
            "color": "#2a3f5f"
           }
          },
          "ternary": {
           "aaxis": {
            "gridcolor": "white",
            "linecolor": "white",
            "ticks": ""
           },
           "baxis": {
            "gridcolor": "white",
            "linecolor": "white",
            "ticks": ""
           },
           "bgcolor": "#E5ECF6",
           "caxis": {
            "gridcolor": "white",
            "linecolor": "white",
            "ticks": ""
           }
          },
          "title": {
           "x": 0.05
          },
          "xaxis": {
           "automargin": true,
           "gridcolor": "white",
           "linecolor": "white",
           "ticks": "",
           "title": {
            "standoff": 15
           },
           "zerolinecolor": "white",
           "zerolinewidth": 2
          },
          "yaxis": {
           "automargin": true,
           "gridcolor": "white",
           "linecolor": "white",
           "ticks": "",
           "title": {
            "standoff": 15
           },
           "zerolinecolor": "white",
           "zerolinewidth": 2
          }
         }
        },
        "title": {
         "text": "SID: 14"
        },
        "width": 500,
        "xaxis": {
         "autorange": true,
         "range": [
          -0.5,
          8.5
         ],
         "showgrid": false,
         "side": "top",
         "tickangle": 90,
         "type": "category"
        },
        "yaxis": {
         "autorange": true,
         "range": [
          8.5,
          -0.5
         ],
         "showgrid": false,
         "type": "category"
        }
       }
      },
      "image/png": "[encoded data removed]"
     },
     "metadata": {},
     "output_type": "display_data"
    }
   ],
   "source": [
    "bn_obj.plot_sid_matrix(nodes=nodes)"
   ]
  },
  {
   "cell_type": "markdown",
   "id": "1e0160c6-9082-4680-b93c-13e03c1f57c4",
   "metadata": {
    "tags": []
   },
   "source": [
    "Interventions on $X_{26}$, $X_{35}$, $X_{16}$ and $X_7$ lead to several incorrect predictions.\n"
   ]
  },
  {
   "cell_type": "markdown",
   "id": "2080b0a4-93a8-450b-ab41-cb1ebf799da1",
   "metadata": {},
   "source": [
    "### Local SID Evaluation for Multiple Nodes\n",
    "\n",
    "With the `bnm` package, you can analyze not just a single node, but a list of nodes.  \n"
   ]
  },
  {
   "cell_type": "markdown",
   "id": "0da72c4b-dad9-4ff7-a577-b102b744cb12",
   "metadata": {},
   "source": [
    "### 📌 Example: Nodes X_16 and X_35\n",
    "\n",
    "- **Left**: True Markov blanket of $X_{16}$ and $X_{35}$  \n",
    "- **Right**: Same set of nodes, with structure from the estimated graph  "
   ]
  },
  {
   "cell_type": "code",
   "execution_count": 75,
   "id": "04e801f4-29f9-4dfd-81d9-f7416dc825a6",
   "metadata": {},
   "outputs": [
    {
     "data": {
      "text/html": [
       "\n",
       "        <div style=\"display: flex; gap: 60px;\">\n",
       "            <div style=\"text-align: center;\">\n",
       "                <h3>True Markov Blanket of X_16 and X_35</h3>\n",
       "                <?xml version=\"1.0\" encoding=\"UTF-8\" standalone=\"no\"?>\r\n",
       "<!DOCTYPE svg PUBLIC \"-//W3C//DTD SVG 1.1//EN\"\r\n",
       " \"http://www.w3.org/Graphics/SVG/1.1/DTD/svg11.dtd\">\r\n",
       "<!-- Generated by graphviz version 8.0.5 (20230430.1635)\r\n",
       " -->\r\n",
       "<!-- Title: True Markov Blanket of X_16 and X_35 Pages: 1 -->\r\n",
       "<svg width=\"831pt\" height=\"332pt\"\r\n",
       " viewBox=\"0.00 0.00 831.40 332.00\" xmlns=\"http://www.w3.org/2000/svg\" xmlns:xlink=\"http://www.w3.org/1999/xlink\">\r\n",
       "<g id=\"graph0\" class=\"graph\" transform=\"scale(1 1) rotate(0) translate(4 328)\">\r\n",
       "<title>True Markov Blanket of X_16 and X_35</title>\r\n",
       "<polygon fill=\"white\" stroke=\"none\" points=\"-4,4 -4,-328 827.4,-328 827.4,4 -4,4\"/>\r\n",
       "<!-- X_26 -->\r\n",
       "<g id=\"node1\" class=\"node\">\r\n",
       "<title>X_26</title>\r\n",
       "<ellipse fill=\"none\" stroke=\"black\" cx=\"117.29\" cy=\"-90\" rx=\"31.1\" ry=\"18\"/>\r\n",
       "<text text-anchor=\"middle\" x=\"117.29\" y=\"-84.58\" font-family=\"Times New Roman,serif\" font-size=\"14.00\">X_26</text>\r\n",
       "</g>\r\n",
       "<!-- X_1 -->\r\n",
       "<g id=\"node2\" class=\"node\">\r\n",
       "<title>X_1</title>\r\n",
       "<ellipse fill=\"none\" stroke=\"black\" cx=\"269.29\" cy=\"-162\" rx=\"27\" ry=\"18\"/>\r\n",
       "<text text-anchor=\"middle\" x=\"269.29\" y=\"-156.57\" font-family=\"Times New Roman,serif\" font-size=\"14.00\">X_1</text>\r\n",
       "</g>\r\n",
       "<!-- X_8 -->\r\n",
       "<g id=\"node7\" class=\"node\">\r\n",
       "<title>X_8</title>\r\n",
       "<ellipse fill=\"none\" stroke=\"black\" cx=\"269.29\" cy=\"-90\" rx=\"27\" ry=\"18\"/>\r\n",
       "<text text-anchor=\"middle\" x=\"269.29\" y=\"-84.58\" font-family=\"Times New Roman,serif\" font-size=\"14.00\">X_8</text>\r\n",
       "</g>\r\n",
       "<!-- X_1&#45;&gt;X_8 -->\r\n",
       "<g id=\"edge1\" class=\"edge\">\r\n",
       "<title>X_1&#45;&gt;X_8</title>\r\n",
       "<path fill=\"none\" stroke=\"crimson\" d=\"M269.29,-143.7C269.29,-136.24 269.29,-127.32 269.29,-118.97\"/>\r\n",
       "<polygon fill=\"crimson\" stroke=\"crimson\" points=\"272.79,-119.1 269.29,-109.1 265.79,-119.1 272.79,-119.1\"/>\r\n",
       "</g>\r\n",
       "<!-- X_35 -->\r\n",
       "<g id=\"node3\" class=\"node\">\r\n",
       "<title>X_35</title>\r\n",
       "<ellipse fill=\"lightgreen\" stroke=\"black\" cx=\"431.29\" cy=\"-234\" rx=\"31.1\" ry=\"18\"/>\r\n",
       "<text text-anchor=\"middle\" x=\"431.29\" y=\"-228.57\" font-family=\"Times New Roman,serif\" font-size=\"14.00\">X_35</text>\r\n",
       "</g>\r\n",
       "<!-- X_16 -->\r\n",
       "<g id=\"node9\" class=\"node\">\r\n",
       "<title>X_16</title>\r\n",
       "<ellipse fill=\"lightgreen\" stroke=\"black\" cx=\"345.29\" cy=\"-162\" rx=\"31.1\" ry=\"18\"/>\r\n",
       "<text text-anchor=\"middle\" x=\"345.29\" y=\"-156.57\" font-family=\"Times New Roman,serif\" font-size=\"14.00\">X_16</text>\r\n",
       "</g>\r\n",
       "<!-- X_35&#45;&gt;X_16 -->\r\n",
       "<g id=\"edge2\" class=\"edge\">\r\n",
       "<title>X_35&#45;&gt;X_16</title>\r\n",
       "<path fill=\"none\" stroke=\"black\" d=\"M413.89,-218.83C401.53,-208.78 384.74,-195.11 370.87,-183.82\"/>\r\n",
       "<polygon fill=\"black\" stroke=\"black\" points=\"373.64,-180.74 363.67,-177.14 369.22,-186.17 373.64,-180.74\"/>\r\n",
       "</g>\r\n",
       "<!-- X_22 -->\r\n",
       "<g id=\"node10\" class=\"node\">\r\n",
       "<title>X_22</title>\r\n",
       "<ellipse fill=\"none\" stroke=\"black\" cx=\"501.29\" cy=\"-162\" rx=\"31.1\" ry=\"18\"/>\r\n",
       "<text text-anchor=\"middle\" x=\"501.29\" y=\"-156.57\" font-family=\"Times New Roman,serif\" font-size=\"14.00\">X_22</text>\r\n",
       "</g>\r\n",
       "<!-- X_35&#45;&gt;X_22 -->\r\n",
       "<g id=\"edge3\" class=\"edge\">\r\n",
       "<title>X_35&#45;&gt;X_22</title>\r\n",
       "<path fill=\"none\" stroke=\"crimson\" d=\"M446.48,-217.81C455.84,-208.45 468.01,-196.28 478.51,-185.79\"/>\r\n",
       "<polygon fill=\"crimson\" stroke=\"crimson\" points=\"480.54,-188.71 485.13,-179.16 475.59,-183.76 480.54,-188.71\"/>\r\n",
       "</g>\r\n",
       "<!-- X_40 -->\r\n",
       "<g id=\"node11\" class=\"node\">\r\n",
       "<title>X_40</title>\r\n",
       "<ellipse fill=\"none\" stroke=\"black\" cx=\"602.29\" cy=\"-18\" rx=\"31.1\" ry=\"18\"/>\r\n",
       "<text text-anchor=\"middle\" x=\"602.29\" y=\"-12.57\" font-family=\"Times New Roman,serif\" font-size=\"14.00\">X_40</text>\r\n",
       "</g>\r\n",
       "<!-- X_35&#45;&gt;X_40 -->\r\n",
       "<g id=\"edge5\" class=\"edge\">\r\n",
       "<title>X_35&#45;&gt;X_40</title>\r\n",
       "<path fill=\"none\" stroke=\"black\" d=\"M434.34,-215.76C438.26,-196.92 446.43,-166.43 461.29,-144 491.15,-98.95 541.18,-59.99 572.93,-38.02\"/>\r\n",
       "<polygon fill=\"black\" stroke=\"black\" points=\"574.45,-40.54 580.75,-32.02 570.52,-34.75 574.45,-40.54\"/>\r\n",
       "</g>\r\n",
       "<!-- X_17 -->\r\n",
       "<g id=\"node12\" class=\"node\">\r\n",
       "<title>X_17</title>\r\n",
       "<ellipse fill=\"none\" stroke=\"black\" cx=\"581.29\" cy=\"-162\" rx=\"31.1\" ry=\"18\"/>\r\n",
       "<text text-anchor=\"middle\" x=\"581.29\" y=\"-156.57\" font-family=\"Times New Roman,serif\" font-size=\"14.00\">X_17</text>\r\n",
       "</g>\r\n",
       "<!-- X_35&#45;&gt;X_17 -->\r\n",
       "<g id=\"edge4\" class=\"edge\">\r\n",
       "<title>X_35&#45;&gt;X_17</title>\r\n",
       "<path fill=\"none\" stroke=\"crimson\" d=\"M455.06,-221.91C480.08,-210.23 519.66,-191.76 547.82,-178.62\"/>\r\n",
       "<polygon fill=\"crimson\" stroke=\"crimson\" points=\"549.06,-181.44 556.64,-174.04 546.09,-175.1 549.06,-181.44\"/>\r\n",
       "</g>\r\n",
       "<!-- X_20 -->\r\n",
       "<g id=\"node4\" class=\"node\">\r\n",
       "<title>X_20</title>\r\n",
       "<ellipse fill=\"none\" stroke=\"black\" cx=\"269.29\" cy=\"-234\" rx=\"31.1\" ry=\"18\"/>\r\n",
       "<text text-anchor=\"middle\" x=\"269.29\" y=\"-228.57\" font-family=\"Times New Roman,serif\" font-size=\"14.00\">X_20</text>\r\n",
       "</g>\r\n",
       "<!-- X_20&#45;&gt;X_26 -->\r\n",
       "<g id=\"edge7\" class=\"edge\">\r\n",
       "<title>X_20&#45;&gt;X_26</title>\r\n",
       "<path fill=\"none\" stroke=\"black\" d=\"M253.31,-218.07C226.45,-192.97 172.1,-142.2 140.85,-113\"/>\r\n",
       "<polygon fill=\"black\" stroke=\"black\" points=\"143.76,-111 134.06,-106.73 138.98,-116.11 143.76,-111\"/>\r\n",
       "</g>\r\n",
       "<!-- X_20&#45;&gt;X_1 -->\r\n",
       "<g id=\"edge6\" class=\"edge\">\r\n",
       "<title>X_20&#45;&gt;X_1</title>\r\n",
       "<path fill=\"none\" stroke=\"crimson\" d=\"M269.29,-215.7C269.29,-208.24 269.29,-199.32 269.29,-190.97\"/>\r\n",
       "<polygon fill=\"crimson\" stroke=\"crimson\" points=\"272.79,-191.1 269.29,-181.1 265.79,-191.1 272.79,-191.1\"/>\r\n",
       "</g>\r\n",
       "<!-- X_20&#45;&gt;X_40 -->\r\n",
       "<g id=\"edge8\" class=\"edge\">\r\n",
       "<title>X_20&#45;&gt;X_40</title>\r\n",
       "<path fill=\"none\" stroke=\"black\" d=\"M295.73,-224.29C320.31,-215.44 357.26,-200.17 385.29,-180 438.64,-141.62 432.95,-110.38 486.29,-72 510.72,-54.43 541.9,-40.58 565.78,-31.45\"/>\r\n",
       "<polygon fill=\"black\" stroke=\"black\" points=\"566.7,-34.47 574.86,-27.71 564.26,-27.91 566.7,-34.47\"/>\r\n",
       "</g>\r\n",
       "<!-- X_18 -->\r\n",
       "<g id=\"node5\" class=\"node\">\r\n",
       "<title>X_18</title>\r\n",
       "<ellipse fill=\"none\" stroke=\"black\" cx=\"117.29\" cy=\"-162\" rx=\"31.1\" ry=\"18\"/>\r\n",
       "<text text-anchor=\"middle\" x=\"117.29\" y=\"-156.57\" font-family=\"Times New Roman,serif\" font-size=\"14.00\">X_18</text>\r\n",
       "</g>\r\n",
       "<!-- X_18&#45;&gt;X_26 -->\r\n",
       "<g id=\"edge9\" class=\"edge\">\r\n",
       "<title>X_18&#45;&gt;X_26</title>\r\n",
       "<path fill=\"none\" stroke=\"black\" d=\"M117.29,-143.7C117.29,-136.24 117.29,-127.32 117.29,-118.97\"/>\r\n",
       "<polygon fill=\"black\" stroke=\"black\" points=\"120.79,-119.1 117.29,-109.1 113.79,-119.1 120.79,-119.1\"/>\r\n",
       "</g>\r\n",
       "<!-- X_7 -->\r\n",
       "<g id=\"node6\" class=\"node\">\r\n",
       "<title>X_7</title>\r\n",
       "<ellipse fill=\"none\" stroke=\"black\" cx=\"41.29\" cy=\"-162\" rx=\"27\" ry=\"18\"/>\r\n",
       "<text text-anchor=\"middle\" x=\"41.29\" y=\"-156.57\" font-family=\"Times New Roman,serif\" font-size=\"14.00\">X_7</text>\r\n",
       "</g>\r\n",
       "<!-- X_7&#45;&gt;X_26 -->\r\n",
       "<g id=\"edge10\" class=\"edge\">\r\n",
       "<title>X_7&#45;&gt;X_26</title>\r\n",
       "<path fill=\"none\" stroke=\"crimson\" d=\"M56.67,-146.83C67.18,-137.16 81.3,-124.15 93.28,-113.12\"/>\r\n",
       "<polygon fill=\"crimson\" stroke=\"crimson\" points=\"95.17,-116.22 100.15,-106.87 90.42,-111.07 95.17,-116.22\"/>\r\n",
       "</g>\r\n",
       "<!-- X_24 -->\r\n",
       "<g id=\"node8\" class=\"node\">\r\n",
       "<title>X_24</title>\r\n",
       "<ellipse fill=\"none\" stroke=\"black\" cx=\"41.29\" cy=\"-234\" rx=\"31.1\" ry=\"18\"/>\r\n",
       "<text text-anchor=\"middle\" x=\"41.29\" y=\"-228.57\" font-family=\"Times New Roman,serif\" font-size=\"14.00\">X_24</text>\r\n",
       "</g>\r\n",
       "<!-- X_24&#45;&gt;X_26 -->\r\n",
       "<g id=\"edge13\" class=\"edge\">\r\n",
       "<title>X_24&#45;&gt;X_26</title>\r\n",
       "<path fill=\"none\" stroke=\"black\" d=\"M26.7,-217.72C10.99,-199.33 -9.86,-167.94 5.29,-144 21,-119.19 51.8,-105.77 77.13,-98.65\"/>\r\n",
       "<polygon fill=\"black\" stroke=\"black\" points=\"77.78,-101.84 86.59,-95.96 76.04,-95.06 77.78,-101.84\"/>\r\n",
       "</g>\r\n",
       "<!-- X_24&#45;&gt;X_7 -->\r\n",
       "<g id=\"edge12\" class=\"edge\">\r\n",
       "<title>X_24&#45;&gt;X_7</title>\r\n",
       "<path fill=\"none\" stroke=\"black\" d=\"M41.29,-215.7C41.29,-208.24 41.29,-199.32 41.29,-190.97\"/>\r\n",
       "<polygon fill=\"black\" stroke=\"black\" points=\"44.79,-191.1 41.29,-181.1 37.79,-191.1 44.79,-191.1\"/>\r\n",
       "</g>\r\n",
       "<!-- X_24&#45;&gt;X_8 -->\r\n",
       "<g id=\"edge11\" class=\"edge\">\r\n",
       "<title>X_24&#45;&gt;X_8</title>\r\n",
       "<path fill=\"none\" stroke=\"crimson\" d=\"M67.09,-223.32C91.21,-213.79 127.85,-198.05 157.29,-180 190,-159.94 224.02,-131.68 245.86,-112.42\"/>\r\n",
       "<polygon fill=\"crimson\" stroke=\"crimson\" points=\"247.75,-115.54 252.88,-106.27 243.09,-110.31 247.75,-115.54\"/>\r\n",
       "</g>\r\n",
       "<!-- X_16&#45;&gt;X_26 -->\r\n",
       "<g id=\"edge14\" class=\"edge\">\r\n",
       "<title>X_16&#45;&gt;X_26</title>\r\n",
       "<path fill=\"none\" stroke=\"black\" d=\"M321.37,-150.25C316.13,-148.06 310.56,-145.85 305.29,-144 254.42,-126.1 194.19,-109.98 155.87,-100.34\"/>\r\n",
       "<polygon fill=\"black\" stroke=\"black\" points=\"157.22,-96.82 146.67,-97.8 155.53,-103.62 157.22,-96.82\"/>\r\n",
       "</g>\r\n",
       "<!-- X_16&#45;&gt;X_8 -->\r\n",
       "<g id=\"edge15\" class=\"edge\">\r\n",
       "<title>X_16&#45;&gt;X_8</title>\r\n",
       "<path fill=\"none\" stroke=\"crimson\" d=\"M329.18,-146.15C318.48,-136.31 304.29,-123.23 292.4,-112.28\"/>\r\n",
       "<polygon fill=\"crimson\" stroke=\"crimson\" points=\"295.34,-110.31 285.61,-106.11 290.59,-115.46 295.34,-110.31\"/>\r\n",
       "</g>\r\n",
       "<!-- X_37 -->\r\n",
       "<g id=\"node13\" class=\"node\">\r\n",
       "<title>X_37</title>\r\n",
       "<ellipse fill=\"none\" stroke=\"black\" cx=\"591.29\" cy=\"-234\" rx=\"31.1\" ry=\"18\"/>\r\n",
       "<text text-anchor=\"middle\" x=\"591.29\" y=\"-228.57\" font-family=\"Times New Roman,serif\" font-size=\"14.00\">X_37</text>\r\n",
       "</g>\r\n",
       "<!-- X_37&#45;&gt;X_22 -->\r\n",
       "<g id=\"edge16\" class=\"edge\">\r\n",
       "<title>X_37&#45;&gt;X_22</title>\r\n",
       "<path fill=\"none\" stroke=\"crimson\" d=\"M573.51,-219.17C560.53,-209.07 542.71,-195.21 528.02,-183.79\"/>\r\n",
       "<polygon fill=\"crimson\" stroke=\"crimson\" points=\"530.39,-180.42 520.35,-177.04 526.09,-185.94 530.39,-180.42\"/>\r\n",
       "</g>\r\n",
       "<!-- X_2 -->\r\n",
       "<g id=\"node15\" class=\"node\">\r\n",
       "<title>X_2</title>\r\n",
       "<ellipse fill=\"none\" stroke=\"black\" cx=\"657.29\" cy=\"-162\" rx=\"27\" ry=\"18\"/>\r\n",
       "<text text-anchor=\"middle\" x=\"657.29\" y=\"-156.57\" font-family=\"Times New Roman,serif\" font-size=\"14.00\">X_2</text>\r\n",
       "</g>\r\n",
       "<!-- X_37&#45;&gt;X_2 -->\r\n",
       "<g id=\"edge17\" class=\"edge\">\r\n",
       "<title>X_37&#45;&gt;X_2</title>\r\n",
       "<path fill=\"none\" stroke=\"crimson\" d=\"M605.61,-217.81C614.47,-208.42 626,-196.19 635.92,-185.67\"/>\r\n",
       "<polygon fill=\"crimson\" stroke=\"crimson\" points=\"638.14,-188.36 642.45,-178.68 633.05,-183.55 638.14,-188.36\"/>\r\n",
       "</g>\r\n",
       "<!-- X_33 -->\r\n",
       "<g id=\"node14\" class=\"node\">\r\n",
       "<title>X_33</title>\r\n",
       "<ellipse fill=\"none\" stroke=\"black\" cx=\"712.29\" cy=\"-90\" rx=\"31.1\" ry=\"18\"/>\r\n",
       "<text text-anchor=\"middle\" x=\"712.29\" y=\"-84.58\" font-family=\"Times New Roman,serif\" font-size=\"14.00\">X_33</text>\r\n",
       "</g>\r\n",
       "<!-- X_33&#45;&gt;X_40 -->\r\n",
       "<g id=\"edge18\" class=\"edge\">\r\n",
       "<title>X_33&#45;&gt;X_40</title>\r\n",
       "<path fill=\"none\" stroke=\"black\" d=\"M691.86,-76C674.96,-65.24 650.73,-49.82 631.74,-37.74\"/>\r\n",
       "<polygon fill=\"black\" stroke=\"black\" points=\"633.93,-34.35 623.62,-31.93 630.17,-40.25 633.93,-34.35\"/>\r\n",
       "</g>\r\n",
       "<!-- X_2&#45;&gt;X_40 -->\r\n",
       "<g id=\"edge19\" class=\"edge\">\r\n",
       "<title>X_2&#45;&gt;X_40</title>\r\n",
       "<path fill=\"none\" stroke=\"black\" d=\"M636.02,-150.32C620.73,-141.34 601.29,-126.94 592.29,-108 583.14,-88.72 586.68,-64.52 591.93,-46.23\"/>\r\n",
       "<polygon fill=\"black\" stroke=\"black\" points=\"595.5,-47.55 595.23,-36.96 588.84,-45.41 595.5,-47.55\"/>\r\n",
       "</g>\r\n",
       "<!-- X_19 -->\r\n",
       "<g id=\"node16\" class=\"node\">\r\n",
       "<title>X_19</title>\r\n",
       "<ellipse fill=\"none\" stroke=\"black\" cx=\"632.29\" cy=\"-90\" rx=\"31.1\" ry=\"18\"/>\r\n",
       "<text text-anchor=\"middle\" x=\"632.29\" y=\"-84.58\" font-family=\"Times New Roman,serif\" font-size=\"14.00\">X_19</text>\r\n",
       "</g>\r\n",
       "<!-- X_2&#45;&gt;X_19 -->\r\n",
       "<g id=\"edge20\" class=\"edge\">\r\n",
       "<title>X_2&#45;&gt;X_19</title>\r\n",
       "<path fill=\"none\" stroke=\"black\" d=\"M651.24,-144.05C648.45,-136.23 645.06,-126.75 641.93,-117.98\"/>\r\n",
       "<polygon fill=\"black\" stroke=\"black\" points=\"644.95,-117.03 638.29,-108.79 638.36,-119.38 644.95,-117.03\"/>\r\n",
       "</g>\r\n",
       "<!-- X_19&#45;&gt;X_40 -->\r\n",
       "<g id=\"edge21\" class=\"edge\">\r\n",
       "<title>X_19&#45;&gt;X_40</title>\r\n",
       "<path fill=\"none\" stroke=\"black\" d=\"M625.03,-72.05C621.64,-64.14 617.52,-54.54 613.73,-45.69\"/>\r\n",
       "<polygon fill=\"black\" stroke=\"black\" points=\"616.65,-44.6 609.49,-36.79 610.21,-47.36 616.65,-44.6\"/>\r\n",
       "</g>\r\n",
       "<!-- X_34 -->\r\n",
       "<g id=\"node17\" class=\"node\">\r\n",
       "<title>X_34</title>\r\n",
       "<ellipse fill=\"none\" stroke=\"black\" cx=\"511.29\" cy=\"-234\" rx=\"31.1\" ry=\"18\"/>\r\n",
       "<text text-anchor=\"middle\" x=\"511.29\" y=\"-228.57\" font-family=\"Times New Roman,serif\" font-size=\"14.00\">X_34</text>\r\n",
       "</g>\r\n",
       "<!-- X_34&#45;&gt;X_22 -->\r\n",
       "<g id=\"edge22\" class=\"edge\">\r\n",
       "<title>X_34&#45;&gt;X_22</title>\r\n",
       "<path fill=\"none\" stroke=\"crimson\" d=\"M508.82,-215.7C507.76,-208.24 506.48,-199.32 505.29,-190.97\"/>\r\n",
       "<polygon fill=\"crimson\" stroke=\"crimson\" points=\"508.62,-190.51 503.74,-181.1 501.69,-191.5 508.62,-190.51\"/>\r\n",
       "</g>\r\n",
       "<!-- X_11 -->\r\n",
       "<g id=\"node18\" class=\"node\">\r\n",
       "<title>X_11</title>\r\n",
       "<ellipse fill=\"none\" stroke=\"black\" cx=\"792.29\" cy=\"-90\" rx=\"31.1\" ry=\"18\"/>\r\n",
       "<text text-anchor=\"middle\" x=\"792.29\" y=\"-84.58\" font-family=\"Times New Roman,serif\" font-size=\"14.00\">X_11</text>\r\n",
       "</g>\r\n",
       "<!-- X_11&#45;&gt;X_40 -->\r\n",
       "<g id=\"edge23\" class=\"edge\">\r\n",
       "<title>X_11&#45;&gt;X_40</title>\r\n",
       "<path fill=\"none\" stroke=\"black\" d=\"M767.85,-78.33C762.74,-76.17 757.36,-73.97 752.29,-72 713.95,-57.1 669.45,-41.59 638.94,-31.24\"/>\r\n",
       "<polygon fill=\"black\" stroke=\"black\" points=\"640.35,-27.68 629.76,-27.79 638.11,-34.31 640.35,-27.68\"/>\r\n",
       "</g>\r\n",
       "<!-- X_29 -->\r\n",
       "<g id=\"node19\" class=\"node\">\r\n",
       "<title>X_29</title>\r\n",
       "<ellipse fill=\"none\" stroke=\"black\" cx=\"671.29\" cy=\"-234\" rx=\"31.1\" ry=\"18\"/>\r\n",
       "<text text-anchor=\"middle\" x=\"671.29\" y=\"-228.57\" font-family=\"Times New Roman,serif\" font-size=\"14.00\">X_29</text>\r\n",
       "</g>\r\n",
       "<!-- X_29&#45;&gt;X_17 -->\r\n",
       "<g id=\"edge26\" class=\"edge\">\r\n",
       "<title>X_29&#45;&gt;X_17</title>\r\n",
       "<path fill=\"none\" stroke=\"crimson\" d=\"M653.51,-219.17C640.53,-209.07 622.71,-195.21 608.02,-183.79\"/>\r\n",
       "<polygon fill=\"crimson\" stroke=\"crimson\" points=\"610.39,-180.42 600.35,-177.04 606.09,-185.94 610.39,-180.42\"/>\r\n",
       "</g>\r\n",
       "<!-- X_29&#45;&gt;X_33 -->\r\n",
       "<g id=\"edge25\" class=\"edge\">\r\n",
       "<title>X_29&#45;&gt;X_33</title>\r\n",
       "<path fill=\"none\" stroke=\"crimson\" d=\"M679.24,-216.11C683.83,-205.84 689.44,-192.37 693.29,-180 699.54,-159.95 704.42,-136.74 707.67,-119.04\"/>\r\n",
       "<polygon fill=\"crimson\" stroke=\"crimson\" points=\"711.27,-119.76 709.57,-109.3 704.38,-118.54 711.27,-119.76\"/>\r\n",
       "</g>\r\n",
       "<!-- X_29&#45;&gt;X_2 -->\r\n",
       "<g id=\"edge24\" class=\"edge\">\r\n",
       "<title>X_29&#45;&gt;X_2</title>\r\n",
       "<path fill=\"none\" stroke=\"crimson\" d=\"M667.83,-215.7C666.32,-208.15 664.52,-199.12 662.83,-190.68\"/>\r\n",
       "<polygon fill=\"crimson\" stroke=\"crimson\" points=\"666.11,-190.22 660.71,-181.1 659.24,-191.6 666.11,-190.22\"/>\r\n",
       "</g>\r\n",
       "<!-- X_13 -->\r\n",
       "<g id=\"node20\" class=\"node\">\r\n",
       "<title>X_13</title>\r\n",
       "<ellipse fill=\"none\" stroke=\"black\" cx=\"431.29\" cy=\"-306\" rx=\"31.1\" ry=\"18\"/>\r\n",
       "<text text-anchor=\"middle\" x=\"431.29\" y=\"-300.57\" font-family=\"Times New Roman,serif\" font-size=\"14.00\">X_13</text>\r\n",
       "</g>\r\n",
       "<!-- X_13&#45;&gt;X_35 -->\r\n",
       "<g id=\"edge27\" class=\"edge\">\r\n",
       "<title>X_13&#45;&gt;X_35</title>\r\n",
       "<path fill=\"none\" stroke=\"black\" d=\"M431.29,-287.7C431.29,-280.24 431.29,-271.32 431.29,-262.97\"/>\r\n",
       "<polygon fill=\"black\" stroke=\"black\" points=\"434.79,-263.1 431.29,-253.1 427.79,-263.1 434.79,-263.1\"/>\r\n",
       "</g>\r\n",
       "</g>\r\n",
       "</svg>\r\n",
       "\n",
       "            </div>\n",
       "            <div style=\"text-align: center;\">\n",
       "                <h3>Estimated Structure over Same Nodes</h3>\n",
       "                <?xml version=\"1.0\" encoding=\"UTF-8\" standalone=\"no\"?>\r\n",
       "<!DOCTYPE svg PUBLIC \"-//W3C//DTD SVG 1.1//EN\"\r\n",
       " \"http://www.w3.org/Graphics/SVG/1.1/DTD/svg11.dtd\">\r\n",
       "<!-- Generated by graphviz version 8.0.5 (20230430.1635)\r\n",
       " -->\r\n",
       "<!-- Title: Estimated Structure over Same Nodes Pages: 1 -->\r\n",
       "<svg width=\"536pt\" height=\"260pt\"\r\n",
       " viewBox=\"0.00 0.00 536.21 260.00\" xmlns=\"http://www.w3.org/2000/svg\" xmlns:xlink=\"http://www.w3.org/1999/xlink\">\r\n",
       "<g id=\"graph0\" class=\"graph\" transform=\"scale(1 1) rotate(0) translate(4 256)\">\r\n",
       "<title>Estimated Structure over Same Nodes</title>\r\n",
       "<polygon fill=\"white\" stroke=\"none\" points=\"-4,4 -4,-256 532.21,-256 532.21,4 -4,4\"/>\r\n",
       "<!-- X_26 -->\r\n",
       "<g id=\"node1\" class=\"node\">\r\n",
       "<title>X_26</title>\r\n",
       "<ellipse fill=\"none\" stroke=\"black\" cx=\"31.1\" cy=\"-162\" rx=\"31.1\" ry=\"18\"/>\r\n",
       "<text text-anchor=\"middle\" x=\"31.1\" y=\"-156.57\" font-family=\"Times New Roman,serif\" font-size=\"14.00\">X_26</text>\r\n",
       "</g>\r\n",
       "<!-- X_1 -->\r\n",
       "<g id=\"node2\" class=\"node\">\r\n",
       "<title>X_1</title>\r\n",
       "<ellipse fill=\"none\" stroke=\"black\" cx=\"107.1\" cy=\"-162\" rx=\"27\" ry=\"18\"/>\r\n",
       "<text text-anchor=\"middle\" x=\"107.1\" y=\"-156.57\" font-family=\"Times New Roman,serif\" font-size=\"14.00\">X_1</text>\r\n",
       "</g>\r\n",
       "<!-- X_8 -->\r\n",
       "<g id=\"node7\" class=\"node\">\r\n",
       "<title>X_8</title>\r\n",
       "<ellipse fill=\"none\" stroke=\"black\" cx=\"145.1\" cy=\"-90\" rx=\"27\" ry=\"18\"/>\r\n",
       "<text text-anchor=\"middle\" x=\"145.1\" y=\"-84.58\" font-family=\"Times New Roman,serif\" font-size=\"14.00\">X_8</text>\r\n",
       "</g>\r\n",
       "<!-- X_1&#45;&gt;X_8 -->\r\n",
       "<g id=\"edge1\" class=\"edge\">\r\n",
       "<title>X_1&#45;&gt;X_8</title>\r\n",
       "<path fill=\"none\" stroke=\"crimson\" d=\"M115.92,-144.76C120.43,-136.46 126.02,-126.15 131.1,-116.79\"/>\r\n",
       "<polygon fill=\"crimson\" stroke=\"crimson\" points=\"134.64,-118.61 136.34,-108.15 128.49,-115.27 134.64,-118.61\"/>\r\n",
       "</g>\r\n",
       "<!-- X_35 -->\r\n",
       "<g id=\"node3\" class=\"node\">\r\n",
       "<title>X_35</title>\r\n",
       "<ellipse fill=\"lightgreen\" stroke=\"black\" cx=\"381.1\" cy=\"-90\" rx=\"31.1\" ry=\"18\"/>\r\n",
       "<text text-anchor=\"middle\" x=\"381.1\" y=\"-84.58\" font-family=\"Times New Roman,serif\" font-size=\"14.00\">X_35</text>\r\n",
       "</g>\r\n",
       "<!-- X_22 -->\r\n",
       "<g id=\"node10\" class=\"node\">\r\n",
       "<title>X_22</title>\r\n",
       "<ellipse fill=\"none\" stroke=\"black\" cx=\"265.1\" cy=\"-18\" rx=\"31.1\" ry=\"18\"/>\r\n",
       "<text text-anchor=\"middle\" x=\"265.1\" y=\"-12.57\" font-family=\"Times New Roman,serif\" font-size=\"14.00\">X_22</text>\r\n",
       "</g>\r\n",
       "<!-- X_35&#45;&gt;X_22 -->\r\n",
       "<g id=\"edge3\" class=\"edge\">\r\n",
       "<title>X_35&#45;&gt;X_22</title>\r\n",
       "<path fill=\"none\" stroke=\"crimson\" d=\"M360.1,-76.32C341.95,-65.37 315.51,-49.41 295.12,-37.12\"/>\r\n",
       "<polygon fill=\"crimson\" stroke=\"crimson\" points=\"297.32,-33.75 286.95,-31.58 293.71,-39.75 297.32,-33.75\"/>\r\n",
       "</g>\r\n",
       "<!-- X_17 -->\r\n",
       "<g id=\"node12\" class=\"node\">\r\n",
       "<title>X_17</title>\r\n",
       "<ellipse fill=\"none\" stroke=\"black\" cx=\"417.1\" cy=\"-18\" rx=\"31.1\" ry=\"18\"/>\r\n",
       "<text text-anchor=\"middle\" x=\"417.1\" y=\"-12.57\" font-family=\"Times New Roman,serif\" font-size=\"14.00\">X_17</text>\r\n",
       "</g>\r\n",
       "<!-- X_35&#45;&gt;X_17 -->\r\n",
       "<g id=\"edge2\" class=\"edge\">\r\n",
       "<title>X_35&#45;&gt;X_17</title>\r\n",
       "<path fill=\"none\" stroke=\"crimson\" d=\"M389.64,-72.41C393.81,-64.3 398.92,-54.35 403.6,-45.25\"/>\r\n",
       "<polygon fill=\"crimson\" stroke=\"crimson\" points=\"407.17,-46.96 408.63,-36.47 400.95,-43.76 407.17,-46.96\"/>\r\n",
       "</g>\r\n",
       "<!-- X_20 -->\r\n",
       "<g id=\"node4\" class=\"node\">\r\n",
       "<title>X_20</title>\r\n",
       "<ellipse fill=\"none\" stroke=\"black\" cx=\"107.1\" cy=\"-234\" rx=\"31.1\" ry=\"18\"/>\r\n",
       "<text text-anchor=\"middle\" x=\"107.1\" y=\"-228.57\" font-family=\"Times New Roman,serif\" font-size=\"14.00\">X_20</text>\r\n",
       "</g>\r\n",
       "<!-- X_20&#45;&gt;X_1 -->\r\n",
       "<g id=\"edge4\" class=\"edge\">\r\n",
       "<title>X_20&#45;&gt;X_1</title>\r\n",
       "<path fill=\"none\" stroke=\"crimson\" d=\"M107.1,-215.7C107.1,-208.24 107.1,-199.32 107.1,-190.97\"/>\r\n",
       "<polygon fill=\"crimson\" stroke=\"crimson\" points=\"110.6,-191.1 107.1,-181.1 103.6,-191.1 110.6,-191.1\"/>\r\n",
       "</g>\r\n",
       "<!-- X_18 -->\r\n",
       "<g id=\"node5\" class=\"node\">\r\n",
       "<title>X_18</title>\r\n",
       "<ellipse fill=\"none\" stroke=\"black\" cx=\"187.1\" cy=\"-234\" rx=\"31.1\" ry=\"18\"/>\r\n",
       "<text text-anchor=\"middle\" x=\"187.1\" y=\"-228.57\" font-family=\"Times New Roman,serif\" font-size=\"14.00\">X_18</text>\r\n",
       "</g>\r\n",
       "<!-- X_7 -->\r\n",
       "<g id=\"node6\" class=\"node\">\r\n",
       "<title>X_7</title>\r\n",
       "<ellipse fill=\"none\" stroke=\"black\" cx=\"31.1\" cy=\"-234\" rx=\"27\" ry=\"18\"/>\r\n",
       "<text text-anchor=\"middle\" x=\"31.1\" y=\"-228.57\" font-family=\"Times New Roman,serif\" font-size=\"14.00\">X_7</text>\r\n",
       "</g>\r\n",
       "<!-- X_7&#45;&gt;X_26 -->\r\n",
       "<g id=\"edge5\" class=\"edge\">\r\n",
       "<title>X_7&#45;&gt;X_26</title>\r\n",
       "<path fill=\"none\" stroke=\"crimson\" d=\"M31.1,-215.7C31.1,-208.24 31.1,-199.32 31.1,-190.97\"/>\r\n",
       "<polygon fill=\"crimson\" stroke=\"crimson\" points=\"34.6,-191.1 31.1,-181.1 27.6,-191.1 34.6,-191.1\"/>\r\n",
       "</g>\r\n",
       "<!-- X_24 -->\r\n",
       "<g id=\"node8\" class=\"node\">\r\n",
       "<title>X_24</title>\r\n",
       "<ellipse fill=\"none\" stroke=\"black\" cx=\"183.1\" cy=\"-162\" rx=\"31.1\" ry=\"18\"/>\r\n",
       "<text text-anchor=\"middle\" x=\"183.1\" y=\"-156.57\" font-family=\"Times New Roman,serif\" font-size=\"14.00\">X_24</text>\r\n",
       "</g>\r\n",
       "<!-- X_24&#45;&gt;X_8 -->\r\n",
       "<g id=\"edge6\" class=\"edge\">\r\n",
       "<title>X_24&#45;&gt;X_8</title>\r\n",
       "<path fill=\"none\" stroke=\"crimson\" d=\"M174.1,-144.41C169.65,-136.22 164.18,-126.14 159.19,-116.95\"/>\r\n",
       "<polygon fill=\"crimson\" stroke=\"crimson\" points=\"161.89,-115.59 154.04,-108.47 155.74,-118.93 161.89,-115.59\"/>\r\n",
       "</g>\r\n",
       "<!-- X_16 -->\r\n",
       "<g id=\"node9\" class=\"node\">\r\n",
       "<title>X_16</title>\r\n",
       "<ellipse fill=\"lightgreen\" stroke=\"black\" cx=\"301.1\" cy=\"-162\" rx=\"31.1\" ry=\"18\"/>\r\n",
       "<text text-anchor=\"middle\" x=\"301.1\" y=\"-156.57\" font-family=\"Times New Roman,serif\" font-size=\"14.00\">X_16</text>\r\n",
       "</g>\r\n",
       "<!-- X_16&#45;&gt;X_35 -->\r\n",
       "<g id=\"edge8\" class=\"edge\">\r\n",
       "<title>X_16&#45;&gt;X_35</title>\r\n",
       "<path fill=\"none\" stroke=\"black\" d=\"M317.68,-146.5C331.41,-134.48 350.83,-117.49 364.55,-105.49\"/>\r\n",
       "</g>\r\n",
       "<!-- X_16&#45;&gt;X_8 -->\r\n",
       "<g id=\"edge7\" class=\"edge\">\r\n",
       "<title>X_16&#45;&gt;X_8</title>\r\n",
       "<path fill=\"none\" stroke=\"crimson\" d=\"M276.66,-150.42C252.36,-139.85 214.04,-123.05 181.1,-108 179.65,-107.34 178.17,-106.65 176.67,-105.96\"/>\r\n",
       "<polygon fill=\"crimson\" stroke=\"crimson\" points=\"178.31,-102.4 167.76,-101.34 175.35,-108.74 178.31,-102.4\"/>\r\n",
       "</g>\r\n",
       "<!-- X_40 -->\r\n",
       "<g id=\"node11\" class=\"node\">\r\n",
       "<title>X_40</title>\r\n",
       "<ellipse fill=\"none\" stroke=\"black\" cx=\"267.1\" cy=\"-234\" rx=\"31.1\" ry=\"18\"/>\r\n",
       "<text text-anchor=\"middle\" x=\"267.1\" y=\"-228.57\" font-family=\"Times New Roman,serif\" font-size=\"14.00\">X_40</text>\r\n",
       "</g>\r\n",
       "<!-- X_37 -->\r\n",
       "<g id=\"node13\" class=\"node\">\r\n",
       "<title>X_37</title>\r\n",
       "<ellipse fill=\"none\" stroke=\"black\" cx=\"301.1\" cy=\"-90\" rx=\"31.1\" ry=\"18\"/>\r\n",
       "<text text-anchor=\"middle\" x=\"301.1\" y=\"-84.58\" font-family=\"Times New Roman,serif\" font-size=\"14.00\">X_37</text>\r\n",
       "</g>\r\n",
       "<!-- X_37&#45;&gt;X_22 -->\r\n",
       "<g id=\"edge9\" class=\"edge\">\r\n",
       "<title>X_37&#45;&gt;X_22</title>\r\n",
       "<path fill=\"none\" stroke=\"crimson\" d=\"M292.57,-72.41C288.4,-64.3 283.29,-54.35 278.6,-45.25\"/>\r\n",
       "<polygon fill=\"crimson\" stroke=\"crimson\" points=\"281.26,-43.76 273.57,-36.47 275.04,-46.96 281.26,-43.76\"/>\r\n",
       "</g>\r\n",
       "<!-- X_2 -->\r\n",
       "<g id=\"node15\" class=\"node\">\r\n",
       "<title>X_2</title>\r\n",
       "<ellipse fill=\"none\" stroke=\"black\" cx=\"341.1\" cy=\"-18\" rx=\"27\" ry=\"18\"/>\r\n",
       "<text text-anchor=\"middle\" x=\"341.1\" y=\"-12.57\" font-family=\"Times New Roman,serif\" font-size=\"14.00\">X_2</text>\r\n",
       "</g>\r\n",
       "<!-- X_37&#45;&gt;X_2 -->\r\n",
       "<g id=\"edge10\" class=\"edge\">\r\n",
       "<title>X_37&#45;&gt;X_2</title>\r\n",
       "<path fill=\"none\" stroke=\"crimson\" d=\"M310.58,-72.41C315.38,-64.01 321.32,-53.63 326.67,-44.26\"/>\r\n",
       "<polygon fill=\"crimson\" stroke=\"crimson\" points=\"330.05,-46.41 331.97,-35.99 323.97,-42.93 330.05,-46.41\"/>\r\n",
       "</g>\r\n",
       "<!-- X_33 -->\r\n",
       "<g id=\"node14\" class=\"node\">\r\n",
       "<title>X_33</title>\r\n",
       "<ellipse fill=\"none\" stroke=\"black\" cx=\"497.1\" cy=\"-18\" rx=\"31.1\" ry=\"18\"/>\r\n",
       "<text text-anchor=\"middle\" x=\"497.1\" y=\"-12.57\" font-family=\"Times New Roman,serif\" font-size=\"14.00\">X_33</text>\r\n",
       "</g>\r\n",
       "<!-- X_19 -->\r\n",
       "<g id=\"node16\" class=\"node\">\r\n",
       "<title>X_19</title>\r\n",
       "<ellipse fill=\"none\" stroke=\"black\" cx=\"347.1\" cy=\"-234\" rx=\"31.1\" ry=\"18\"/>\r\n",
       "<text text-anchor=\"middle\" x=\"347.1\" y=\"-228.57\" font-family=\"Times New Roman,serif\" font-size=\"14.00\">X_19</text>\r\n",
       "</g>\r\n",
       "<!-- X_34 -->\r\n",
       "<g id=\"node17\" class=\"node\">\r\n",
       "<title>X_34</title>\r\n",
       "<ellipse fill=\"none\" stroke=\"black\" cx=\"221.1\" cy=\"-90\" rx=\"31.1\" ry=\"18\"/>\r\n",
       "<text text-anchor=\"middle\" x=\"221.1\" y=\"-84.58\" font-family=\"Times New Roman,serif\" font-size=\"14.00\">X_34</text>\r\n",
       "</g>\r\n",
       "<!-- X_34&#45;&gt;X_22 -->\r\n",
       "<g id=\"edge11\" class=\"edge\">\r\n",
       "<title>X_34&#45;&gt;X_22</title>\r\n",
       "<path fill=\"none\" stroke=\"crimson\" d=\"M231.31,-72.76C236.64,-64.28 243.28,-53.71 249.27,-44.2\"/>\r\n",
       "<polygon fill=\"crimson\" stroke=\"crimson\" points=\"252.6,-46.48 254.95,-36.15 246.67,-42.75 252.6,-46.48\"/>\r\n",
       "</g>\r\n",
       "<!-- X_11 -->\r\n",
       "<g id=\"node18\" class=\"node\">\r\n",
       "<title>X_11</title>\r\n",
       "<ellipse fill=\"none\" stroke=\"black\" cx=\"427.1\" cy=\"-234\" rx=\"31.1\" ry=\"18\"/>\r\n",
       "<text text-anchor=\"middle\" x=\"427.1\" y=\"-228.57\" font-family=\"Times New Roman,serif\" font-size=\"14.00\">X_11</text>\r\n",
       "</g>\r\n",
       "<!-- X_29 -->\r\n",
       "<g id=\"node19\" class=\"node\">\r\n",
       "<title>X_29</title>\r\n",
       "<ellipse fill=\"none\" stroke=\"black\" cx=\"461.1\" cy=\"-90\" rx=\"31.1\" ry=\"18\"/>\r\n",
       "<text text-anchor=\"middle\" x=\"461.1\" y=\"-84.58\" font-family=\"Times New Roman,serif\" font-size=\"14.00\">X_29</text>\r\n",
       "</g>\r\n",
       "<!-- X_29&#45;&gt;X_17 -->\r\n",
       "<g id=\"edge12\" class=\"edge\">\r\n",
       "<title>X_29&#45;&gt;X_17</title>\r\n",
       "<path fill=\"none\" stroke=\"crimson\" d=\"M450.9,-72.76C445.57,-64.28 438.92,-53.71 432.94,-44.2\"/>\r\n",
       "<polygon fill=\"crimson\" stroke=\"crimson\" points=\"435.54,-42.75 427.25,-36.15 429.61,-46.48 435.54,-42.75\"/>\r\n",
       "</g>\r\n",
       "<!-- X_29&#45;&gt;X_33 -->\r\n",
       "<g id=\"edge14\" class=\"edge\">\r\n",
       "<title>X_29&#45;&gt;X_33</title>\r\n",
       "<path fill=\"none\" stroke=\"crimson\" d=\"M469.64,-72.41C473.81,-64.3 478.92,-54.35 483.6,-45.25\"/>\r\n",
       "<polygon fill=\"crimson\" stroke=\"crimson\" points=\"487.17,-46.96 488.63,-36.47 480.95,-43.76 487.17,-46.96\"/>\r\n",
       "</g>\r\n",
       "<!-- X_29&#45;&gt;X_2 -->\r\n",
       "<g id=\"edge13\" class=\"edge\">\r\n",
       "<title>X_29&#45;&gt;X_2</title>\r\n",
       "<path fill=\"none\" stroke=\"crimson\" d=\"M439.65,-76.49C420.24,-65.16 391.5,-48.4 370.06,-35.89\"/>\r\n",
       "<polygon fill=\"crimson\" stroke=\"crimson\" points=\"372.18,-32.49 361.78,-30.48 368.66,-38.54 372.18,-32.49\"/>\r\n",
       "</g>\r\n",
       "<!-- X_13 -->\r\n",
       "<g id=\"node20\" class=\"node\">\r\n",
       "<title>X_13</title>\r\n",
       "<ellipse fill=\"none\" stroke=\"black\" cx=\"381.1\" cy=\"-162\" rx=\"31.1\" ry=\"18\"/>\r\n",
       "<text text-anchor=\"middle\" x=\"381.1\" y=\"-156.57\" font-family=\"Times New Roman,serif\" font-size=\"14.00\">X_13</text>\r\n",
       "</g>\r\n",
       "<!-- X_13&#45;&gt;X_35 -->\r\n",
       "<g id=\"edge15\" class=\"edge\">\r\n",
       "<title>X_13&#45;&gt;X_35</title>\r\n",
       "<path fill=\"none\" stroke=\"black\" d=\"M381.1,-143.7C381.1,-132.85 381.1,-118.92 381.1,-108.1\"/>\r\n",
       "</g>\r\n",
       "</g>\r\n",
       "</svg>\r\n",
       "\n",
       "            </div>\n",
       "        </div>\n",
       "        "
      ],
      "text/plain": [
       "<IPython.core.display.HTML object>"
      ]
     },
     "metadata": {},
     "output_type": "display_data"
    }
   ],
   "source": [
    "nodes = ['X_16', 'X_35']\n",
    "bn_obj.compare_two_bn(\n",
    "    nodes=nodes,\n",
    "    option=2,\n",
    "    name1='True Markov Blanket of X_16 and X_35',\n",
    "    name2='Estimated Structure over Same Nodes'\n",
    ")"
   ]
  },
  {
   "cell_type": "markdown",
   "id": "59368a44-c155-4b34-9243-faec695f05e8",
   "metadata": {},
   "source": [
    "$\\text{SID} = 52$, highlighting many incorrect interventional predictions\n",
    "\n",
    "This approach helps:\n",
    "- Evaluate causal accuracy around multiple variables  \n",
    "- Identify where interventional errors are concentrated  \n",
    "- Scale SID diagnostics to subnetworks, not just individual nodes  \n"
   ]
  },
  {
   "cell_type": "code",
   "execution_count": 76,
   "id": "82ff1535-203d-42b3-a963-6b7e0f70ead2",
   "metadata": {},
   "outputs": [
    {
     "data": {
      "application/vnd.plotly.v1+json": {
       "config": {
        "plotlyServerURL": "https://plotly.com"
       },
       "data": [
        {
         "colorscale": [
          [
           0,
           "white"
          ],
          [
           0.9999,
           "white"
          ],
          [
           1,
           "crimson"
          ]
         ],
         "showscale": false,
         "type": "heatmap",
         "x": [
          "X_26",
          "X_1",
          "X_35",
          "X_20",
          "X_18",
          "X_7",
          "X_8",
          "X_24",
          "X_16",
          "X_22",
          "X_40",
          "X_17",
          "X_37",
          "X_33",
          "X_2",
          "X_19",
          "X_34",
          "X_11",
          "X_29",
          "X_13"
         ],
         "xgap": 1,
         "y": [
          "X_26",
          "X_1",
          "X_35",
          "X_20",
          "X_18",
          "X_7",
          "X_8",
          "X_24",
          "X_16",
          "X_22",
          "X_40",
          "X_17",
          "X_37",
          "X_33",
          "X_2",
          "X_19",
          "X_34",
          "X_11",
          "X_29",
          "X_13"
         ],
         "ygap": 1,
         "z": [
          [
           0,
           1,
           1,
           1,
           1,
           0,
           1,
           1,
           1,
           1,
           1,
           1,
           0,
           0,
           0,
           0,
           0,
           0,
           0,
           1
          ],
          [
           0,
           0,
           0,
           0,
           0,
           0,
           0,
           0,
           0,
           0,
           0,
           0,
           0,
           0,
           0,
           0,
           0,
           0,
           0,
           0
          ],
          [
           1,
           0,
           0,
           0,
           0,
           0,
           1,
           0,
           1,
           0,
           0,
           0,
           0,
           0,
           0,
           0,
           0,
           0,
           0,
           1
          ],
          [
           0,
           0,
           0,
           0,
           0,
           0,
           0,
           0,
           0,
           0,
           0,
           0,
           0,
           0,
           0,
           0,
           0,
           0,
           0,
           0
          ],
          [
           0,
           0,
           0,
           0,
           0,
           0,
           0,
           0,
           0,
           0,
           0,
           0,
           0,
           0,
           0,
           0,
           0,
           0,
           0,
           0
          ],
          [
           1,
           0,
           0,
           0,
           0,
           0,
           1,
           1,
           0,
           0,
           0,
           0,
           0,
           0,
           0,
           0,
           0,
           0,
           0,
           0
          ],
          [
           0,
           0,
           0,
           0,
           0,
           0,
           0,
           0,
           0,
           0,
           0,
           0,
           0,
           0,
           0,
           0,
           0,
           0,
           0,
           0
          ],
          [
           0,
           0,
           0,
           0,
           0,
           0,
           0,
           0,
           0,
           0,
           0,
           0,
           0,
           0,
           0,
           0,
           0,
           0,
           0,
           0
          ],
          [
           0,
           0,
           1,
           0,
           0,
           0,
           0,
           0,
           0,
           1,
           1,
           1,
           0,
           0,
           0,
           0,
           0,
           0,
           0,
           1
          ],
          [
           0,
           0,
           0,
           0,
           0,
           0,
           0,
           0,
           0,
           0,
           0,
           0,
           0,
           0,
           0,
           0,
           0,
           0,
           0,
           0
          ],
          [
           1,
           1,
           1,
           1,
           0,
           0,
           1,
           0,
           1,
           1,
           0,
           1,
           1,
           1,
           1,
           1,
           0,
           1,
           1,
           1
          ],
          [
           0,
           0,
           0,
           0,
           0,
           0,
           0,
           0,
           0,
           0,
           0,
           0,
           0,
           0,
           0,
           0,
           0,
           0,
           0,
           0
          ],
          [
           0,
           0,
           0,
           0,
           0,
           0,
           0,
           0,
           0,
           0,
           0,
           0,
           0,
           0,
           0,
           0,
           0,
           0,
           0,
           0
          ],
          [
           0,
           0,
           0,
           0,
           0,
           0,
           0,
           0,
           0,
           0,
           0,
           0,
           0,
           0,
           0,
           0,
           0,
           0,
           0,
           0
          ],
          [
           0,
           0,
           0,
           0,
           0,
           0,
           0,
           0,
           0,
           0,
           0,
           0,
           0,
           0,
           0,
           0,
           0,
           0,
           0,
           0
          ],
          [
           0,
           0,
           0,
           0,
           0,
           0,
           0,
           0,
           0,
           1,
           1,
           1,
           1,
           1,
           1,
           0,
           0,
           0,
           1,
           0
          ],
          [
           0,
           0,
           0,
           0,
           0,
           0,
           0,
           0,
           0,
           0,
           0,
           0,
           0,
           0,
           0,
           0,
           0,
           0,
           0,
           0
          ],
          [
           0,
           0,
           0,
           0,
           0,
           0,
           0,
           0,
           0,
           0,
           0,
           0,
           0,
           0,
           0,
           0,
           0,
           0,
           0,
           0
          ],
          [
           0,
           0,
           0,
           0,
           0,
           0,
           0,
           0,
           0,
           0,
           0,
           0,
           0,
           0,
           0,
           0,
           0,
           0,
           0,
           0
          ],
          [
           1,
           0,
           1,
           0,
           0,
           0,
           1,
           0,
           1,
           1,
           1,
           1,
           0,
           0,
           0,
           0,
           0,
           0,
           0,
           0
          ]
         ],
         "zmax": 1,
         "zmin": 0
        }
       ],
       "layout": {
        "height": 500,
        "template": {
         "data": {
          "bar": [
           {
            "error_x": {
             "color": "#2a3f5f"
            },
            "error_y": {
             "color": "#2a3f5f"
            },
            "marker": {
             "line": {
              "color": "#E5ECF6",
              "width": 0.5
             },
             "pattern": {
              "fillmode": "overlay",
              "size": 10,
              "solidity": 0.2
             }
            },
            "type": "bar"
           }
          ],
          "barpolar": [
           {
            "marker": {
             "line": {
              "color": "#E5ECF6",
              "width": 0.5
             },
             "pattern": {
              "fillmode": "overlay",
              "size": 10,
              "solidity": 0.2
             }
            },
            "type": "barpolar"
           }
          ],
          "carpet": [
           {
            "aaxis": {
             "endlinecolor": "#2a3f5f",
             "gridcolor": "white",
             "linecolor": "white",
             "minorgridcolor": "white",
             "startlinecolor": "#2a3f5f"
            },
            "baxis": {
             "endlinecolor": "#2a3f5f",
             "gridcolor": "white",
             "linecolor": "white",
             "minorgridcolor": "white",
             "startlinecolor": "#2a3f5f"
            },
            "type": "carpet"
           }
          ],
          "choropleth": [
           {
            "colorbar": {
             "outlinewidth": 0,
             "ticks": ""
            },
            "type": "choropleth"
           }
          ],
          "contour": [
           {
            "colorbar": {
             "outlinewidth": 0,
             "ticks": ""
            },
            "colorscale": [
             [
              0,
              "#0d0887"
             ],
             [
              0.1111111111111111,
              "#46039f"
             ],
             [
              0.2222222222222222,
              "#7201a8"
             ],
             [
              0.3333333333333333,
              "#9c179e"
             ],
             [
              0.4444444444444444,
              "#bd3786"
             ],
             [
              0.5555555555555556,
              "#d8576b"
             ],
             [
              0.6666666666666666,
              "#ed7953"
             ],
             [
              0.7777777777777778,
              "#fb9f3a"
             ],
             [
              0.8888888888888888,
              "#fdca26"
             ],
             [
              1,
              "#f0f921"
             ]
            ],
            "type": "contour"
           }
          ],
          "contourcarpet": [
           {
            "colorbar": {
             "outlinewidth": 0,
             "ticks": ""
            },
            "type": "contourcarpet"
           }
          ],
          "heatmap": [
           {
            "colorbar": {
             "outlinewidth": 0,
             "ticks": ""
            },
            "colorscale": [
             [
              0,
              "#0d0887"
             ],
             [
              0.1111111111111111,
              "#46039f"
             ],
             [
              0.2222222222222222,
              "#7201a8"
             ],
             [
              0.3333333333333333,
              "#9c179e"
             ],
             [
              0.4444444444444444,
              "#bd3786"
             ],
             [
              0.5555555555555556,
              "#d8576b"
             ],
             [
              0.6666666666666666,
              "#ed7953"
             ],
             [
              0.7777777777777778,
              "#fb9f3a"
             ],
             [
              0.8888888888888888,
              "#fdca26"
             ],
             [
              1,
              "#f0f921"
             ]
            ],
            "type": "heatmap"
           }
          ],
          "heatmapgl": [
           {
            "colorbar": {
             "outlinewidth": 0,
             "ticks": ""
            },
            "colorscale": [
             [
              0,
              "#0d0887"
             ],
             [
              0.1111111111111111,
              "#46039f"
             ],
             [
              0.2222222222222222,
              "#7201a8"
             ],
             [
              0.3333333333333333,
              "#9c179e"
             ],
             [
              0.4444444444444444,
              "#bd3786"
             ],
             [
              0.5555555555555556,
              "#d8576b"
             ],
             [
              0.6666666666666666,
              "#ed7953"
             ],
             [
              0.7777777777777778,
              "#fb9f3a"
             ],
             [
              0.8888888888888888,
              "#fdca26"
             ],
             [
              1,
              "#f0f921"
             ]
            ],
            "type": "heatmapgl"
           }
          ],
          "histogram": [
           {
            "marker": {
             "pattern": {
              "fillmode": "overlay",
              "size": 10,
              "solidity": 0.2
             }
            },
            "type": "histogram"
           }
          ],
          "histogram2d": [
           {
            "colorbar": {
             "outlinewidth": 0,
             "ticks": ""
            },
            "colorscale": [
             [
              0,
              "#0d0887"
             ],
             [
              0.1111111111111111,
              "#46039f"
             ],
             [
              0.2222222222222222,
              "#7201a8"
             ],
             [
              0.3333333333333333,
              "#9c179e"
             ],
             [
              0.4444444444444444,
              "#bd3786"
             ],
             [
              0.5555555555555556,
              "#d8576b"
             ],
             [
              0.6666666666666666,
              "#ed7953"
             ],
             [
              0.7777777777777778,
              "#fb9f3a"
             ],
             [
              0.8888888888888888,
              "#fdca26"
             ],
             [
              1,
              "#f0f921"
             ]
            ],
            "type": "histogram2d"
           }
          ],
          "histogram2dcontour": [
           {
            "colorbar": {
             "outlinewidth": 0,
             "ticks": ""
            },
            "colorscale": [
             [
              0,
              "#0d0887"
             ],
             [
              0.1111111111111111,
              "#46039f"
             ],
             [
              0.2222222222222222,
              "#7201a8"
             ],
             [
              0.3333333333333333,
              "#9c179e"
             ],
             [
              0.4444444444444444,
              "#bd3786"
             ],
             [
              0.5555555555555556,
              "#d8576b"
             ],
             [
              0.6666666666666666,
              "#ed7953"
             ],
             [
              0.7777777777777778,
              "#fb9f3a"
             ],
             [
              0.8888888888888888,
              "#fdca26"
             ],
             [
              1,
              "#f0f921"
             ]
            ],
            "type": "histogram2dcontour"
           }
          ],
          "mesh3d": [
           {
            "colorbar": {
             "outlinewidth": 0,
             "ticks": ""
            },
            "type": "mesh3d"
           }
          ],
          "parcoords": [
           {
            "line": {
             "colorbar": {
              "outlinewidth": 0,
              "ticks": ""
             }
            },
            "type": "parcoords"
           }
          ],
          "pie": [
           {
            "automargin": true,
            "type": "pie"
           }
          ],
          "scatter": [
           {
            "fillpattern": {
             "fillmode": "overlay",
             "size": 10,
             "solidity": 0.2
            },
            "type": "scatter"
           }
          ],
          "scatter3d": [
           {
            "line": {
             "colorbar": {
              "outlinewidth": 0,
              "ticks": ""
             }
            },
            "marker": {
             "colorbar": {
              "outlinewidth": 0,
              "ticks": ""
             }
            },
            "type": "scatter3d"
           }
          ],
          "scattercarpet": [
           {
            "marker": {
             "colorbar": {
              "outlinewidth": 0,
              "ticks": ""
             }
            },
            "type": "scattercarpet"
           }
          ],
          "scattergeo": [
           {
            "marker": {
             "colorbar": {
              "outlinewidth": 0,
              "ticks": ""
             }
            },
            "type": "scattergeo"
           }
          ],
          "scattergl": [
           {
            "marker": {
             "colorbar": {
              "outlinewidth": 0,
              "ticks": ""
             }
            },
            "type": "scattergl"
           }
          ],
          "scattermapbox": [
           {
            "marker": {
             "colorbar": {
              "outlinewidth": 0,
              "ticks": ""
             }
            },
            "type": "scattermapbox"
           }
          ],
          "scatterpolar": [
           {
            "marker": {
             "colorbar": {
              "outlinewidth": 0,
              "ticks": ""
             }
            },
            "type": "scatterpolar"
           }
          ],
          "scatterpolargl": [
           {
            "marker": {
             "colorbar": {
              "outlinewidth": 0,
              "ticks": ""
             }
            },
            "type": "scatterpolargl"
           }
          ],
          "scatterternary": [
           {
            "marker": {
             "colorbar": {
              "outlinewidth": 0,
              "ticks": ""
             }
            },
            "type": "scatterternary"
           }
          ],
          "surface": [
           {
            "colorbar": {
             "outlinewidth": 0,
             "ticks": ""
            },
            "colorscale": [
             [
              0,
              "#0d0887"
             ],
             [
              0.1111111111111111,
              "#46039f"
             ],
             [
              0.2222222222222222,
              "#7201a8"
             ],
             [
              0.3333333333333333,
              "#9c179e"
             ],
             [
              0.4444444444444444,
              "#bd3786"
             ],
             [
              0.5555555555555556,
              "#d8576b"
             ],
             [
              0.6666666666666666,
              "#ed7953"
             ],
             [
              0.7777777777777778,
              "#fb9f3a"
             ],
             [
              0.8888888888888888,
              "#fdca26"
             ],
             [
              1,
              "#f0f921"
             ]
            ],
            "type": "surface"
           }
          ],
          "table": [
           {
            "cells": {
             "fill": {
              "color": "#EBF0F8"
             },
             "line": {
              "color": "white"
             }
            },
            "header": {
             "fill": {
              "color": "#C8D4E3"
             },
             "line": {
              "color": "white"
             }
            },
            "type": "table"
           }
          ]
         },
         "layout": {
          "annotationdefaults": {
           "arrowcolor": "#2a3f5f",
           "arrowhead": 0,
           "arrowwidth": 1
          },
          "autotypenumbers": "strict",
          "coloraxis": {
           "colorbar": {
            "outlinewidth": 0,
            "ticks": ""
           }
          },
          "colorscale": {
           "diverging": [
            [
             0,
             "#8e0152"
            ],
            [
             0.1,
             "#c51b7d"
            ],
            [
             0.2,
             "#de77ae"
            ],
            [
             0.3,
             "#f1b6da"
            ],
            [
             0.4,
             "#fde0ef"
            ],
            [
             0.5,
             "#f7f7f7"
            ],
            [
             0.6,
             "#e6f5d0"
            ],
            [
             0.7,
             "#b8e186"
            ],
            [
             0.8,
             "#7fbc41"
            ],
            [
             0.9,
             "#4d9221"
            ],
            [
             1,
             "#276419"
            ]
           ],
           "sequential": [
            [
             0,
             "#0d0887"
            ],
            [
             0.1111111111111111,
             "#46039f"
            ],
            [
             0.2222222222222222,
             "#7201a8"
            ],
            [
             0.3333333333333333,
             "#9c179e"
            ],
            [
             0.4444444444444444,
             "#bd3786"
            ],
            [
             0.5555555555555556,
             "#d8576b"
            ],
            [
             0.6666666666666666,
             "#ed7953"
            ],
            [
             0.7777777777777778,
             "#fb9f3a"
            ],
            [
             0.8888888888888888,
             "#fdca26"
            ],
            [
             1,
             "#f0f921"
            ]
           ],
           "sequentialminus": [
            [
             0,
             "#0d0887"
            ],
            [
             0.1111111111111111,
             "#46039f"
            ],
            [
             0.2222222222222222,
             "#7201a8"
            ],
            [
             0.3333333333333333,
             "#9c179e"
            ],
            [
             0.4444444444444444,
             "#bd3786"
            ],
            [
             0.5555555555555556,
             "#d8576b"
            ],
            [
             0.6666666666666666,
             "#ed7953"
            ],
            [
             0.7777777777777778,
             "#fb9f3a"
            ],
            [
             0.8888888888888888,
             "#fdca26"
            ],
            [
             1,
             "#f0f921"
            ]
           ]
          },
          "colorway": [
           "#636efa",
           "#EF553B",
           "#00cc96",
           "#ab63fa",
           "#FFA15A",
           "#19d3f3",
           "#FF6692",
           "#B6E880",
           "#FF97FF",
           "#FECB52"
          ],
          "font": {
           "color": "#2a3f5f"
          },
          "geo": {
           "bgcolor": "white",
           "lakecolor": "white",
           "landcolor": "#E5ECF6",
           "showlakes": true,
           "showland": true,
           "subunitcolor": "white"
          },
          "hoverlabel": {
           "align": "left"
          },
          "hovermode": "closest",
          "mapbox": {
           "style": "light"
          },
          "paper_bgcolor": "white",
          "plot_bgcolor": "#E5ECF6",
          "polar": {
           "angularaxis": {
            "gridcolor": "white",
            "linecolor": "white",
            "ticks": ""
           },
           "bgcolor": "#E5ECF6",
           "radialaxis": {
            "gridcolor": "white",
            "linecolor": "white",
            "ticks": ""
           }
          },
          "scene": {
           "xaxis": {
            "backgroundcolor": "#E5ECF6",
            "gridcolor": "white",
            "gridwidth": 2,
            "linecolor": "white",
            "showbackground": true,
            "ticks": "",
            "zerolinecolor": "white"
           },
           "yaxis": {
            "backgroundcolor": "#E5ECF6",
            "gridcolor": "white",
            "gridwidth": 2,
            "linecolor": "white",
            "showbackground": true,
            "ticks": "",
            "zerolinecolor": "white"
           },
           "zaxis": {
            "backgroundcolor": "#E5ECF6",
            "gridcolor": "white",
            "gridwidth": 2,
            "linecolor": "white",
            "showbackground": true,
            "ticks": "",
            "zerolinecolor": "white"
           }
          },
          "shapedefaults": {
           "line": {
            "color": "#2a3f5f"
           }
          },
          "ternary": {
           "aaxis": {
            "gridcolor": "white",
            "linecolor": "white",
            "ticks": ""
           },
           "baxis": {
            "gridcolor": "white",
            "linecolor": "white",
            "ticks": ""
           },
           "bgcolor": "#E5ECF6",
           "caxis": {
            "gridcolor": "white",
            "linecolor": "white",
            "ticks": ""
           }
          },
          "title": {
           "x": 0.05
          },
          "xaxis": {
           "automargin": true,
           "gridcolor": "white",
           "linecolor": "white",
           "ticks": "",
           "title": {
            "standoff": 15
           },
           "zerolinecolor": "white",
           "zerolinewidth": 2
          },
          "yaxis": {
           "automargin": true,
           "gridcolor": "white",
           "linecolor": "white",
           "ticks": "",
           "title": {
            "standoff": 15
           },
           "zerolinecolor": "white",
           "zerolinewidth": 2
          }
         }
        },
        "title": {
         "text": "SID: 52"
        },
        "width": 500,
        "xaxis": {
         "autorange": true,
         "range": [
          -0.5,
          19.5
         ],
         "showgrid": false,
         "side": "top",
         "tickangle": 90,
         "type": "category"
        },
        "yaxis": {
         "autorange": true,
         "range": [
          19.5,
          -0.5
         ],
         "showgrid": false,
         "type": "category"
        }
       }
      },
      "image/png": "[encoded data removed]"
     },
     "metadata": {},
     "output_type": "display_data"
    }
   ],
   "source": [
    "bn_obj.plot_sid_matrix(nodes=nodes)"
   ]
  },
  {
   "cell_type": "markdown",
   "id": "614ea032-713b-4c6c-9ec6-fa028bf4467f",
   "metadata": {},
   "source": [
    "### Key Takeaways\n",
    "\n",
    "- This use case shows how SID can be localized, allowing for focused causal validation in subregions of a large graph.\n",
    "- It is particularly useful when users care about a specific node or set of variables.\n",
    "- SID heatmaps offer a clear view of which intervention effects are likely to be reliable and which may be compromised due to structural errors."
   ]
  },
  {
   "cell_type": "markdown",
   "id": "5b7cd86f-a657-471b-8bb2-d6d86c5ee5cb",
   "metadata": {},
   "source": [
    "## Conclusion\n",
    "\n",
    "In this notebook, we demonstrated the use of the `bnm` package to evaluate causal graphs using the $\\text{SID}$. Through three use cases, we showed how SID:\n",
    "\n",
    "1. Captures interventional differences that traditional metrics like SHD may miss.\n",
    "2. Provides bounds when comparing DAGs to CPDAGs, helping assess the reliability of partially directed structures.\n",
    "3. Enables local analysis around specific nodes or subgraphs, identifying exactly which interventions are estimated incorrectly.\n",
    "\n",
    "We also illustrated how SID matrices and visual comparisons make it easier to:\n",
    "- Interpret causal errors\n",
    "- Drill down into specific variables of interest\n",
    "\n",
    "Overall, `bnm` offers a practical and interpretable framework for validating causal discovery results when interventions matter.\n"
   ]
  },
  {
   "cell_type": "code",
   "execution_count": null,
   "id": "308500eb-dadb-4f82-a161-53e5877114e7",
   "metadata": {},
   "outputs": [],
   "source": []
  },
  {
   "cell_type": "code",
   "execution_count": null,
   "id": "90ce2acd-4d72-4216-b907-52c1cf45bda1",
   "metadata": {},
   "outputs": [],
   "source": []
  }
 ],
 "metadata": {
  "kernelspec": {
   "display_name": "Python 3 (ipykernel)",
   "language": "python",
   "name": "python3"
  },
  "language_info": {
   "codemirror_mode": {
    "name": "ipython",
    "version": 3
   },
   "file_extension": ".py",
   "mimetype": "text/x-python",
   "name": "python",
   "nbconvert_exporter": "python",
   "pygments_lexer": "ipython3",
   "version": "3.8.18"
  }
 },
 "nbformat": 4,
 "nbformat_minor": 5
}
